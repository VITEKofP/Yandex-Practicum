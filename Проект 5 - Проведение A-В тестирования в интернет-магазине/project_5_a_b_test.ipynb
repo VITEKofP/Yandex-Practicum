{
 "cells": [
  {
   "cell_type": "markdown",
   "metadata": {},
   "source": [
    "# Проект по проведению A/B тестирования в интернет-магазине"
   ]
  },
  {
   "cell_type": "markdown",
   "metadata": {},
   "source": [
    "Мы — аналитики крупного интернет-магазина. Вместе с отделом маркетинга мы подготовили список гипотез для увеличения выручки.\n",
    "\n",
    "**Наша задача**\n",
    "\n",
    "- приоритизировать гипотезы, запустить A/B-тест и проанализировать результаты."
   ]
  },
  {
   "cell_type": "markdown",
   "metadata": {},
   "source": [
    "В конечном итоге по полученным результатам мы должны решить:\n",
    "1. Остановить тест, зафиксировать победу одной из групп\n",
    "2. Остановить тест, зафиксировать отсутствие различий между группами\n",
    "3. Продолжить тест."
   ]
  },
  {
   "cell_type": "markdown",
   "metadata": {},
   "source": [
    "## Обзор данных"
   ]
  },
  {
   "cell_type": "markdown",
   "metadata": {},
   "source": [
    "Импортируем нужные библотеки:"
   ]
  },
  {
   "cell_type": "code",
   "execution_count": 1,
   "metadata": {},
   "outputs": [],
   "source": [
    "import pandas as pd\n",
    "import numpy as np\n",
    "import matplotlib.pyplot as plt\n",
    "import seaborn as sns\n",
    "import scipy.stats as stats"
   ]
  },
  {
   "cell_type": "markdown",
   "metadata": {},
   "source": [
    "Загрузим нужные нам данные:"
   ]
  },
  {
   "cell_type": "code",
   "execution_count": 2,
   "metadata": {},
   "outputs": [],
   "source": [
    "# данные с оценками и описанием гипотез\n",
    "hypothesis = pd.read_csv('/datasets/hypothesis.csv')\n",
    "\n",
    "# данные о заказах\n",
    "orders = pd.read_csv('/datasets/orders.csv', parse_dates=['date'])\n",
    "\n",
    "# данные о пользователях\n",
    "visitors = pd.read_csv('/datasets/visitors.csv', parse_dates=['date'])"
   ]
  },
  {
   "cell_type": "markdown",
   "metadata": {},
   "source": [
    "Описание данных:\n",
    "\n",
    "**Структура `hypothesis.csv`**\n",
    "- `Hypothesis` — краткое описание гипотезы;\n",
    "- `Reach` — охват пользователей по 10-балльной шкале;\n",
    "- `Impact` — влияние на пользователей по 10-балльной шкале;\n",
    "- `Confidence` — уверенность в гипотезе по 10-балльной шкале;\n",
    "- `Efforts` — затраты ресурсов на проверку гипотезы по 10-балльной шкале. Чем больше значение Efforts, тем дороже проверка гипотезы.\n",
    "\n",
    "**Структура `orders.csv`**\n",
    "- `transactionId` — идентификатор заказа;\n",
    "- `visitorId` — идентификатор пользователя, совершившего заказ;\n",
    "- `date` — дата, когда был совершён заказ;\n",
    "- `revenue` — выручка заказа;\n",
    "- `group` — группа A/B-теста, в которую попал заказ.\n",
    "\n",
    "**Структура `visitors.csv`**\n",
    "- `date` — дата;\n",
    "- `group` — группа A/B-теста;\n",
    "- `visitors` — количество пользователей в указанную дату в указанной группе A/B-теста"
   ]
  },
  {
   "cell_type": "markdown",
   "metadata": {},
   "source": [
    "Посмотрим общую информацию по каждому датасету"
   ]
  },
  {
   "cell_type": "code",
   "execution_count": 3,
   "metadata": {},
   "outputs": [],
   "source": [
    "# создадим функцию для удобства просмотра общей информации по каждому датафрейму\n",
    "def df_info(df):    \n",
    "    df.info()\n",
    "    display(df.head())\n",
    "    print('Количество дубликатов:', df.duplicated().sum())\n",
    "    display('Количество пропусков', df.isna().sum())"
   ]
  },
  {
   "cell_type": "code",
   "execution_count": 4,
   "metadata": {},
   "outputs": [
    {
     "name": "stdout",
     "output_type": "stream",
     "text": [
      "<class 'pandas.core.frame.DataFrame'>\n",
      "RangeIndex: 9 entries, 0 to 8\n",
      "Data columns (total 5 columns):\n",
      " #   Column      Non-Null Count  Dtype \n",
      "---  ------      --------------  ----- \n",
      " 0   Hypothesis  9 non-null      object\n",
      " 1   Reach       9 non-null      int64 \n",
      " 2   Impact      9 non-null      int64 \n",
      " 3   Confidence  9 non-null      int64 \n",
      " 4   Efforts     9 non-null      int64 \n",
      "dtypes: int64(4), object(1)\n",
      "memory usage: 488.0+ bytes\n"
     ]
    },
    {
     "data": {
      "text/html": [
       "<div>\n",
       "<style scoped>\n",
       "    .dataframe tbody tr th:only-of-type {\n",
       "        vertical-align: middle;\n",
       "    }\n",
       "\n",
       "    .dataframe tbody tr th {\n",
       "        vertical-align: top;\n",
       "    }\n",
       "\n",
       "    .dataframe thead th {\n",
       "        text-align: right;\n",
       "    }\n",
       "</style>\n",
       "<table border=\"1\" class=\"dataframe\">\n",
       "  <thead>\n",
       "    <tr style=\"text-align: right;\">\n",
       "      <th></th>\n",
       "      <th>Hypothesis</th>\n",
       "      <th>Reach</th>\n",
       "      <th>Impact</th>\n",
       "      <th>Confidence</th>\n",
       "      <th>Efforts</th>\n",
       "    </tr>\n",
       "  </thead>\n",
       "  <tbody>\n",
       "    <tr>\n",
       "      <th>0</th>\n",
       "      <td>Добавить два новых канала привлечения трафика,...</td>\n",
       "      <td>3</td>\n",
       "      <td>10</td>\n",
       "      <td>8</td>\n",
       "      <td>6</td>\n",
       "    </tr>\n",
       "    <tr>\n",
       "      <th>1</th>\n",
       "      <td>Запустить собственную службу доставки, что сок...</td>\n",
       "      <td>2</td>\n",
       "      <td>5</td>\n",
       "      <td>4</td>\n",
       "      <td>10</td>\n",
       "    </tr>\n",
       "    <tr>\n",
       "      <th>2</th>\n",
       "      <td>Добавить блоки рекомендаций товаров на сайт ин...</td>\n",
       "      <td>8</td>\n",
       "      <td>3</td>\n",
       "      <td>7</td>\n",
       "      <td>3</td>\n",
       "    </tr>\n",
       "    <tr>\n",
       "      <th>3</th>\n",
       "      <td>Изменить структура категорий, что увеличит кон...</td>\n",
       "      <td>8</td>\n",
       "      <td>3</td>\n",
       "      <td>3</td>\n",
       "      <td>8</td>\n",
       "    </tr>\n",
       "    <tr>\n",
       "      <th>4</th>\n",
       "      <td>Изменить цвет фона главной страницы, чтобы уве...</td>\n",
       "      <td>3</td>\n",
       "      <td>1</td>\n",
       "      <td>1</td>\n",
       "      <td>1</td>\n",
       "    </tr>\n",
       "  </tbody>\n",
       "</table>\n",
       "</div>"
      ],
      "text/plain": [
       "                                          Hypothesis  Reach  Impact  \\\n",
       "0  Добавить два новых канала привлечения трафика,...      3      10   \n",
       "1  Запустить собственную службу доставки, что сок...      2       5   \n",
       "2  Добавить блоки рекомендаций товаров на сайт ин...      8       3   \n",
       "3  Изменить структура категорий, что увеличит кон...      8       3   \n",
       "4  Изменить цвет фона главной страницы, чтобы уве...      3       1   \n",
       "\n",
       "   Confidence  Efforts  \n",
       "0           8        6  \n",
       "1           4       10  \n",
       "2           7        3  \n",
       "3           3        8  \n",
       "4           1        1  "
      ]
     },
     "metadata": {},
     "output_type": "display_data"
    },
    {
     "name": "stdout",
     "output_type": "stream",
     "text": [
      "Количество дубликатов: 0\n"
     ]
    },
    {
     "data": {
      "text/plain": [
       "'Количество пропусков'"
      ]
     },
     "metadata": {},
     "output_type": "display_data"
    },
    {
     "data": {
      "text/plain": [
       "Hypothesis    0\n",
       "Reach         0\n",
       "Impact        0\n",
       "Confidence    0\n",
       "Efforts       0\n",
       "dtype: int64"
      ]
     },
     "metadata": {},
     "output_type": "display_data"
    }
   ],
   "source": [
    "df_info(hypothesis)"
   ]
  },
  {
   "cell_type": "code",
   "execution_count": 5,
   "metadata": {},
   "outputs": [
    {
     "name": "stdout",
     "output_type": "stream",
     "text": [
      "<class 'pandas.core.frame.DataFrame'>\n",
      "RangeIndex: 1197 entries, 0 to 1196\n",
      "Data columns (total 5 columns):\n",
      " #   Column         Non-Null Count  Dtype         \n",
      "---  ------         --------------  -----         \n",
      " 0   transactionId  1197 non-null   int64         \n",
      " 1   visitorId      1197 non-null   int64         \n",
      " 2   date           1197 non-null   datetime64[ns]\n",
      " 3   revenue        1197 non-null   int64         \n",
      " 4   group          1197 non-null   object        \n",
      "dtypes: datetime64[ns](1), int64(3), object(1)\n",
      "memory usage: 46.9+ KB\n"
     ]
    },
    {
     "data": {
      "text/html": [
       "<div>\n",
       "<style scoped>\n",
       "    .dataframe tbody tr th:only-of-type {\n",
       "        vertical-align: middle;\n",
       "    }\n",
       "\n",
       "    .dataframe tbody tr th {\n",
       "        vertical-align: top;\n",
       "    }\n",
       "\n",
       "    .dataframe thead th {\n",
       "        text-align: right;\n",
       "    }\n",
       "</style>\n",
       "<table border=\"1\" class=\"dataframe\">\n",
       "  <thead>\n",
       "    <tr style=\"text-align: right;\">\n",
       "      <th></th>\n",
       "      <th>transactionId</th>\n",
       "      <th>visitorId</th>\n",
       "      <th>date</th>\n",
       "      <th>revenue</th>\n",
       "      <th>group</th>\n",
       "    </tr>\n",
       "  </thead>\n",
       "  <tbody>\n",
       "    <tr>\n",
       "      <th>0</th>\n",
       "      <td>3667963787</td>\n",
       "      <td>3312258926</td>\n",
       "      <td>2019-08-15</td>\n",
       "      <td>1650</td>\n",
       "      <td>B</td>\n",
       "    </tr>\n",
       "    <tr>\n",
       "      <th>1</th>\n",
       "      <td>2804400009</td>\n",
       "      <td>3642806036</td>\n",
       "      <td>2019-08-15</td>\n",
       "      <td>730</td>\n",
       "      <td>B</td>\n",
       "    </tr>\n",
       "    <tr>\n",
       "      <th>2</th>\n",
       "      <td>2961555356</td>\n",
       "      <td>4069496402</td>\n",
       "      <td>2019-08-15</td>\n",
       "      <td>400</td>\n",
       "      <td>A</td>\n",
       "    </tr>\n",
       "    <tr>\n",
       "      <th>3</th>\n",
       "      <td>3797467345</td>\n",
       "      <td>1196621759</td>\n",
       "      <td>2019-08-15</td>\n",
       "      <td>9759</td>\n",
       "      <td>B</td>\n",
       "    </tr>\n",
       "    <tr>\n",
       "      <th>4</th>\n",
       "      <td>2282983706</td>\n",
       "      <td>2322279887</td>\n",
       "      <td>2019-08-15</td>\n",
       "      <td>2308</td>\n",
       "      <td>B</td>\n",
       "    </tr>\n",
       "  </tbody>\n",
       "</table>\n",
       "</div>"
      ],
      "text/plain": [
       "   transactionId   visitorId       date  revenue group\n",
       "0     3667963787  3312258926 2019-08-15     1650     B\n",
       "1     2804400009  3642806036 2019-08-15      730     B\n",
       "2     2961555356  4069496402 2019-08-15      400     A\n",
       "3     3797467345  1196621759 2019-08-15     9759     B\n",
       "4     2282983706  2322279887 2019-08-15     2308     B"
      ]
     },
     "metadata": {},
     "output_type": "display_data"
    },
    {
     "name": "stdout",
     "output_type": "stream",
     "text": [
      "Количество дубликатов: 0\n"
     ]
    },
    {
     "data": {
      "text/plain": [
       "'Количество пропусков'"
      ]
     },
     "metadata": {},
     "output_type": "display_data"
    },
    {
     "data": {
      "text/plain": [
       "transactionId    0\n",
       "visitorId        0\n",
       "date             0\n",
       "revenue          0\n",
       "group            0\n",
       "dtype: int64"
      ]
     },
     "metadata": {},
     "output_type": "display_data"
    }
   ],
   "source": [
    "df_info(orders)"
   ]
  },
  {
   "cell_type": "code",
   "execution_count": 6,
   "metadata": {},
   "outputs": [
    {
     "name": "stdout",
     "output_type": "stream",
     "text": [
      "<class 'pandas.core.frame.DataFrame'>\n",
      "RangeIndex: 62 entries, 0 to 61\n",
      "Data columns (total 3 columns):\n",
      " #   Column    Non-Null Count  Dtype         \n",
      "---  ------    --------------  -----         \n",
      " 0   date      62 non-null     datetime64[ns]\n",
      " 1   group     62 non-null     object        \n",
      " 2   visitors  62 non-null     int64         \n",
      "dtypes: datetime64[ns](1), int64(1), object(1)\n",
      "memory usage: 1.6+ KB\n"
     ]
    },
    {
     "data": {
      "text/html": [
       "<div>\n",
       "<style scoped>\n",
       "    .dataframe tbody tr th:only-of-type {\n",
       "        vertical-align: middle;\n",
       "    }\n",
       "\n",
       "    .dataframe tbody tr th {\n",
       "        vertical-align: top;\n",
       "    }\n",
       "\n",
       "    .dataframe thead th {\n",
       "        text-align: right;\n",
       "    }\n",
       "</style>\n",
       "<table border=\"1\" class=\"dataframe\">\n",
       "  <thead>\n",
       "    <tr style=\"text-align: right;\">\n",
       "      <th></th>\n",
       "      <th>date</th>\n",
       "      <th>group</th>\n",
       "      <th>visitors</th>\n",
       "    </tr>\n",
       "  </thead>\n",
       "  <tbody>\n",
       "    <tr>\n",
       "      <th>0</th>\n",
       "      <td>2019-08-01</td>\n",
       "      <td>A</td>\n",
       "      <td>719</td>\n",
       "    </tr>\n",
       "    <tr>\n",
       "      <th>1</th>\n",
       "      <td>2019-08-02</td>\n",
       "      <td>A</td>\n",
       "      <td>619</td>\n",
       "    </tr>\n",
       "    <tr>\n",
       "      <th>2</th>\n",
       "      <td>2019-08-03</td>\n",
       "      <td>A</td>\n",
       "      <td>507</td>\n",
       "    </tr>\n",
       "    <tr>\n",
       "      <th>3</th>\n",
       "      <td>2019-08-04</td>\n",
       "      <td>A</td>\n",
       "      <td>717</td>\n",
       "    </tr>\n",
       "    <tr>\n",
       "      <th>4</th>\n",
       "      <td>2019-08-05</td>\n",
       "      <td>A</td>\n",
       "      <td>756</td>\n",
       "    </tr>\n",
       "  </tbody>\n",
       "</table>\n",
       "</div>"
      ],
      "text/plain": [
       "        date group  visitors\n",
       "0 2019-08-01     A       719\n",
       "1 2019-08-02     A       619\n",
       "2 2019-08-03     A       507\n",
       "3 2019-08-04     A       717\n",
       "4 2019-08-05     A       756"
      ]
     },
     "metadata": {},
     "output_type": "display_data"
    },
    {
     "name": "stdout",
     "output_type": "stream",
     "text": [
      "Количество дубликатов: 0\n"
     ]
    },
    {
     "data": {
      "text/plain": [
       "'Количество пропусков'"
      ]
     },
     "metadata": {},
     "output_type": "display_data"
    },
    {
     "data": {
      "text/plain": [
       "date        0\n",
       "group       0\n",
       "visitors    0\n",
       "dtype: int64"
      ]
     },
     "metadata": {},
     "output_type": "display_data"
    }
   ],
   "source": [
    "df_info(visitors)"
   ]
  },
  {
   "cell_type": "markdown",
   "metadata": {},
   "source": [
    "Дубликатов и пропусков нет, каждый столбец соответствует своему формату. Для эстетичности приведем названия столбцов к нижнему регистру в нужных датасетах."
   ]
  },
  {
   "cell_type": "code",
   "execution_count": 7,
   "metadata": {},
   "outputs": [],
   "source": [
    "# методом lower приведем названия столбцов к рабочему виду\n",
    "hypothesis.columns = hypothesis.columns.str.lower()"
   ]
  },
  {
   "cell_type": "code",
   "execution_count": 8,
   "metadata": {},
   "outputs": [],
   "source": [
    "# методом rename приведем названия столбцов к рабочему виду\n",
    "orders = orders.rename(columns = {'transactionId':'transaction_id', 'visitorId': 'visitor_id'})"
   ]
  },
  {
   "cell_type": "markdown",
   "metadata": {},
   "source": [
    "Проверим, что все названия столбцов находятся в нижнем регистре."
   ]
  },
  {
   "cell_type": "code",
   "execution_count": 9,
   "metadata": {},
   "outputs": [],
   "source": [
    "list_df = [hypothesis, orders, visitors]"
   ]
  },
  {
   "cell_type": "code",
   "execution_count": 10,
   "metadata": {
    "scrolled": true
   },
   "outputs": [
    {
     "data": {
      "text/plain": [
       "Index(['hypothesis', 'reach', 'impact', 'confidence', 'efforts'], dtype='object')"
      ]
     },
     "metadata": {},
     "output_type": "display_data"
    },
    {
     "data": {
      "text/plain": [
       "Index(['transaction_id', 'visitor_id', 'date', 'revenue', 'group'], dtype='object')"
      ]
     },
     "metadata": {},
     "output_type": "display_data"
    },
    {
     "data": {
      "text/plain": [
       "Index(['date', 'group', 'visitors'], dtype='object')"
      ]
     },
     "metadata": {},
     "output_type": "display_data"
    }
   ],
   "source": [
    "for df in list_df:\n",
    "    display(df.columns)"
   ]
  },
  {
   "cell_type": "markdown",
   "metadata": {},
   "source": [
    "Проверим те данные на выбросы, где они могут быть:"
   ]
  },
  {
   "cell_type": "code",
   "execution_count": 11,
   "metadata": {
    "scrolled": true
   },
   "outputs": [
    {
     "data": {
      "text/html": [
       "<div>\n",
       "<style scoped>\n",
       "    .dataframe tbody tr th:only-of-type {\n",
       "        vertical-align: middle;\n",
       "    }\n",
       "\n",
       "    .dataframe tbody tr th {\n",
       "        vertical-align: top;\n",
       "    }\n",
       "\n",
       "    .dataframe thead th {\n",
       "        text-align: right;\n",
       "    }\n",
       "</style>\n",
       "<table border=\"1\" class=\"dataframe\">\n",
       "  <thead>\n",
       "    <tr style=\"text-align: right;\">\n",
       "      <th></th>\n",
       "      <th>count</th>\n",
       "      <th>mean</th>\n",
       "      <th>std</th>\n",
       "      <th>min</th>\n",
       "      <th>25%</th>\n",
       "      <th>50%</th>\n",
       "      <th>75%</th>\n",
       "      <th>max</th>\n",
       "    </tr>\n",
       "  </thead>\n",
       "  <tbody>\n",
       "    <tr>\n",
       "      <th>revenue</th>\n",
       "      <td>1197.0</td>\n",
       "      <td>8348.01</td>\n",
       "      <td>39191.13</td>\n",
       "      <td>50.0</td>\n",
       "      <td>1220.0</td>\n",
       "      <td>2978.0</td>\n",
       "      <td>8290.0</td>\n",
       "      <td>1294500.0</td>\n",
       "    </tr>\n",
       "  </tbody>\n",
       "</table>\n",
       "</div>"
      ],
      "text/plain": [
       "          count     mean       std   min     25%     50%     75%        max\n",
       "revenue  1197.0  8348.01  39191.13  50.0  1220.0  2978.0  8290.0  1294500.0"
      ]
     },
     "execution_count": 11,
     "metadata": {},
     "output_type": "execute_result"
    }
   ],
   "source": [
    "orders.revenue.describe().round(2).to_frame().T"
   ]
  },
  {
   "cell_type": "markdown",
   "metadata": {},
   "source": [
    "Видим, что среднее и медианное значения достаточно сильно разнятся. Можем заметить, что в 75 % случаев выручка заказа не превышает значения `8290`. Это может говорить о том, что есть достаточно дорогие заказы, которые могут смещать среднее распределение выручки."
   ]
  },
  {
   "cell_type": "code",
   "execution_count": 12,
   "metadata": {},
   "outputs": [
    {
     "data": {
      "text/html": [
       "<div>\n",
       "<style scoped>\n",
       "    .dataframe tbody tr th:only-of-type {\n",
       "        vertical-align: middle;\n",
       "    }\n",
       "\n",
       "    .dataframe tbody tr th {\n",
       "        vertical-align: top;\n",
       "    }\n",
       "\n",
       "    .dataframe thead th {\n",
       "        text-align: right;\n",
       "    }\n",
       "</style>\n",
       "<table border=\"1\" class=\"dataframe\">\n",
       "  <thead>\n",
       "    <tr style=\"text-align: right;\">\n",
       "      <th></th>\n",
       "      <th>count</th>\n",
       "      <th>mean</th>\n",
       "      <th>std</th>\n",
       "      <th>min</th>\n",
       "      <th>25%</th>\n",
       "      <th>50%</th>\n",
       "      <th>75%</th>\n",
       "      <th>max</th>\n",
       "    </tr>\n",
       "  </thead>\n",
       "  <tbody>\n",
       "    <tr>\n",
       "      <th>visitors</th>\n",
       "      <td>62.0</td>\n",
       "      <td>607.29</td>\n",
       "      <td>114.4</td>\n",
       "      <td>361.0</td>\n",
       "      <td>534.0</td>\n",
       "      <td>624.5</td>\n",
       "      <td>710.5</td>\n",
       "      <td>770.0</td>\n",
       "    </tr>\n",
       "  </tbody>\n",
       "</table>\n",
       "</div>"
      ],
      "text/plain": [
       "          count    mean    std    min    25%    50%    75%    max\n",
       "visitors   62.0  607.29  114.4  361.0  534.0  624.5  710.5  770.0"
      ]
     },
     "execution_count": 12,
     "metadata": {},
     "output_type": "execute_result"
    }
   ],
   "source": [
    "visitors.visitors.describe().round(2).to_frame().T"
   ]
  },
  {
   "cell_type": "markdown",
   "metadata": {},
   "source": [
    "Каких-то аномальных всплесков в количестве посетителей не выявлено."
   ]
  },
  {
   "cell_type": "markdown",
   "metadata": {},
   "source": [
    "## Приоритизация гипотез"
   ]
  },
  {
   "cell_type": "markdown",
   "metadata": {},
   "source": [
    "Проведем приоритизацию поставленных перед нами гипотез. Посчитаем `ICE` и `RICE`."
   ]
  },
  {
   "cell_type": "code",
   "execution_count": 13,
   "metadata": {
    "scrolled": true
   },
   "outputs": [
    {
     "data": {
      "text/html": [
       "<div>\n",
       "<style scoped>\n",
       "    .dataframe tbody tr th:only-of-type {\n",
       "        vertical-align: middle;\n",
       "    }\n",
       "\n",
       "    .dataframe tbody tr th {\n",
       "        vertical-align: top;\n",
       "    }\n",
       "\n",
       "    .dataframe thead th {\n",
       "        text-align: right;\n",
       "    }\n",
       "</style>\n",
       "<table border=\"1\" class=\"dataframe\">\n",
       "  <thead>\n",
       "    <tr style=\"text-align: right;\">\n",
       "      <th></th>\n",
       "      <th>hypothesis</th>\n",
       "      <th>reach</th>\n",
       "      <th>impact</th>\n",
       "      <th>confidence</th>\n",
       "      <th>efforts</th>\n",
       "    </tr>\n",
       "  </thead>\n",
       "  <tbody>\n",
       "    <tr>\n",
       "      <th>0</th>\n",
       "      <td>Добавить два новых канала привлечения трафика,...</td>\n",
       "      <td>3</td>\n",
       "      <td>10</td>\n",
       "      <td>8</td>\n",
       "      <td>6</td>\n",
       "    </tr>\n",
       "    <tr>\n",
       "      <th>1</th>\n",
       "      <td>Запустить собственную службу доставки, что сок...</td>\n",
       "      <td>2</td>\n",
       "      <td>5</td>\n",
       "      <td>4</td>\n",
       "      <td>10</td>\n",
       "    </tr>\n",
       "    <tr>\n",
       "      <th>2</th>\n",
       "      <td>Добавить блоки рекомендаций товаров на сайт ин...</td>\n",
       "      <td>8</td>\n",
       "      <td>3</td>\n",
       "      <td>7</td>\n",
       "      <td>3</td>\n",
       "    </tr>\n",
       "    <tr>\n",
       "      <th>3</th>\n",
       "      <td>Изменить структура категорий, что увеличит кон...</td>\n",
       "      <td>8</td>\n",
       "      <td>3</td>\n",
       "      <td>3</td>\n",
       "      <td>8</td>\n",
       "    </tr>\n",
       "    <tr>\n",
       "      <th>4</th>\n",
       "      <td>Изменить цвет фона главной страницы, чтобы уве...</td>\n",
       "      <td>3</td>\n",
       "      <td>1</td>\n",
       "      <td>1</td>\n",
       "      <td>1</td>\n",
       "    </tr>\n",
       "    <tr>\n",
       "      <th>5</th>\n",
       "      <td>Добавить страницу отзывов клиентов о магазине,...</td>\n",
       "      <td>3</td>\n",
       "      <td>2</td>\n",
       "      <td>2</td>\n",
       "      <td>3</td>\n",
       "    </tr>\n",
       "    <tr>\n",
       "      <th>6</th>\n",
       "      <td>Показать на главной странице баннеры с актуаль...</td>\n",
       "      <td>5</td>\n",
       "      <td>3</td>\n",
       "      <td>8</td>\n",
       "      <td>3</td>\n",
       "    </tr>\n",
       "    <tr>\n",
       "      <th>7</th>\n",
       "      <td>Добавить форму подписки на все основные страни...</td>\n",
       "      <td>10</td>\n",
       "      <td>7</td>\n",
       "      <td>8</td>\n",
       "      <td>5</td>\n",
       "    </tr>\n",
       "    <tr>\n",
       "      <th>8</th>\n",
       "      <td>Запустить акцию, дающую скидку на товар в день...</td>\n",
       "      <td>1</td>\n",
       "      <td>9</td>\n",
       "      <td>9</td>\n",
       "      <td>5</td>\n",
       "    </tr>\n",
       "  </tbody>\n",
       "</table>\n",
       "</div>"
      ],
      "text/plain": [
       "                                          hypothesis  reach  impact  \\\n",
       "0  Добавить два новых канала привлечения трафика,...      3      10   \n",
       "1  Запустить собственную службу доставки, что сок...      2       5   \n",
       "2  Добавить блоки рекомендаций товаров на сайт ин...      8       3   \n",
       "3  Изменить структура категорий, что увеличит кон...      8       3   \n",
       "4  Изменить цвет фона главной страницы, чтобы уве...      3       1   \n",
       "5  Добавить страницу отзывов клиентов о магазине,...      3       2   \n",
       "6  Показать на главной странице баннеры с актуаль...      5       3   \n",
       "7  Добавить форму подписки на все основные страни...     10       7   \n",
       "8  Запустить акцию, дающую скидку на товар в день...      1       9   \n",
       "\n",
       "   confidence  efforts  \n",
       "0           8        6  \n",
       "1           4       10  \n",
       "2           7        3  \n",
       "3           3        8  \n",
       "4           1        1  \n",
       "5           2        3  \n",
       "6           8        3  \n",
       "7           8        5  \n",
       "8           9        5  "
      ]
     },
     "execution_count": 13,
     "metadata": {},
     "output_type": "execute_result"
    }
   ],
   "source": [
    "# посмотрим общую картину по датасету\n",
    "hypothesis"
   ]
  },
  {
   "cell_type": "markdown",
   "metadata": {},
   "source": [
    "Добавим столбец с нумерацией гипотез, чтобы было проще воспринимать полученные результаты."
   ]
  },
  {
   "cell_type": "code",
   "execution_count": 14,
   "metadata": {},
   "outputs": [],
   "source": [
    "# создадим список с нумерацией значений для гипотезы и добавим столбец\n",
    "hyp_num = ['hyp_1', 'hyp_2', 'hyp_3', 'hyp_4', 'hyp_5', 'hyp_6', 'hyp_7', 'hyp_8', 'hyp_9']\n",
    "hypothesis['hyp_number'] = hyp_num"
   ]
  },
  {
   "cell_type": "markdown",
   "metadata": {},
   "source": [
    "Посчитаем `ICE`:"
   ]
  },
  {
   "cell_type": "code",
   "execution_count": 15,
   "metadata": {},
   "outputs": [],
   "source": [
    "hypothesis['ICE'] = round(hypothesis['impact'] * hypothesis['confidence'] / hypothesis['efforts'], 2)"
   ]
  },
  {
   "cell_type": "code",
   "execution_count": 16,
   "metadata": {},
   "outputs": [
    {
     "data": {
      "text/html": [
       "<div>\n",
       "<style scoped>\n",
       "    .dataframe tbody tr th:only-of-type {\n",
       "        vertical-align: middle;\n",
       "    }\n",
       "\n",
       "    .dataframe tbody tr th {\n",
       "        vertical-align: top;\n",
       "    }\n",
       "\n",
       "    .dataframe thead th {\n",
       "        text-align: right;\n",
       "    }\n",
       "</style>\n",
       "<table border=\"1\" class=\"dataframe\">\n",
       "  <thead>\n",
       "    <tr style=\"text-align: right;\">\n",
       "      <th></th>\n",
       "      <th>hyp_number</th>\n",
       "      <th>ICE</th>\n",
       "    </tr>\n",
       "  </thead>\n",
       "  <tbody>\n",
       "    <tr>\n",
       "      <th>8</th>\n",
       "      <td>hyp_9</td>\n",
       "      <td>16.20</td>\n",
       "    </tr>\n",
       "    <tr>\n",
       "      <th>0</th>\n",
       "      <td>hyp_1</td>\n",
       "      <td>13.33</td>\n",
       "    </tr>\n",
       "    <tr>\n",
       "      <th>7</th>\n",
       "      <td>hyp_8</td>\n",
       "      <td>11.20</td>\n",
       "    </tr>\n",
       "    <tr>\n",
       "      <th>6</th>\n",
       "      <td>hyp_7</td>\n",
       "      <td>8.00</td>\n",
       "    </tr>\n",
       "    <tr>\n",
       "      <th>2</th>\n",
       "      <td>hyp_3</td>\n",
       "      <td>7.00</td>\n",
       "    </tr>\n",
       "    <tr>\n",
       "      <th>1</th>\n",
       "      <td>hyp_2</td>\n",
       "      <td>2.00</td>\n",
       "    </tr>\n",
       "    <tr>\n",
       "      <th>5</th>\n",
       "      <td>hyp_6</td>\n",
       "      <td>1.33</td>\n",
       "    </tr>\n",
       "    <tr>\n",
       "      <th>3</th>\n",
       "      <td>hyp_4</td>\n",
       "      <td>1.12</td>\n",
       "    </tr>\n",
       "    <tr>\n",
       "      <th>4</th>\n",
       "      <td>hyp_5</td>\n",
       "      <td>1.00</td>\n",
       "    </tr>\n",
       "  </tbody>\n",
       "</table>\n",
       "</div>"
      ],
      "text/plain": [
       "  hyp_number    ICE\n",
       "8      hyp_9  16.20\n",
       "0      hyp_1  13.33\n",
       "7      hyp_8  11.20\n",
       "6      hyp_7   8.00\n",
       "2      hyp_3   7.00\n",
       "1      hyp_2   2.00\n",
       "5      hyp_6   1.33\n",
       "3      hyp_4   1.12\n",
       "4      hyp_5   1.00"
      ]
     },
     "execution_count": 16,
     "metadata": {},
     "output_type": "execute_result"
    }
   ],
   "source": [
    "hypothesis[['hyp_number', 'ICE']].sort_values(by='ICE', ascending=False)"
   ]
  },
  {
   "cell_type": "markdown",
   "metadata": {},
   "source": [
    "Изучив таблицу, видим, что наиболее перспективные гипотезы по ICE: 9, 1 и 8."
   ]
  },
  {
   "cell_type": "markdown",
   "metadata": {},
   "source": [
    "Посчитаем `RICE`:"
   ]
  },
  {
   "cell_type": "code",
   "execution_count": 17,
   "metadata": {},
   "outputs": [],
   "source": [
    "hypothesis['RICE'] = round(hypothesis['impact'] * hypothesis['confidence'] * hypothesis['reach'] / hypothesis['efforts'], 2)"
   ]
  },
  {
   "cell_type": "code",
   "execution_count": 18,
   "metadata": {},
   "outputs": [
    {
     "data": {
      "text/html": [
       "<div>\n",
       "<style scoped>\n",
       "    .dataframe tbody tr th:only-of-type {\n",
       "        vertical-align: middle;\n",
       "    }\n",
       "\n",
       "    .dataframe tbody tr th {\n",
       "        vertical-align: top;\n",
       "    }\n",
       "\n",
       "    .dataframe thead th {\n",
       "        text-align: right;\n",
       "    }\n",
       "</style>\n",
       "<table border=\"1\" class=\"dataframe\">\n",
       "  <thead>\n",
       "    <tr style=\"text-align: right;\">\n",
       "      <th></th>\n",
       "      <th>hyp_number</th>\n",
       "      <th>RICE</th>\n",
       "    </tr>\n",
       "  </thead>\n",
       "  <tbody>\n",
       "    <tr>\n",
       "      <th>7</th>\n",
       "      <td>hyp_8</td>\n",
       "      <td>112.0</td>\n",
       "    </tr>\n",
       "    <tr>\n",
       "      <th>2</th>\n",
       "      <td>hyp_3</td>\n",
       "      <td>56.0</td>\n",
       "    </tr>\n",
       "    <tr>\n",
       "      <th>0</th>\n",
       "      <td>hyp_1</td>\n",
       "      <td>40.0</td>\n",
       "    </tr>\n",
       "    <tr>\n",
       "      <th>6</th>\n",
       "      <td>hyp_7</td>\n",
       "      <td>40.0</td>\n",
       "    </tr>\n",
       "    <tr>\n",
       "      <th>8</th>\n",
       "      <td>hyp_9</td>\n",
       "      <td>16.2</td>\n",
       "    </tr>\n",
       "    <tr>\n",
       "      <th>3</th>\n",
       "      <td>hyp_4</td>\n",
       "      <td>9.0</td>\n",
       "    </tr>\n",
       "    <tr>\n",
       "      <th>1</th>\n",
       "      <td>hyp_2</td>\n",
       "      <td>4.0</td>\n",
       "    </tr>\n",
       "    <tr>\n",
       "      <th>5</th>\n",
       "      <td>hyp_6</td>\n",
       "      <td>4.0</td>\n",
       "    </tr>\n",
       "    <tr>\n",
       "      <th>4</th>\n",
       "      <td>hyp_5</td>\n",
       "      <td>3.0</td>\n",
       "    </tr>\n",
       "  </tbody>\n",
       "</table>\n",
       "</div>"
      ],
      "text/plain": [
       "  hyp_number   RICE\n",
       "7      hyp_8  112.0\n",
       "2      hyp_3   56.0\n",
       "0      hyp_1   40.0\n",
       "6      hyp_7   40.0\n",
       "8      hyp_9   16.2\n",
       "3      hyp_4    9.0\n",
       "1      hyp_2    4.0\n",
       "5      hyp_6    4.0\n",
       "4      hyp_5    3.0"
      ]
     },
     "execution_count": 18,
     "metadata": {},
     "output_type": "execute_result"
    }
   ],
   "source": [
    "hypothesis[['hyp_number', 'RICE']].sort_values(by='RICE', ascending=False)"
   ]
  },
  {
   "cell_type": "markdown",
   "metadata": {},
   "source": [
    "По оценке `RICE` наш топ немного поменялся, наиболее перспективными являются: 8, 3 и 1. Как мы видим, гипотеза №9 упала в середину списка. Она всем хороша, кроме одного критерия: у неё максимально маленький охват пользователей, что не даст нам получить достоверного результата по итогу А/В-теста. Делаем вывод, что кроме силы гипотезы, нужно учитывать и то, сколько пользователей она затронет и выявлять приоритет гипотезы, учитывая этот фактор."
   ]
  },
  {
   "cell_type": "code",
   "execution_count": 19,
   "metadata": {
    "scrolled": true
   },
   "outputs": [
    {
     "name": "stdout",
     "output_type": "stream",
     "text": [
      "Поэтому для А/В-теста самой перспективной гипотезой можно назвать гипотезу №8: Добавить форму подписки на все основные страницы, чтобы собрать базу клиентов для email-рассылок\n"
     ]
    }
   ],
   "source": [
    "print('Поэтому для А/В-теста самой перспективной гипотезой можно назвать гипотезу №8:', hypothesis.loc[7]['hypothesis'])"
   ]
  },
  {
   "cell_type": "markdown",
   "metadata": {},
   "source": [
    "## Анализ A/B-теста"
   ]
  },
  {
   "cell_type": "markdown",
   "metadata": {},
   "source": [
    "Создадим датафрейм `dates_groups` с уникальными парами значений `date` и `group`. Удалим дубликаты."
   ]
  },
  {
   "cell_type": "code",
   "execution_count": 20,
   "metadata": {},
   "outputs": [],
   "source": [
    "dates_groups = orders[['date','group']].drop_duplicates()"
   ]
  },
  {
   "cell_type": "code",
   "execution_count": 21,
   "metadata": {},
   "outputs": [
    {
     "data": {
      "text/html": [
       "<div>\n",
       "<style scoped>\n",
       "    .dataframe tbody tr th:only-of-type {\n",
       "        vertical-align: middle;\n",
       "    }\n",
       "\n",
       "    .dataframe tbody tr th {\n",
       "        vertical-align: top;\n",
       "    }\n",
       "\n",
       "    .dataframe thead th {\n",
       "        text-align: right;\n",
       "    }\n",
       "</style>\n",
       "<table border=\"1\" class=\"dataframe\">\n",
       "  <thead>\n",
       "    <tr style=\"text-align: right;\">\n",
       "      <th></th>\n",
       "      <th>date</th>\n",
       "      <th>group</th>\n",
       "    </tr>\n",
       "  </thead>\n",
       "  <tbody>\n",
       "    <tr>\n",
       "      <th>0</th>\n",
       "      <td>2019-08-15</td>\n",
       "      <td>B</td>\n",
       "    </tr>\n",
       "    <tr>\n",
       "      <th>2</th>\n",
       "      <td>2019-08-15</td>\n",
       "      <td>A</td>\n",
       "    </tr>\n",
       "    <tr>\n",
       "      <th>45</th>\n",
       "      <td>2019-08-16</td>\n",
       "      <td>A</td>\n",
       "    </tr>\n",
       "    <tr>\n",
       "      <th>47</th>\n",
       "      <td>2019-08-16</td>\n",
       "      <td>B</td>\n",
       "    </tr>\n",
       "    <tr>\n",
       "      <th>55</th>\n",
       "      <td>2019-08-01</td>\n",
       "      <td>A</td>\n",
       "    </tr>\n",
       "  </tbody>\n",
       "</table>\n",
       "</div>"
      ],
      "text/plain": [
       "         date group\n",
       "0  2019-08-15     B\n",
       "2  2019-08-15     A\n",
       "45 2019-08-16     A\n",
       "47 2019-08-16     B\n",
       "55 2019-08-01     A"
      ]
     },
     "execution_count": 21,
     "metadata": {},
     "output_type": "execute_result"
    }
   ],
   "source": [
    "dates_groups.head()"
   ]
  },
  {
   "cell_type": "markdown",
   "metadata": {},
   "source": [
    "Объявим переменную `orders_aggregated`, которая содержит:\n",
    "\n",
    "- дату;\n",
    "- группу A/B-теста;\n",
    "- число уникальных заказов в группе теста по указанную дату включительно;\n",
    "- число уникальных пользователей, совершивших хотя бы 1 заказ в группе теста по указанную дату включительно;\n",
    "- суммарную выручку заказов в группе теста по указанную дату включительно.\n",
    "\n",
    "Сделаем сортировку по дате и группе."
   ]
  },
  {
   "cell_type": "code",
   "execution_count": 22,
   "metadata": {},
   "outputs": [],
   "source": [
    "orders_aggregated = dates_groups\\\n",
    "    .apply(lambda x: orders[np.logical_and(\n",
    "    orders['date'] <= x['date'], orders['group'] == x['group'])]\\\n",
    "    .agg({'date' : 'max', 'group' : 'max', 'transaction_id' : 'nunique', 'visitor_id' : 'nunique', 'revenue' : 'sum'}),\n",
    "           axis=1)\\\n",
    "    .sort_values(by=['date','group'])"
   ]
  },
  {
   "cell_type": "code",
   "execution_count": 23,
   "metadata": {},
   "outputs": [
    {
     "data": {
      "text/html": [
       "<div>\n",
       "<style scoped>\n",
       "    .dataframe tbody tr th:only-of-type {\n",
       "        vertical-align: middle;\n",
       "    }\n",
       "\n",
       "    .dataframe tbody tr th {\n",
       "        vertical-align: top;\n",
       "    }\n",
       "\n",
       "    .dataframe thead th {\n",
       "        text-align: right;\n",
       "    }\n",
       "</style>\n",
       "<table border=\"1\" class=\"dataframe\">\n",
       "  <thead>\n",
       "    <tr style=\"text-align: right;\">\n",
       "      <th></th>\n",
       "      <th>date</th>\n",
       "      <th>group</th>\n",
       "      <th>transaction_id</th>\n",
       "      <th>visitor_id</th>\n",
       "      <th>revenue</th>\n",
       "    </tr>\n",
       "  </thead>\n",
       "  <tbody>\n",
       "    <tr>\n",
       "      <th>55</th>\n",
       "      <td>2019-08-01</td>\n",
       "      <td>A</td>\n",
       "      <td>24</td>\n",
       "      <td>20</td>\n",
       "      <td>148579</td>\n",
       "    </tr>\n",
       "    <tr>\n",
       "      <th>66</th>\n",
       "      <td>2019-08-01</td>\n",
       "      <td>B</td>\n",
       "      <td>21</td>\n",
       "      <td>20</td>\n",
       "      <td>101217</td>\n",
       "    </tr>\n",
       "    <tr>\n",
       "      <th>175</th>\n",
       "      <td>2019-08-02</td>\n",
       "      <td>A</td>\n",
       "      <td>44</td>\n",
       "      <td>38</td>\n",
       "      <td>242401</td>\n",
       "    </tr>\n",
       "    <tr>\n",
       "      <th>173</th>\n",
       "      <td>2019-08-02</td>\n",
       "      <td>B</td>\n",
       "      <td>45</td>\n",
       "      <td>43</td>\n",
       "      <td>266748</td>\n",
       "    </tr>\n",
       "    <tr>\n",
       "      <th>291</th>\n",
       "      <td>2019-08-03</td>\n",
       "      <td>A</td>\n",
       "      <td>68</td>\n",
       "      <td>62</td>\n",
       "      <td>354874</td>\n",
       "    </tr>\n",
       "  </tbody>\n",
       "</table>\n",
       "</div>"
      ],
      "text/plain": [
       "          date group  transaction_id  visitor_id  revenue\n",
       "55  2019-08-01     A              24          20   148579\n",
       "66  2019-08-01     B              21          20   101217\n",
       "175 2019-08-02     A              44          38   242401\n",
       "173 2019-08-02     B              45          43   266748\n",
       "291 2019-08-03     A              68          62   354874"
      ]
     },
     "execution_count": 23,
     "metadata": {},
     "output_type": "execute_result"
    }
   ],
   "source": [
    "orders_aggregated.head()"
   ]
  },
  {
   "cell_type": "markdown",
   "metadata": {},
   "source": [
    "Объявим переменную `visitors_aggregated`, которая содержит:\n",
    "\n",
    "- дату;\n",
    "- группу A/B-теста;\n",
    "- количество уникальных посетителей в группе теста по указанную дату включительно.\n",
    "\n",
    "Сделаем сортировку по дате и группе."
   ]
  },
  {
   "cell_type": "code",
   "execution_count": 24,
   "metadata": {},
   "outputs": [],
   "source": [
    "visitors_aggregated = dates_groups\\\n",
    "    .apply(lambda x: visitors[np.logical_and(visitors['date'] <= x['date'], visitors['group'] == x['group'])]\\\n",
    "    .agg({'date' : 'max', 'group' : 'max', 'visitors' : 'sum'}), axis=1)\\\n",
    "    .sort_values(by=['date','group'])"
   ]
  },
  {
   "cell_type": "code",
   "execution_count": 25,
   "metadata": {},
   "outputs": [
    {
     "data": {
      "text/html": [
       "<div>\n",
       "<style scoped>\n",
       "    .dataframe tbody tr th:only-of-type {\n",
       "        vertical-align: middle;\n",
       "    }\n",
       "\n",
       "    .dataframe tbody tr th {\n",
       "        vertical-align: top;\n",
       "    }\n",
       "\n",
       "    .dataframe thead th {\n",
       "        text-align: right;\n",
       "    }\n",
       "</style>\n",
       "<table border=\"1\" class=\"dataframe\">\n",
       "  <thead>\n",
       "    <tr style=\"text-align: right;\">\n",
       "      <th></th>\n",
       "      <th>date</th>\n",
       "      <th>group</th>\n",
       "      <th>visitors</th>\n",
       "    </tr>\n",
       "  </thead>\n",
       "  <tbody>\n",
       "    <tr>\n",
       "      <th>55</th>\n",
       "      <td>2019-08-01</td>\n",
       "      <td>A</td>\n",
       "      <td>719</td>\n",
       "    </tr>\n",
       "    <tr>\n",
       "      <th>66</th>\n",
       "      <td>2019-08-01</td>\n",
       "      <td>B</td>\n",
       "      <td>713</td>\n",
       "    </tr>\n",
       "    <tr>\n",
       "      <th>175</th>\n",
       "      <td>2019-08-02</td>\n",
       "      <td>A</td>\n",
       "      <td>1338</td>\n",
       "    </tr>\n",
       "    <tr>\n",
       "      <th>173</th>\n",
       "      <td>2019-08-02</td>\n",
       "      <td>B</td>\n",
       "      <td>1294</td>\n",
       "    </tr>\n",
       "    <tr>\n",
       "      <th>291</th>\n",
       "      <td>2019-08-03</td>\n",
       "      <td>A</td>\n",
       "      <td>1845</td>\n",
       "    </tr>\n",
       "  </tbody>\n",
       "</table>\n",
       "</div>"
      ],
      "text/plain": [
       "          date group  visitors\n",
       "55  2019-08-01     A       719\n",
       "66  2019-08-01     B       713\n",
       "175 2019-08-02     A      1338\n",
       "173 2019-08-02     B      1294\n",
       "291 2019-08-03     A      1845"
      ]
     },
     "execution_count": 25,
     "metadata": {},
     "output_type": "execute_result"
    }
   ],
   "source": [
    "visitors_aggregated.head()"
   ]
  },
  {
   "cell_type": "markdown",
   "metadata": {},
   "source": [
    "Объявим переменную `cumulative_data`, объединив вышесозданные таблицы, агрегированные по заказам и пользователям, методом `merge()` по колонкам даты и группы."
   ]
  },
  {
   "cell_type": "code",
   "execution_count": 26,
   "metadata": {},
   "outputs": [],
   "source": [
    "cumulative_data = orders_aggregated.merge(visitors_aggregated, left_on=['date', 'group'], right_on=['date', 'group'])"
   ]
  },
  {
   "cell_type": "code",
   "execution_count": 27,
   "metadata": {},
   "outputs": [
    {
     "data": {
      "text/html": [
       "<div>\n",
       "<style scoped>\n",
       "    .dataframe tbody tr th:only-of-type {\n",
       "        vertical-align: middle;\n",
       "    }\n",
       "\n",
       "    .dataframe tbody tr th {\n",
       "        vertical-align: top;\n",
       "    }\n",
       "\n",
       "    .dataframe thead th {\n",
       "        text-align: right;\n",
       "    }\n",
       "</style>\n",
       "<table border=\"1\" class=\"dataframe\">\n",
       "  <thead>\n",
       "    <tr style=\"text-align: right;\">\n",
       "      <th></th>\n",
       "      <th>date</th>\n",
       "      <th>group</th>\n",
       "      <th>transaction_id</th>\n",
       "      <th>visitor_id</th>\n",
       "      <th>revenue</th>\n",
       "      <th>visitors</th>\n",
       "    </tr>\n",
       "  </thead>\n",
       "  <tbody>\n",
       "    <tr>\n",
       "      <th>0</th>\n",
       "      <td>2019-08-01</td>\n",
       "      <td>A</td>\n",
       "      <td>24</td>\n",
       "      <td>20</td>\n",
       "      <td>148579</td>\n",
       "      <td>719</td>\n",
       "    </tr>\n",
       "    <tr>\n",
       "      <th>1</th>\n",
       "      <td>2019-08-01</td>\n",
       "      <td>B</td>\n",
       "      <td>21</td>\n",
       "      <td>20</td>\n",
       "      <td>101217</td>\n",
       "      <td>713</td>\n",
       "    </tr>\n",
       "    <tr>\n",
       "      <th>2</th>\n",
       "      <td>2019-08-02</td>\n",
       "      <td>A</td>\n",
       "      <td>44</td>\n",
       "      <td>38</td>\n",
       "      <td>242401</td>\n",
       "      <td>1338</td>\n",
       "    </tr>\n",
       "    <tr>\n",
       "      <th>3</th>\n",
       "      <td>2019-08-02</td>\n",
       "      <td>B</td>\n",
       "      <td>45</td>\n",
       "      <td>43</td>\n",
       "      <td>266748</td>\n",
       "      <td>1294</td>\n",
       "    </tr>\n",
       "    <tr>\n",
       "      <th>4</th>\n",
       "      <td>2019-08-03</td>\n",
       "      <td>A</td>\n",
       "      <td>68</td>\n",
       "      <td>62</td>\n",
       "      <td>354874</td>\n",
       "      <td>1845</td>\n",
       "    </tr>\n",
       "  </tbody>\n",
       "</table>\n",
       "</div>"
      ],
      "text/plain": [
       "        date group  transaction_id  visitor_id  revenue  visitors\n",
       "0 2019-08-01     A              24          20   148579       719\n",
       "1 2019-08-01     B              21          20   101217       713\n",
       "2 2019-08-02     A              44          38   242401      1338\n",
       "3 2019-08-02     B              45          43   266748      1294\n",
       "4 2019-08-03     A              68          62   354874      1845"
      ]
     },
     "execution_count": 27,
     "metadata": {},
     "output_type": "execute_result"
    }
   ],
   "source": [
    "cumulative_data.head()"
   ]
  },
  {
   "cell_type": "markdown",
   "metadata": {},
   "source": [
    "Объявим переменные `cumulative_revenue_A` и `cumulative_revenue_B`, в которых сохраним данные о датах, выручке и числе заказов в группах A и B."
   ]
  },
  {
   "cell_type": "code",
   "execution_count": 28,
   "metadata": {},
   "outputs": [],
   "source": [
    "cumulative_revenue_A = cumulative_data[cumulative_data['group']=='A'][['date','revenue', 'transaction_id']]\n",
    "cumulative_revenue_B = cumulative_data[cumulative_data['group']=='B'][['date','revenue', 'transaction_id']]"
   ]
  },
  {
   "cell_type": "code",
   "execution_count": 29,
   "metadata": {},
   "outputs": [
    {
     "data": {
      "text/html": [
       "<div>\n",
       "<style scoped>\n",
       "    .dataframe tbody tr th:only-of-type {\n",
       "        vertical-align: middle;\n",
       "    }\n",
       "\n",
       "    .dataframe tbody tr th {\n",
       "        vertical-align: top;\n",
       "    }\n",
       "\n",
       "    .dataframe thead th {\n",
       "        text-align: right;\n",
       "    }\n",
       "</style>\n",
       "<table border=\"1\" class=\"dataframe\">\n",
       "  <thead>\n",
       "    <tr style=\"text-align: right;\">\n",
       "      <th></th>\n",
       "      <th>date</th>\n",
       "      <th>revenue</th>\n",
       "      <th>transaction_id</th>\n",
       "    </tr>\n",
       "  </thead>\n",
       "  <tbody>\n",
       "    <tr>\n",
       "      <th>0</th>\n",
       "      <td>2019-08-01</td>\n",
       "      <td>148579</td>\n",
       "      <td>24</td>\n",
       "    </tr>\n",
       "    <tr>\n",
       "      <th>2</th>\n",
       "      <td>2019-08-02</td>\n",
       "      <td>242401</td>\n",
       "      <td>44</td>\n",
       "    </tr>\n",
       "    <tr>\n",
       "      <th>4</th>\n",
       "      <td>2019-08-03</td>\n",
       "      <td>354874</td>\n",
       "      <td>68</td>\n",
       "    </tr>\n",
       "    <tr>\n",
       "      <th>6</th>\n",
       "      <td>2019-08-04</td>\n",
       "      <td>425699</td>\n",
       "      <td>84</td>\n",
       "    </tr>\n",
       "    <tr>\n",
       "      <th>8</th>\n",
       "      <td>2019-08-05</td>\n",
       "      <td>549917</td>\n",
       "      <td>109</td>\n",
       "    </tr>\n",
       "  </tbody>\n",
       "</table>\n",
       "</div>"
      ],
      "text/plain": [
       "        date  revenue  transaction_id\n",
       "0 2019-08-01   148579              24\n",
       "2 2019-08-02   242401              44\n",
       "4 2019-08-03   354874              68\n",
       "6 2019-08-04   425699              84\n",
       "8 2019-08-05   549917             109"
      ]
     },
     "execution_count": 29,
     "metadata": {},
     "output_type": "execute_result"
    }
   ],
   "source": [
    "cumulative_revenue_A.head()"
   ]
  },
  {
   "cell_type": "code",
   "execution_count": 30,
   "metadata": {},
   "outputs": [
    {
     "data": {
      "text/html": [
       "<div>\n",
       "<style scoped>\n",
       "    .dataframe tbody tr th:only-of-type {\n",
       "        vertical-align: middle;\n",
       "    }\n",
       "\n",
       "    .dataframe tbody tr th {\n",
       "        vertical-align: top;\n",
       "    }\n",
       "\n",
       "    .dataframe thead th {\n",
       "        text-align: right;\n",
       "    }\n",
       "</style>\n",
       "<table border=\"1\" class=\"dataframe\">\n",
       "  <thead>\n",
       "    <tr style=\"text-align: right;\">\n",
       "      <th></th>\n",
       "      <th>date</th>\n",
       "      <th>revenue</th>\n",
       "      <th>transaction_id</th>\n",
       "    </tr>\n",
       "  </thead>\n",
       "  <tbody>\n",
       "    <tr>\n",
       "      <th>1</th>\n",
       "      <td>2019-08-01</td>\n",
       "      <td>101217</td>\n",
       "      <td>21</td>\n",
       "    </tr>\n",
       "    <tr>\n",
       "      <th>3</th>\n",
       "      <td>2019-08-02</td>\n",
       "      <td>266748</td>\n",
       "      <td>45</td>\n",
       "    </tr>\n",
       "    <tr>\n",
       "      <th>5</th>\n",
       "      <td>2019-08-03</td>\n",
       "      <td>380996</td>\n",
       "      <td>61</td>\n",
       "    </tr>\n",
       "    <tr>\n",
       "      <th>7</th>\n",
       "      <td>2019-08-04</td>\n",
       "      <td>489567</td>\n",
       "      <td>78</td>\n",
       "    </tr>\n",
       "    <tr>\n",
       "      <th>9</th>\n",
       "      <td>2019-08-05</td>\n",
       "      <td>581995</td>\n",
       "      <td>101</td>\n",
       "    </tr>\n",
       "  </tbody>\n",
       "</table>\n",
       "</div>"
      ],
      "text/plain": [
       "        date  revenue  transaction_id\n",
       "1 2019-08-01   101217              21\n",
       "3 2019-08-02   266748              45\n",
       "5 2019-08-03   380996              61\n",
       "7 2019-08-04   489567              78\n",
       "9 2019-08-05   581995             101"
      ]
     },
     "execution_count": 30,
     "metadata": {},
     "output_type": "execute_result"
    }
   ],
   "source": [
    "cumulative_revenue_B.head()"
   ]
  },
  {
   "cell_type": "markdown",
   "metadata": {},
   "source": [
    "Построим графики кумулятивной выручки по группам по дням."
   ]
  },
  {
   "cell_type": "code",
   "execution_count": 31,
   "metadata": {},
   "outputs": [
    {
     "data": {
      "image/png": "[encoded data removed]",
      "text/plain": [
       "<Figure size 1080x360 with 1 Axes>"
      ]
     },
     "metadata": {
      "needs_background": "light"
     },
     "output_type": "display_data"
    }
   ],
   "source": [
    "plt.figure(figsize=(15, 5))\n",
    "plt.plot(cumulative_revenue_A['date'], cumulative_revenue_A['revenue'], label='A', marker='o')\n",
    "plt.plot(cumulative_revenue_B['date'], cumulative_revenue_B['revenue'], label='B', marker='o')\n",
    "plt.grid()\n",
    "plt.xlabel('Дата', size=13)\n",
    "plt.ylabel('Выручка', size=13)\n",
    "plt.title('График куммулятивной выручки по дням', size=15)\n",
    "plt.legend()\n",
    "plt.show()"
   ]
  },
  {
   "cell_type": "markdown",
   "metadata": {},
   "source": [
    "Как мы можем видеть на графике, группа А и группа В шли примерно на одном уровне. Группа Б немного опережала Группу А по сумме выручки, но вцелом, примерно одинаково. С 18 августа 2019 г. произошел резкий скачок вверх по выручке в группе Б. Могут быть предположения, что либо произошел наплыв покупателей (акции, скидки, рекламная компания и т.п.), либо были совершены достаточно дорогие заказы. "
   ]
  },
  {
   "cell_type": "markdown",
   "metadata": {},
   "source": [
    "Для каждой группы построим графики кумулятивного среднего чека по дням."
   ]
  },
  {
   "cell_type": "code",
   "execution_count": 32,
   "metadata": {},
   "outputs": [
    {
     "data": {
      "image/png": "[encoded data removed]",
      "text/plain": [
       "<Figure size 1080x360 with 1 Axes>"
      ]
     },
     "metadata": {
      "needs_background": "light"
     },
     "output_type": "display_data"
    }
   ],
   "source": [
    "plt.figure(figsize=(15, 5))\n",
    "plt.plot(cumulative_revenue_A['date'], cumulative_revenue_A['revenue']/cumulative_revenue_A['transaction_id'], label='A', marker='o')\n",
    "plt.plot(cumulative_revenue_B['date'], cumulative_revenue_B['revenue']/cumulative_revenue_B['transaction_id'], label='B', marker='o')\n",
    "plt.grid()\n",
    "plt.xlabel('Дата', size=13)\n",
    "plt.ylabel('Средний чек', size=13)\n",
    "plt.title('График куммулятивного среднего чека по дням', size=15)\n",
    "plt.legend()\n",
    "plt.show()"
   ]
  },
  {
   "cell_type": "markdown",
   "metadata": {},
   "source": [
    "Видим похожую ситуацию, как и с выручкой. Средний чек группы В показывал себя лучше (отдавая преимущество только 1-го и 13-го августа), но основной скачок так же произошел 18 августа. В начале просмотра данных, мы видели, что присутствуют достаточно дорогие заказы в общей таблице, нужно будет подробнее ознакомиться с выбросами."
   ]
  },
  {
   "cell_type": "markdown",
   "metadata": {},
   "source": [
    "Далее объединим таблицы с куммулятивными расчетами групп А и В методом `merge()`. Сохраним в переменной `merged_cumulative_revenue`."
   ]
  },
  {
   "cell_type": "code",
   "execution_count": 33,
   "metadata": {},
   "outputs": [],
   "source": [
    "merged_cumulative_revenue = cumulative_revenue_A\\\n",
    "    .merge(cumulative_revenue_B, left_on='date', right_on='date', how='left')"
   ]
  },
  {
   "cell_type": "code",
   "execution_count": 34,
   "metadata": {},
   "outputs": [],
   "source": [
    "# переименуем названия столбцов\n",
    "merged_cumulative_revenue.columns = ['date', 'revenue_A', 'order_id_A', 'revenue_B', 'order_id_B']"
   ]
  },
  {
   "cell_type": "code",
   "execution_count": 35,
   "metadata": {},
   "outputs": [
    {
     "data": {
      "text/html": [
       "<div>\n",
       "<style scoped>\n",
       "    .dataframe tbody tr th:only-of-type {\n",
       "        vertical-align: middle;\n",
       "    }\n",
       "\n",
       "    .dataframe tbody tr th {\n",
       "        vertical-align: top;\n",
       "    }\n",
       "\n",
       "    .dataframe thead th {\n",
       "        text-align: right;\n",
       "    }\n",
       "</style>\n",
       "<table border=\"1\" class=\"dataframe\">\n",
       "  <thead>\n",
       "    <tr style=\"text-align: right;\">\n",
       "      <th></th>\n",
       "      <th>date</th>\n",
       "      <th>revenue_A</th>\n",
       "      <th>order_id_A</th>\n",
       "      <th>revenue_B</th>\n",
       "      <th>order_id_B</th>\n",
       "    </tr>\n",
       "  </thead>\n",
       "  <tbody>\n",
       "    <tr>\n",
       "      <th>0</th>\n",
       "      <td>2019-08-01</td>\n",
       "      <td>148579</td>\n",
       "      <td>24</td>\n",
       "      <td>101217</td>\n",
       "      <td>21</td>\n",
       "    </tr>\n",
       "    <tr>\n",
       "      <th>1</th>\n",
       "      <td>2019-08-02</td>\n",
       "      <td>242401</td>\n",
       "      <td>44</td>\n",
       "      <td>266748</td>\n",
       "      <td>45</td>\n",
       "    </tr>\n",
       "    <tr>\n",
       "      <th>2</th>\n",
       "      <td>2019-08-03</td>\n",
       "      <td>354874</td>\n",
       "      <td>68</td>\n",
       "      <td>380996</td>\n",
       "      <td>61</td>\n",
       "    </tr>\n",
       "    <tr>\n",
       "      <th>3</th>\n",
       "      <td>2019-08-04</td>\n",
       "      <td>425699</td>\n",
       "      <td>84</td>\n",
       "      <td>489567</td>\n",
       "      <td>78</td>\n",
       "    </tr>\n",
       "    <tr>\n",
       "      <th>4</th>\n",
       "      <td>2019-08-05</td>\n",
       "      <td>549917</td>\n",
       "      <td>109</td>\n",
       "      <td>581995</td>\n",
       "      <td>101</td>\n",
       "    </tr>\n",
       "  </tbody>\n",
       "</table>\n",
       "</div>"
      ],
      "text/plain": [
       "        date  revenue_A  order_id_A  revenue_B  order_id_B\n",
       "0 2019-08-01     148579          24     101217          21\n",
       "1 2019-08-02     242401          44     266748          45\n",
       "2 2019-08-03     354874          68     380996          61\n",
       "3 2019-08-04     425699          84     489567          78\n",
       "4 2019-08-05     549917         109     581995         101"
      ]
     },
     "execution_count": 35,
     "metadata": {},
     "output_type": "execute_result"
    }
   ],
   "source": [
    "merged_cumulative_revenue.head()"
   ]
  },
  {
   "cell_type": "markdown",
   "metadata": {},
   "source": [
    "Построим график относительно различия кумулятивного среднего чека группы B к группе A."
   ]
  },
  {
   "cell_type": "code",
   "execution_count": 36,
   "metadata": {},
   "outputs": [
    {
     "data": {
      "image/png": "[encoded data removed]",
      "text/plain": [
       "<Figure size 1080x360 with 1 Axes>"
      ]
     },
     "metadata": {
      "needs_background": "light"
     },
     "output_type": "display_data"
    }
   ],
   "source": [
    "plt.figure(figsize=(15, 5))\n",
    "plt.plot(merged_cumulative_revenue['date'],\\\n",
    "         (merged_cumulative_revenue['revenue_B']/merged_cumulative_revenue['order_id_B'])\\\n",
    "         /(merged_cumulative_revenue['revenue_A']/merged_cumulative_revenue['order_id_A'])-1, marker='o')\n",
    "plt.axhline(y=0, color='black', linestyle='--')\n",
    "plt.grid()\n",
    "plt.xlabel('Дата', size=13)\n",
    "plt.ylabel('Относительная разница', size=13)\n",
    "plt.title('График относительно различия кумулятивного среднего чека группы B к группе A', size=15)\n",
    "plt.show()"
   ]
  },
  {
   "cell_type": "markdown",
   "metadata": {},
   "source": [
    "По данному графику можем сделать вывод, что в большинстве дней группа В показывает себя лучше, чем группа А по среднему чеку, что мы, в принципе, видели и на предыдущем графике. Есть просадки, когда группа А была получше, это 1-го и 13-го августа. Так же видно резкое увеличение среднего чего 18 августа."
   ]
  },
  {
   "cell_type": "markdown",
   "metadata": {},
   "source": [
    "Добавим в `cumulative_data` столбец `conversion` c отношением числа заказов к количеству пользователей в указанной группе в указанный день.\n",
    "Объявим переменные `cumulative_data_A` и `cumulative_data_B`, в которых сохраните данные о заказах в сегментах A и B соответственно."
   ]
  },
  {
   "cell_type": "code",
   "execution_count": 37,
   "metadata": {},
   "outputs": [],
   "source": [
    "cumulative_data['conversion'] = cumulative_data['transaction_id']/cumulative_data['visitors']"
   ]
  },
  {
   "cell_type": "code",
   "execution_count": 38,
   "metadata": {},
   "outputs": [
    {
     "data": {
      "text/html": [
       "<div>\n",
       "<style scoped>\n",
       "    .dataframe tbody tr th:only-of-type {\n",
       "        vertical-align: middle;\n",
       "    }\n",
       "\n",
       "    .dataframe tbody tr th {\n",
       "        vertical-align: top;\n",
       "    }\n",
       "\n",
       "    .dataframe thead th {\n",
       "        text-align: right;\n",
       "    }\n",
       "</style>\n",
       "<table border=\"1\" class=\"dataframe\">\n",
       "  <thead>\n",
       "    <tr style=\"text-align: right;\">\n",
       "      <th></th>\n",
       "      <th>date</th>\n",
       "      <th>group</th>\n",
       "      <th>transaction_id</th>\n",
       "      <th>visitor_id</th>\n",
       "      <th>revenue</th>\n",
       "      <th>visitors</th>\n",
       "      <th>conversion</th>\n",
       "    </tr>\n",
       "  </thead>\n",
       "  <tbody>\n",
       "    <tr>\n",
       "      <th>0</th>\n",
       "      <td>2019-08-01</td>\n",
       "      <td>A</td>\n",
       "      <td>24</td>\n",
       "      <td>20</td>\n",
       "      <td>148579</td>\n",
       "      <td>719</td>\n",
       "      <td>0.033380</td>\n",
       "    </tr>\n",
       "    <tr>\n",
       "      <th>1</th>\n",
       "      <td>2019-08-01</td>\n",
       "      <td>B</td>\n",
       "      <td>21</td>\n",
       "      <td>20</td>\n",
       "      <td>101217</td>\n",
       "      <td>713</td>\n",
       "      <td>0.029453</td>\n",
       "    </tr>\n",
       "    <tr>\n",
       "      <th>2</th>\n",
       "      <td>2019-08-02</td>\n",
       "      <td>A</td>\n",
       "      <td>44</td>\n",
       "      <td>38</td>\n",
       "      <td>242401</td>\n",
       "      <td>1338</td>\n",
       "      <td>0.032885</td>\n",
       "    </tr>\n",
       "    <tr>\n",
       "      <th>3</th>\n",
       "      <td>2019-08-02</td>\n",
       "      <td>B</td>\n",
       "      <td>45</td>\n",
       "      <td>43</td>\n",
       "      <td>266748</td>\n",
       "      <td>1294</td>\n",
       "      <td>0.034776</td>\n",
       "    </tr>\n",
       "    <tr>\n",
       "      <th>4</th>\n",
       "      <td>2019-08-03</td>\n",
       "      <td>A</td>\n",
       "      <td>68</td>\n",
       "      <td>62</td>\n",
       "      <td>354874</td>\n",
       "      <td>1845</td>\n",
       "      <td>0.036856</td>\n",
       "    </tr>\n",
       "  </tbody>\n",
       "</table>\n",
       "</div>"
      ],
      "text/plain": [
       "        date group  transaction_id  visitor_id  revenue  visitors  conversion\n",
       "0 2019-08-01     A              24          20   148579       719    0.033380\n",
       "1 2019-08-01     B              21          20   101217       713    0.029453\n",
       "2 2019-08-02     A              44          38   242401      1338    0.032885\n",
       "3 2019-08-02     B              45          43   266748      1294    0.034776\n",
       "4 2019-08-03     A              68          62   354874      1845    0.036856"
      ]
     },
     "execution_count": 38,
     "metadata": {},
     "output_type": "execute_result"
    }
   ],
   "source": [
    "cumulative_data.head()"
   ]
  },
  {
   "cell_type": "code",
   "execution_count": 39,
   "metadata": {},
   "outputs": [],
   "source": [
    "# отделяем данные по группе A\n",
    "cumulative_data_A = cumulative_data[cumulative_data['group']=='A']\n",
    "\n",
    "# отделяем данные по группе B\n",
    "cumulative_data_B = cumulative_data[cumulative_data['group']=='B']"
   ]
  },
  {
   "cell_type": "markdown",
   "metadata": {},
   "source": [
    "Построим графики кумулятивной конверсии по дням по группам."
   ]
  },
  {
   "cell_type": "code",
   "execution_count": 40,
   "metadata": {},
   "outputs": [
    {
     "data": {
      "image/png": "[encoded data removed]",
      "text/plain": [
       "<Figure size 1080x360 with 1 Axes>"
      ]
     },
     "metadata": {
      "needs_background": "light"
     },
     "output_type": "display_data"
    }
   ],
   "source": [
    "plt.figure(figsize=(15, 5))\n",
    "plt.plot(cumulative_data_A['date'], cumulative_data_A['conversion'], label='A', marker='o')\n",
    "plt.plot(cumulative_data_B['date'], cumulative_data_B['conversion'], label='B', marker='o')\n",
    "plt.grid()\n",
    "plt.xlabel('Дата', size=13)\n",
    "plt.ylabel('Конверсия', size=13)\n",
    "plt.title('График кумулятивной конверсии по дням', size=15)\n",
    "plt.legend()\n",
    "plt.show()"
   ]
  },
  {
   "cell_type": "markdown",
   "metadata": {},
   "source": [
    "Как мы видим, первые дни группа А опережала по конверсии группу В, уступив лишь 2 августа. Но начиная с 6 августа группа В уверенно заняла лидирующие позиции по количеству заказов относительно пришедших клиентов. Начиная с 9-10 августа обе группы вышли на относительную стабильность по конверсии. "
   ]
  },
  {
   "cell_type": "markdown",
   "metadata": {},
   "source": [
    "Объедините таблицы `cumulative_data_A` и `cumulative_data_B` методом `merge()`, и сохраним в переменную `merged_cumulative_conversions`."
   ]
  },
  {
   "cell_type": "code",
   "execution_count": 41,
   "metadata": {},
   "outputs": [],
   "source": [
    "merged_cumulative_conversions = cumulative_data_A[['date','conversion']]\\\n",
    "    .merge(cumulative_data_B[['date','conversion']], left_on='date', right_on='date', how='left')"
   ]
  },
  {
   "cell_type": "code",
   "execution_count": 42,
   "metadata": {},
   "outputs": [],
   "source": [
    "# изменим названия столбцов\n",
    "merged_cumulative_conversions.columns = ['date', 'conversion_A', 'conversion_B']"
   ]
  },
  {
   "cell_type": "code",
   "execution_count": 43,
   "metadata": {},
   "outputs": [
    {
     "data": {
      "text/html": [
       "<div>\n",
       "<style scoped>\n",
       "    .dataframe tbody tr th:only-of-type {\n",
       "        vertical-align: middle;\n",
       "    }\n",
       "\n",
       "    .dataframe tbody tr th {\n",
       "        vertical-align: top;\n",
       "    }\n",
       "\n",
       "    .dataframe thead th {\n",
       "        text-align: right;\n",
       "    }\n",
       "</style>\n",
       "<table border=\"1\" class=\"dataframe\">\n",
       "  <thead>\n",
       "    <tr style=\"text-align: right;\">\n",
       "      <th></th>\n",
       "      <th>date</th>\n",
       "      <th>conversion_A</th>\n",
       "      <th>conversion_B</th>\n",
       "    </tr>\n",
       "  </thead>\n",
       "  <tbody>\n",
       "    <tr>\n",
       "      <th>0</th>\n",
       "      <td>2019-08-01</td>\n",
       "      <td>0.033380</td>\n",
       "      <td>0.029453</td>\n",
       "    </tr>\n",
       "    <tr>\n",
       "      <th>1</th>\n",
       "      <td>2019-08-02</td>\n",
       "      <td>0.032885</td>\n",
       "      <td>0.034776</td>\n",
       "    </tr>\n",
       "    <tr>\n",
       "      <th>2</th>\n",
       "      <td>2019-08-03</td>\n",
       "      <td>0.036856</td>\n",
       "      <td>0.033833</td>\n",
       "    </tr>\n",
       "    <tr>\n",
       "      <th>3</th>\n",
       "      <td>2019-08-04</td>\n",
       "      <td>0.032787</td>\n",
       "      <td>0.030315</td>\n",
       "    </tr>\n",
       "    <tr>\n",
       "      <th>4</th>\n",
       "      <td>2019-08-05</td>\n",
       "      <td>0.032851</td>\n",
       "      <td>0.030793</td>\n",
       "    </tr>\n",
       "  </tbody>\n",
       "</table>\n",
       "</div>"
      ],
      "text/plain": [
       "        date  conversion_A  conversion_B\n",
       "0 2019-08-01      0.033380      0.029453\n",
       "1 2019-08-02      0.032885      0.034776\n",
       "2 2019-08-03      0.036856      0.033833\n",
       "3 2019-08-04      0.032787      0.030315\n",
       "4 2019-08-05      0.032851      0.030793"
      ]
     },
     "execution_count": 43,
     "metadata": {},
     "output_type": "execute_result"
    }
   ],
   "source": [
    "merged_cumulative_conversions.head()"
   ]
  },
  {
   "cell_type": "markdown",
   "metadata": {},
   "source": [
    "Построим график относительного различия кумулятивной конверсии группы B к группе A."
   ]
  },
  {
   "cell_type": "code",
   "execution_count": 44,
   "metadata": {},
   "outputs": [
    {
     "data": {
      "image/png": "[encoded data removed]",
      "text/plain": [
       "<Figure size 1080x360 with 1 Axes>"
      ]
     },
     "metadata": {
      "needs_background": "light"
     },
     "output_type": "display_data"
    }
   ],
   "source": [
    "plt.figure(figsize=(15, 5))\n",
    "plt.plot(merged_cumulative_conversions['date'],\\\n",
    "         merged_cumulative_conversions['conversion_B']/merged_cumulative_conversions['conversion_A']-1,\\\n",
    "         label=\"Относительный прирост конверсии группы B относительно группы A\", marker='o')\n",
    "plt.axhline(y=0, color='black', linestyle='--')\n",
    "plt.axhline(y=0.2, color='grey', linestyle='--')\n",
    "plt.grid()\n",
    "plt.xlabel('Дата', size=13)\n",
    "plt.ylabel('Относительная разница', size=13)\n",
    "plt.title('График относительного различия кумулятивной конверсии группы B к группе A', size=15)\n",
    "plt.legend()\n",
    "plt.show()\n",
    "\n"
   ]
  },
  {
   "cell_type": "markdown",
   "metadata": {},
   "source": [
    "Как и по предыдущему графику, видим что рост конверсии в группе В относительно группы А уверенно начался с 6 августа. В моменте с 15 по 17 августа это прирост составил 20 %, но уже 18 августа начал снижаться. По последним данным известно, что минимальная точка падения 27 августа достигла отметки прироста в 10 %, но с 28 августа опять потихоньку начался рост к 15 % прироста конверсии группы В относительно группы А. \n",
    "\n",
    "Какие-либо окончательные выводы пока делать рано."
   ]
  },
  {
   "cell_type": "markdown",
   "metadata": {},
   "source": [
    "Далее найдем число заказов по пользователям — сгруппируем датафрейм по пользователям и посчитаем количество уникальных заказов. Назовем его `orders_by_users`."
   ]
  },
  {
   "cell_type": "code",
   "execution_count": 45,
   "metadata": {},
   "outputs": [],
   "source": [
    "orders_by_users = (orders.groupby('visitor_id', as_index=False)\n",
    "                .agg({'transaction_id': 'nunique'}))"
   ]
  },
  {
   "cell_type": "code",
   "execution_count": 46,
   "metadata": {
    "scrolled": true
   },
   "outputs": [
    {
     "data": {
      "text/html": [
       "<div>\n",
       "<style scoped>\n",
       "    .dataframe tbody tr th:only-of-type {\n",
       "        vertical-align: middle;\n",
       "    }\n",
       "\n",
       "    .dataframe tbody tr th {\n",
       "        vertical-align: top;\n",
       "    }\n",
       "\n",
       "    .dataframe thead th {\n",
       "        text-align: right;\n",
       "    }\n",
       "</style>\n",
       "<table border=\"1\" class=\"dataframe\">\n",
       "  <thead>\n",
       "    <tr style=\"text-align: right;\">\n",
       "      <th></th>\n",
       "      <th>visitor_id</th>\n",
       "      <th>transaction_id</th>\n",
       "    </tr>\n",
       "  </thead>\n",
       "  <tbody>\n",
       "    <tr>\n",
       "      <th>1023</th>\n",
       "      <td>4256040402</td>\n",
       "      <td>11</td>\n",
       "    </tr>\n",
       "    <tr>\n",
       "      <th>591</th>\n",
       "      <td>2458001652</td>\n",
       "      <td>11</td>\n",
       "    </tr>\n",
       "    <tr>\n",
       "      <th>569</th>\n",
       "      <td>2378935119</td>\n",
       "      <td>9</td>\n",
       "    </tr>\n",
       "    <tr>\n",
       "      <th>487</th>\n",
       "      <td>2038680547</td>\n",
       "      <td>8</td>\n",
       "    </tr>\n",
       "    <tr>\n",
       "      <th>44</th>\n",
       "      <td>199603092</td>\n",
       "      <td>5</td>\n",
       "    </tr>\n",
       "    <tr>\n",
       "      <th>744</th>\n",
       "      <td>3062433592</td>\n",
       "      <td>5</td>\n",
       "    </tr>\n",
       "    <tr>\n",
       "      <th>55</th>\n",
       "      <td>237748145</td>\n",
       "      <td>5</td>\n",
       "    </tr>\n",
       "    <tr>\n",
       "      <th>917</th>\n",
       "      <td>3803269165</td>\n",
       "      <td>5</td>\n",
       "    </tr>\n",
       "    <tr>\n",
       "      <th>299</th>\n",
       "      <td>1230306981</td>\n",
       "      <td>5</td>\n",
       "    </tr>\n",
       "    <tr>\n",
       "      <th>897</th>\n",
       "      <td>3717692402</td>\n",
       "      <td>5</td>\n",
       "    </tr>\n",
       "  </tbody>\n",
       "</table>\n",
       "</div>"
      ],
      "text/plain": [
       "      visitor_id  transaction_id\n",
       "1023  4256040402              11\n",
       "591   2458001652              11\n",
       "569   2378935119               9\n",
       "487   2038680547               8\n",
       "44     199603092               5\n",
       "744   3062433592               5\n",
       "55     237748145               5\n",
       "917   3803269165               5\n",
       "299   1230306981               5\n",
       "897   3717692402               5"
      ]
     },
     "execution_count": 46,
     "metadata": {},
     "output_type": "execute_result"
    }
   ],
   "source": [
    "orders_by_users.sort_values(by='transaction_id', ascending=False).head(10)"
   ]
  },
  {
   "cell_type": "markdown",
   "metadata": {},
   "source": [
    "Построим диаграмму методом `scatter()`. Так мы сможем наглядно увидеть, сколько заказов регулярно делает каждый пользователь. "
   ]
  },
  {
   "cell_type": "code",
   "execution_count": 47,
   "metadata": {},
   "outputs": [
    {
     "data": {
      "image/png": "[encoded data removed]",
      "text/plain": [
       "<Figure size 1080x360 with 1 Axes>"
      ]
     },
     "metadata": {
      "needs_background": "light"
     },
     "output_type": "display_data"
    }
   ],
   "source": [
    "# серия из чисел от 0 до количества наблюдений в orders_by_users\n",
    "x_values = pd.Series(range(0, len(orders_by_users)))\n",
    "\n",
    "plt.figure(figsize=(15, 5))\n",
    "plt.scatter(x_values, orders_by_users['transaction_id'])\n",
    "plt.grid()\n",
    "plt.xlabel('Количество наблюдений', size=13)\n",
    "plt.ylabel('Количество заказов', size=13)\n",
    "plt.title('Диаграмма распределения числа заказов по пользователям', size=15)\n",
    "plt.show()"
   ]
  },
  {
   "cell_type": "markdown",
   "metadata": {},
   "source": [
    "Как мы видим, преимущественно пользователи делают заказ один раз. Уже гораздо реже делают 2 раза, и совсем редко более 2 раз. Чтобы ещё более точечно взглянуть на это, посчитаем 90-й, 95-й и 99-й выборочные перцентили количества заказов по пользователям методом `np.percentile()`."
   ]
  },
  {
   "cell_type": "code",
   "execution_count": 48,
   "metadata": {},
   "outputs": [
    {
     "data": {
      "text/plain": [
       "array([1., 2., 4.])"
      ]
     },
     "execution_count": 48,
     "metadata": {},
     "output_type": "execute_result"
    }
   ],
   "source": [
    "np.percentile(orders_by_users['transaction_id'], [90, 95, 99])"
   ]
  },
  {
   "cell_type": "markdown",
   "metadata": {},
   "source": [
    "Можем наблюдать, что не более 5% пользователей делают заказ более 2-х раз и не более 1% пользователей делают заказ более 4-х раз. Поэтому можем отметить границу для аномальных пользователей, которые делали заказы более 2-х раз. "
   ]
  },
  {
   "cell_type": "code",
   "execution_count": 49,
   "metadata": {},
   "outputs": [
    {
     "data": {
      "image/png": "[encoded data removed]",
      "text/plain": [
       "<Figure size 1080x360 with 1 Axes>"
      ]
     },
     "metadata": {
      "needs_background": "light"
     },
     "output_type": "display_data"
    }
   ],
   "source": [
    "x_values = pd.Series(range(0, len(orders['revenue'])))\n",
    "\n",
    "plt.figure(figsize=(15, 5))\n",
    "plt.scatter(x_values, orders['revenue']) \n",
    "plt.grid()\n",
    "plt.xlabel('Количество наблюдений', size=13)\n",
    "plt.ylabel('Стоимость заказа', size=13)\n",
    "plt.title('Диаграмма распределения стоимости заказов', size=15)\n",
    "plt.show()"
   ]
  },
  {
   "cell_type": "markdown",
   "metadata": {},
   "source": [
    "На графике отчетливо видим, что абсолютное большинство заказов примерно до 80 тыс. Есть очевидный выброс заказа дороже 1.2 млн, и одинокий заказ за 200 тыс. Чтобы более точно увидеть цифры, так же воспользуемся методом `np.percentile()`."
   ]
  },
  {
   "cell_type": "code",
   "execution_count": 50,
   "metadata": {},
   "outputs": [
    {
     "data": {
      "text/plain": [
       "array([18168. , 28000. , 58233.2])"
      ]
     },
     "execution_count": 50,
     "metadata": {},
     "output_type": "execute_result"
    }
   ],
   "source": [
    "np.percentile(orders['revenue'], [90, 95, 99])"
   ]
  },
  {
   "cell_type": "markdown",
   "metadata": {},
   "source": [
    "Как мы видим, не более 5% заказов дороже 28 тыс. и не более 1 % заказов дороже 58 тыс. Поэтому всё, что дороже 28 тыс. можно определить как аномалии."
   ]
  },
  {
   "cell_type": "markdown",
   "metadata": {},
   "source": [
    "В дальнейших шагах мы будем рассчитывать статистическую значимость для \"сырых\" данных (без удаления аномальных значений) и для \"очищенных\" данных (с удалением аномальных значений). "
   ]
  },
  {
   "cell_type": "markdown",
   "metadata": {},
   "source": [
    "### Расчет статистической значимости по \"сырым\" данным."
   ]
  },
  {
   "cell_type": "markdown",
   "metadata": {},
   "source": [
    "Соберем все данные по заказам и визитам (а также добавим кумулятивные показатели) в одну таблицу. Для этого создадим несколько таблиц и затем объединим их:"
   ]
  },
  {
   "cell_type": "code",
   "execution_count": 51,
   "metadata": {},
   "outputs": [],
   "source": [
    "# определим количество пользователей в выбранную дату в группе A\n",
    "visitors_A_daily = visitors[visitors['group']=='A'][['date', 'visitors']]\n",
    "visitors_A_daily.columns = ['date', 'visitors_per_date_A']\n",
    "\n",
    "# определим количество пользователей до выбранной даты включительно в группе A\n",
    "visitors_A_cummulative = visitors_A_daily.apply(lambda x: visitors_A_daily[visitors_A_daily['date'] <= x['date']]. \\\n",
    "                                            agg({'date' : 'max', 'visitors_per_date_A' : 'sum'}), axis=1)\n",
    "visitors_A_cummulative.columns = ['date', 'visitors_A_cummulative']\n",
    "\n",
    "# определим количество пользователей в выбранную дату в группе В\n",
    "visitors_B_daily = visitors[visitors['group']=='B'][['date', 'visitors']]\n",
    "visitors_B_daily.columns = ['date', 'visitors_per_date_B']\n",
    "\n",
    "# определим количество пользователей до выбранной даты включительно в группе В\n",
    "visitors_B_cummulative = visitors_B_daily.apply(lambda x: visitors_B_daily[visitors_B_daily['date'] <= x['date']]. \\\n",
    "                                            agg({'date' : 'max', 'visitors_per_date_B' : 'sum'}), axis=1)\n",
    "visitors_B_cummulative.columns = ['date', 'visitors_B_cummulative']\n",
    "\n",
    "\n",
    "# определим  количество заказов и  суммарную выручку в выбранную дату в группе A\n",
    "orders_A_daily = orders[orders['group']=='A'][['date', 'transaction_id', 'visitor_id', 'revenue']]\\\n",
    "    .groupby('date', as_index=False)\\\n",
    "    .agg({'transaction_id' : pd.Series.nunique, 'revenue' : 'sum'})\n",
    "orders_A_daily.columns = ['date', 'orders_per_date_A', 'revenue_per_date_A']\n",
    "\n",
    "# определим суммарное число заказов и суммарную выручку до выбранной даты включительно в группе A\n",
    "orders_A_cummulative = orders_A_daily.apply(\n",
    "    lambda x: \\\n",
    "        orders_A_daily[orders_A_daily['date'] <= x['date']]\\\n",
    "            .agg({\n",
    "                'date' : 'max',\n",
    "                'orders_per_date_A' : 'sum',\n",
    "                'revenue_per_date_A' : 'sum'}), axis=1).sort_values(by=['date'])\n",
    "orders_A_cummulative.columns = ['date', 'orders_cummulative_A', 'revenue_cummulative_A']\n",
    "\n",
    "# определим  количество заказов и  суммарную выручку в выбранную дату в группе В\n",
    "orders_B_daily = orders[orders['group']=='B'][['date', 'transaction_id', 'visitor_id', 'revenue']]\\\n",
    "    .groupby('date', as_index=False)\\\n",
    "    .agg({'transaction_id' : pd.Series.nunique, 'revenue' : 'sum'})\n",
    "orders_B_daily.columns = ['date', 'orders_per_date_B', 'revenue_per_date_B']\n",
    "\n",
    "# определим суммарное число заказов и суммарную выручку до выбранной даты включительно в группе В\n",
    "orders_B_cummulative = orders_B_daily.apply(\n",
    "    lambda x: \\\n",
    "        orders_B_daily[orders_B_daily['date'] <= x['date']]\\\n",
    "            .agg({\n",
    "                'date' : 'max',\n",
    "                'orders_per_date_B' : 'sum',\n",
    "                'revenue_per_date_B' : 'sum'}), axis=1).sort_values(by=['date'])\n",
    "orders_B_cummulative.columns = ['date', 'orders_cummulative_B', 'revenue_cummulative_B']"
   ]
  },
  {
   "cell_type": "markdown",
   "metadata": {},
   "source": [
    "Теперь соединим все составленные таблицы методом `merge()` в один датасет:"
   ]
  },
  {
   "cell_type": "code",
   "execution_count": 52,
   "metadata": {},
   "outputs": [],
   "source": [
    "data = (\n",
    "    orders_A_daily.merge(\n",
    "        orders_B_daily, left_on='date', right_on='date', how='left'\n",
    "    )\n",
    "    .merge(orders_A_cummulative, left_on='date', right_on='date', how='left')\n",
    "    .merge(orders_B_cummulative, left_on='date', right_on='date', how='left')\n",
    "    .merge(visitors_A_daily, left_on='date', right_on='date', how='left')\n",
    "    .merge(visitors_B_daily, left_on='date', right_on='date', how='left')\n",
    "    .merge(visitors_A_cummulative, left_on='date', right_on='date', how='left')\n",
    "    .merge(visitors_B_cummulative, left_on='date', right_on='date', how='left')\n",
    ")"
   ]
  },
  {
   "cell_type": "code",
   "execution_count": 53,
   "metadata": {},
   "outputs": [
    {
     "data": {
      "text/html": [
       "<div>\n",
       "<style scoped>\n",
       "    .dataframe tbody tr th:only-of-type {\n",
       "        vertical-align: middle;\n",
       "    }\n",
       "\n",
       "    .dataframe tbody tr th {\n",
       "        vertical-align: top;\n",
       "    }\n",
       "\n",
       "    .dataframe thead th {\n",
       "        text-align: right;\n",
       "    }\n",
       "</style>\n",
       "<table border=\"1\" class=\"dataframe\">\n",
       "  <thead>\n",
       "    <tr style=\"text-align: right;\">\n",
       "      <th></th>\n",
       "      <th>date</th>\n",
       "      <th>orders_per_date_A</th>\n",
       "      <th>revenue_per_date_A</th>\n",
       "      <th>orders_per_date_B</th>\n",
       "      <th>revenue_per_date_B</th>\n",
       "      <th>orders_cummulative_A</th>\n",
       "      <th>revenue_cummulative_A</th>\n",
       "      <th>orders_cummulative_B</th>\n",
       "      <th>revenue_cummulative_B</th>\n",
       "      <th>visitors_per_date_A</th>\n",
       "      <th>visitors_per_date_B</th>\n",
       "      <th>visitors_A_cummulative</th>\n",
       "      <th>visitors_B_cummulative</th>\n",
       "    </tr>\n",
       "  </thead>\n",
       "  <tbody>\n",
       "    <tr>\n",
       "      <th>0</th>\n",
       "      <td>2019-08-01</td>\n",
       "      <td>24</td>\n",
       "      <td>148579</td>\n",
       "      <td>21</td>\n",
       "      <td>101217</td>\n",
       "      <td>24</td>\n",
       "      <td>148579</td>\n",
       "      <td>21</td>\n",
       "      <td>101217</td>\n",
       "      <td>719</td>\n",
       "      <td>713</td>\n",
       "      <td>719</td>\n",
       "      <td>713</td>\n",
       "    </tr>\n",
       "    <tr>\n",
       "      <th>1</th>\n",
       "      <td>2019-08-02</td>\n",
       "      <td>20</td>\n",
       "      <td>93822</td>\n",
       "      <td>24</td>\n",
       "      <td>165531</td>\n",
       "      <td>44</td>\n",
       "      <td>242401</td>\n",
       "      <td>45</td>\n",
       "      <td>266748</td>\n",
       "      <td>619</td>\n",
       "      <td>581</td>\n",
       "      <td>1338</td>\n",
       "      <td>1294</td>\n",
       "    </tr>\n",
       "    <tr>\n",
       "      <th>2</th>\n",
       "      <td>2019-08-03</td>\n",
       "      <td>24</td>\n",
       "      <td>112473</td>\n",
       "      <td>16</td>\n",
       "      <td>114248</td>\n",
       "      <td>68</td>\n",
       "      <td>354874</td>\n",
       "      <td>61</td>\n",
       "      <td>380996</td>\n",
       "      <td>507</td>\n",
       "      <td>509</td>\n",
       "      <td>1845</td>\n",
       "      <td>1803</td>\n",
       "    </tr>\n",
       "    <tr>\n",
       "      <th>3</th>\n",
       "      <td>2019-08-04</td>\n",
       "      <td>16</td>\n",
       "      <td>70825</td>\n",
       "      <td>17</td>\n",
       "      <td>108571</td>\n",
       "      <td>84</td>\n",
       "      <td>425699</td>\n",
       "      <td>78</td>\n",
       "      <td>489567</td>\n",
       "      <td>717</td>\n",
       "      <td>770</td>\n",
       "      <td>2562</td>\n",
       "      <td>2573</td>\n",
       "    </tr>\n",
       "    <tr>\n",
       "      <th>4</th>\n",
       "      <td>2019-08-05</td>\n",
       "      <td>25</td>\n",
       "      <td>124218</td>\n",
       "      <td>23</td>\n",
       "      <td>92428</td>\n",
       "      <td>109</td>\n",
       "      <td>549917</td>\n",
       "      <td>101</td>\n",
       "      <td>581995</td>\n",
       "      <td>756</td>\n",
       "      <td>707</td>\n",
       "      <td>3318</td>\n",
       "      <td>3280</td>\n",
       "    </tr>\n",
       "  </tbody>\n",
       "</table>\n",
       "</div>"
      ],
      "text/plain": [
       "        date  orders_per_date_A  revenue_per_date_A  orders_per_date_B  \\\n",
       "0 2019-08-01                 24              148579                 21   \n",
       "1 2019-08-02                 20               93822                 24   \n",
       "2 2019-08-03                 24              112473                 16   \n",
       "3 2019-08-04                 16               70825                 17   \n",
       "4 2019-08-05                 25              124218                 23   \n",
       "\n",
       "   revenue_per_date_B  orders_cummulative_A  revenue_cummulative_A  \\\n",
       "0              101217                    24                 148579   \n",
       "1              165531                    44                 242401   \n",
       "2              114248                    68                 354874   \n",
       "3              108571                    84                 425699   \n",
       "4               92428                   109                 549917   \n",
       "\n",
       "   orders_cummulative_B  revenue_cummulative_B  visitors_per_date_A  \\\n",
       "0                    21                 101217                  719   \n",
       "1                    45                 266748                  619   \n",
       "2                    61                 380996                  507   \n",
       "3                    78                 489567                  717   \n",
       "4                   101                 581995                  756   \n",
       "\n",
       "   visitors_per_date_B  visitors_A_cummulative  visitors_B_cummulative  \n",
       "0                  713                     719                     713  \n",
       "1                  581                    1338                    1294  \n",
       "2                  509                    1845                    1803  \n",
       "3                  770                    2562                    2573  \n",
       "4                  707                    3318                    3280  "
      ]
     },
     "execution_count": 53,
     "metadata": {},
     "output_type": "execute_result"
    }
   ],
   "source": [
    "data.head()"
   ]
  },
  {
   "cell_type": "markdown",
   "metadata": {},
   "source": [
    "Создадим переменные `orders_by_users_A` и `orders_by_users_B`, где для пользователей, совершивших хотя бы 1 заказ, будет указано число заказов."
   ]
  },
  {
   "cell_type": "code",
   "execution_count": 54,
   "metadata": {},
   "outputs": [
    {
     "data": {
      "text/html": [
       "<div>\n",
       "<style scoped>\n",
       "    .dataframe tbody tr th:only-of-type {\n",
       "        vertical-align: middle;\n",
       "    }\n",
       "\n",
       "    .dataframe tbody tr th {\n",
       "        vertical-align: top;\n",
       "    }\n",
       "\n",
       "    .dataframe thead th {\n",
       "        text-align: right;\n",
       "    }\n",
       "</style>\n",
       "<table border=\"1\" class=\"dataframe\">\n",
       "  <thead>\n",
       "    <tr style=\"text-align: right;\">\n",
       "      <th></th>\n",
       "      <th>visitor_id</th>\n",
       "      <th>transaction_id</th>\n",
       "    </tr>\n",
       "  </thead>\n",
       "  <tbody>\n",
       "    <tr>\n",
       "      <th>0</th>\n",
       "      <td>8300375</td>\n",
       "      <td>1</td>\n",
       "    </tr>\n",
       "    <tr>\n",
       "      <th>1</th>\n",
       "      <td>11685486</td>\n",
       "      <td>1</td>\n",
       "    </tr>\n",
       "    <tr>\n",
       "      <th>2</th>\n",
       "      <td>54447517</td>\n",
       "      <td>1</td>\n",
       "    </tr>\n",
       "    <tr>\n",
       "      <th>3</th>\n",
       "      <td>66685450</td>\n",
       "      <td>1</td>\n",
       "    </tr>\n",
       "    <tr>\n",
       "      <th>4</th>\n",
       "      <td>78758296</td>\n",
       "      <td>1</td>\n",
       "    </tr>\n",
       "  </tbody>\n",
       "</table>\n",
       "</div>"
      ],
      "text/plain": [
       "   visitor_id  transaction_id\n",
       "0     8300375               1\n",
       "1    11685486               1\n",
       "2    54447517               1\n",
       "3    66685450               1\n",
       "4    78758296               1"
      ]
     },
     "execution_count": 54,
     "metadata": {},
     "output_type": "execute_result"
    }
   ],
   "source": [
    "# заказы пользователей из группы А\n",
    "orders_by_users_A = (orders[orders['group'] == 'A']\n",
    "                    .groupby('visitor_id', as_index=False)\n",
    "                    .agg({'transaction_id': 'nunique'}))\n",
    "\n",
    "orders_by_users_A.head()"
   ]
  },
  {
   "cell_type": "code",
   "execution_count": 55,
   "metadata": {},
   "outputs": [
    {
     "data": {
      "text/html": [
       "<div>\n",
       "<style scoped>\n",
       "    .dataframe tbody tr th:only-of-type {\n",
       "        vertical-align: middle;\n",
       "    }\n",
       "\n",
       "    .dataframe tbody tr th {\n",
       "        vertical-align: top;\n",
       "    }\n",
       "\n",
       "    .dataframe thead th {\n",
       "        text-align: right;\n",
       "    }\n",
       "</style>\n",
       "<table border=\"1\" class=\"dataframe\">\n",
       "  <thead>\n",
       "    <tr style=\"text-align: right;\">\n",
       "      <th></th>\n",
       "      <th>visitor_id</th>\n",
       "      <th>transaction_id</th>\n",
       "    </tr>\n",
       "  </thead>\n",
       "  <tbody>\n",
       "    <tr>\n",
       "      <th>0</th>\n",
       "      <td>5114589</td>\n",
       "      <td>1</td>\n",
       "    </tr>\n",
       "    <tr>\n",
       "      <th>1</th>\n",
       "      <td>6958315</td>\n",
       "      <td>1</td>\n",
       "    </tr>\n",
       "    <tr>\n",
       "      <th>2</th>\n",
       "      <td>8300375</td>\n",
       "      <td>1</td>\n",
       "    </tr>\n",
       "    <tr>\n",
       "      <th>3</th>\n",
       "      <td>39475350</td>\n",
       "      <td>1</td>\n",
       "    </tr>\n",
       "    <tr>\n",
       "      <th>4</th>\n",
       "      <td>47206413</td>\n",
       "      <td>1</td>\n",
       "    </tr>\n",
       "  </tbody>\n",
       "</table>\n",
       "</div>"
      ],
      "text/plain": [
       "   visitor_id  transaction_id\n",
       "0     5114589               1\n",
       "1     6958315               1\n",
       "2     8300375               1\n",
       "3    39475350               1\n",
       "4    47206413               1"
      ]
     },
     "execution_count": 55,
     "metadata": {},
     "output_type": "execute_result"
    }
   ],
   "source": [
    "# заказы пользователей из группы В\n",
    "orders_by_users_B = (orders[orders['group'] == 'B']\n",
    "                    .groupby('visitor_id', as_index=False)\n",
    "                    .agg({'transaction_id': 'nunique'}))\n",
    "\n",
    "orders_by_users_B.head()"
   ]
  },
  {
   "cell_type": "markdown",
   "metadata": {},
   "source": [
    "Объявим переменные `sample_A` и `sample_B`, в которых пользователям из разных групп будет соответствовать количество заказов. Тем, кто ничего не заказал, будут соответствовать нули. Это нужно, чтобы подготовить выборки к проверке критерием Манна-Уитни."
   ]
  },
  {
   "cell_type": "code",
   "execution_count": 56,
   "metadata": {},
   "outputs": [],
   "source": [
    "# список индексов создадим функцией np.arange() и объединими последовательности функцией pd.concat()\n",
    "sample_A = pd.concat([orders_by_users_A['transaction_id'],pd.Series(0, index=np.arange(data['visitors_per_date_A'].sum() - len(orders_by_users_A['transaction_id'])), name='orders')],axis=0)\n",
    "\n",
    "sample_B = pd.concat([orders_by_users_B['transaction_id'],pd.Series(0, index=np.arange(data['visitors_per_date_B'].sum() - len(orders_by_users_B['transaction_id'])), name='orders')],axis=0)"
   ]
  },
  {
   "cell_type": "markdown",
   "metadata": {},
   "source": [
    "Далее применим тест Манна-Уитни. Сформулируем гипотезы:\n",
    "- Н0 - Статистически значимых различий в конверсии между группами нет\n",
    "- Н1 - Статистически значимые различия в конверсии между группами есть"
   ]
  },
  {
   "cell_type": "code",
   "execution_count": 57,
   "metadata": {},
   "outputs": [
    {
     "name": "stdout",
     "output_type": "stream",
     "text": [
      "alpha = 0.05\n",
      "p-value = 0.017\n",
      "Относительное различие 'B' и 'A' = 0.138\n"
     ]
    }
   ],
   "source": [
    "print(\"alpha =\", 0.05)\n",
    "print(\"p-value = {0:.3f}\".format(stats.mannwhitneyu(sample_A, sample_B)[1]))\n",
    "print(\"Относительное различие 'B' и 'A' = {0:.3f}\".format(sample_B.mean()/sample_A.mean()-1)) "
   ]
  },
  {
   "cell_type": "markdown",
   "metadata": {},
   "source": [
    "Видя результаты, что `p-value` меньше, чем `alpha`, можем сказать, что нулевую гипотезу мы отвергаем. Статистически значимые различия в конверсии между группами есть. По \"сырым\" данным, в конверсии, группа В выигрывает над группой А на 13,8 %."
   ]
  },
  {
   "cell_type": "markdown",
   "metadata": {},
   "source": [
    "Теперь проверим статистическую значимость различий в среднем чеке между сегментами:\n",
    "\n",
    "- Н0 - Различий в среднем чеке между группами нет\n",
    "- Н1 - Различия в среднем чеке между группами есть"
   ]
  },
  {
   "cell_type": "code",
   "execution_count": 58,
   "metadata": {},
   "outputs": [
    {
     "name": "stdout",
     "output_type": "stream",
     "text": [
      "alpha = 0.05\n",
      "p-value = 0.729\n",
      "Относительное различие 'B' и 'A' = 0.259\n"
     ]
    }
   ],
   "source": [
    "print(\"alpha =\", 0.05)\n",
    "print(\"p-value = {0:.3f}\".format(stats.mannwhitneyu(orders[orders['group']=='A']['revenue'], orders[orders['group']=='B']['revenue'])[1]))\n",
    "print(\"Относительное различие 'B' и 'A' = {0:.3f}\".format(orders[orders['group']=='B']['revenue'].mean()/orders[orders['group']=='A']['revenue'].mean()-1))"
   ]
  },
  {
   "cell_type": "markdown",
   "metadata": {},
   "source": [
    "Видим, что `p-value` значительно больше, чем `alpha`. Значит нулевую гипотезу мы не отвергаем. Статистически значимых различий в среднем чеке между группами нет. По \"сырым\" данным, в среднем чеке, группа В выигрывает над группой А на 25,9 %. Вероятно это связано с аномалиями, которые присутствуют в \"сырых\" данных."
   ]
  },
  {
   "cell_type": "markdown",
   "metadata": {},
   "source": [
    "### Расчет статистической значимости по \"очищенным\" данным."
   ]
  },
  {
   "cell_type": "markdown",
   "metadata": {},
   "source": [
    "Выше по проекту мы определили, что \"нормальными\" пользователями (без аномальных значений), мы обозначили тех, кто не совершал более 2-х покупок и кто совершал заказ не более, чем на 28 тыс. Поэтому для начала вычислим, сколько же у нас аномальных пользователей."
   ]
  },
  {
   "cell_type": "code",
   "execution_count": 59,
   "metadata": {},
   "outputs": [
    {
     "name": "stdout",
     "output_type": "stream",
     "text": [
      "1099    148427295\n",
      "18      199603092\n",
      "928     204675465\n",
      "23      237748145\n",
      "37      249864742\n",
      "Name: visitor_id, dtype: int64\n",
      "Количество аномальных пользователей: 74\n"
     ]
    }
   ],
   "source": [
    "users_with_many_orders = pd.concat(\n",
    "    [\n",
    "        orders_by_users_A[orders_by_users_A['transaction_id'] > 2]['visitor_id'],\n",
    "        orders_by_users_B[orders_by_users_B['transaction_id'] > 2]['visitor_id'],\n",
    "    ],\n",
    "    axis=0,\n",
    ")\n",
    "\n",
    "users_with_expensive_orders = orders[orders['revenue'] > 28000]['visitor_id']\n",
    "abnormal_users = (\n",
    "    pd.concat([users_with_many_orders, users_with_expensive_orders], axis=0)\n",
    "    .drop_duplicates()\n",
    "    .sort_values()\n",
    ")\n",
    "\n",
    "print(abnormal_users.head(5))\n",
    "print( \"Количество аномальных пользователей:\", abnormal_users.shape[0]) "
   ]
  },
  {
   "cell_type": "markdown",
   "metadata": {},
   "source": [
    "Далее подготовим отфильтрованные выборки количества заказов по пользователям по группам теста:"
   ]
  },
  {
   "cell_type": "code",
   "execution_count": 60,
   "metadata": {},
   "outputs": [],
   "source": [
    "sample_A_filtered = pd.concat(\n",
    "    [orders_by_users_A[\n",
    "            np.logical_not(orders_by_users_A['visitor_id'].isin(abnormal_users))\n",
    "        ]['transaction_id'],\n",
    "        pd.Series(\n",
    "            0,\n",
    "            index=np.arange(\n",
    "                data['visitors_per_date_A'].sum() - len(orders_by_users_A['transaction_id']) ),\n",
    "            name='orders', ), ], axis=0,)\n",
    "\n",
    "sample_B_filtered = pd.concat(\n",
    "    [ orders_by_users_B[\n",
    "            np.logical_not(orders_by_users_B['visitor_id'].isin(abnormal_users))\n",
    "        ]['transaction_id'],\n",
    "        pd.Series(\n",
    "            0,\n",
    "            index=np.arange(\n",
    "                data['visitors_per_date_B'].sum() - len(orders_by_users_B['transaction_id'])),\n",
    "            name='orders',), ], axis=0,)"
   ]
  },
  {
   "cell_type": "markdown",
   "metadata": {},
   "source": [
    "Далее применим тест Манна-Уитни уже на очищенные данные. Сформулируем гипотезы:\n",
    "- Н0 - Статистически значимых различий в конверсии между группами нет\n",
    "- Н1 - Статистически значимые различия в конверсии между группами есть"
   ]
  },
  {
   "cell_type": "code",
   "execution_count": 61,
   "metadata": {},
   "outputs": [
    {
     "name": "stdout",
     "output_type": "stream",
     "text": [
      "alpha = 0.05\n",
      "p-value = 0.013\n",
      "Относительное различие 'B' и 'A' = 0.173\n"
     ]
    }
   ],
   "source": [
    "print(\"alpha =\", 0.05)\n",
    "print(\"p-value = {0:.3f}\".format(stats.mannwhitneyu(sample_A_filtered, sample_B_filtered)[1]))\n",
    "print(\"Относительное различие 'B' и 'A' = {0:.3f}\".format(sample_B_filtered.mean()/sample_A_filtered.mean()-1))"
   ]
  },
  {
   "cell_type": "markdown",
   "metadata": {},
   "source": [
    "Видя результаты, что `p-value` меньше, чем `alpha`, можем сказать, что нулевую гипотезу мы так же отвергаем, как и с \"сырыми\" данными. Статистически значимые различия в конверсии между группами так же есть. По \"очищенным\" данным, в конверсии, группа В выигрывает над группой А на 17,3 %. Больше чем по \"сырым\" данным (13,8%)."
   ]
  },
  {
   "cell_type": "markdown",
   "metadata": {},
   "source": [
    "Далее посчитаем статистическую значимость различия средних чеков после удаления аномальных пользователей.\n",
    "\n",
    "- Н0 - Различий в среднем чеке между группами нет\n",
    "- Н1 - Различия в среднем чеке между группами есть"
   ]
  },
  {
   "cell_type": "code",
   "execution_count": 62,
   "metadata": {},
   "outputs": [
    {
     "name": "stdout",
     "output_type": "stream",
     "text": [
      "alpha = 0.05\n",
      "p-value = 0.738\n",
      "Относительное различие 'B' и 'A' = -0.020\n"
     ]
    }
   ],
   "source": [
    "print(\"alpha =\", 0.05)\n",
    "print(\"p-value = {0:.3f}\".format(\n",
    "        stats.mannwhitneyu(\n",
    "            orders[np.logical_and( orders['group'] == 'A',\n",
    "                    np.logical_not(orders['visitor_id'].isin(abnormal_users)),)]['revenue'],\n",
    "            orders[np.logical_and(orders['group'] == 'B',\n",
    "                    np.logical_not(orders['visitor_id'].isin(abnormal_users)), )]['revenue'],)[1]))\n",
    "\n",
    "print(\"Относительное различие 'B' и 'A' = {0:.3f}\".format(\n",
    "        orders[np.logical_and(\n",
    "                orders['group'] == 'B',\n",
    "                np.logical_not(orders['visitor_id'].isin(abnormal_users)),)]['revenue'].mean() \n",
    "                / orders[np.logical_and(orders['group'] == 'A',\n",
    "                np.logical_not(orders['visitor_id'].isin(abnormal_users)),)]['revenue'].mean()- 1))"
   ]
  },
  {
   "cell_type": "markdown",
   "metadata": {},
   "source": [
    "Видим, что `p-value` значительно больше, чем `alpha`, как и в \"сырых\" данных. Значит нулевую гипотезу мы не отвергаем. Статистически значимых различий в среднем чеке между группами нет. Но по \"очищенным\" данным, в среднем чеке, группа В немного уступает группе А (2 %). Это вероятно и связано с той самой аномалией, которая присутствует в \"сырых\" данных (покупка более чем на 1.2 млн)."
   ]
  },
  {
   "cell_type": "markdown",
   "metadata": {},
   "source": [
    "## Выводы по результатам теста"
   ]
  },
  {
   "cell_type": "markdown",
   "metadata": {},
   "source": [
    "Можем считать, что тест произведен успешно и закончить его.\n",
    "\n",
    "- Конверсия из пользователя в покупателя в группе В, статистически более значимо и выше, чем в группе А, как по \"сырым\" (13,8%) , так и по \"очищенным\" данным (17,3%)\n",
    "<br>\n",
    "\n",
    "- Так же было выяснено, что средний чек по заказам в обеих группах практически не отличается. По \"очищенным\" данным средний чек группы В был пониже на 2% среднего чека группы А, причиной которой является аномальный заказ более, чем на 1,2 млн по \"сырым\" данным (там отличие было на 25,9% относительно группы А)\n",
    "<br>\n",
    "\n",
    "Итоговый вывод: группа В эффективнее чем группа А по конверсии из пользователя в покупателя, что потенциально дает гораздо большую вероятность увеличения среднего чека, хоть и в данном эксперименте средние чеки фактически не имеют различий."
   ]
  }
 ],
 "metadata": {
  "ExecuteTimeLog": [
   {
    "duration": 1340,
    "start_time": "2022-09-23T07:29:45.475Z"
   },
   {
    "duration": 189,
    "start_time": "2022-09-23T07:33:39.434Z"
   },
   {
    "duration": 3,
    "start_time": "2022-09-23T07:37:35.782Z"
   },
   {
    "duration": 24,
    "start_time": "2022-09-23T07:39:07.474Z"
   },
   {
    "duration": 23,
    "start_time": "2022-09-23T07:39:41.648Z"
   },
   {
    "duration": 19,
    "start_time": "2022-09-23T07:40:31.676Z"
   },
   {
    "duration": 131,
    "start_time": "2022-09-23T07:41:00.564Z"
   },
   {
    "duration": 75,
    "start_time": "2022-09-23T07:41:18.418Z"
   },
   {
    "duration": 78,
    "start_time": "2022-09-23T07:41:24.944Z"
   },
   {
    "duration": 3,
    "start_time": "2022-09-23T07:41:27.456Z"
   },
   {
    "duration": 19,
    "start_time": "2022-09-23T07:41:27.602Z"
   },
   {
    "duration": 22,
    "start_time": "2022-09-23T07:41:27.728Z"
   },
   {
    "duration": 26,
    "start_time": "2022-09-23T07:41:28.312Z"
   },
   {
    "duration": 3,
    "start_time": "2022-09-23T07:45:55.675Z"
   },
   {
    "duration": 23,
    "start_time": "2022-09-23T07:45:56.235Z"
   },
   {
    "duration": 3,
    "start_time": "2022-09-23T08:21:25.291Z"
   },
   {
    "duration": 4,
    "start_time": "2022-09-23T08:21:34.775Z"
   },
   {
    "duration": 7,
    "start_time": "2022-09-23T08:21:49.382Z"
   },
   {
    "duration": 1107,
    "start_time": "2022-09-23T08:23:37.791Z"
   },
   {
    "duration": 76,
    "start_time": "2022-09-23T08:23:38.900Z"
   },
   {
    "duration": 3,
    "start_time": "2022-09-23T08:23:38.978Z"
   },
   {
    "duration": 29,
    "start_time": "2022-09-23T08:23:38.982Z"
   },
   {
    "duration": 20,
    "start_time": "2022-09-23T08:23:39.012Z"
   },
   {
    "duration": 19,
    "start_time": "2022-09-23T08:23:39.034Z"
   },
   {
    "duration": 3,
    "start_time": "2022-09-23T08:23:39.055Z"
   },
   {
    "duration": 7,
    "start_time": "2022-09-23T08:23:39.059Z"
   },
   {
    "duration": 44,
    "start_time": "2022-09-23T08:23:39.068Z"
   },
   {
    "duration": 2,
    "start_time": "2022-09-23T08:24:04.453Z"
   },
   {
    "duration": 6,
    "start_time": "2022-09-23T08:24:05.386Z"
   },
   {
    "duration": 3,
    "start_time": "2022-09-23T08:24:38.134Z"
   },
   {
    "duration": 8,
    "start_time": "2022-09-23T08:24:38.634Z"
   },
   {
    "duration": 1111,
    "start_time": "2022-09-23T08:24:46.725Z"
   },
   {
    "duration": 77,
    "start_time": "2022-09-23T08:24:47.838Z"
   },
   {
    "duration": 3,
    "start_time": "2022-09-23T08:24:47.916Z"
   },
   {
    "duration": 27,
    "start_time": "2022-09-23T08:24:47.921Z"
   },
   {
    "duration": 22,
    "start_time": "2022-09-23T08:24:47.950Z"
   },
   {
    "duration": 51,
    "start_time": "2022-09-23T08:24:47.973Z"
   },
   {
    "duration": 2,
    "start_time": "2022-09-23T08:24:48.026Z"
   },
   {
    "duration": 6,
    "start_time": "2022-09-23T08:24:48.030Z"
   },
   {
    "duration": 7,
    "start_time": "2022-09-23T08:24:48.037Z"
   },
   {
    "duration": 8,
    "start_time": "2022-09-23T08:24:48.047Z"
   },
   {
    "duration": 3,
    "start_time": "2022-09-23T08:25:19.328Z"
   },
   {
    "duration": 7,
    "start_time": "2022-09-23T08:25:20.638Z"
   },
   {
    "duration": 1145,
    "start_time": "2022-09-23T08:25:26.321Z"
   },
   {
    "duration": 85,
    "start_time": "2022-09-23T08:25:27.468Z"
   },
   {
    "duration": 3,
    "start_time": "2022-09-23T08:25:27.555Z"
   },
   {
    "duration": 37,
    "start_time": "2022-09-23T08:25:27.559Z"
   },
   {
    "duration": 30,
    "start_time": "2022-09-23T08:25:27.598Z"
   },
   {
    "duration": 36,
    "start_time": "2022-09-23T08:25:27.629Z"
   },
   {
    "duration": 8,
    "start_time": "2022-09-23T08:25:27.666Z"
   },
   {
    "duration": 9,
    "start_time": "2022-09-23T08:25:27.675Z"
   },
   {
    "duration": 11,
    "start_time": "2022-09-23T08:25:27.685Z"
   },
   {
    "duration": 32,
    "start_time": "2022-09-23T08:25:27.697Z"
   },
   {
    "duration": 8,
    "start_time": "2022-09-23T08:26:55.940Z"
   },
   {
    "duration": 7,
    "start_time": "2022-09-23T08:28:05.377Z"
   },
   {
    "duration": 10,
    "start_time": "2022-09-23T08:28:24.229Z"
   },
   {
    "duration": 8,
    "start_time": "2022-09-23T08:28:31.478Z"
   },
   {
    "duration": 7,
    "start_time": "2022-09-23T08:28:36.345Z"
   },
   {
    "duration": 8,
    "start_time": "2022-09-23T08:28:41.061Z"
   },
   {
    "duration": 11,
    "start_time": "2022-09-23T08:30:09.027Z"
   },
   {
    "duration": 14,
    "start_time": "2022-09-23T08:30:25.225Z"
   },
   {
    "duration": 13,
    "start_time": "2022-09-23T08:30:50.397Z"
   },
   {
    "duration": 14,
    "start_time": "2022-09-23T08:31:16.334Z"
   },
   {
    "duration": 344,
    "start_time": "2022-09-23T08:37:42.760Z"
   },
   {
    "duration": 11,
    "start_time": "2022-09-23T08:38:02.462Z"
   },
   {
    "duration": 9,
    "start_time": "2022-09-23T08:39:11.221Z"
   },
   {
    "duration": 1089,
    "start_time": "2022-09-23T08:39:37.465Z"
   },
   {
    "duration": 3,
    "start_time": "2022-09-23T08:39:38.834Z"
   },
   {
    "duration": 4,
    "start_time": "2022-09-23T08:42:28.717Z"
   },
   {
    "duration": 2,
    "start_time": "2022-09-23T08:42:29.906Z"
   },
   {
    "duration": 8,
    "start_time": "2022-09-23T08:42:30.510Z"
   },
   {
    "duration": 1098,
    "start_time": "2022-09-23T08:43:04.419Z"
   },
   {
    "duration": 76,
    "start_time": "2022-09-23T08:43:05.519Z"
   },
   {
    "duration": 3,
    "start_time": "2022-09-23T08:43:05.597Z"
   },
   {
    "duration": 25,
    "start_time": "2022-09-23T08:43:05.601Z"
   },
   {
    "duration": 22,
    "start_time": "2022-09-23T08:43:05.628Z"
   },
   {
    "duration": 20,
    "start_time": "2022-09-23T08:43:05.652Z"
   },
   {
    "duration": 2,
    "start_time": "2022-09-23T08:43:05.674Z"
   },
   {
    "duration": 32,
    "start_time": "2022-09-23T08:43:05.677Z"
   },
   {
    "duration": 14,
    "start_time": "2022-09-23T08:43:05.711Z"
   },
   {
    "duration": 5,
    "start_time": "2022-09-23T08:43:05.727Z"
   },
   {
    "duration": 12,
    "start_time": "2022-09-23T08:43:05.733Z"
   },
   {
    "duration": 23,
    "start_time": "2022-09-23T08:43:05.746Z"
   },
   {
    "duration": 12,
    "start_time": "2022-09-23T08:43:05.771Z"
   },
   {
    "duration": 4,
    "start_time": "2022-09-23T08:43:22.925Z"
   },
   {
    "duration": 1073,
    "start_time": "2022-09-23T08:43:30.137Z"
   },
   {
    "duration": 81,
    "start_time": "2022-09-23T08:43:31.212Z"
   },
   {
    "duration": 3,
    "start_time": "2022-09-23T08:43:31.295Z"
   },
   {
    "duration": 27,
    "start_time": "2022-09-23T08:43:31.300Z"
   },
   {
    "duration": 37,
    "start_time": "2022-09-23T08:43:31.328Z"
   },
   {
    "duration": 22,
    "start_time": "2022-09-23T08:43:31.366Z"
   },
   {
    "duration": 3,
    "start_time": "2022-09-23T08:43:31.389Z"
   },
   {
    "duration": 10,
    "start_time": "2022-09-23T08:43:31.393Z"
   },
   {
    "duration": 9,
    "start_time": "2022-09-23T08:43:31.408Z"
   },
   {
    "duration": 10,
    "start_time": "2022-09-23T08:43:31.419Z"
   },
   {
    "duration": 23,
    "start_time": "2022-09-23T08:43:31.430Z"
   },
   {
    "duration": 20,
    "start_time": "2022-09-23T08:43:31.454Z"
   },
   {
    "duration": 19,
    "start_time": "2022-09-23T08:43:31.475Z"
   },
   {
    "duration": 113,
    "start_time": "2022-09-23T08:43:40.568Z"
   },
   {
    "duration": 9,
    "start_time": "2022-09-23T08:43:44.335Z"
   },
   {
    "duration": 3,
    "start_time": "2022-09-23T08:46:21.701Z"
   },
   {
    "duration": 1135,
    "start_time": "2022-09-23T08:46:38.175Z"
   },
   {
    "duration": 78,
    "start_time": "2022-09-23T08:46:39.312Z"
   },
   {
    "duration": 4,
    "start_time": "2022-09-23T08:46:39.392Z"
   },
   {
    "duration": 28,
    "start_time": "2022-09-23T08:46:39.398Z"
   },
   {
    "duration": 20,
    "start_time": "2022-09-23T08:46:39.428Z"
   },
   {
    "duration": 21,
    "start_time": "2022-09-23T08:46:39.449Z"
   },
   {
    "duration": 4,
    "start_time": "2022-09-23T08:46:39.472Z"
   },
   {
    "duration": 34,
    "start_time": "2022-09-23T08:46:39.477Z"
   },
   {
    "duration": 5,
    "start_time": "2022-09-23T08:46:39.512Z"
   },
   {
    "duration": 8,
    "start_time": "2022-09-23T08:46:39.520Z"
   },
   {
    "duration": 14,
    "start_time": "2022-09-23T08:46:39.529Z"
   },
   {
    "duration": 11,
    "start_time": "2022-09-23T08:46:39.545Z"
   },
   {
    "duration": 7,
    "start_time": "2022-09-23T09:53:00.700Z"
   },
   {
    "duration": 8,
    "start_time": "2022-09-23T09:58:45.803Z"
   },
   {
    "duration": 5,
    "start_time": "2022-09-23T10:00:34.665Z"
   },
   {
    "duration": 9,
    "start_time": "2022-09-23T10:00:40.670Z"
   },
   {
    "duration": 4,
    "start_time": "2022-09-23T10:00:58.103Z"
   },
   {
    "duration": 9,
    "start_time": "2022-09-23T10:00:59.636Z"
   },
   {
    "duration": 10,
    "start_time": "2022-09-23T10:02:50.501Z"
   },
   {
    "duration": 9,
    "start_time": "2022-09-23T10:05:06.505Z"
   },
   {
    "duration": 3,
    "start_time": "2022-09-23T10:08:12.427Z"
   },
   {
    "duration": 112,
    "start_time": "2022-09-23T10:09:11.327Z"
   },
   {
    "duration": 1253,
    "start_time": "2022-09-23T10:09:21.905Z"
   },
   {
    "duration": 6,
    "start_time": "2022-09-23T10:09:37.923Z"
   },
   {
    "duration": 9,
    "start_time": "2022-09-23T10:09:44.345Z"
   },
   {
    "duration": 10,
    "start_time": "2022-09-23T10:09:59.881Z"
   },
   {
    "duration": 9,
    "start_time": "2022-09-23T10:10:00.643Z"
   },
   {
    "duration": 1042,
    "start_time": "2022-09-23T10:39:39.068Z"
   },
   {
    "duration": 76,
    "start_time": "2022-09-23T10:39:40.112Z"
   },
   {
    "duration": 3,
    "start_time": "2022-09-23T10:39:40.190Z"
   },
   {
    "duration": 25,
    "start_time": "2022-09-23T10:39:40.195Z"
   },
   {
    "duration": 19,
    "start_time": "2022-09-23T10:39:40.222Z"
   },
   {
    "duration": 19,
    "start_time": "2022-09-23T10:39:40.243Z"
   },
   {
    "duration": 3,
    "start_time": "2022-09-23T10:39:40.263Z"
   },
   {
    "duration": 6,
    "start_time": "2022-09-23T10:39:40.268Z"
   },
   {
    "duration": 3,
    "start_time": "2022-09-23T10:39:40.309Z"
   },
   {
    "duration": 8,
    "start_time": "2022-09-23T10:39:40.315Z"
   },
   {
    "duration": 19,
    "start_time": "2022-09-23T10:39:40.324Z"
   },
   {
    "duration": 13,
    "start_time": "2022-09-23T10:39:40.345Z"
   },
   {
    "duration": 11,
    "start_time": "2022-09-23T10:39:40.360Z"
   },
   {
    "duration": 10,
    "start_time": "2022-09-23T10:39:40.373Z"
   },
   {
    "duration": 33,
    "start_time": "2022-09-23T10:39:40.384Z"
   },
   {
    "duration": 11,
    "start_time": "2022-09-23T10:39:40.419Z"
   },
   {
    "duration": 16,
    "start_time": "2022-09-23T10:39:40.432Z"
   },
   {
    "duration": 2,
    "start_time": "2022-09-23T10:44:59.798Z"
   },
   {
    "duration": 3,
    "start_time": "2022-09-23T10:46:42.034Z"
   },
   {
    "duration": 9,
    "start_time": "2022-09-23T10:46:45.058Z"
   },
   {
    "duration": 1079,
    "start_time": "2022-09-23T10:47:59.537Z"
   },
   {
    "duration": 80,
    "start_time": "2022-09-23T10:48:00.617Z"
   },
   {
    "duration": 3,
    "start_time": "2022-09-23T10:48:00.699Z"
   },
   {
    "duration": 35,
    "start_time": "2022-09-23T10:48:00.704Z"
   },
   {
    "duration": 20,
    "start_time": "2022-09-23T10:48:00.740Z"
   },
   {
    "duration": 21,
    "start_time": "2022-09-23T10:48:00.761Z"
   },
   {
    "duration": 12,
    "start_time": "2022-09-23T10:48:00.784Z"
   },
   {
    "duration": 12,
    "start_time": "2022-09-23T10:48:00.798Z"
   },
   {
    "duration": 34,
    "start_time": "2022-09-23T10:48:00.811Z"
   },
   {
    "duration": 32,
    "start_time": "2022-09-23T10:48:00.847Z"
   },
   {
    "duration": 26,
    "start_time": "2022-09-23T10:48:00.880Z"
   },
   {
    "duration": 39,
    "start_time": "2022-09-23T10:48:00.908Z"
   },
   {
    "duration": 11,
    "start_time": "2022-09-23T10:48:00.948Z"
   },
   {
    "duration": 26,
    "start_time": "2022-09-23T10:48:00.961Z"
   },
   {
    "duration": 33,
    "start_time": "2022-09-23T10:48:00.989Z"
   },
   {
    "duration": 32,
    "start_time": "2022-09-23T10:48:01.023Z"
   },
   {
    "duration": 15,
    "start_time": "2022-09-23T10:48:01.056Z"
   },
   {
    "duration": 9,
    "start_time": "2022-09-23T10:48:38.353Z"
   },
   {
    "duration": 3,
    "start_time": "2022-09-23T10:50:06.336Z"
   },
   {
    "duration": 3,
    "start_time": "2022-09-23T10:50:07.279Z"
   },
   {
    "duration": 114,
    "start_time": "2022-09-23T10:51:53.025Z"
   },
   {
    "duration": 510,
    "start_time": "2022-09-23T10:52:04.597Z"
   },
   {
    "duration": 139,
    "start_time": "2022-09-23T10:52:18.524Z"
   },
   {
    "duration": 14,
    "start_time": "2022-09-23T10:52:23.340Z"
   },
   {
    "duration": 133,
    "start_time": "2022-09-23T10:52:37.022Z"
   },
   {
    "duration": 138,
    "start_time": "2022-09-23T10:52:50.202Z"
   },
   {
    "duration": 143,
    "start_time": "2022-09-23T10:53:18.603Z"
   },
   {
    "duration": 147,
    "start_time": "2022-09-23T10:53:24.602Z"
   },
   {
    "duration": 168,
    "start_time": "2022-09-23T10:53:34.100Z"
   },
   {
    "duration": 147,
    "start_time": "2022-09-23T10:53:45.295Z"
   },
   {
    "duration": 11,
    "start_time": "2022-09-23T10:54:04.410Z"
   },
   {
    "duration": 49,
    "start_time": "2022-09-23T10:54:34.333Z"
   },
   {
    "duration": 47,
    "start_time": "2022-09-23T10:54:38.863Z"
   },
   {
    "duration": 11,
    "start_time": "2022-09-23T10:54:43.582Z"
   },
   {
    "duration": 368,
    "start_time": "2022-09-23T10:54:52.117Z"
   },
   {
    "duration": 148,
    "start_time": "2022-09-23T10:55:09.705Z"
   },
   {
    "duration": 9,
    "start_time": "2022-09-23T10:55:47.087Z"
   },
   {
    "duration": 8,
    "start_time": "2022-09-23T10:56:27.941Z"
   },
   {
    "duration": 212,
    "start_time": "2022-09-23T10:56:34.543Z"
   },
   {
    "duration": 10,
    "start_time": "2022-09-23T10:56:44.485Z"
   },
   {
    "duration": 5,
    "start_time": "2022-09-23T11:14:39.683Z"
   },
   {
    "duration": 11,
    "start_time": "2022-09-23T11:14:49.455Z"
   },
   {
    "duration": 8,
    "start_time": "2022-09-23T11:14:52.248Z"
   },
   {
    "duration": 1099,
    "start_time": "2022-09-23T11:23:19.055Z"
   },
   {
    "duration": 801,
    "start_time": "2022-09-23T11:23:32.274Z"
   },
   {
    "duration": 11,
    "start_time": "2022-09-23T11:23:39.916Z"
   },
   {
    "duration": 9,
    "start_time": "2022-09-23T11:24:39.240Z"
   },
   {
    "duration": 8,
    "start_time": "2022-09-23T11:24:43.697Z"
   },
   {
    "duration": 1409,
    "start_time": "2022-09-23T11:24:47.003Z"
   },
   {
    "duration": 6,
    "start_time": "2022-09-23T11:24:51.690Z"
   },
   {
    "duration": 9,
    "start_time": "2022-09-23T11:24:54.695Z"
   },
   {
    "duration": 9,
    "start_time": "2022-09-23T11:24:56.734Z"
   },
   {
    "duration": 72,
    "start_time": "2022-09-23T11:25:07.675Z"
   },
   {
    "duration": 406,
    "start_time": "2022-09-23T11:25:18.130Z"
   },
   {
    "duration": 10,
    "start_time": "2022-09-23T11:25:55.485Z"
   },
   {
    "duration": 6,
    "start_time": "2022-09-23T11:26:03.397Z"
   },
   {
    "duration": 4,
    "start_time": "2022-09-23T11:26:15.896Z"
   },
   {
    "duration": 5,
    "start_time": "2022-09-23T11:26:21.288Z"
   },
   {
    "duration": 6,
    "start_time": "2022-09-23T11:28:34.495Z"
   },
   {
    "duration": 5,
    "start_time": "2022-09-23T11:28:46.277Z"
   },
   {
    "duration": 55,
    "start_time": "2022-09-23T11:36:30.927Z"
   },
   {
    "duration": 4,
    "start_time": "2022-09-23T11:36:39.112Z"
   },
   {
    "duration": 50,
    "start_time": "2022-09-26T08:56:49.780Z"
   },
   {
    "duration": 1369,
    "start_time": "2022-09-26T08:57:02.751Z"
   },
   {
    "duration": 219,
    "start_time": "2022-09-26T08:57:04.123Z"
   },
   {
    "duration": 4,
    "start_time": "2022-09-26T08:57:04.343Z"
   },
   {
    "duration": 27,
    "start_time": "2022-09-26T08:57:04.349Z"
   },
   {
    "duration": 23,
    "start_time": "2022-09-26T08:57:04.378Z"
   },
   {
    "duration": 19,
    "start_time": "2022-09-26T08:57:04.403Z"
   },
   {
    "duration": 3,
    "start_time": "2022-09-26T08:57:04.423Z"
   },
   {
    "duration": 15,
    "start_time": "2022-09-26T08:57:04.427Z"
   },
   {
    "duration": 5,
    "start_time": "2022-09-26T08:57:04.444Z"
   },
   {
    "duration": 11,
    "start_time": "2022-09-26T08:57:04.452Z"
   },
   {
    "duration": 15,
    "start_time": "2022-09-26T08:57:04.490Z"
   },
   {
    "duration": 18,
    "start_time": "2022-09-26T08:57:04.507Z"
   },
   {
    "duration": 16,
    "start_time": "2022-09-26T08:57:04.526Z"
   },
   {
    "duration": 5,
    "start_time": "2022-09-26T08:57:04.544Z"
   },
   {
    "duration": 8,
    "start_time": "2022-09-26T08:57:04.551Z"
   },
   {
    "duration": 31,
    "start_time": "2022-09-26T08:57:04.560Z"
   },
   {
    "duration": 8,
    "start_time": "2022-09-26T08:57:04.593Z"
   },
   {
    "duration": 16,
    "start_time": "2022-09-26T08:57:04.603Z"
   },
   {
    "duration": 13,
    "start_time": "2022-09-26T08:57:04.621Z"
   },
   {
    "duration": 9,
    "start_time": "2022-09-26T08:57:04.635Z"
   },
   {
    "duration": 10,
    "start_time": "2022-09-26T08:57:08.308Z"
   },
   {
    "duration": 6,
    "start_time": "2022-09-26T09:03:41.504Z"
   },
   {
    "duration": 1216,
    "start_time": "2022-09-26T09:03:53.953Z"
   },
   {
    "duration": 81,
    "start_time": "2022-09-26T09:03:55.172Z"
   },
   {
    "duration": 4,
    "start_time": "2022-09-26T09:03:55.255Z"
   },
   {
    "duration": 30,
    "start_time": "2022-09-26T09:03:55.260Z"
   },
   {
    "duration": 25,
    "start_time": "2022-09-26T09:03:55.293Z"
   },
   {
    "duration": 25,
    "start_time": "2022-09-26T09:03:55.320Z"
   },
   {
    "duration": 4,
    "start_time": "2022-09-26T09:03:55.346Z"
   },
   {
    "duration": 37,
    "start_time": "2022-09-26T09:03:55.352Z"
   },
   {
    "duration": 5,
    "start_time": "2022-09-26T09:03:55.392Z"
   },
   {
    "duration": 10,
    "start_time": "2022-09-26T09:03:55.399Z"
   },
   {
    "duration": 17,
    "start_time": "2022-09-26T09:03:55.411Z"
   },
   {
    "duration": 14,
    "start_time": "2022-09-26T09:03:55.429Z"
   },
   {
    "duration": 51,
    "start_time": "2022-09-26T09:03:55.444Z"
   },
   {
    "duration": 17,
    "start_time": "2022-09-26T09:03:55.497Z"
   },
   {
    "duration": 13,
    "start_time": "2022-09-26T09:03:55.515Z"
   },
   {
    "duration": 10,
    "start_time": "2022-09-26T09:03:55.530Z"
   },
   {
    "duration": 7,
    "start_time": "2022-09-26T09:03:55.542Z"
   },
   {
    "duration": 12,
    "start_time": "2022-09-26T09:03:55.551Z"
   },
   {
    "duration": 7,
    "start_time": "2022-09-26T09:03:55.565Z"
   },
   {
    "duration": 15,
    "start_time": "2022-09-26T09:03:55.574Z"
   },
   {
    "duration": 11,
    "start_time": "2022-09-26T09:03:55.592Z"
   },
   {
    "duration": 7,
    "start_time": "2022-09-26T09:03:55.605Z"
   },
   {
    "duration": 11,
    "start_time": "2022-09-26T09:03:55.614Z"
   },
   {
    "duration": 101,
    "start_time": "2022-09-26T09:09:43.193Z"
   },
   {
    "duration": 28,
    "start_time": "2022-09-26T09:09:57.401Z"
   },
   {
    "duration": 25,
    "start_time": "2022-09-26T09:11:15.169Z"
   },
   {
    "duration": 176,
    "start_time": "2022-09-26T09:11:20.187Z"
   },
   {
    "duration": 12,
    "start_time": "2022-09-26T09:11:30.639Z"
   },
   {
    "duration": 174,
    "start_time": "2022-09-26T09:12:54.520Z"
   },
   {
    "duration": 139,
    "start_time": "2022-09-26T09:16:50.388Z"
   },
   {
    "duration": 11,
    "start_time": "2022-09-26T09:16:53.985Z"
   },
   {
    "duration": 7,
    "start_time": "2022-09-26T09:26:38.649Z"
   },
   {
    "duration": 14,
    "start_time": "2022-09-26T09:26:42.241Z"
   },
   {
    "duration": 8,
    "start_time": "2022-09-26T09:28:13.462Z"
   },
   {
    "duration": 9,
    "start_time": "2022-09-26T09:28:18.701Z"
   },
   {
    "duration": 8,
    "start_time": "2022-09-26T09:28:24.430Z"
   },
   {
    "duration": 9,
    "start_time": "2022-09-26T09:28:29.028Z"
   },
   {
    "duration": 163,
    "start_time": "2022-09-26T09:36:20.393Z"
   },
   {
    "duration": 17,
    "start_time": "2022-09-26T09:39:02.012Z"
   },
   {
    "duration": 7,
    "start_time": "2022-09-26T09:39:22.454Z"
   },
   {
    "duration": 9,
    "start_time": "2022-09-26T09:39:25.991Z"
   },
   {
    "duration": 6,
    "start_time": "2022-09-26T09:41:05.681Z"
   },
   {
    "duration": 7,
    "start_time": "2022-09-26T09:41:12.426Z"
   },
   {
    "duration": 139,
    "start_time": "2022-09-26T09:41:51.164Z"
   },
   {
    "duration": 240,
    "start_time": "2022-09-26T09:42:33.557Z"
   },
   {
    "duration": 188,
    "start_time": "2022-09-26T09:42:42.876Z"
   },
   {
    "duration": 189,
    "start_time": "2022-09-26T09:42:50.468Z"
   },
   {
    "duration": 186,
    "start_time": "2022-09-26T09:42:56.846Z"
   },
   {
    "duration": 175,
    "start_time": "2022-09-26T09:55:37.498Z"
   },
   {
    "duration": 222,
    "start_time": "2022-09-26T09:55:43.397Z"
   },
   {
    "duration": 11,
    "start_time": "2022-09-26T09:57:11.663Z"
   },
   {
    "duration": 9,
    "start_time": "2022-09-26T09:57:58.341Z"
   },
   {
    "duration": 202,
    "start_time": "2022-09-26T09:58:14.925Z"
   },
   {
    "duration": 252,
    "start_time": "2022-09-26T09:58:19.047Z"
   },
   {
    "duration": 191,
    "start_time": "2022-09-26T09:58:24.210Z"
   },
   {
    "duration": 178,
    "start_time": "2022-09-26T09:58:30.343Z"
   },
   {
    "duration": 191,
    "start_time": "2022-09-26T09:59:02.782Z"
   },
   {
    "duration": 234,
    "start_time": "2022-09-26T10:00:11.724Z"
   },
   {
    "duration": 213,
    "start_time": "2022-09-26T10:00:15.019Z"
   },
   {
    "duration": 244,
    "start_time": "2022-09-26T10:00:21.288Z"
   },
   {
    "duration": 231,
    "start_time": "2022-09-26T10:00:26.016Z"
   },
   {
    "duration": 227,
    "start_time": "2022-09-26T10:02:18.269Z"
   },
   {
    "duration": 218,
    "start_time": "2022-09-26T10:02:29.720Z"
   },
   {
    "duration": 224,
    "start_time": "2022-09-26T10:02:44.826Z"
   },
   {
    "duration": 274,
    "start_time": "2022-09-26T10:05:19.102Z"
   },
   {
    "duration": 215,
    "start_time": "2022-09-26T10:05:27.533Z"
   },
   {
    "duration": 223,
    "start_time": "2022-09-26T10:19:10.256Z"
   },
   {
    "duration": 6,
    "start_time": "2022-09-26T10:39:53.055Z"
   },
   {
    "duration": 18,
    "start_time": "2022-09-26T10:39:55.781Z"
   },
   {
    "duration": 1436,
    "start_time": "2022-09-26T10:41:30.606Z"
   },
   {
    "duration": 1339,
    "start_time": "2022-09-26T10:41:48.243Z"
   },
   {
    "duration": 3,
    "start_time": "2022-09-26T10:43:16.663Z"
   },
   {
    "duration": 14,
    "start_time": "2022-09-26T10:43:20.097Z"
   },
   {
    "duration": 8,
    "start_time": "2022-09-26T10:44:07.765Z"
   },
   {
    "duration": 6,
    "start_time": "2022-09-26T10:45:32.445Z"
   },
   {
    "duration": 3,
    "start_time": "2022-09-26T10:45:34.271Z"
   },
   {
    "duration": 8,
    "start_time": "2022-09-26T10:45:34.703Z"
   },
   {
    "duration": 1269,
    "start_time": "2022-09-26T10:45:40.917Z"
   },
   {
    "duration": 83,
    "start_time": "2022-09-26T10:45:42.188Z"
   },
   {
    "duration": 3,
    "start_time": "2022-09-26T10:45:42.273Z"
   },
   {
    "duration": 63,
    "start_time": "2022-09-26T10:45:42.278Z"
   },
   {
    "duration": 23,
    "start_time": "2022-09-26T10:45:42.343Z"
   },
   {
    "duration": 35,
    "start_time": "2022-09-26T10:45:42.368Z"
   },
   {
    "duration": 4,
    "start_time": "2022-09-26T10:45:42.405Z"
   },
   {
    "duration": 7,
    "start_time": "2022-09-26T10:45:42.410Z"
   },
   {
    "duration": 10,
    "start_time": "2022-09-26T10:45:42.418Z"
   },
   {
    "duration": 10,
    "start_time": "2022-09-26T10:45:42.430Z"
   },
   {
    "duration": 16,
    "start_time": "2022-09-26T10:45:42.442Z"
   },
   {
    "duration": 45,
    "start_time": "2022-09-26T10:45:42.460Z"
   },
   {
    "duration": 8,
    "start_time": "2022-09-26T10:45:42.507Z"
   },
   {
    "duration": 5,
    "start_time": "2022-09-26T10:45:42.518Z"
   },
   {
    "duration": 9,
    "start_time": "2022-09-26T10:45:42.525Z"
   },
   {
    "duration": 10,
    "start_time": "2022-09-26T10:45:42.535Z"
   },
   {
    "duration": 8,
    "start_time": "2022-09-26T10:45:42.547Z"
   },
   {
    "duration": 45,
    "start_time": "2022-09-26T10:45:42.557Z"
   },
   {
    "duration": 6,
    "start_time": "2022-09-26T10:45:42.604Z"
   },
   {
    "duration": 10,
    "start_time": "2022-09-26T10:45:42.612Z"
   },
   {
    "duration": 9,
    "start_time": "2022-09-26T10:45:42.624Z"
   },
   {
    "duration": 180,
    "start_time": "2022-09-26T10:45:42.635Z"
   },
   {
    "duration": 9,
    "start_time": "2022-09-26T10:45:42.817Z"
   },
   {
    "duration": 133,
    "start_time": "2022-09-26T10:45:42.828Z"
   },
   {
    "duration": 7,
    "start_time": "2022-09-26T10:45:42.963Z"
   },
   {
    "duration": 23,
    "start_time": "2022-09-26T10:45:42.972Z"
   },
   {
    "duration": 10,
    "start_time": "2022-09-26T10:45:42.997Z"
   },
   {
    "duration": 9,
    "start_time": "2022-09-26T10:45:43.009Z"
   },
   {
    "duration": 10,
    "start_time": "2022-09-26T10:45:43.019Z"
   },
   {
    "duration": 9,
    "start_time": "2022-09-26T10:45:43.030Z"
   },
   {
    "duration": 351,
    "start_time": "2022-09-26T10:45:43.040Z"
   },
   {
    "duration": 241,
    "start_time": "2022-09-26T10:45:43.395Z"
   },
   {
    "duration": 6,
    "start_time": "2022-09-26T10:45:43.638Z"
   },
   {
    "duration": 8,
    "start_time": "2022-09-26T10:45:43.646Z"
   },
   {
    "duration": 11,
    "start_time": "2022-09-26T10:45:43.656Z"
   },
   {
    "duration": 164,
    "start_time": "2022-09-26T11:20:39.718Z"
   },
   {
    "duration": 195,
    "start_time": "2022-09-26T11:20:53.310Z"
   },
   {
    "duration": 190,
    "start_time": "2022-09-26T11:21:28.928Z"
   },
   {
    "duration": 213,
    "start_time": "2022-09-26T11:21:41.308Z"
   },
   {
    "duration": 197,
    "start_time": "2022-09-26T11:21:45.813Z"
   },
   {
    "duration": 415,
    "start_time": "2022-09-26T11:22:00.998Z"
   },
   {
    "duration": 302,
    "start_time": "2022-09-26T11:22:14.326Z"
   },
   {
    "duration": 314,
    "start_time": "2022-09-26T11:22:56.102Z"
   },
   {
    "duration": 220,
    "start_time": "2022-09-26T11:42:14.380Z"
   },
   {
    "duration": 292,
    "start_time": "2022-09-26T11:43:05.108Z"
   },
   {
    "duration": 345,
    "start_time": "2022-09-26T11:43:09.386Z"
   },
   {
    "duration": 317,
    "start_time": "2022-09-26T11:43:26.561Z"
   },
   {
    "duration": 322,
    "start_time": "2022-09-26T11:43:33.350Z"
   },
   {
    "duration": 305,
    "start_time": "2022-09-26T11:43:39.940Z"
   },
   {
    "duration": 343,
    "start_time": "2022-09-26T11:43:47.993Z"
   },
   {
    "duration": 343,
    "start_time": "2022-09-26T11:46:04.864Z"
   },
   {
    "duration": 344,
    "start_time": "2022-09-26T11:46:10.978Z"
   },
   {
    "duration": 281,
    "start_time": "2022-09-26T11:47:28.203Z"
   },
   {
    "duration": 207,
    "start_time": "2022-09-26T11:47:43.753Z"
   },
   {
    "duration": 215,
    "start_time": "2022-09-26T11:48:34.077Z"
   },
   {
    "duration": 228,
    "start_time": "2022-09-26T11:48:50.241Z"
   },
   {
    "duration": 246,
    "start_time": "2022-09-26T11:49:09.634Z"
   },
   {
    "duration": 335,
    "start_time": "2022-09-26T11:49:29.962Z"
   },
   {
    "duration": 4,
    "start_time": "2022-09-26T12:22:49.267Z"
   },
   {
    "duration": 14,
    "start_time": "2022-09-26T12:22:53.094Z"
   },
   {
    "duration": 10,
    "start_time": "2022-09-26T12:23:07.714Z"
   },
   {
    "duration": 5,
    "start_time": "2022-09-26T12:41:35.682Z"
   },
   {
    "duration": 195,
    "start_time": "2022-09-26T12:42:48.443Z"
   },
   {
    "duration": 217,
    "start_time": "2022-09-26T12:43:00.223Z"
   },
   {
    "duration": 236,
    "start_time": "2022-09-26T12:43:40.526Z"
   },
   {
    "duration": 238,
    "start_time": "2022-09-26T12:43:58.074Z"
   },
   {
    "duration": 306,
    "start_time": "2022-09-26T12:58:57.703Z"
   },
   {
    "duration": 432,
    "start_time": "2022-09-26T12:59:07.585Z"
   },
   {
    "duration": 9,
    "start_time": "2022-09-26T13:18:29.009Z"
   },
   {
    "duration": 11,
    "start_time": "2022-09-26T13:18:33.840Z"
   },
   {
    "duration": 3,
    "start_time": "2022-09-26T13:19:21.023Z"
   },
   {
    "duration": 11,
    "start_time": "2022-09-26T13:19:24.708Z"
   },
   {
    "duration": 8,
    "start_time": "2022-09-26T13:20:05.590Z"
   },
   {
    "duration": 3,
    "start_time": "2022-09-26T13:20:06.137Z"
   },
   {
    "duration": 11,
    "start_time": "2022-09-26T13:20:06.615Z"
   },
   {
    "duration": 9,
    "start_time": "2022-09-26T13:20:14.177Z"
   },
   {
    "duration": 2059,
    "start_time": "2022-09-26T13:21:01.018Z"
   },
   {
    "duration": 305,
    "start_time": "2022-09-26T13:21:25.315Z"
   },
   {
    "duration": 292,
    "start_time": "2022-09-26T13:22:47.127Z"
   },
   {
    "duration": 359,
    "start_time": "2022-09-26T13:23:03.074Z"
   },
   {
    "duration": 334,
    "start_time": "2022-09-26T13:24:20.985Z"
   },
   {
    "duration": 311,
    "start_time": "2022-09-26T13:24:43.452Z"
   },
   {
    "duration": 346,
    "start_time": "2022-09-26T13:34:00.699Z"
   },
   {
    "duration": 43,
    "start_time": "2022-09-27T08:28:00.021Z"
   },
   {
    "duration": 1249,
    "start_time": "2022-09-27T08:28:09.358Z"
   },
   {
    "duration": 193,
    "start_time": "2022-09-27T08:28:10.609Z"
   },
   {
    "duration": 4,
    "start_time": "2022-09-27T08:28:10.803Z"
   },
   {
    "duration": 25,
    "start_time": "2022-09-27T08:28:10.809Z"
   },
   {
    "duration": 18,
    "start_time": "2022-09-27T08:28:10.835Z"
   },
   {
    "duration": 16,
    "start_time": "2022-09-27T08:28:10.854Z"
   },
   {
    "duration": 3,
    "start_time": "2022-09-27T08:28:10.871Z"
   },
   {
    "duration": 5,
    "start_time": "2022-09-27T08:28:10.875Z"
   },
   {
    "duration": 5,
    "start_time": "2022-09-27T08:28:10.882Z"
   },
   {
    "duration": 36,
    "start_time": "2022-09-27T08:28:10.889Z"
   },
   {
    "duration": 13,
    "start_time": "2022-09-27T08:28:10.926Z"
   },
   {
    "duration": 13,
    "start_time": "2022-09-27T08:28:10.940Z"
   },
   {
    "duration": 9,
    "start_time": "2022-09-27T08:28:10.954Z"
   },
   {
    "duration": 5,
    "start_time": "2022-09-27T08:28:10.964Z"
   },
   {
    "duration": 12,
    "start_time": "2022-09-27T08:28:10.970Z"
   },
   {
    "duration": 11,
    "start_time": "2022-09-27T08:28:10.983Z"
   },
   {
    "duration": 8,
    "start_time": "2022-09-27T08:28:10.995Z"
   },
   {
    "duration": 11,
    "start_time": "2022-09-27T08:28:11.022Z"
   },
   {
    "duration": 12,
    "start_time": "2022-09-27T08:28:11.035Z"
   },
   {
    "duration": 15,
    "start_time": "2022-09-27T08:28:11.049Z"
   },
   {
    "duration": 13,
    "start_time": "2022-09-27T08:28:11.066Z"
   },
   {
    "duration": 157,
    "start_time": "2022-09-27T08:28:11.080Z"
   },
   {
    "duration": 7,
    "start_time": "2022-09-27T08:28:11.239Z"
   },
   {
    "duration": 115,
    "start_time": "2022-09-27T08:28:11.247Z"
   },
   {
    "duration": 9,
    "start_time": "2022-09-27T08:28:11.363Z"
   },
   {
    "duration": 10,
    "start_time": "2022-09-27T08:28:11.373Z"
   },
   {
    "duration": 14,
    "start_time": "2022-09-27T08:28:11.384Z"
   },
   {
    "duration": 25,
    "start_time": "2022-09-27T08:28:11.401Z"
   },
   {
    "duration": 9,
    "start_time": "2022-09-27T08:28:11.427Z"
   },
   {
    "duration": 9,
    "start_time": "2022-09-27T08:28:11.438Z"
   },
   {
    "duration": 269,
    "start_time": "2022-09-27T08:28:11.448Z"
   },
   {
    "duration": 184,
    "start_time": "2022-09-27T08:28:11.718Z"
   },
   {
    "duration": 5,
    "start_time": "2022-09-27T08:28:11.904Z"
   },
   {
    "duration": 11,
    "start_time": "2022-09-27T08:28:11.910Z"
   },
   {
    "duration": 10,
    "start_time": "2022-09-27T08:28:11.923Z"
   },
   {
    "duration": 318,
    "start_time": "2022-09-27T08:28:11.934Z"
   },
   {
    "duration": 3,
    "start_time": "2022-09-27T08:28:12.253Z"
   },
   {
    "duration": 12,
    "start_time": "2022-09-27T08:28:12.258Z"
   },
   {
    "duration": 7,
    "start_time": "2022-09-27T08:28:12.271Z"
   },
   {
    "duration": 202,
    "start_time": "2022-09-27T08:28:12.279Z"
   },
   {
    "duration": 7,
    "start_time": "2022-09-27T08:28:12.483Z"
   },
   {
    "duration": 9,
    "start_time": "2022-09-27T08:28:12.492Z"
   },
   {
    "duration": 10,
    "start_time": "2022-09-27T08:28:12.503Z"
   },
   {
    "duration": 311,
    "start_time": "2022-09-27T08:28:12.522Z"
   },
   {
    "duration": 5,
    "start_time": "2022-09-27T08:28:12.834Z"
   },
   {
    "duration": 8,
    "start_time": "2022-09-27T08:28:18.124Z"
   },
   {
    "duration": 7,
    "start_time": "2022-09-27T08:28:23.184Z"
   },
   {
    "duration": 8,
    "start_time": "2022-09-27T08:29:30.573Z"
   },
   {
    "duration": 7,
    "start_time": "2022-09-27T08:29:39.963Z"
   },
   {
    "duration": 115,
    "start_time": "2022-09-27T08:35:52.226Z"
   },
   {
    "duration": 215,
    "start_time": "2022-09-27T08:35:56.276Z"
   },
   {
    "duration": 93,
    "start_time": "2022-09-27T08:35:59.116Z"
   },
   {
    "duration": 189,
    "start_time": "2022-09-27T08:36:53.604Z"
   },
   {
    "duration": 133,
    "start_time": "2022-09-27T08:37:07.613Z"
   },
   {
    "duration": 119,
    "start_time": "2022-09-27T08:37:15.145Z"
   },
   {
    "duration": 146,
    "start_time": "2022-09-27T08:37:51.472Z"
   },
   {
    "duration": 124,
    "start_time": "2022-09-27T08:37:55.124Z"
   },
   {
    "duration": 127,
    "start_time": "2022-09-27T08:41:06.748Z"
   },
   {
    "duration": 86,
    "start_time": "2022-09-27T08:47:52.992Z"
   },
   {
    "duration": 5,
    "start_time": "2022-09-27T08:48:00.991Z"
   },
   {
    "duration": 6,
    "start_time": "2022-09-27T08:49:27.829Z"
   },
   {
    "duration": 8,
    "start_time": "2022-09-27T08:49:31.000Z"
   },
   {
    "duration": 4,
    "start_time": "2022-09-27T08:49:38.002Z"
   },
   {
    "duration": 117,
    "start_time": "2022-09-27T09:02:51.213Z"
   },
   {
    "duration": 127,
    "start_time": "2022-09-27T09:03:01.088Z"
   },
   {
    "duration": 140,
    "start_time": "2022-09-27T09:03:12.968Z"
   },
   {
    "duration": 133,
    "start_time": "2022-09-27T09:05:10.706Z"
   },
   {
    "duration": 5,
    "start_time": "2022-09-27T09:22:29.967Z"
   },
   {
    "duration": 9,
    "start_time": "2022-09-27T11:08:12.291Z"
   },
   {
    "duration": 11,
    "start_time": "2022-09-27T11:08:15.749Z"
   },
   {
    "duration": 10,
    "start_time": "2022-09-27T11:08:48.559Z"
   },
   {
    "duration": 1279,
    "start_time": "2022-09-28T08:46:12.126Z"
   },
   {
    "duration": 202,
    "start_time": "2022-09-28T08:46:13.407Z"
   },
   {
    "duration": 3,
    "start_time": "2022-09-28T08:46:13.610Z"
   },
   {
    "duration": 32,
    "start_time": "2022-09-28T08:46:13.615Z"
   },
   {
    "duration": 26,
    "start_time": "2022-09-28T08:46:13.649Z"
   },
   {
    "duration": 38,
    "start_time": "2022-09-28T08:46:13.677Z"
   },
   {
    "duration": 3,
    "start_time": "2022-09-28T08:46:13.717Z"
   },
   {
    "duration": 6,
    "start_time": "2022-09-28T08:46:13.721Z"
   },
   {
    "duration": 5,
    "start_time": "2022-09-28T08:46:13.728Z"
   },
   {
    "duration": 12,
    "start_time": "2022-09-28T08:46:13.735Z"
   },
   {
    "duration": 18,
    "start_time": "2022-09-28T08:46:13.748Z"
   },
   {
    "duration": 13,
    "start_time": "2022-09-28T08:46:13.768Z"
   },
   {
    "duration": 8,
    "start_time": "2022-09-28T08:46:13.809Z"
   },
   {
    "duration": 6,
    "start_time": "2022-09-28T08:46:13.819Z"
   },
   {
    "duration": 8,
    "start_time": "2022-09-28T08:46:13.827Z"
   },
   {
    "duration": 13,
    "start_time": "2022-09-28T08:46:13.836Z"
   },
   {
    "duration": 5,
    "start_time": "2022-09-28T08:46:13.851Z"
   },
   {
    "duration": 18,
    "start_time": "2022-09-28T08:46:13.858Z"
   },
   {
    "duration": 6,
    "start_time": "2022-09-28T08:46:13.878Z"
   },
   {
    "duration": 28,
    "start_time": "2022-09-28T08:46:13.886Z"
   },
   {
    "duration": 17,
    "start_time": "2022-09-28T08:46:13.915Z"
   },
   {
    "duration": 162,
    "start_time": "2022-09-28T08:46:13.933Z"
   },
   {
    "duration": 13,
    "start_time": "2022-09-28T08:46:14.096Z"
   },
   {
    "duration": 122,
    "start_time": "2022-09-28T08:46:14.111Z"
   },
   {
    "duration": 8,
    "start_time": "2022-09-28T08:46:14.235Z"
   },
   {
    "duration": 8,
    "start_time": "2022-09-28T08:46:14.244Z"
   },
   {
    "duration": 9,
    "start_time": "2022-09-28T08:46:14.254Z"
   },
   {
    "duration": 6,
    "start_time": "2022-09-28T08:46:14.266Z"
   },
   {
    "duration": 9,
    "start_time": "2022-09-28T08:46:14.273Z"
   },
   {
    "duration": 30,
    "start_time": "2022-09-28T08:46:14.283Z"
   },
   {
    "duration": 342,
    "start_time": "2022-09-28T08:46:14.314Z"
   },
   {
    "duration": 188,
    "start_time": "2022-09-28T08:46:14.658Z"
   },
   {
    "duration": 6,
    "start_time": "2022-09-28T08:46:14.847Z"
   },
   {
    "duration": 6,
    "start_time": "2022-09-28T08:46:14.854Z"
   },
   {
    "duration": 9,
    "start_time": "2022-09-28T08:46:14.861Z"
   },
   {
    "duration": 376,
    "start_time": "2022-09-28T08:46:14.872Z"
   },
   {
    "duration": 4,
    "start_time": "2022-09-28T08:46:15.250Z"
   },
   {
    "duration": 17,
    "start_time": "2022-09-28T08:46:15.256Z"
   },
   {
    "duration": 25,
    "start_time": "2022-09-28T08:46:15.275Z"
   },
   {
    "duration": 224,
    "start_time": "2022-09-28T08:46:15.302Z"
   },
   {
    "duration": 7,
    "start_time": "2022-09-28T08:46:15.527Z"
   },
   {
    "duration": 9,
    "start_time": "2022-09-28T08:46:15.536Z"
   },
   {
    "duration": 10,
    "start_time": "2022-09-28T08:46:15.546Z"
   },
   {
    "duration": 291,
    "start_time": "2022-09-28T08:46:15.558Z"
   },
   {
    "duration": 6,
    "start_time": "2022-09-28T08:46:15.850Z"
   },
   {
    "duration": 7,
    "start_time": "2022-09-28T08:46:15.857Z"
   },
   {
    "duration": 148,
    "start_time": "2022-09-28T08:46:15.865Z"
   },
   {
    "duration": 4,
    "start_time": "2022-09-28T08:46:16.014Z"
   },
   {
    "duration": 154,
    "start_time": "2022-09-28T08:46:16.020Z"
   },
   {
    "duration": 5,
    "start_time": "2022-09-28T08:46:16.176Z"
   },
   {
    "duration": 13,
    "start_time": "2022-09-28T08:46:16.183Z"
   },
   {
    "duration": 23,
    "start_time": "2022-09-28T08:46:16.198Z"
   },
   {
    "duration": 260,
    "start_time": "2022-09-28T08:49:02.406Z"
   },
   {
    "duration": 189,
    "start_time": "2022-09-28T08:49:16.910Z"
   },
   {
    "duration": 198,
    "start_time": "2022-09-28T08:49:20.728Z"
   },
   {
    "duration": 195,
    "start_time": "2022-09-28T08:49:45.607Z"
   },
   {
    "duration": 211,
    "start_time": "2022-09-28T08:50:11.635Z"
   },
   {
    "duration": 213,
    "start_time": "2022-09-28T08:50:17.450Z"
   },
   {
    "duration": 264,
    "start_time": "2022-09-28T08:51:37.256Z"
   },
   {
    "duration": 214,
    "start_time": "2022-09-28T08:52:07.209Z"
   },
   {
    "duration": 214,
    "start_time": "2022-09-28T08:52:30.801Z"
   },
   {
    "duration": 299,
    "start_time": "2022-09-28T08:52:42.635Z"
   },
   {
    "duration": 151,
    "start_time": "2022-09-28T08:53:26.042Z"
   },
   {
    "duration": 216,
    "start_time": "2022-09-28T08:53:46.632Z"
   },
   {
    "duration": 150,
    "start_time": "2022-09-28T08:53:55.630Z"
   },
   {
    "duration": 10,
    "start_time": "2022-09-28T09:09:53.163Z"
   },
   {
    "duration": 106,
    "start_time": "2022-09-28T09:10:09.331Z"
   },
   {
    "duration": 8,
    "start_time": "2022-09-28T09:10:19.355Z"
   },
   {
    "duration": 98,
    "start_time": "2022-09-28T09:41:45.976Z"
   },
   {
    "duration": 180,
    "start_time": "2022-09-28T10:20:52.678Z"
   },
   {
    "duration": 20,
    "start_time": "2022-09-28T10:28:53.820Z"
   },
   {
    "duration": 10,
    "start_time": "2022-09-28T10:29:03.907Z"
   },
   {
    "duration": 11,
    "start_time": "2022-09-28T10:29:16.090Z"
   },
   {
    "duration": 10,
    "start_time": "2022-09-28T10:29:23.849Z"
   },
   {
    "duration": 11,
    "start_time": "2022-09-28T10:32:02.834Z"
   },
   {
    "duration": 10,
    "start_time": "2022-09-28T10:32:14.284Z"
   },
   {
    "duration": 1704,
    "start_time": "2022-09-28T10:32:53.261Z"
   },
   {
    "duration": 6,
    "start_time": "2022-09-28T10:33:25.410Z"
   },
   {
    "duration": 4,
    "start_time": "2022-09-28T10:33:32.835Z"
   },
   {
    "duration": 5,
    "start_time": "2022-09-28T10:33:40.380Z"
   },
   {
    "duration": 5,
    "start_time": "2022-09-28T10:33:45.342Z"
   },
   {
    "duration": 4,
    "start_time": "2022-09-28T10:33:48.204Z"
   },
   {
    "duration": 5,
    "start_time": "2022-09-28T10:36:08.346Z"
   },
   {
    "duration": 4,
    "start_time": "2022-09-28T10:37:44.423Z"
   },
   {
    "duration": 9,
    "start_time": "2022-09-28T10:38:15.959Z"
   },
   {
    "duration": 3,
    "start_time": "2022-09-28T10:38:35.005Z"
   },
   {
    "duration": 1084,
    "start_time": "2022-09-28T10:38:39.396Z"
   },
   {
    "duration": 79,
    "start_time": "2022-09-28T10:38:40.482Z"
   },
   {
    "duration": 4,
    "start_time": "2022-09-28T10:38:40.563Z"
   },
   {
    "duration": 24,
    "start_time": "2022-09-28T10:38:40.569Z"
   },
   {
    "duration": 20,
    "start_time": "2022-09-28T10:38:40.594Z"
   },
   {
    "duration": 16,
    "start_time": "2022-09-28T10:38:40.615Z"
   },
   {
    "duration": 2,
    "start_time": "2022-09-28T10:38:40.633Z"
   },
   {
    "duration": 5,
    "start_time": "2022-09-28T10:38:40.636Z"
   },
   {
    "duration": 7,
    "start_time": "2022-09-28T10:38:40.642Z"
   },
   {
    "duration": 24,
    "start_time": "2022-09-28T10:38:40.652Z"
   },
   {
    "duration": 31,
    "start_time": "2022-09-28T10:38:40.678Z"
   },
   {
    "duration": 12,
    "start_time": "2022-09-28T10:38:40.710Z"
   },
   {
    "duration": 10,
    "start_time": "2022-09-28T10:38:40.723Z"
   },
   {
    "duration": 5,
    "start_time": "2022-09-28T10:38:40.734Z"
   },
   {
    "duration": 8,
    "start_time": "2022-09-28T10:38:40.740Z"
   },
   {
    "duration": 10,
    "start_time": "2022-09-28T10:38:40.749Z"
   },
   {
    "duration": 6,
    "start_time": "2022-09-28T10:38:40.761Z"
   },
   {
    "duration": 10,
    "start_time": "2022-09-28T10:38:40.768Z"
   },
   {
    "duration": 30,
    "start_time": "2022-09-28T10:38:40.779Z"
   },
   {
    "duration": 5,
    "start_time": "2022-09-28T10:38:40.811Z"
   },
   {
    "duration": 8,
    "start_time": "2022-09-28T10:38:40.817Z"
   },
   {
    "duration": 162,
    "start_time": "2022-09-28T10:38:40.827Z"
   },
   {
    "duration": 8,
    "start_time": "2022-09-28T10:38:40.991Z"
   },
   {
    "duration": 117,
    "start_time": "2022-09-28T10:38:41.009Z"
   },
   {
    "duration": 7,
    "start_time": "2022-09-28T10:38:41.127Z"
   },
   {
    "duration": 7,
    "start_time": "2022-09-28T10:38:41.135Z"
   },
   {
    "duration": 9,
    "start_time": "2022-09-28T10:38:41.143Z"
   },
   {
    "duration": 5,
    "start_time": "2022-09-28T10:38:41.155Z"
   },
   {
    "duration": 8,
    "start_time": "2022-09-28T10:38:41.161Z"
   },
   {
    "duration": 7,
    "start_time": "2022-09-28T10:38:41.170Z"
   },
   {
    "duration": 302,
    "start_time": "2022-09-28T10:38:41.178Z"
   },
   {
    "duration": 198,
    "start_time": "2022-09-28T10:38:41.481Z"
   },
   {
    "duration": 6,
    "start_time": "2022-09-28T10:38:41.681Z"
   },
   {
    "duration": 6,
    "start_time": "2022-09-28T10:38:41.688Z"
   },
   {
    "duration": 20,
    "start_time": "2022-09-28T10:38:41.696Z"
   },
   {
    "duration": 308,
    "start_time": "2022-09-28T10:38:41.717Z"
   },
   {
    "duration": 4,
    "start_time": "2022-09-28T10:38:42.027Z"
   },
   {
    "duration": 19,
    "start_time": "2022-09-28T10:38:42.032Z"
   },
   {
    "duration": 17,
    "start_time": "2022-09-28T10:38:42.052Z"
   },
   {
    "duration": 217,
    "start_time": "2022-09-28T10:38:42.070Z"
   },
   {
    "duration": 6,
    "start_time": "2022-09-28T10:38:42.289Z"
   },
   {
    "duration": 5,
    "start_time": "2022-09-28T10:38:42.297Z"
   },
   {
    "duration": 9,
    "start_time": "2022-09-28T10:38:42.309Z"
   },
   {
    "duration": 319,
    "start_time": "2022-09-28T10:38:42.319Z"
   },
   {
    "duration": 6,
    "start_time": "2022-09-28T10:38:42.639Z"
   },
   {
    "duration": 9,
    "start_time": "2022-09-28T10:38:42.646Z"
   },
   {
    "duration": 155,
    "start_time": "2022-09-28T10:38:42.656Z"
   },
   {
    "duration": 5,
    "start_time": "2022-09-28T10:38:42.812Z"
   },
   {
    "duration": 165,
    "start_time": "2022-09-28T10:38:42.818Z"
   },
   {
    "duration": 4,
    "start_time": "2022-09-28T10:38:42.985Z"
   },
   {
    "duration": 238,
    "start_time": "2022-09-28T10:38:42.991Z"
   },
   {
    "duration": 0,
    "start_time": "2022-09-28T10:38:43.230Z"
   },
   {
    "duration": 0,
    "start_time": "2022-09-28T10:38:43.231Z"
   },
   {
    "duration": 0,
    "start_time": "2022-09-28T10:38:43.232Z"
   },
   {
    "duration": 0,
    "start_time": "2022-09-28T10:38:43.233Z"
   },
   {
    "duration": 0,
    "start_time": "2022-09-28T10:38:43.234Z"
   },
   {
    "duration": 0,
    "start_time": "2022-09-28T10:38:43.235Z"
   },
   {
    "duration": 232,
    "start_time": "2022-09-28T10:39:24.385Z"
   },
   {
    "duration": 19,
    "start_time": "2022-09-28T10:39:25.389Z"
   },
   {
    "duration": 10,
    "start_time": "2022-09-28T10:39:25.930Z"
   },
   {
    "duration": 12,
    "start_time": "2022-09-28T10:39:27.736Z"
   },
   {
    "duration": 12,
    "start_time": "2022-09-28T10:39:28.196Z"
   },
   {
    "duration": 7,
    "start_time": "2022-09-28T10:39:29.617Z"
   },
   {
    "duration": 10,
    "start_time": "2022-09-28T10:39:30.560Z"
   },
   {
    "duration": 22,
    "start_time": "2022-09-28T10:39:42.651Z"
   },
   {
    "duration": 20,
    "start_time": "2022-09-28T10:40:55.180Z"
   },
   {
    "duration": 22,
    "start_time": "2022-09-28T10:49:37.321Z"
   },
   {
    "duration": 19,
    "start_time": "2022-09-28T10:59:54.382Z"
   },
   {
    "duration": 818,
    "start_time": "2022-09-28T11:12:32.437Z"
   },
   {
    "duration": 1200,
    "start_time": "2022-09-28T11:12:53.688Z"
   },
   {
    "duration": 9,
    "start_time": "2022-09-28T11:13:08.392Z"
   },
   {
    "duration": 8,
    "start_time": "2022-09-28T11:16:29.646Z"
   },
   {
    "duration": 138,
    "start_time": "2022-09-28T11:18:53.024Z"
   },
   {
    "duration": 12,
    "start_time": "2022-09-28T11:18:56.701Z"
   },
   {
    "duration": 11,
    "start_time": "2022-09-28T11:19:04.974Z"
   },
   {
    "duration": 68,
    "start_time": "2022-09-28T11:19:11.915Z"
   },
   {
    "duration": 12,
    "start_time": "2022-09-28T11:19:15.481Z"
   },
   {
    "duration": 12,
    "start_time": "2022-09-28T11:19:18.978Z"
   },
   {
    "duration": 11,
    "start_time": "2022-09-28T11:19:54.169Z"
   },
   {
    "duration": 9,
    "start_time": "2022-09-28T11:20:06.135Z"
   },
   {
    "duration": 11,
    "start_time": "2022-09-28T11:21:14.529Z"
   },
   {
    "duration": 1394,
    "start_time": "2022-09-28T11:24:12.588Z"
   },
   {
    "duration": 914,
    "start_time": "2022-09-28T11:24:55.523Z"
   },
   {
    "duration": 2523,
    "start_time": "2022-09-28T11:25:04.413Z"
   },
   {
    "duration": 11,
    "start_time": "2022-09-28T11:25:39.561Z"
   },
   {
    "duration": 7,
    "start_time": "2022-09-28T11:25:49.498Z"
   },
   {
    "duration": 12,
    "start_time": "2022-09-28T11:28:31.688Z"
   },
   {
    "duration": 8,
    "start_time": "2022-09-28T11:28:37.953Z"
   },
   {
    "duration": 39,
    "start_time": "2022-09-28T11:28:38.497Z"
   },
   {
    "duration": 18,
    "start_time": "2022-09-28T11:40:48.037Z"
   },
   {
    "duration": 1181,
    "start_time": "2022-09-28T11:44:27.424Z"
   },
   {
    "duration": 82,
    "start_time": "2022-09-28T11:44:28.607Z"
   },
   {
    "duration": 4,
    "start_time": "2022-09-28T11:44:28.690Z"
   },
   {
    "duration": 27,
    "start_time": "2022-09-28T11:44:28.696Z"
   },
   {
    "duration": 20,
    "start_time": "2022-09-28T11:44:28.725Z"
   },
   {
    "duration": 19,
    "start_time": "2022-09-28T11:44:28.746Z"
   },
   {
    "duration": 6,
    "start_time": "2022-09-28T11:44:28.766Z"
   },
   {
    "duration": 44,
    "start_time": "2022-09-28T11:44:28.773Z"
   },
   {
    "duration": 16,
    "start_time": "2022-09-28T11:44:28.818Z"
   },
   {
    "duration": 7,
    "start_time": "2022-09-28T11:44:28.838Z"
   },
   {
    "duration": 12,
    "start_time": "2022-09-28T11:44:28.847Z"
   },
   {
    "duration": 15,
    "start_time": "2022-09-28T11:44:28.860Z"
   },
   {
    "duration": 9,
    "start_time": "2022-09-28T11:44:28.876Z"
   },
   {
    "duration": 22,
    "start_time": "2022-09-28T11:44:28.887Z"
   },
   {
    "duration": 6,
    "start_time": "2022-09-28T11:44:28.911Z"
   },
   {
    "duration": 10,
    "start_time": "2022-09-28T11:44:28.919Z"
   },
   {
    "duration": 5,
    "start_time": "2022-09-28T11:44:28.931Z"
   },
   {
    "duration": 11,
    "start_time": "2022-09-28T11:44:28.937Z"
   },
   {
    "duration": 4,
    "start_time": "2022-09-28T11:44:28.950Z"
   },
   {
    "duration": 7,
    "start_time": "2022-09-28T11:44:28.956Z"
   },
   {
    "duration": 9,
    "start_time": "2022-09-28T11:44:28.964Z"
   },
   {
    "duration": 160,
    "start_time": "2022-09-28T11:44:29.009Z"
   },
   {
    "duration": 8,
    "start_time": "2022-09-28T11:44:29.171Z"
   },
   {
    "duration": 147,
    "start_time": "2022-09-28T11:44:29.181Z"
   },
   {
    "duration": 7,
    "start_time": "2022-09-28T11:44:29.330Z"
   },
   {
    "duration": 7,
    "start_time": "2022-09-28T11:44:29.338Z"
   },
   {
    "duration": 10,
    "start_time": "2022-09-28T11:44:29.347Z"
   },
   {
    "duration": 6,
    "start_time": "2022-09-28T11:44:29.360Z"
   },
   {
    "duration": 9,
    "start_time": "2022-09-28T11:44:29.367Z"
   },
   {
    "duration": 36,
    "start_time": "2022-09-28T11:44:29.377Z"
   },
   {
    "duration": 301,
    "start_time": "2022-09-28T11:44:29.415Z"
   },
   {
    "duration": 225,
    "start_time": "2022-09-28T11:44:29.717Z"
   },
   {
    "duration": 6,
    "start_time": "2022-09-28T11:44:29.944Z"
   },
   {
    "duration": 18,
    "start_time": "2022-09-28T11:44:29.951Z"
   },
   {
    "duration": 15,
    "start_time": "2022-09-28T11:44:29.971Z"
   },
   {
    "duration": 363,
    "start_time": "2022-09-28T11:44:29.989Z"
   },
   {
    "duration": 4,
    "start_time": "2022-09-28T11:44:30.354Z"
   },
   {
    "duration": 28,
    "start_time": "2022-09-28T11:44:30.360Z"
   },
   {
    "duration": 22,
    "start_time": "2022-09-28T11:44:30.389Z"
   },
   {
    "duration": 233,
    "start_time": "2022-09-28T11:44:30.413Z"
   },
   {
    "duration": 9,
    "start_time": "2022-09-28T11:44:30.649Z"
   },
   {
    "duration": 18,
    "start_time": "2022-09-28T11:44:30.660Z"
   },
   {
    "duration": 17,
    "start_time": "2022-09-28T11:44:30.680Z"
   },
   {
    "duration": 370,
    "start_time": "2022-09-28T11:44:30.699Z"
   },
   {
    "duration": 7,
    "start_time": "2022-09-28T11:44:31.070Z"
   },
   {
    "duration": 31,
    "start_time": "2022-09-28T11:44:31.078Z"
   },
   {
    "duration": 252,
    "start_time": "2022-09-28T11:44:31.110Z"
   },
   {
    "duration": 5,
    "start_time": "2022-09-28T11:44:31.364Z"
   },
   {
    "duration": 245,
    "start_time": "2022-09-28T11:44:31.371Z"
   },
   {
    "duration": 6,
    "start_time": "2022-09-28T11:44:31.618Z"
   },
   {
    "duration": 324,
    "start_time": "2022-09-28T11:44:31.626Z"
   },
   {
    "duration": 21,
    "start_time": "2022-09-28T11:44:31.951Z"
   },
   {
    "duration": 11,
    "start_time": "2022-09-28T11:44:31.973Z"
   },
   {
    "duration": 39,
    "start_time": "2022-09-28T11:44:31.985Z"
   },
   {
    "duration": 11,
    "start_time": "2022-09-28T11:44:32.026Z"
   },
   {
    "duration": 8,
    "start_time": "2022-09-28T11:44:32.039Z"
   },
   {
    "duration": 25,
    "start_time": "2022-09-28T11:44:32.048Z"
   },
   {
    "duration": 11,
    "start_time": "2022-09-28T11:44:32.075Z"
   },
   {
    "duration": 10,
    "start_time": "2022-09-28T11:44:32.109Z"
   },
   {
    "duration": 24,
    "start_time": "2022-09-28T11:44:32.121Z"
   },
   {
    "duration": 22,
    "start_time": "2022-09-28T11:44:32.147Z"
   },
   {
    "duration": 13,
    "start_time": "2022-09-28T11:44:32.171Z"
   },
   {
    "duration": 5,
    "start_time": "2022-09-28T11:45:53.741Z"
   },
   {
    "duration": 4,
    "start_time": "2022-09-28T11:46:05.880Z"
   },
   {
    "duration": 339,
    "start_time": "2022-09-28T11:48:15.591Z"
   },
   {
    "duration": 292,
    "start_time": "2022-09-28T11:48:27.060Z"
   },
   {
    "duration": 15,
    "start_time": "2022-09-28T11:56:58.610Z"
   },
   {
    "duration": 15,
    "start_time": "2022-09-28T11:57:21.032Z"
   },
   {
    "duration": 18,
    "start_time": "2022-09-28T11:57:49.660Z"
   },
   {
    "duration": 1205,
    "start_time": "2022-09-28T12:07:47.643Z"
   },
   {
    "duration": 79,
    "start_time": "2022-09-28T12:07:48.851Z"
   },
   {
    "duration": 3,
    "start_time": "2022-09-28T12:07:48.932Z"
   },
   {
    "duration": 34,
    "start_time": "2022-09-28T12:07:48.938Z"
   },
   {
    "duration": 41,
    "start_time": "2022-09-28T12:07:48.974Z"
   },
   {
    "duration": 23,
    "start_time": "2022-09-28T12:07:49.017Z"
   },
   {
    "duration": 4,
    "start_time": "2022-09-28T12:07:49.042Z"
   },
   {
    "duration": 5,
    "start_time": "2022-09-28T12:07:49.048Z"
   },
   {
    "duration": 6,
    "start_time": "2022-09-28T12:07:49.055Z"
   },
   {
    "duration": 52,
    "start_time": "2022-09-28T12:07:49.063Z"
   },
   {
    "duration": 18,
    "start_time": "2022-09-28T12:07:49.119Z"
   },
   {
    "duration": 16,
    "start_time": "2022-09-28T12:07:49.139Z"
   },
   {
    "duration": 11,
    "start_time": "2022-09-28T12:07:49.157Z"
   },
   {
    "duration": 43,
    "start_time": "2022-09-28T12:07:49.170Z"
   },
   {
    "duration": 12,
    "start_time": "2022-09-28T12:07:49.215Z"
   },
   {
    "duration": 13,
    "start_time": "2022-09-28T12:07:49.229Z"
   },
   {
    "duration": 11,
    "start_time": "2022-09-28T12:07:49.244Z"
   },
   {
    "duration": 18,
    "start_time": "2022-09-28T12:07:49.257Z"
   },
   {
    "duration": 10,
    "start_time": "2022-09-28T12:07:49.276Z"
   },
   {
    "duration": 23,
    "start_time": "2022-09-28T12:07:49.288Z"
   },
   {
    "duration": 11,
    "start_time": "2022-09-28T12:07:49.313Z"
   },
   {
    "duration": 230,
    "start_time": "2022-09-28T12:07:49.326Z"
   },
   {
    "duration": 9,
    "start_time": "2022-09-28T12:07:49.557Z"
   },
   {
    "duration": 141,
    "start_time": "2022-09-28T12:07:49.568Z"
   },
   {
    "duration": 13,
    "start_time": "2022-09-28T12:07:49.711Z"
   },
   {
    "duration": 15,
    "start_time": "2022-09-28T12:07:49.726Z"
   },
   {
    "duration": 31,
    "start_time": "2022-09-28T12:07:49.742Z"
   },
   {
    "duration": 19,
    "start_time": "2022-09-28T12:07:49.777Z"
   },
   {
    "duration": 21,
    "start_time": "2022-09-28T12:07:49.798Z"
   },
   {
    "duration": 14,
    "start_time": "2022-09-28T12:07:49.822Z"
   },
   {
    "duration": 306,
    "start_time": "2022-09-28T12:07:49.837Z"
   },
   {
    "duration": 318,
    "start_time": "2022-09-28T12:07:50.145Z"
   },
   {
    "duration": 9,
    "start_time": "2022-09-28T12:07:50.465Z"
   },
   {
    "duration": 4,
    "start_time": "2022-09-28T12:07:50.476Z"
   },
   {
    "duration": 28,
    "start_time": "2022-09-28T12:07:50.482Z"
   },
   {
    "duration": 359,
    "start_time": "2022-09-28T12:07:50.512Z"
   },
   {
    "duration": 5,
    "start_time": "2022-09-28T12:07:50.872Z"
   },
   {
    "duration": 28,
    "start_time": "2022-09-28T12:07:50.881Z"
   },
   {
    "duration": 6,
    "start_time": "2022-09-28T12:07:50.911Z"
   },
   {
    "duration": 272,
    "start_time": "2022-09-28T12:07:50.918Z"
   },
   {
    "duration": 18,
    "start_time": "2022-09-28T12:07:51.192Z"
   },
   {
    "duration": 9,
    "start_time": "2022-09-28T12:07:51.212Z"
   },
   {
    "duration": 25,
    "start_time": "2022-09-28T12:07:51.224Z"
   },
   {
    "duration": 393,
    "start_time": "2022-09-28T12:07:51.251Z"
   },
   {
    "duration": 9,
    "start_time": "2022-09-28T12:07:51.646Z"
   },
   {
    "duration": 12,
    "start_time": "2022-09-28T12:07:51.657Z"
   },
   {
    "duration": 262,
    "start_time": "2022-09-28T12:07:51.671Z"
   },
   {
    "duration": 6,
    "start_time": "2022-09-28T12:07:51.935Z"
   },
   {
    "duration": 187,
    "start_time": "2022-09-28T12:07:51.943Z"
   },
   {
    "duration": 6,
    "start_time": "2022-09-28T12:07:52.132Z"
   },
   {
    "duration": 300,
    "start_time": "2022-09-28T12:07:52.141Z"
   },
   {
    "duration": 20,
    "start_time": "2022-09-28T12:07:52.443Z"
   },
   {
    "duration": 10,
    "start_time": "2022-09-28T12:07:52.465Z"
   },
   {
    "duration": 39,
    "start_time": "2022-09-28T12:07:52.477Z"
   },
   {
    "duration": 12,
    "start_time": "2022-09-28T12:07:52.518Z"
   },
   {
    "duration": 6,
    "start_time": "2022-09-28T12:07:52.532Z"
   },
   {
    "duration": 23,
    "start_time": "2022-09-28T12:07:52.539Z"
   },
   {
    "duration": 11,
    "start_time": "2022-09-28T12:07:52.563Z"
   },
   {
    "duration": 11,
    "start_time": "2022-09-28T12:07:52.609Z"
   },
   {
    "duration": 14,
    "start_time": "2022-09-28T12:07:52.622Z"
   },
   {
    "duration": 36,
    "start_time": "2022-09-28T12:07:52.638Z"
   },
   {
    "duration": 40,
    "start_time": "2022-09-28T12:07:52.676Z"
   },
   {
    "duration": 1330,
    "start_time": "2022-09-28T13:12:04.600Z"
   },
   {
    "duration": 216,
    "start_time": "2022-09-28T13:12:05.932Z"
   },
   {
    "duration": 13,
    "start_time": "2022-09-28T13:12:06.150Z"
   },
   {
    "duration": 44,
    "start_time": "2022-09-28T13:12:06.165Z"
   },
   {
    "duration": 51,
    "start_time": "2022-09-28T13:12:06.211Z"
   },
   {
    "duration": 25,
    "start_time": "2022-09-28T13:12:06.265Z"
   },
   {
    "duration": 4,
    "start_time": "2022-09-28T13:12:06.292Z"
   },
   {
    "duration": 16,
    "start_time": "2022-09-28T13:12:06.298Z"
   },
   {
    "duration": 12,
    "start_time": "2022-09-28T13:12:06.316Z"
   },
   {
    "duration": 28,
    "start_time": "2022-09-28T13:12:06.333Z"
   },
   {
    "duration": 23,
    "start_time": "2022-09-28T13:12:06.364Z"
   },
   {
    "duration": 20,
    "start_time": "2022-09-28T13:12:06.389Z"
   },
   {
    "duration": 15,
    "start_time": "2022-09-28T13:12:06.411Z"
   },
   {
    "duration": 28,
    "start_time": "2022-09-28T13:12:06.433Z"
   },
   {
    "duration": 14,
    "start_time": "2022-09-28T13:12:06.463Z"
   },
   {
    "duration": 29,
    "start_time": "2022-09-28T13:12:06.479Z"
   },
   {
    "duration": 9,
    "start_time": "2022-09-28T13:12:06.510Z"
   },
   {
    "duration": 39,
    "start_time": "2022-09-28T13:12:06.521Z"
   },
   {
    "duration": 21,
    "start_time": "2022-09-28T13:12:06.562Z"
   },
   {
    "duration": 14,
    "start_time": "2022-09-28T13:12:06.585Z"
   },
   {
    "duration": 16,
    "start_time": "2022-09-28T13:12:06.601Z"
   },
   {
    "duration": 173,
    "start_time": "2022-09-28T13:12:06.619Z"
   },
   {
    "duration": 8,
    "start_time": "2022-09-28T13:12:06.794Z"
   },
   {
    "duration": 146,
    "start_time": "2022-09-28T13:12:06.804Z"
   },
   {
    "duration": 8,
    "start_time": "2022-09-28T13:12:06.952Z"
   },
   {
    "duration": 18,
    "start_time": "2022-09-28T13:12:06.961Z"
   },
   {
    "duration": 18,
    "start_time": "2022-09-28T13:12:06.981Z"
   },
   {
    "duration": 9,
    "start_time": "2022-09-28T13:12:07.000Z"
   },
   {
    "duration": 11,
    "start_time": "2022-09-28T13:12:07.010Z"
   },
   {
    "duration": 30,
    "start_time": "2022-09-28T13:12:07.023Z"
   },
   {
    "duration": 299,
    "start_time": "2022-09-28T13:12:07.055Z"
   },
   {
    "duration": 226,
    "start_time": "2022-09-28T13:12:07.356Z"
   },
   {
    "duration": 5,
    "start_time": "2022-09-28T13:12:07.583Z"
   },
   {
    "duration": 6,
    "start_time": "2022-09-28T13:12:07.590Z"
   },
   {
    "duration": 12,
    "start_time": "2022-09-28T13:12:07.598Z"
   },
   {
    "duration": 381,
    "start_time": "2022-09-28T13:12:07.612Z"
   },
   {
    "duration": 4,
    "start_time": "2022-09-28T13:12:07.995Z"
   },
   {
    "duration": 13,
    "start_time": "2022-09-28T13:12:08.000Z"
   },
   {
    "duration": 22,
    "start_time": "2022-09-28T13:12:08.014Z"
   },
   {
    "duration": 252,
    "start_time": "2022-09-28T13:12:08.044Z"
   },
   {
    "duration": 7,
    "start_time": "2022-09-28T13:12:08.300Z"
   },
   {
    "duration": 6,
    "start_time": "2022-09-28T13:12:08.309Z"
   },
   {
    "duration": 20,
    "start_time": "2022-09-28T13:12:08.316Z"
   },
   {
    "duration": 364,
    "start_time": "2022-09-28T13:12:08.337Z"
   },
   {
    "duration": 8,
    "start_time": "2022-09-28T13:12:08.704Z"
   },
   {
    "duration": 30,
    "start_time": "2022-09-28T13:12:08.713Z"
   },
   {
    "duration": 167,
    "start_time": "2022-09-28T13:12:08.750Z"
   },
   {
    "duration": 5,
    "start_time": "2022-09-28T13:12:08.919Z"
   },
   {
    "duration": 190,
    "start_time": "2022-09-28T13:12:08.925Z"
   },
   {
    "duration": 7,
    "start_time": "2022-09-28T13:12:09.117Z"
   },
   {
    "duration": 287,
    "start_time": "2022-09-28T13:12:09.125Z"
   },
   {
    "duration": 35,
    "start_time": "2022-09-28T13:12:09.414Z"
   },
   {
    "duration": 11,
    "start_time": "2022-09-28T13:12:09.452Z"
   },
   {
    "duration": 22,
    "start_time": "2022-09-28T13:12:09.464Z"
   },
   {
    "duration": 20,
    "start_time": "2022-09-28T13:12:09.488Z"
   },
   {
    "duration": 7,
    "start_time": "2022-09-28T13:12:09.509Z"
   },
   {
    "duration": 34,
    "start_time": "2022-09-28T13:12:09.517Z"
   },
   {
    "duration": 11,
    "start_time": "2022-09-28T13:12:09.553Z"
   },
   {
    "duration": 8,
    "start_time": "2022-09-28T13:12:09.565Z"
   },
   {
    "duration": 12,
    "start_time": "2022-09-28T13:12:09.575Z"
   },
   {
    "duration": 25,
    "start_time": "2022-09-28T13:12:09.589Z"
   },
   {
    "duration": 15,
    "start_time": "2022-09-28T13:12:09.633Z"
   }
  ],
  "kernelspec": {
   "display_name": "Python 3 (ipykernel)",
   "language": "python",
   "name": "python3"
  },
  "language_info": {
   "codemirror_mode": {
    "name": "ipython",
    "version": 3
   },
   "file_extension": ".py",
   "mimetype": "text/x-python",
   "name": "python",
   "nbconvert_exporter": "python",
   "pygments_lexer": "ipython3",
   "version": "3.9.7"
  },
  "toc": {
   "base_numbering": 1,
   "nav_menu": {},
   "number_sections": true,
   "sideBar": true,
   "skip_h1_title": true,
   "title_cell": "Table of Contents",
   "title_sidebar": "Содержание",
   "toc_cell": false,
   "toc_position": {
    "height": "calc(100% - 180px)",
    "left": "10px",
    "top": "150px",
    "width": "209.825px"
   },
   "toc_section_display": true,
   "toc_window_display": true
  }
 },
 "nbformat": 4,
 "nbformat_minor": 2
}
