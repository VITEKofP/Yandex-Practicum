{
 "cells": [
  {
   "cell_type": "markdown",
   "metadata": {
    "id": "E0vqbgi9ay0H"
   },
   "source": [
    "# Яндекс.Музыка"
   ]
  },
  {
   "cell_type": "markdown",
   "metadata": {
    "id": "VUC88oWjTJw2"
   },
   "source": [
    "Сравнение Москвы и Петербурга окружено мифами. Например:\n",
    " * Москва — мегаполис, подчинённый жёсткому ритму рабочей недели;\n",
    " * Петербург — культурная столица, со своими вкусами.\n",
    "\n",
    "На данных Яндекс.Музыки вы сравните поведение пользователей двух столиц.\n",
    "\n",
    "**Цель исследования** — проверьте три гипотезы:\n",
    "1. Активность пользователей зависит от дня недели. Причём в Москве и Петербурге это проявляется по-разному.\n",
    "2. В понедельник утром в Москве преобладают одни жанры, а в Петербурге — другие. Так же и вечером пятницы преобладают разные жанры — в зависимости от города. \n",
    "3. Москва и Петербург предпочитают разные жанры музыки. В Москве чаще слушают поп-музыку, в Петербурге — русский рэп.\n",
    "**Ход исследования**\n",
    "\n",
    "Данные о поведении пользователей вы получите из файла `yandex_music_project.csv`. О качестве данных ничего не известно. Поэтому перед проверкой гипотез понадобится обзор данных. \n",
    "\n",
    "Вы проверите данные на ошибки и оцените их влияние на исследование. Затем, на этапе предобработки вы поищете возможность исправить самые критичные ошибки данных.\n",
    " \n",
    "Таким образом, исследование пройдёт в три этапа:\n",
    " 1. Обзор данных.\n",
    " 2. Предобработка данных.\n",
    " 3. Проверка гипотез.\n",
    "\n"
   ]
  },
  {
   "cell_type": "markdown",
   "metadata": {
    "id": "Ml1hmfXC_Zcs"
   },
   "source": [
    "## Обзор данных\n",
    "\n",
    "Составьте первое представление о данных Яндекс.Музыки.\n",
    "\n",
    "\n"
   ]
  },
  {
   "cell_type": "markdown",
   "metadata": {
    "id": "57eAOGIz_Zcs"
   },
   "source": [
    "Основной инструмент аналитика — `pandas`. Импортируйте эту библиотеку."
   ]
  },
  {
   "cell_type": "code",
   "execution_count": 1,
   "metadata": {
    "id": "AXN7PHPN_Zcs"
   },
   "outputs": [],
   "source": [
    "import pandas as pd # импорт библиотеки pandas"
   ]
  },
  {
   "cell_type": "markdown",
   "metadata": {
    "id": "SG23P8tt_Zcs"
   },
   "source": [
    "Прочитайте файл `yandex_music_project.csv` из папки `/datasets` и сохраните его в переменной `df`:"
   ]
  },
  {
   "cell_type": "code",
   "execution_count": 2,
   "metadata": {
    "id": "fFVu7vqh_Zct"
   },
   "outputs": [],
   "source": [
    "df = pd.read_csv('/datasets/yandex_music_project.csv')\n",
    "# чтение файла с данными и сохранение в df"
   ]
  },
  {
   "cell_type": "markdown",
   "metadata": {
    "id": "rDoOMd3uTqnZ"
   },
   "source": [
    "Выведите на экран первые десять строк таблицы:"
   ]
  },
  {
   "cell_type": "code",
   "execution_count": 3,
   "metadata": {
    "id": "oWTVX3gW_Zct",
    "scrolled": false
   },
   "outputs": [
    {
     "data": {
      "text/html": [
       "<div>\n",
       "<style scoped>\n",
       "    .dataframe tbody tr th:only-of-type {\n",
       "        vertical-align: middle;\n",
       "    }\n",
       "\n",
       "    .dataframe tbody tr th {\n",
       "        vertical-align: top;\n",
       "    }\n",
       "\n",
       "    .dataframe thead th {\n",
       "        text-align: right;\n",
       "    }\n",
       "</style>\n",
       "<table border=\"1\" class=\"dataframe\">\n",
       "  <thead>\n",
       "    <tr style=\"text-align: right;\">\n",
       "      <th></th>\n",
       "      <th>userID</th>\n",
       "      <th>Track</th>\n",
       "      <th>artist</th>\n",
       "      <th>genre</th>\n",
       "      <th>City</th>\n",
       "      <th>time</th>\n",
       "      <th>Day</th>\n",
       "    </tr>\n",
       "  </thead>\n",
       "  <tbody>\n",
       "    <tr>\n",
       "      <th>0</th>\n",
       "      <td>FFB692EC</td>\n",
       "      <td>Kamigata To Boots</td>\n",
       "      <td>The Mass Missile</td>\n",
       "      <td>rock</td>\n",
       "      <td>Saint-Petersburg</td>\n",
       "      <td>20:28:33</td>\n",
       "      <td>Wednesday</td>\n",
       "    </tr>\n",
       "    <tr>\n",
       "      <th>1</th>\n",
       "      <td>55204538</td>\n",
       "      <td>Delayed Because of Accident</td>\n",
       "      <td>Andreas Rönnberg</td>\n",
       "      <td>rock</td>\n",
       "      <td>Moscow</td>\n",
       "      <td>14:07:09</td>\n",
       "      <td>Friday</td>\n",
       "    </tr>\n",
       "    <tr>\n",
       "      <th>2</th>\n",
       "      <td>20EC38</td>\n",
       "      <td>Funiculì funiculà</td>\n",
       "      <td>Mario Lanza</td>\n",
       "      <td>pop</td>\n",
       "      <td>Saint-Petersburg</td>\n",
       "      <td>20:58:07</td>\n",
       "      <td>Wednesday</td>\n",
       "    </tr>\n",
       "    <tr>\n",
       "      <th>3</th>\n",
       "      <td>A3DD03C9</td>\n",
       "      <td>Dragons in the Sunset</td>\n",
       "      <td>Fire + Ice</td>\n",
       "      <td>folk</td>\n",
       "      <td>Saint-Petersburg</td>\n",
       "      <td>08:37:09</td>\n",
       "      <td>Monday</td>\n",
       "    </tr>\n",
       "    <tr>\n",
       "      <th>4</th>\n",
       "      <td>E2DC1FAE</td>\n",
       "      <td>Soul People</td>\n",
       "      <td>Space Echo</td>\n",
       "      <td>dance</td>\n",
       "      <td>Moscow</td>\n",
       "      <td>08:34:34</td>\n",
       "      <td>Monday</td>\n",
       "    </tr>\n",
       "    <tr>\n",
       "      <th>5</th>\n",
       "      <td>842029A1</td>\n",
       "      <td>Преданная</td>\n",
       "      <td>IMPERVTOR</td>\n",
       "      <td>rusrap</td>\n",
       "      <td>Saint-Petersburg</td>\n",
       "      <td>13:09:41</td>\n",
       "      <td>Friday</td>\n",
       "    </tr>\n",
       "    <tr>\n",
       "      <th>6</th>\n",
       "      <td>4CB90AA5</td>\n",
       "      <td>True</td>\n",
       "      <td>Roman Messer</td>\n",
       "      <td>dance</td>\n",
       "      <td>Moscow</td>\n",
       "      <td>13:00:07</td>\n",
       "      <td>Wednesday</td>\n",
       "    </tr>\n",
       "    <tr>\n",
       "      <th>7</th>\n",
       "      <td>F03E1C1F</td>\n",
       "      <td>Feeling This Way</td>\n",
       "      <td>Polina Griffith</td>\n",
       "      <td>dance</td>\n",
       "      <td>Moscow</td>\n",
       "      <td>20:47:49</td>\n",
       "      <td>Wednesday</td>\n",
       "    </tr>\n",
       "    <tr>\n",
       "      <th>8</th>\n",
       "      <td>8FA1D3BE</td>\n",
       "      <td>И вновь продолжается бой</td>\n",
       "      <td>NaN</td>\n",
       "      <td>ruspop</td>\n",
       "      <td>Moscow</td>\n",
       "      <td>09:17:40</td>\n",
       "      <td>Friday</td>\n",
       "    </tr>\n",
       "    <tr>\n",
       "      <th>9</th>\n",
       "      <td>E772D5C0</td>\n",
       "      <td>Pessimist</td>\n",
       "      <td>NaN</td>\n",
       "      <td>dance</td>\n",
       "      <td>Saint-Petersburg</td>\n",
       "      <td>21:20:49</td>\n",
       "      <td>Wednesday</td>\n",
       "    </tr>\n",
       "  </tbody>\n",
       "</table>\n",
       "</div>"
      ],
      "text/plain": [
       "     userID                        Track            artist   genre  \\\n",
       "0  FFB692EC            Kamigata To Boots  The Mass Missile    rock   \n",
       "1  55204538  Delayed Because of Accident  Andreas Rönnberg    rock   \n",
       "2    20EC38            Funiculì funiculà       Mario Lanza     pop   \n",
       "3  A3DD03C9        Dragons in the Sunset        Fire + Ice    folk   \n",
       "4  E2DC1FAE                  Soul People        Space Echo   dance   \n",
       "5  842029A1                    Преданная         IMPERVTOR  rusrap   \n",
       "6  4CB90AA5                         True      Roman Messer   dance   \n",
       "7  F03E1C1F             Feeling This Way   Polina Griffith   dance   \n",
       "8  8FA1D3BE     И вновь продолжается бой               NaN  ruspop   \n",
       "9  E772D5C0                    Pessimist               NaN   dance   \n",
       "\n",
       "             City        time        Day  \n",
       "0  Saint-Petersburg  20:28:33  Wednesday  \n",
       "1            Moscow  14:07:09     Friday  \n",
       "2  Saint-Petersburg  20:58:07  Wednesday  \n",
       "3  Saint-Petersburg  08:37:09     Monday  \n",
       "4            Moscow  08:34:34     Monday  \n",
       "5  Saint-Petersburg  13:09:41     Friday  \n",
       "6            Moscow  13:00:07  Wednesday  \n",
       "7            Moscow  20:47:49  Wednesday  \n",
       "8            Moscow  09:17:40     Friday  \n",
       "9  Saint-Petersburg  21:20:49  Wednesday  "
      ]
     },
     "execution_count": 3,
     "metadata": {},
     "output_type": "execute_result"
    }
   ],
   "source": [
    "df.head(10) # получение первых 10 строк таблицы df"
   ]
  },
  {
   "cell_type": "markdown",
   "metadata": {
    "id": "EO73Kwic_Zct"
   },
   "source": [
    "Одной командой получить общую информацию о таблице:"
   ]
  },
  {
   "cell_type": "code",
   "execution_count": 5,
   "metadata": {
    "id": "DSf2kIb-_Zct",
    "scrolled": true
   },
   "outputs": [
    {
     "name": "stdout",
     "output_type": "stream",
     "text": [
      "<class 'pandas.core.frame.DataFrame'>\n",
      "RangeIndex: 65079 entries, 0 to 65078\n",
      "Data columns (total 7 columns):\n",
      " #   Column    Non-Null Count  Dtype \n",
      "---  ------    --------------  ----- \n",
      " 0     userID  65079 non-null  object\n",
      " 1   Track     63848 non-null  object\n",
      " 2   artist    57876 non-null  object\n",
      " 3   genre     63881 non-null  object\n",
      " 4     City    65079 non-null  object\n",
      " 5   time      65079 non-null  object\n",
      " 6   Day       65079 non-null  object\n",
      "dtypes: object(7)\n",
      "memory usage: 3.5+ MB\n"
     ]
    }
   ],
   "source": [
    "df.info() # получение общей информации о данных в таблице df"
   ]
  },
  {
   "cell_type": "markdown",
   "metadata": {
    "id": "TaQ2Iwbr_Zct"
   },
   "source": [
    "Итак, в таблице семь столбцов. Тип данных во всех столбцах — `object`.\n",
    "\n",
    "Согласно документации к данным:\n",
    "* `userID` — идентификатор пользователя;\n",
    "* `Track` — название трека;  \n",
    "* `artist` — имя исполнителя;\n",
    "* `genre` — название жанра;\n",
    "* `City` — город пользователя;\n",
    "* `time` — время начала прослушивания;\n",
    "* `Day` — день недели.\n",
    "\n",
    "В названиях колонок видны три нарушения стиля:\n",
    "1. Строчные буквы сочетаются с прописными.\n",
    "2. Встречаются пробелы.\n",
    "3. Использование верблюжьего регистра.\n",
    "\n",
    "\n",
    "\n",
    "Количество значений в столбцах различается. Значит, в данных есть пропущенные значения.\n"
   ]
  },
  {
   "cell_type": "markdown",
   "metadata": {
    "id": "MCB6-dXG_Zct"
   },
   "source": [
    "**Выводы**\n",
    "\n",
    "В каждой строке таблицы — данные о прослушанном треке. Часть колонок описывает саму композицию: название, исполнителя и жанр. Остальные данные рассказывают о пользователе: из какого он города, когда он слушал музыку. \n",
    "\n",
    "Предварительно можно утверждать, что, данных достаточно для проверки гипотез. Но встречаются пропуски в данных, а в названиях колонок — расхождения с хорошим стилем.\n",
    "\n",
    "Чтобы двигаться дальше, нужно устранить проблемы в данных."
   ]
  },
  {
   "cell_type": "markdown",
   "metadata": {
    "id": "SjYF6Ub9_Zct"
   },
   "source": [
    "## Предобработка данных\n",
    "Исправьте стиль в заголовках столбцов, исключите пропуски. Затем проверьте данные на дубликаты."
   ]
  },
  {
   "cell_type": "markdown",
   "metadata": {
    "id": "dIaKXr29_Zct"
   },
   "source": [
    "### Стиль заголовков\n",
    "Выведите на экран названия столбцов:"
   ]
  },
  {
   "cell_type": "code",
   "execution_count": 6,
   "metadata": {
    "id": "oKOTdF_Q_Zct",
    "scrolled": true
   },
   "outputs": [
    {
     "data": {
      "text/plain": [
       "Index(['  userID', 'Track', 'artist', 'genre', '  City  ', 'time', 'Day'], dtype='object')"
      ]
     },
     "execution_count": 6,
     "metadata": {},
     "output_type": "execute_result"
    }
   ],
   "source": [
    "df.columns # перечень названий столбцов таблицы df"
   ]
  },
  {
   "cell_type": "markdown",
   "metadata": {
    "id": "zj5534cv_Zct"
   },
   "source": [
    "Приведите названия в соответствие с хорошим стилем:\n",
    "* несколько слов в названии запишите в «змеином_регистре»,\n",
    "* все символы сделайте строчными,\n",
    "* устраните пробелы.\n",
    "\n",
    "Для этого переименуйте колонки так:\n",
    "* `'  userID'` → `'user_id'`;\n",
    "* `'Track'` → `'track'`;\n",
    "* `'  City  '` → `'city'`;\n",
    "* `'Day'` → `'day'`."
   ]
  },
  {
   "cell_type": "code",
   "execution_count": 7,
   "metadata": {
    "id": "ISlFqs5y_Zct"
   },
   "outputs": [],
   "source": [
    "df = df.rename(columns={'  userID': 'user_id', 'Track': 'track', '  City  ': 'city', 'Day': 'day'}) # переименование столбцов"
   ]
  },
  {
   "cell_type": "markdown",
   "metadata": {
    "id": "1dqbh00J_Zct"
   },
   "source": [
    "Проверьте результат. Для этого ещё раз выведите на экран названия столбцов:"
   ]
  },
  {
   "cell_type": "code",
   "execution_count": 8,
   "metadata": {
    "id": "d4NOAmTW_Zct"
   },
   "outputs": [
    {
     "data": {
      "text/plain": [
       "Index(['user_id', 'track', 'artist', 'genre', 'city', 'time', 'day'], dtype='object')"
      ]
     },
     "execution_count": 8,
     "metadata": {},
     "output_type": "execute_result"
    }
   ],
   "source": [
    "df.columns # проверка результатов - перечень названий столбцов"
   ]
  },
  {
   "cell_type": "markdown",
   "metadata": {
    "id": "5ISfbcfY_Zct"
   },
   "source": [
    "### Пропуски значений\n",
    "Сначала посчитайте, сколько в таблице пропущенных значений. Для этого достаточно двух методов `pandas`:"
   ]
  },
  {
   "cell_type": "code",
   "execution_count": 9,
   "metadata": {
    "id": "RskX29qr_Zct"
   },
   "outputs": [
    {
     "data": {
      "text/plain": [
       "user_id       0\n",
       "track      1231\n",
       "artist     7203\n",
       "genre      1198\n",
       "city          0\n",
       "time          0\n",
       "day           0\n",
       "dtype: int64"
      ]
     },
     "execution_count": 9,
     "metadata": {},
     "output_type": "execute_result"
    }
   ],
   "source": [
    "df.isna().sum() # подсчёт пропусков"
   ]
  },
  {
   "cell_type": "markdown",
   "metadata": {
    "id": "qubhgnlO_Zct"
   },
   "source": [
    "Не все пропущенные значения влияют на исследование. Так в `track` и `artist` пропуски не важны для вашей работы. Достаточно заменить их явными обозначениями.\n",
    "\n",
    "Но пропуски в `genre` могут помешать сравнению музыкальных вкусов в Москве и Санкт-Петербурге. На практике было бы правильно установить причину пропусков и восстановить данные. Такой возможности нет в учебном проекте. Придётся:\n",
    "* заполнить и эти пропуски явными обозначениями,\n",
    "* оценить, насколько они повредят расчётам. "
   ]
  },
  {
   "cell_type": "markdown",
   "metadata": {
    "id": "fSv2laPA_Zct"
   },
   "source": [
    "Замените пропущенные значения в столбцах `track`, `artist` и `genre` на строку `'unknown'`. Для этого создайте список `columns_to_replace`, переберите его элементы циклом `for` и для каждого столбца выполните замену пропущенных значений:"
   ]
  },
  {
   "cell_type": "code",
   "execution_count": 10,
   "metadata": {
    "id": "KplB5qWs_Zct"
   },
   "outputs": [],
   "source": [
    "columns_to_replace = ['track', 'artist', 'genre']\n",
    "for column in columns_to_replace:\n",
    "    df[column] = df[column].fillna('unknown')\n",
    "    # перебор названий столбцов в цикле и замена пропущенных значений на 'unknown'"
   ]
  },
  {
   "cell_type": "markdown",
   "metadata": {
    "id": "Ilsm-MZo_Zct"
   },
   "source": [
    "Убедитесь, что в таблице не осталось пропусков. Для этого ещё раз посчитайте пропущенные значения."
   ]
  },
  {
   "cell_type": "code",
   "execution_count": 11,
   "metadata": {
    "id": "Tq4nYRX4_Zct",
    "scrolled": true
   },
   "outputs": [
    {
     "data": {
      "text/plain": [
       "user_id    0\n",
       "track      0\n",
       "artist     0\n",
       "genre      0\n",
       "city       0\n",
       "time       0\n",
       "day        0\n",
       "dtype: int64"
      ]
     },
     "execution_count": 11,
     "metadata": {},
     "output_type": "execute_result"
    }
   ],
   "source": [
    "df.isna().sum() # подсчёт пропусков"
   ]
  },
  {
   "cell_type": "markdown",
   "metadata": {
    "id": "BWKRtBJ3_Zct"
   },
   "source": [
    "### Дубликаты\n",
    "Посчитайте явные дубликаты в таблице одной командой:"
   ]
  },
  {
   "cell_type": "code",
   "execution_count": 12,
   "metadata": {
    "id": "36eES_S0_Zct",
    "scrolled": true
   },
   "outputs": [
    {
     "data": {
      "text/plain": [
       "3826"
      ]
     },
     "execution_count": 12,
     "metadata": {},
     "output_type": "execute_result"
    }
   ],
   "source": [
    "df.duplicated().sum()# подсчёт явных дубликатов"
   ]
  },
  {
   "cell_type": "markdown",
   "metadata": {
    "id": "Ot25h6XR_Zct"
   },
   "source": [
    "Вызовите специальный метод `pandas`, чтобы удалить явные дубликаты:"
   ]
  },
  {
   "cell_type": "code",
   "execution_count": 13,
   "metadata": {
    "id": "exFHq6tt_Zct"
   },
   "outputs": [],
   "source": [
    "df = df.drop_duplicates().reset_index(drop=True) # удаление явных дубликатов (с удалением старых индексов и формированием новых)"
   ]
  },
  {
   "cell_type": "markdown",
   "metadata": {
    "id": "Im2YwBEG_Zct"
   },
   "source": [
    "Ещё раз посчитайте явные дубликаты в таблице — убедитесь, что полностью от них избавились:"
   ]
  },
  {
   "cell_type": "code",
   "execution_count": 14,
   "metadata": {
    "id": "-8PuNWQ0_Zct"
   },
   "outputs": [
    {
     "data": {
      "text/plain": [
       "0"
      ]
     },
     "execution_count": 14,
     "metadata": {},
     "output_type": "execute_result"
    }
   ],
   "source": [
    "df.duplicated().sum() # проверка на отсутствие дубликатов"
   ]
  },
  {
   "cell_type": "markdown",
   "metadata": {
    "id": "QlFBsxAr_Zct"
   },
   "source": [
    "Теперь избавьтесь от неявных дубликатов в колонке `genre`. Например, название одного и того же жанра может быть записано немного по-разному. Такие ошибки тоже повлияют на результат исследования."
   ]
  },
  {
   "cell_type": "markdown",
   "metadata": {
    "id": "eSjWwsOh_Zct"
   },
   "source": [
    "Выведите на экран список уникальных названий жанров, отсортированный в алфавитном порядке. Для этого:\n",
    "* извлеките нужный столбец датафрейма, \n",
    "* примените к нему метод сортировки,\n",
    "* для отсортированного столбца вызовите метод, который вернёт уникальные значения из столбца."
   ]
  },
  {
   "cell_type": "code",
   "execution_count": 15,
   "metadata": {
    "id": "JIUcqzZN_Zct",
    "scrolled": false
   },
   "outputs": [
    {
     "data": {
      "text/plain": [
       "array(['acid', 'acoustic', 'action', 'adult', 'africa', 'afrikaans',\n",
       "       'alternative', 'alternativepunk', 'ambient', 'americana',\n",
       "       'animated', 'anime', 'arabesk', 'arabic', 'arena',\n",
       "       'argentinetango', 'art', 'audiobook', 'author', 'avantgarde',\n",
       "       'axé', 'baile', 'balkan', 'beats', 'bigroom', 'black', 'bluegrass',\n",
       "       'blues', 'bollywood', 'bossa', 'brazilian', 'breakbeat', 'breaks',\n",
       "       'broadway', 'cantautori', 'cantopop', 'canzone', 'caribbean',\n",
       "       'caucasian', 'celtic', 'chamber', 'chanson', 'children', 'chill',\n",
       "       'chinese', 'choral', 'christian', 'christmas', 'classical',\n",
       "       'classicmetal', 'club', 'colombian', 'comedy', 'conjazz',\n",
       "       'contemporary', 'country', 'cuban', 'dance', 'dancehall',\n",
       "       'dancepop', 'dark', 'death', 'deep', 'deutschrock', 'deutschspr',\n",
       "       'dirty', 'disco', 'dnb', 'documentary', 'downbeat', 'downtempo',\n",
       "       'drum', 'dub', 'dubstep', 'eastern', 'easy', 'electronic',\n",
       "       'electropop', 'emo', 'entehno', 'epicmetal', 'estrada', 'ethnic',\n",
       "       'eurofolk', 'european', 'experimental', 'extrememetal', 'fado',\n",
       "       'fairytail', 'film', 'fitness', 'flamenco', 'folk', 'folklore',\n",
       "       'folkmetal', 'folkrock', 'folktronica', 'forró', 'frankreich',\n",
       "       'französisch', 'french', 'funk', 'future', 'gangsta', 'garage',\n",
       "       'german', 'ghazal', 'gitarre', 'glitch', 'gospel', 'gothic',\n",
       "       'grime', 'grunge', 'gypsy', 'handsup', \"hard'n'heavy\", 'hardcore',\n",
       "       'hardstyle', 'hardtechno', 'hip', 'hip-hop', 'hiphop',\n",
       "       'historisch', 'holiday', 'hop', 'horror', 'house', 'hymn', 'idm',\n",
       "       'independent', 'indian', 'indie', 'indipop', 'industrial',\n",
       "       'inspirational', 'instrumental', 'international', 'irish', 'jam',\n",
       "       'japanese', 'jazz', 'jewish', 'jpop', 'jungle', 'k-pop',\n",
       "       'karadeniz', 'karaoke', 'kayokyoku', 'korean', 'laiko', 'latin',\n",
       "       'latino', 'leftfield', 'local', 'lounge', 'loungeelectronic',\n",
       "       'lovers', 'malaysian', 'mandopop', 'marschmusik', 'meditative',\n",
       "       'mediterranean', 'melodic', 'metal', 'metalcore', 'mexican',\n",
       "       'middle', 'minimal', 'miscellaneous', 'modern', 'mood', 'mpb',\n",
       "       'muslim', 'native', 'neoklassik', 'neue', 'new', 'newage',\n",
       "       'newwave', 'nu', 'nujazz', 'numetal', 'oceania', 'old', 'opera',\n",
       "       'orchestral', 'other', 'piano', 'podcasts', 'pop', 'popdance',\n",
       "       'popelectronic', 'popeurodance', 'poprussian', 'post',\n",
       "       'posthardcore', 'postrock', 'power', 'progmetal', 'progressive',\n",
       "       'psychedelic', 'punjabi', 'punk', 'quebecois', 'ragga', 'ram',\n",
       "       'rancheras', 'rap', 'rave', 'reggae', 'reggaeton', 'regional',\n",
       "       'relax', 'religious', 'retro', 'rhythm', 'rnb', 'rnr', 'rock',\n",
       "       'rockabilly', 'rockalternative', 'rockindie', 'rockother',\n",
       "       'romance', 'roots', 'ruspop', 'rusrap', 'rusrock', 'russian',\n",
       "       'salsa', 'samba', 'scenic', 'schlager', 'self', 'sertanejo',\n",
       "       'shanson', 'shoegazing', 'showtunes', 'singer', 'ska', 'skarock',\n",
       "       'slow', 'smooth', 'soft', 'soul', 'soulful', 'sound', 'soundtrack',\n",
       "       'southern', 'specialty', 'speech', 'spiritual', 'sport',\n",
       "       'stonerrock', 'surf', 'swing', 'synthpop', 'synthrock',\n",
       "       'sängerportrait', 'tango', 'tanzorchester', 'taraftar', 'tatar',\n",
       "       'tech', 'techno', 'teen', 'thrash', 'top', 'traditional',\n",
       "       'tradjazz', 'trance', 'tribal', 'trip', 'triphop', 'tropical',\n",
       "       'türk', 'türkçe', 'ukrrock', 'unknown', 'urban', 'uzbek',\n",
       "       'variété', 'vi', 'videogame', 'vocal', 'western', 'world',\n",
       "       'worldbeat', 'ïîï', 'электроника'], dtype=object)"
      ]
     },
     "execution_count": 15,
     "metadata": {},
     "output_type": "execute_result"
    }
   ],
   "source": [
    "df['genre'].sort_values().unique() # Просмотр уникальных названий жанров"
   ]
  },
  {
   "cell_type": "markdown",
   "metadata": {
    "id": "qej-Qmuo_Zct"
   },
   "source": [
    "Просмотрите список и найдите неявные дубликаты названия `hiphop`. Это могут быть названия с ошибками или альтернативные названия того же жанра.\n",
    "\n",
    "Вы увидите следующие неявные дубликаты:\n",
    "* *hip*,\n",
    "* *hop*,\n",
    "* *hip-hop*.\n",
    "\n",
    "Чтобы очистить от них таблицу, напишите функцию `replace_wrong_genres()` с двумя параметрами: \n",
    "* `wrong_genres` — список дубликатов,\n",
    "* `correct_genre` — строка с правильным значением.\n",
    "\n",
    "Функция должна исправить колонку `genre` в таблице `df`: заменить каждое значение из списка `wrong_genres` на значение из `correct_genre`."
   ]
  },
  {
   "cell_type": "code",
   "execution_count": 16,
   "metadata": {
    "id": "ErNDkmns_Zct"
   },
   "outputs": [],
   "source": [
    "def replace_wrong_genres(wrong_genres, correct_genre):\n",
    "    for wrong_genre in wrong_genres:\n",
    "        df['genre'] = df['genre'].replace(wrong_genre, correct_genre) # Функция для замены неявных дубликатов"
   ]
  },
  {
   "cell_type": "markdown",
   "metadata": {
    "id": "aDoBJxbA_Zct"
   },
   "source": [
    "Вызовите `replace_wrong_genres()` и передайте ей такие аргументы, чтобы она устранила неявные дубликаты: вместо `hip`, `hop` и `hip-hop` в таблице должно быть значение `hiphop`:"
   ]
  },
  {
   "cell_type": "code",
   "execution_count": 17,
   "metadata": {
    "id": "YN5i2hpmSo09",
    "scrolled": true
   },
   "outputs": [
    {
     "data": {
      "text/html": [
       "<div>\n",
       "<style scoped>\n",
       "    .dataframe tbody tr th:only-of-type {\n",
       "        vertical-align: middle;\n",
       "    }\n",
       "\n",
       "    .dataframe tbody tr th {\n",
       "        vertical-align: top;\n",
       "    }\n",
       "\n",
       "    .dataframe thead th {\n",
       "        text-align: right;\n",
       "    }\n",
       "</style>\n",
       "<table border=\"1\" class=\"dataframe\">\n",
       "  <thead>\n",
       "    <tr style=\"text-align: right;\">\n",
       "      <th></th>\n",
       "      <th>user_id</th>\n",
       "      <th>track</th>\n",
       "      <th>artist</th>\n",
       "      <th>genre</th>\n",
       "      <th>city</th>\n",
       "      <th>time</th>\n",
       "      <th>day</th>\n",
       "    </tr>\n",
       "  </thead>\n",
       "  <tbody>\n",
       "    <tr>\n",
       "      <th>0</th>\n",
       "      <td>FFB692EC</td>\n",
       "      <td>Kamigata To Boots</td>\n",
       "      <td>The Mass Missile</td>\n",
       "      <td>rock</td>\n",
       "      <td>Saint-Petersburg</td>\n",
       "      <td>20:28:33</td>\n",
       "      <td>Wednesday</td>\n",
       "    </tr>\n",
       "    <tr>\n",
       "      <th>1</th>\n",
       "      <td>55204538</td>\n",
       "      <td>Delayed Because of Accident</td>\n",
       "      <td>Andreas Rönnberg</td>\n",
       "      <td>rock</td>\n",
       "      <td>Moscow</td>\n",
       "      <td>14:07:09</td>\n",
       "      <td>Friday</td>\n",
       "    </tr>\n",
       "    <tr>\n",
       "      <th>2</th>\n",
       "      <td>20EC38</td>\n",
       "      <td>Funiculì funiculà</td>\n",
       "      <td>Mario Lanza</td>\n",
       "      <td>pop</td>\n",
       "      <td>Saint-Petersburg</td>\n",
       "      <td>20:58:07</td>\n",
       "      <td>Wednesday</td>\n",
       "    </tr>\n",
       "    <tr>\n",
       "      <th>3</th>\n",
       "      <td>A3DD03C9</td>\n",
       "      <td>Dragons in the Sunset</td>\n",
       "      <td>Fire + Ice</td>\n",
       "      <td>folk</td>\n",
       "      <td>Saint-Petersburg</td>\n",
       "      <td>08:37:09</td>\n",
       "      <td>Monday</td>\n",
       "    </tr>\n",
       "    <tr>\n",
       "      <th>4</th>\n",
       "      <td>E2DC1FAE</td>\n",
       "      <td>Soul People</td>\n",
       "      <td>Space Echo</td>\n",
       "      <td>dance</td>\n",
       "      <td>Moscow</td>\n",
       "      <td>08:34:34</td>\n",
       "      <td>Monday</td>\n",
       "    </tr>\n",
       "    <tr>\n",
       "      <th>...</th>\n",
       "      <td>...</td>\n",
       "      <td>...</td>\n",
       "      <td>...</td>\n",
       "      <td>...</td>\n",
       "      <td>...</td>\n",
       "      <td>...</td>\n",
       "      <td>...</td>\n",
       "    </tr>\n",
       "    <tr>\n",
       "      <th>61248</th>\n",
       "      <td>729CBB09</td>\n",
       "      <td>My Name</td>\n",
       "      <td>McLean</td>\n",
       "      <td>rnb</td>\n",
       "      <td>Moscow</td>\n",
       "      <td>13:32:28</td>\n",
       "      <td>Wednesday</td>\n",
       "    </tr>\n",
       "    <tr>\n",
       "      <th>61249</th>\n",
       "      <td>D08D4A55</td>\n",
       "      <td>Maybe One Day (feat. Black Spade)</td>\n",
       "      <td>Blu &amp; Exile</td>\n",
       "      <td>hiphop</td>\n",
       "      <td>Saint-Petersburg</td>\n",
       "      <td>10:00:00</td>\n",
       "      <td>Monday</td>\n",
       "    </tr>\n",
       "    <tr>\n",
       "      <th>61250</th>\n",
       "      <td>C5E3A0D5</td>\n",
       "      <td>Jalopiina</td>\n",
       "      <td>unknown</td>\n",
       "      <td>industrial</td>\n",
       "      <td>Moscow</td>\n",
       "      <td>20:09:26</td>\n",
       "      <td>Friday</td>\n",
       "    </tr>\n",
       "    <tr>\n",
       "      <th>61251</th>\n",
       "      <td>321D0506</td>\n",
       "      <td>Freight Train</td>\n",
       "      <td>Chas McDevitt</td>\n",
       "      <td>rock</td>\n",
       "      <td>Moscow</td>\n",
       "      <td>21:43:59</td>\n",
       "      <td>Friday</td>\n",
       "    </tr>\n",
       "    <tr>\n",
       "      <th>61252</th>\n",
       "      <td>3A64EF84</td>\n",
       "      <td>Tell Me Sweet Little Lies</td>\n",
       "      <td>Monica Lopez</td>\n",
       "      <td>country</td>\n",
       "      <td>Moscow</td>\n",
       "      <td>21:59:46</td>\n",
       "      <td>Friday</td>\n",
       "    </tr>\n",
       "  </tbody>\n",
       "</table>\n",
       "<p>61253 rows × 7 columns</p>\n",
       "</div>"
      ],
      "text/plain": [
       "        user_id                              track            artist  \\\n",
       "0      FFB692EC                  Kamigata To Boots  The Mass Missile   \n",
       "1      55204538        Delayed Because of Accident  Andreas Rönnberg   \n",
       "2        20EC38                  Funiculì funiculà       Mario Lanza   \n",
       "3      A3DD03C9              Dragons in the Sunset        Fire + Ice   \n",
       "4      E2DC1FAE                        Soul People        Space Echo   \n",
       "...         ...                                ...               ...   \n",
       "61248  729CBB09                            My Name            McLean   \n",
       "61249  D08D4A55  Maybe One Day (feat. Black Spade)       Blu & Exile   \n",
       "61250  C5E3A0D5                          Jalopiina           unknown   \n",
       "61251  321D0506                      Freight Train     Chas McDevitt   \n",
       "61252  3A64EF84          Tell Me Sweet Little Lies      Monica Lopez   \n",
       "\n",
       "            genre              city      time        day  \n",
       "0            rock  Saint-Petersburg  20:28:33  Wednesday  \n",
       "1            rock            Moscow  14:07:09     Friday  \n",
       "2             pop  Saint-Petersburg  20:58:07  Wednesday  \n",
       "3            folk  Saint-Petersburg  08:37:09     Monday  \n",
       "4           dance            Moscow  08:34:34     Monday  \n",
       "...           ...               ...       ...        ...  \n",
       "61248         rnb            Moscow  13:32:28  Wednesday  \n",
       "61249      hiphop  Saint-Petersburg  10:00:00     Monday  \n",
       "61250  industrial            Moscow  20:09:26     Friday  \n",
       "61251        rock            Moscow  21:43:59     Friday  \n",
       "61252     country            Moscow  21:59:46     Friday  \n",
       "\n",
       "[61253 rows x 7 columns]"
      ]
     },
     "metadata": {},
     "output_type": "display_data"
    }
   ],
   "source": [
    "duplicates = ['hip', 'hop', 'hip-hop']\n",
    "right_genre = 'hiphop'\n",
    "replace_wrong_genres (duplicates, right_genre)\n",
    "display(df) # Устранение неявных дубликатов"
   ]
  },
  {
   "cell_type": "markdown",
   "metadata": {
    "id": "zQKF16_RG15m"
   },
   "source": [
    "Проверьте, что заменили неправильные названия:\n",
    "\n",
    "*   hip\n",
    "*   hop\n",
    "*   hip-hop\n",
    "\n",
    "Выведите отсортированный список уникальных значений столбца `genre`:"
   ]
  },
  {
   "cell_type": "code",
   "execution_count": 18,
   "metadata": {
    "id": "wvixALnFG15m",
    "scrolled": false
   },
   "outputs": [
    {
     "data": {
      "text/plain": [
       "array(['acid', 'acoustic', 'action', 'adult', 'africa', 'afrikaans',\n",
       "       'alternative', 'alternativepunk', 'ambient', 'americana',\n",
       "       'animated', 'anime', 'arabesk', 'arabic', 'arena',\n",
       "       'argentinetango', 'art', 'audiobook', 'author', 'avantgarde',\n",
       "       'axé', 'baile', 'balkan', 'beats', 'bigroom', 'black', 'bluegrass',\n",
       "       'blues', 'bollywood', 'bossa', 'brazilian', 'breakbeat', 'breaks',\n",
       "       'broadway', 'cantautori', 'cantopop', 'canzone', 'caribbean',\n",
       "       'caucasian', 'celtic', 'chamber', 'chanson', 'children', 'chill',\n",
       "       'chinese', 'choral', 'christian', 'christmas', 'classical',\n",
       "       'classicmetal', 'club', 'colombian', 'comedy', 'conjazz',\n",
       "       'contemporary', 'country', 'cuban', 'dance', 'dancehall',\n",
       "       'dancepop', 'dark', 'death', 'deep', 'deutschrock', 'deutschspr',\n",
       "       'dirty', 'disco', 'dnb', 'documentary', 'downbeat', 'downtempo',\n",
       "       'drum', 'dub', 'dubstep', 'eastern', 'easy', 'electronic',\n",
       "       'electropop', 'emo', 'entehno', 'epicmetal', 'estrada', 'ethnic',\n",
       "       'eurofolk', 'european', 'experimental', 'extrememetal', 'fado',\n",
       "       'fairytail', 'film', 'fitness', 'flamenco', 'folk', 'folklore',\n",
       "       'folkmetal', 'folkrock', 'folktronica', 'forró', 'frankreich',\n",
       "       'französisch', 'french', 'funk', 'future', 'gangsta', 'garage',\n",
       "       'german', 'ghazal', 'gitarre', 'glitch', 'gospel', 'gothic',\n",
       "       'grime', 'grunge', 'gypsy', 'handsup', \"hard'n'heavy\", 'hardcore',\n",
       "       'hardstyle', 'hardtechno', 'hiphop', 'historisch', 'holiday',\n",
       "       'horror', 'house', 'hymn', 'idm', 'independent', 'indian', 'indie',\n",
       "       'indipop', 'industrial', 'inspirational', 'instrumental',\n",
       "       'international', 'irish', 'jam', 'japanese', 'jazz', 'jewish',\n",
       "       'jpop', 'jungle', 'k-pop', 'karadeniz', 'karaoke', 'kayokyoku',\n",
       "       'korean', 'laiko', 'latin', 'latino', 'leftfield', 'local',\n",
       "       'lounge', 'loungeelectronic', 'lovers', 'malaysian', 'mandopop',\n",
       "       'marschmusik', 'meditative', 'mediterranean', 'melodic', 'metal',\n",
       "       'metalcore', 'mexican', 'middle', 'minimal', 'miscellaneous',\n",
       "       'modern', 'mood', 'mpb', 'muslim', 'native', 'neoklassik', 'neue',\n",
       "       'new', 'newage', 'newwave', 'nu', 'nujazz', 'numetal', 'oceania',\n",
       "       'old', 'opera', 'orchestral', 'other', 'piano', 'podcasts', 'pop',\n",
       "       'popdance', 'popelectronic', 'popeurodance', 'poprussian', 'post',\n",
       "       'posthardcore', 'postrock', 'power', 'progmetal', 'progressive',\n",
       "       'psychedelic', 'punjabi', 'punk', 'quebecois', 'ragga', 'ram',\n",
       "       'rancheras', 'rap', 'rave', 'reggae', 'reggaeton', 'regional',\n",
       "       'relax', 'religious', 'retro', 'rhythm', 'rnb', 'rnr', 'rock',\n",
       "       'rockabilly', 'rockalternative', 'rockindie', 'rockother',\n",
       "       'romance', 'roots', 'ruspop', 'rusrap', 'rusrock', 'russian',\n",
       "       'salsa', 'samba', 'scenic', 'schlager', 'self', 'sertanejo',\n",
       "       'shanson', 'shoegazing', 'showtunes', 'singer', 'ska', 'skarock',\n",
       "       'slow', 'smooth', 'soft', 'soul', 'soulful', 'sound', 'soundtrack',\n",
       "       'southern', 'specialty', 'speech', 'spiritual', 'sport',\n",
       "       'stonerrock', 'surf', 'swing', 'synthpop', 'synthrock',\n",
       "       'sängerportrait', 'tango', 'tanzorchester', 'taraftar', 'tatar',\n",
       "       'tech', 'techno', 'teen', 'thrash', 'top', 'traditional',\n",
       "       'tradjazz', 'trance', 'tribal', 'trip', 'triphop', 'tropical',\n",
       "       'türk', 'türkçe', 'ukrrock', 'unknown', 'urban', 'uzbek',\n",
       "       'variété', 'vi', 'videogame', 'vocal', 'western', 'world',\n",
       "       'worldbeat', 'ïîï', 'электроника'], dtype=object)"
      ]
     },
     "execution_count": 18,
     "metadata": {},
     "output_type": "execute_result"
    }
   ],
   "source": [
    "df['genre'].sort_values().unique() # Проверка на неявные дубликаты"
   ]
  },
  {
   "cell_type": "markdown",
   "metadata": {
    "id": "jz6a9-7HQUDd"
   },
   "source": [
    "**Выводы**\n",
    "\n",
    "Предобработка обнаружила три проблемы в данных:\n",
    "\n",
    "- нарушения в стиле заголовков,\n",
    "- пропущенные значения,\n",
    "- дубликаты — явные и неявные.\n",
    "\n",
    "Вы исправили заголовки, чтобы упростить работу с таблицей. Без дубликатов исследование станет более точным.\n",
    "\n",
    "Пропущенные значения вы заменили на `'unknown'`. Ещё предстоит увидеть, не повредят ли исследованию пропуски в колонке `genre`.\n",
    "\n",
    "Теперь можно перейти к проверке гипотез. "
   ]
  },
  {
   "cell_type": "markdown",
   "metadata": {
    "id": "WttZHXH0SqKk"
   },
   "source": [
    "## Проверка гипотез"
   ]
  },
  {
   "cell_type": "markdown",
   "metadata": {
    "id": "Im936VVi_Zcu"
   },
   "source": [
    "### Сравнение поведения пользователей двух столиц"
   ]
  },
  {
   "cell_type": "markdown",
   "metadata": {
    "id": "nwt_MuaL_Zcu"
   },
   "source": [
    "Первая гипотеза утверждает, что пользователи по-разному слушают музыку в Москве и Санкт-Петербурге. Проверьте это предположение по данным о трёх днях недели — понедельнике, среде и пятнице. Для этого:\n",
    "\n",
    "* Разделите пользователей Москвы и Санкт-Петербурга\n",
    "* Сравните, сколько треков послушала каждая группа пользователей в понедельник, среду и пятницу.\n"
   ]
  },
  {
   "cell_type": "markdown",
   "metadata": {
    "id": "8Dw_YMmT_Zcu"
   },
   "source": [
    "Для тренировки сначала выполните каждый из расчётов по отдельности. \n",
    "\n",
    "Оцените активность пользователей в каждом городе. Сгруппируйте данные по городу и посчитайте прослушивания в каждой группе.\n",
    "\n"
   ]
  },
  {
   "cell_type": "code",
   "execution_count": 19,
   "metadata": {
    "id": "0_Qs96oh_Zcu"
   },
   "outputs": [
    {
     "data": {
      "text/plain": [
       "city\n",
       "Moscow              42741\n",
       "Saint-Petersburg    18512\n",
       "Name: city, dtype: int64"
      ]
     },
     "execution_count": 19,
     "metadata": {},
     "output_type": "execute_result"
    }
   ],
   "source": [
    "df.groupby('city')['city'].count() # Подсчёт прослушиваний в каждом городе"
   ]
  },
  {
   "cell_type": "markdown",
   "metadata": {
    "id": "dzli3w8o_Zcu"
   },
   "source": [
    "В Москве прослушиваний больше, чем в Петербурге. Из этого не следует, что московские пользователи чаще слушают музыку. Просто самих пользователей в Москве больше.\n",
    "\n",
    "Теперь сгруппируйте данные по дню недели и подсчитайте прослушивания в понедельник, среду и пятницу. Учтите, что в данных есть информация о прослушиваниях только за эти дни.\n"
   ]
  },
  {
   "cell_type": "code",
   "execution_count": 20,
   "metadata": {
    "id": "uZMKjiJz_Zcu"
   },
   "outputs": [
    {
     "data": {
      "text/plain": [
       "day\n",
       "Friday       21840\n",
       "Monday       21354\n",
       "Wednesday    18059\n",
       "Name: day, dtype: int64"
      ]
     },
     "execution_count": 20,
     "metadata": {},
     "output_type": "execute_result"
    }
   ],
   "source": [
    "df.groupby('day')['day'].count()# Подсчёт прослушиваний в каждый из трёх дней"
   ]
  },
  {
   "cell_type": "markdown",
   "metadata": {
    "id": "cC2tNrlL_Zcu"
   },
   "source": [
    "В среднем пользователи из двух городов менее активны по средам. Но картина может измениться, если рассмотреть каждый город в отдельности."
   ]
  },
  {
   "cell_type": "markdown",
   "metadata": {
    "id": "POzs8bGa_Zcu"
   },
   "source": [
    "Вы видели, как работает группировка по городу и по дням недели. Теперь напишите функцию, которая объединит два эти расчёта.\n",
    "\n",
    "Создайте функцию `number_tracks()`, которая посчитает прослушивания для заданного дня и города. Ей понадобятся два параметра:\n",
    "* день недели,\n",
    "* название города.\n",
    "\n",
    "В функции сохраните в переменную строки исходной таблицы, у которых значение:\n",
    "  * в колонке `day` равно параметру `day`,\n",
    "  * в колонке `city` равно параметру `city`.\n",
    "\n",
    "Для этого примените последовательную фильтрацию с логической индексацией.\n",
    "\n",
    "Затем посчитайте значения в столбце `user_id` получившейся таблицы. Результат сохраните в новую переменную. Верните эту переменную из функции."
   ]
  },
  {
   "cell_type": "code",
   "execution_count": 21,
   "metadata": {
    "id": "Nz3GdQB1_Zcu"
   },
   "outputs": [],
   "source": [
    "# создание функции number_tracks()\n",
    "    \n",
    "def number_tracks(day, city):\n",
    "    track_list = df[(df['day'] == day) & (df['city'] == city)]\n",
    "    track_list_count = track_list['user_id'].count()\n",
    "    return track_list_count\n",
    "\n",
    "# Объявляется функция с двумя параметрами: day, city.\n",
    "# В переменной track_list сохраняются те строки таблицы df, для которых \n",
    "# значение в столбце 'day' равно параметру day и одновременно значение\n",
    "# в столбце 'city' равно параметру city (используйте последовательную фильтрацию\n",
    "# с помощью логической индексации).\n",
    "\n",
    "# В переменной track_list_count сохраняется число значений столбца 'user_id',\n",
    "# рассчитанное методом count() для таблицы track_list.\n",
    "# Функция возвращает число - значение track_list_count.\n",
    "\n",
    "# Функция для подсчёта прослушиваний для конкретного города и дня.\n",
    "# С помощью последовательной фильтрации с логической индексацией она \n",
    "# сначала получит из исходной таблицы строки с нужным днём,\n",
    "# затем из результата отфильтрует строки с нужным городом,\n",
    "# методом count() посчитает количество значений в колонке user_id. \n",
    "# Это количество функция вернёт в качестве результата"
   ]
  },
  {
   "cell_type": "markdown",
   "metadata": {
    "id": "ytf7xFrFJQ2r"
   },
   "source": [
    "Вызовите `number_tracks()` шесть раз, меняя значение параметров — так, чтобы получить данные для каждого города в каждый из трёх дней."
   ]
  },
  {
   "cell_type": "code",
   "execution_count": 22,
   "metadata": {
    "id": "rJcRATNQ_Zcu"
   },
   "outputs": [
    {
     "data": {
      "text/plain": [
       "15740"
      ]
     },
     "execution_count": 22,
     "metadata": {},
     "output_type": "execute_result"
    }
   ],
   "source": [
    "number_tracks('Monday', 'Moscow') # количество прослушиваний в Москве по понедельникам"
   ]
  },
  {
   "cell_type": "code",
   "execution_count": 23,
   "metadata": {
    "id": "hq_ncZ5T_Zcu"
   },
   "outputs": [
    {
     "data": {
      "text/plain": [
       "5614"
      ]
     },
     "execution_count": 23,
     "metadata": {},
     "output_type": "execute_result"
    }
   ],
   "source": [
    "number_tracks('Monday', 'Saint-Petersburg')# количество прослушиваний в Санкт-Петербурге по понедельникам"
   ]
  },
  {
   "cell_type": "code",
   "execution_count": 24,
   "metadata": {
    "id": "_NTy2VPU_Zcu"
   },
   "outputs": [
    {
     "data": {
      "text/plain": [
       "11056"
      ]
     },
     "execution_count": 24,
     "metadata": {},
     "output_type": "execute_result"
    }
   ],
   "source": [
    "number_tracks('Wednesday', 'Moscow')# количество прослушиваний в Москве по средам"
   ]
  },
  {
   "cell_type": "code",
   "execution_count": 25,
   "metadata": {
    "id": "j2y3TAwo_Zcu"
   },
   "outputs": [
    {
     "data": {
      "text/plain": [
       "7003"
      ]
     },
     "execution_count": 25,
     "metadata": {},
     "output_type": "execute_result"
    }
   ],
   "source": [
    "number_tracks('Wednesday', 'Saint-Petersburg')# количество прослушиваний в Санкт-Петербурге по средам"
   ]
  },
  {
   "cell_type": "code",
   "execution_count": 26,
   "metadata": {
    "id": "vYDw5u_K_Zcu"
   },
   "outputs": [
    {
     "data": {
      "text/plain": [
       "15945"
      ]
     },
     "execution_count": 26,
     "metadata": {},
     "output_type": "execute_result"
    }
   ],
   "source": [
    "number_tracks('Friday', 'Moscow')# количество прослушиваний в Москве по пятницам"
   ]
  },
  {
   "cell_type": "code",
   "execution_count": 27,
   "metadata": {
    "id": "8_yzFtW3_Zcu"
   },
   "outputs": [
    {
     "data": {
      "text/plain": [
       "5895"
      ]
     },
     "execution_count": 27,
     "metadata": {},
     "output_type": "execute_result"
    }
   ],
   "source": [
    "number_tracks('Friday', 'Saint-Petersburg')# количество прослушиваний в Санкт-Петербурге по пятницам"
   ]
  },
  {
   "cell_type": "markdown",
   "metadata": {
    "id": "7QXffbO-_Zcu"
   },
   "source": [
    "Создайте c помощью конструктора `pd.DataFrame` таблицу, где\n",
    "* названия колонок — `['city', 'monday', 'wednesday', 'friday']`;\n",
    "* данные — результаты, которые вы получили с помощью `number_tracks`."
   ]
  },
  {
   "cell_type": "code",
   "execution_count": 28,
   "metadata": {
    "id": "APAcLpOr_Zcu"
   },
   "outputs": [
    {
     "data": {
      "text/html": [
       "<div>\n",
       "<style scoped>\n",
       "    .dataframe tbody tr th:only-of-type {\n",
       "        vertical-align: middle;\n",
       "    }\n",
       "\n",
       "    .dataframe tbody tr th {\n",
       "        vertical-align: top;\n",
       "    }\n",
       "\n",
       "    .dataframe thead th {\n",
       "        text-align: right;\n",
       "    }\n",
       "</style>\n",
       "<table border=\"1\" class=\"dataframe\">\n",
       "  <thead>\n",
       "    <tr style=\"text-align: right;\">\n",
       "      <th></th>\n",
       "      <th>city</th>\n",
       "      <th>monday</th>\n",
       "      <th>wednesday</th>\n",
       "      <th>friday</th>\n",
       "    </tr>\n",
       "  </thead>\n",
       "  <tbody>\n",
       "    <tr>\n",
       "      <th>0</th>\n",
       "      <td>Moscow</td>\n",
       "      <td>15740</td>\n",
       "      <td>11056</td>\n",
       "      <td>15945</td>\n",
       "    </tr>\n",
       "    <tr>\n",
       "      <th>1</th>\n",
       "      <td>Saint-Petersburg</td>\n",
       "      <td>5614</td>\n",
       "      <td>7003</td>\n",
       "      <td>5895</td>\n",
       "    </tr>\n",
       "  </tbody>\n",
       "</table>\n",
       "</div>"
      ],
      "text/plain": [
       "               city  monday  wednesday  friday\n",
       "0            Moscow   15740      11056   15945\n",
       "1  Saint-Petersburg    5614       7003    5895"
      ]
     },
     "metadata": {},
     "output_type": "display_data"
    }
   ],
   "source": [
    "data = [['Moscow', number_tracks('Monday', 'Moscow'), number_tracks('Wednesday', 'Moscow'), number_tracks('Friday', 'Moscow')],\n",
    "        ['Saint-Petersburg', number_tracks('Monday', 'Saint-Petersburg'), number_tracks('Wednesday', 'Saint-Petersburg'), number_tracks('Friday', 'Saint-Petersburg')]] \n",
    "columns = ['city', 'monday', 'wednesday', 'friday'] \n",
    "df_music = pd.DataFrame(data = data, columns = columns)\n",
    "display (df_music) # Таблица с результатами"
   ]
  },
  {
   "cell_type": "markdown",
   "metadata": {
    "id": "-EgPIHYu_Zcu"
   },
   "source": [
    "**Выводы**\n",
    "\n",
    "Данные показывают разницу поведения пользователей:\n",
    "\n",
    "- В Москве пик прослушиваний приходится на понедельник и пятницу, а в среду заметен спад.\n",
    "- В Петербурге, наоборот, больше слушают музыку по средам. Активность в понедельник и пятницу здесь почти в равной мере уступает среде.\n",
    "\n",
    "Значит, данные говорят в пользу первой гипотезы."
   ]
  },
  {
   "cell_type": "markdown",
   "metadata": {
    "id": "atZAxtq4_Zcu"
   },
   "source": [
    "### Музыка в начале и в конце недели"
   ]
  },
  {
   "cell_type": "markdown",
   "metadata": {
    "id": "eXrQqXFH_Zcu"
   },
   "source": [
    "Согласно второй гипотезе, утром в понедельник в Москве преобладают одни жанры, а в Петербурге — другие. Так же и вечером пятницы преобладают разные жанры — в зависимости от города."
   ]
  },
  {
   "cell_type": "markdown",
   "metadata": {
    "id": "S8UcW6Hw_Zcu"
   },
   "source": [
    "Сохраните таблицы с данными в две переменные:\n",
    "* по Москве — в `moscow_general`;\n",
    "* по Санкт-Петербургу — в `spb_general`."
   ]
  },
  {
   "cell_type": "code",
   "execution_count": 29,
   "metadata": {
    "id": "qeaFfM_P_Zcu"
   },
   "outputs": [
    {
     "data": {
      "text/html": [
       "<div>\n",
       "<style scoped>\n",
       "    .dataframe tbody tr th:only-of-type {\n",
       "        vertical-align: middle;\n",
       "    }\n",
       "\n",
       "    .dataframe tbody tr th {\n",
       "        vertical-align: top;\n",
       "    }\n",
       "\n",
       "    .dataframe thead th {\n",
       "        text-align: right;\n",
       "    }\n",
       "</style>\n",
       "<table border=\"1\" class=\"dataframe\">\n",
       "  <thead>\n",
       "    <tr style=\"text-align: right;\">\n",
       "      <th></th>\n",
       "      <th>user_id</th>\n",
       "      <th>track</th>\n",
       "      <th>artist</th>\n",
       "      <th>genre</th>\n",
       "      <th>city</th>\n",
       "      <th>time</th>\n",
       "      <th>day</th>\n",
       "    </tr>\n",
       "  </thead>\n",
       "  <tbody>\n",
       "    <tr>\n",
       "      <th>1</th>\n",
       "      <td>55204538</td>\n",
       "      <td>Delayed Because of Accident</td>\n",
       "      <td>Andreas Rönnberg</td>\n",
       "      <td>rock</td>\n",
       "      <td>Moscow</td>\n",
       "      <td>14:07:09</td>\n",
       "      <td>Friday</td>\n",
       "    </tr>\n",
       "    <tr>\n",
       "      <th>4</th>\n",
       "      <td>E2DC1FAE</td>\n",
       "      <td>Soul People</td>\n",
       "      <td>Space Echo</td>\n",
       "      <td>dance</td>\n",
       "      <td>Moscow</td>\n",
       "      <td>08:34:34</td>\n",
       "      <td>Monday</td>\n",
       "    </tr>\n",
       "    <tr>\n",
       "      <th>6</th>\n",
       "      <td>4CB90AA5</td>\n",
       "      <td>True</td>\n",
       "      <td>Roman Messer</td>\n",
       "      <td>dance</td>\n",
       "      <td>Moscow</td>\n",
       "      <td>13:00:07</td>\n",
       "      <td>Wednesday</td>\n",
       "    </tr>\n",
       "    <tr>\n",
       "      <th>7</th>\n",
       "      <td>F03E1C1F</td>\n",
       "      <td>Feeling This Way</td>\n",
       "      <td>Polina Griffith</td>\n",
       "      <td>dance</td>\n",
       "      <td>Moscow</td>\n",
       "      <td>20:47:49</td>\n",
       "      <td>Wednesday</td>\n",
       "    </tr>\n",
       "    <tr>\n",
       "      <th>8</th>\n",
       "      <td>8FA1D3BE</td>\n",
       "      <td>И вновь продолжается бой</td>\n",
       "      <td>unknown</td>\n",
       "      <td>ruspop</td>\n",
       "      <td>Moscow</td>\n",
       "      <td>09:17:40</td>\n",
       "      <td>Friday</td>\n",
       "    </tr>\n",
       "    <tr>\n",
       "      <th>10</th>\n",
       "      <td>BC5A3A29</td>\n",
       "      <td>Gool la Mita</td>\n",
       "      <td>Shireen Abdul Wahab</td>\n",
       "      <td>world</td>\n",
       "      <td>Moscow</td>\n",
       "      <td>14:08:42</td>\n",
       "      <td>Monday</td>\n",
       "    </tr>\n",
       "    <tr>\n",
       "      <th>11</th>\n",
       "      <td>8B5192C0</td>\n",
       "      <td>Is There Anybody Out There? (Panoramic Paralys...</td>\n",
       "      <td>Pink Floyd Floydhead</td>\n",
       "      <td>electronic</td>\n",
       "      <td>Moscow</td>\n",
       "      <td>13:47:49</td>\n",
       "      <td>Monday</td>\n",
       "    </tr>\n",
       "    <tr>\n",
       "      <th>12</th>\n",
       "      <td>FF3FD2BD</td>\n",
       "      <td>Мина син генэ кирэк</td>\n",
       "      <td>Ильдар Хакимов</td>\n",
       "      <td>pop</td>\n",
       "      <td>Moscow</td>\n",
       "      <td>09:19:49</td>\n",
       "      <td>Monday</td>\n",
       "    </tr>\n",
       "    <tr>\n",
       "      <th>13</th>\n",
       "      <td>CC782B0F</td>\n",
       "      <td>After School Special</td>\n",
       "      <td>Detroit Grand Pubahs</td>\n",
       "      <td>dance</td>\n",
       "      <td>Moscow</td>\n",
       "      <td>20:04:12</td>\n",
       "      <td>Friday</td>\n",
       "    </tr>\n",
       "    <tr>\n",
       "      <th>15</th>\n",
       "      <td>E3C5756F</td>\n",
       "      <td>unknown</td>\n",
       "      <td>unknown</td>\n",
       "      <td>unknown</td>\n",
       "      <td>Moscow</td>\n",
       "      <td>09:24:51</td>\n",
       "      <td>Monday</td>\n",
       "    </tr>\n",
       "  </tbody>\n",
       "</table>\n",
       "</div>"
      ],
      "text/plain": [
       "     user_id                                              track  \\\n",
       "1   55204538                        Delayed Because of Accident   \n",
       "4   E2DC1FAE                                        Soul People   \n",
       "6   4CB90AA5                                               True   \n",
       "7   F03E1C1F                                   Feeling This Way   \n",
       "8   8FA1D3BE                           И вновь продолжается бой   \n",
       "10  BC5A3A29                                       Gool la Mita   \n",
       "11  8B5192C0  Is There Anybody Out There? (Panoramic Paralys...   \n",
       "12  FF3FD2BD                                Мина син генэ кирэк   \n",
       "13  CC782B0F                               After School Special   \n",
       "15  E3C5756F                                            unknown   \n",
       "\n",
       "                  artist       genre    city      time        day  \n",
       "1       Andreas Rönnberg        rock  Moscow  14:07:09     Friday  \n",
       "4             Space Echo       dance  Moscow  08:34:34     Monday  \n",
       "6           Roman Messer       dance  Moscow  13:00:07  Wednesday  \n",
       "7        Polina Griffith       dance  Moscow  20:47:49  Wednesday  \n",
       "8                unknown      ruspop  Moscow  09:17:40     Friday  \n",
       "10   Shireen Abdul Wahab       world  Moscow  14:08:42     Monday  \n",
       "11  Pink Floyd Floydhead  electronic  Moscow  13:47:49     Monday  \n",
       "12        Ильдар Хакимов         pop  Moscow  09:19:49     Monday  \n",
       "13  Detroit Grand Pubahs       dance  Moscow  20:04:12     Friday  \n",
       "15               unknown     unknown  Moscow  09:24:51     Monday  "
      ]
     },
     "execution_count": 29,
     "metadata": {},
     "output_type": "execute_result"
    }
   ],
   "source": [
    "moscow_general = df[df['city'] == 'Moscow']\n",
    "# получение таблицы moscow_general из тех строк таблицы df, \n",
    "# для которых значение в столбце 'city' равно 'Moscow'\n",
    "moscow_general.head(10) # просмотр результата преобразования"
   ]
  },
  {
   "cell_type": "code",
   "execution_count": 30,
   "metadata": {
    "id": "ORaVRKto_Zcu"
   },
   "outputs": [
    {
     "data": {
      "text/html": [
       "<div>\n",
       "<style scoped>\n",
       "    .dataframe tbody tr th:only-of-type {\n",
       "        vertical-align: middle;\n",
       "    }\n",
       "\n",
       "    .dataframe tbody tr th {\n",
       "        vertical-align: top;\n",
       "    }\n",
       "\n",
       "    .dataframe thead th {\n",
       "        text-align: right;\n",
       "    }\n",
       "</style>\n",
       "<table border=\"1\" class=\"dataframe\">\n",
       "  <thead>\n",
       "    <tr style=\"text-align: right;\">\n",
       "      <th></th>\n",
       "      <th>user_id</th>\n",
       "      <th>track</th>\n",
       "      <th>artist</th>\n",
       "      <th>genre</th>\n",
       "      <th>city</th>\n",
       "      <th>time</th>\n",
       "      <th>day</th>\n",
       "    </tr>\n",
       "  </thead>\n",
       "  <tbody>\n",
       "    <tr>\n",
       "      <th>0</th>\n",
       "      <td>FFB692EC</td>\n",
       "      <td>Kamigata To Boots</td>\n",
       "      <td>The Mass Missile</td>\n",
       "      <td>rock</td>\n",
       "      <td>Saint-Petersburg</td>\n",
       "      <td>20:28:33</td>\n",
       "      <td>Wednesday</td>\n",
       "    </tr>\n",
       "    <tr>\n",
       "      <th>2</th>\n",
       "      <td>20EC38</td>\n",
       "      <td>Funiculì funiculà</td>\n",
       "      <td>Mario Lanza</td>\n",
       "      <td>pop</td>\n",
       "      <td>Saint-Petersburg</td>\n",
       "      <td>20:58:07</td>\n",
       "      <td>Wednesday</td>\n",
       "    </tr>\n",
       "    <tr>\n",
       "      <th>3</th>\n",
       "      <td>A3DD03C9</td>\n",
       "      <td>Dragons in the Sunset</td>\n",
       "      <td>Fire + Ice</td>\n",
       "      <td>folk</td>\n",
       "      <td>Saint-Petersburg</td>\n",
       "      <td>08:37:09</td>\n",
       "      <td>Monday</td>\n",
       "    </tr>\n",
       "    <tr>\n",
       "      <th>5</th>\n",
       "      <td>842029A1</td>\n",
       "      <td>Преданная</td>\n",
       "      <td>IMPERVTOR</td>\n",
       "      <td>rusrap</td>\n",
       "      <td>Saint-Petersburg</td>\n",
       "      <td>13:09:41</td>\n",
       "      <td>Friday</td>\n",
       "    </tr>\n",
       "    <tr>\n",
       "      <th>9</th>\n",
       "      <td>E772D5C0</td>\n",
       "      <td>Pessimist</td>\n",
       "      <td>unknown</td>\n",
       "      <td>dance</td>\n",
       "      <td>Saint-Petersburg</td>\n",
       "      <td>21:20:49</td>\n",
       "      <td>Wednesday</td>\n",
       "    </tr>\n",
       "    <tr>\n",
       "      <th>14</th>\n",
       "      <td>94EB25C2</td>\n",
       "      <td>Make Love Whenever You Can</td>\n",
       "      <td>Arabesque</td>\n",
       "      <td>pop</td>\n",
       "      <td>Saint-Petersburg</td>\n",
       "      <td>13:22:08</td>\n",
       "      <td>Wednesday</td>\n",
       "    </tr>\n",
       "    <tr>\n",
       "      <th>16</th>\n",
       "      <td>81D05C7D</td>\n",
       "      <td>SLAVES OF FEAR</td>\n",
       "      <td>HEALTH</td>\n",
       "      <td>alternative</td>\n",
       "      <td>Saint-Petersburg</td>\n",
       "      <td>20:54:48</td>\n",
       "      <td>Monday</td>\n",
       "    </tr>\n",
       "    <tr>\n",
       "      <th>17</th>\n",
       "      <td>39DE290E</td>\n",
       "      <td>Веснянка</td>\n",
       "      <td>Веданъ Колодъ</td>\n",
       "      <td>folk</td>\n",
       "      <td>Saint-Petersburg</td>\n",
       "      <td>14:36:47</td>\n",
       "      <td>Monday</td>\n",
       "    </tr>\n",
       "    <tr>\n",
       "      <th>18</th>\n",
       "      <td>58AE138A</td>\n",
       "      <td>Pat-a-Cake</td>\n",
       "      <td>Mother Goose Club</td>\n",
       "      <td>children</td>\n",
       "      <td>Saint-Petersburg</td>\n",
       "      <td>20:04:56</td>\n",
       "      <td>Monday</td>\n",
       "    </tr>\n",
       "    <tr>\n",
       "      <th>22</th>\n",
       "      <td>B8E29C9C</td>\n",
       "      <td>Самота</td>\n",
       "      <td>unknown</td>\n",
       "      <td>folk</td>\n",
       "      <td>Saint-Petersburg</td>\n",
       "      <td>20:20:49</td>\n",
       "      <td>Wednesday</td>\n",
       "    </tr>\n",
       "  </tbody>\n",
       "</table>\n",
       "</div>"
      ],
      "text/plain": [
       "     user_id                       track             artist        genre  \\\n",
       "0   FFB692EC           Kamigata To Boots   The Mass Missile         rock   \n",
       "2     20EC38           Funiculì funiculà        Mario Lanza          pop   \n",
       "3   A3DD03C9       Dragons in the Sunset         Fire + Ice         folk   \n",
       "5   842029A1                   Преданная          IMPERVTOR       rusrap   \n",
       "9   E772D5C0                   Pessimist            unknown        dance   \n",
       "14  94EB25C2  Make Love Whenever You Can          Arabesque          pop   \n",
       "16  81D05C7D              SLAVES OF FEAR             HEALTH  alternative   \n",
       "17  39DE290E                    Веснянка      Веданъ Колодъ         folk   \n",
       "18  58AE138A                  Pat-a-Cake  Mother Goose Club     children   \n",
       "22  B8E29C9C                      Самота            unknown         folk   \n",
       "\n",
       "                city      time        day  \n",
       "0   Saint-Petersburg  20:28:33  Wednesday  \n",
       "2   Saint-Petersburg  20:58:07  Wednesday  \n",
       "3   Saint-Petersburg  08:37:09     Monday  \n",
       "5   Saint-Petersburg  13:09:41     Friday  \n",
       "9   Saint-Petersburg  21:20:49  Wednesday  \n",
       "14  Saint-Petersburg  13:22:08  Wednesday  \n",
       "16  Saint-Petersburg  20:54:48     Monday  \n",
       "17  Saint-Petersburg  14:36:47     Monday  \n",
       "18  Saint-Petersburg  20:04:56     Monday  \n",
       "22  Saint-Petersburg  20:20:49  Wednesday  "
      ]
     },
     "execution_count": 30,
     "metadata": {},
     "output_type": "execute_result"
    }
   ],
   "source": [
    "spb_general = df[df['city'] == 'Saint-Petersburg']\n",
    "# получение таблицы spb_general из тех строк таблицы df,\n",
    "# для которых значение в столбце 'city' равно 'Saint-Petersburg'\n",
    "spb_general.head(10) # просмотр результата преобразования"
   ]
  },
  {
   "cell_type": "markdown",
   "metadata": {
    "id": "MEJV-CX2_Zcu"
   },
   "source": [
    "Создайте функцию `genre_weekday()` с четырьмя параметрами:\n",
    "* таблица (датафрейм) с данными,\n",
    "* день недели,\n",
    "* начальная временная метка в формате 'hh:mm', \n",
    "* последняя временная метка в формате 'hh:mm'.\n",
    "\n",
    "Функция должна вернуть информацию о топ-10 жанров тех треков, которые прослушивали в указанный день, в промежутке между двумя отметками времени."
   ]
  },
  {
   "cell_type": "code",
   "execution_count": 31,
   "metadata": {
    "id": "laJT9BYl_Zcu"
   },
   "outputs": [],
   "source": [
    "# Объявление функции genre_weekday() с параметрами table, day, time1, time2,\n",
    "# которая возвращает информацию о самых популярных жанрах в указанный день в\n",
    "# заданное время:\n",
    "def genre_weekday(table, day, time1, time2):\n",
    "    genre_df = table[table['day'] == day]\n",
    "    genre_df = genre_df[genre_df['time'] > time1]\n",
    "    genre_df = genre_df[genre_df['time'] < time2]\n",
    "    genre_df_count = genre_df.groupby('genre')['genre'].count()\n",
    "    genre_df_sorted = genre_df_count.sort_values(ascending=False)\n",
    "    return genre_df_sorted[:10]\n",
    "# 1) в переменную genre_df сохраняются те строки переданного датафрейма table, для\n",
    "#    которых одновременно:\n",
    "#    - значение в столбце day равно значению аргумента day\n",
    "#    - значение в столбце time больше значения аргумента time1\n",
    "#    - значение в столбце time меньше значения аргумента time2\n",
    "#    Используйте последовательную фильтрацию с помощью логической индексации.\n",
    "# 2) сгруппировать датафрейм genre_df по столбцу genre, взять один из его\n",
    "#    столбцов и посчитать методом count() количество записей для каждого из\n",
    "#    присутствующих жанров, получившийся Series записать в переменную\n",
    "#    genre_df_count\n",
    "# 3) отсортировать genre_df_count по убыванию встречаемости и сохранить\n",
    "#    в переменную genre_df_sorted\n",
    "# 4) вернуть Series из 10 первых значений genre_df_sorted, это будут топ-10\n",
    "#    популярных жанров (в указанный день, в заданное время)"
   ]
  },
  {
   "cell_type": "markdown",
   "metadata": {
    "id": "la2s2_PF_Zcu"
   },
   "source": [
    "Cравните результаты функции `genre_weekday()` для Москвы и Санкт-Петербурга в понедельник утром (с 7:00 до 11:00) и в пятницу вечером (с 17:00 до 23:00):"
   ]
  },
  {
   "cell_type": "code",
   "execution_count": 32,
   "metadata": {
    "id": "yz7itPUQ_Zcu"
   },
   "outputs": [
    {
     "data": {
      "text/plain": [
       "genre\n",
       "pop            781\n",
       "dance          549\n",
       "electronic     480\n",
       "rock           474\n",
       "hiphop         286\n",
       "ruspop         186\n",
       "world          181\n",
       "rusrap         175\n",
       "alternative    164\n",
       "unknown        161\n",
       "Name: genre, dtype: int64"
      ]
     },
     "execution_count": 32,
     "metadata": {},
     "output_type": "execute_result"
    }
   ],
   "source": [
    "genre_weekday(moscow_general, 'Monday', '07:00', '11:00')\n",
    "# вызов функции для утра понедельника в Москве (вместо df — таблица moscow_general)\n",
    "# объекты, хранящие время, являются строками и сравниваются как строки\n",
    "# пример вызова: genre_weekday(moscow_general, 'Monday', '07:00', '11:00')"
   ]
  },
  {
   "cell_type": "code",
   "execution_count": 33,
   "metadata": {
    "id": "kwUcHPdy_Zcu"
   },
   "outputs": [
    {
     "data": {
      "text/plain": [
       "genre\n",
       "pop            218\n",
       "dance          182\n",
       "rock           162\n",
       "electronic     147\n",
       "hiphop          80\n",
       "ruspop          64\n",
       "alternative     58\n",
       "rusrap          55\n",
       "jazz            44\n",
       "classical       40\n",
       "Name: genre, dtype: int64"
      ]
     },
     "execution_count": 33,
     "metadata": {},
     "output_type": "execute_result"
    }
   ],
   "source": [
    "genre_weekday(spb_general, 'Monday', '07:00', '11:00')\n",
    "# вызов функции для утра понедельника в Петербурге (вместо df — таблица spb_general)"
   ]
  },
  {
   "cell_type": "code",
   "execution_count": 34,
   "metadata": {
    "id": "EzXVRE1o_Zcu"
   },
   "outputs": [
    {
     "data": {
      "text/plain": [
       "genre\n",
       "pop            713\n",
       "rock           517\n",
       "dance          495\n",
       "electronic     482\n",
       "hiphop         273\n",
       "world          208\n",
       "ruspop         170\n",
       "alternative    163\n",
       "classical      163\n",
       "rusrap         142\n",
       "Name: genre, dtype: int64"
      ]
     },
     "execution_count": 34,
     "metadata": {},
     "output_type": "execute_result"
    }
   ],
   "source": [
    "genre_weekday(moscow_general, 'Friday', '17:00', '23:00')# вызов функции для вечера пятницы в Москве"
   ]
  },
  {
   "cell_type": "code",
   "execution_count": 35,
   "metadata": {
    "id": "JZaEKu5v_Zcu"
   },
   "outputs": [
    {
     "data": {
      "text/plain": [
       "genre\n",
       "pop            256\n",
       "electronic     216\n",
       "rock           216\n",
       "dance          210\n",
       "hiphop          97\n",
       "alternative     63\n",
       "jazz            61\n",
       "classical       60\n",
       "rusrap          59\n",
       "world           54\n",
       "Name: genre, dtype: int64"
      ]
     },
     "execution_count": 35,
     "metadata": {},
     "output_type": "execute_result"
    }
   ],
   "source": [
    "genre_weekday(spb_general, 'Friday', '17:00', '23:00')# вызов функции для вечера пятницы в Петербурге"
   ]
  },
  {
   "cell_type": "markdown",
   "metadata": {
    "id": "wrCe4MNX_Zcu"
   },
   "source": [
    "**Выводы**\n",
    "\n",
    "Если сравнить топ-10 жанров в понедельник утром, можно сделать такие выводы:\n",
    "\n",
    "1. В Москве и Петербурге слушают похожую музыку. Единственное отличие — в московский рейтинг вошёл жанр “world”, а в петербургский — джаз и классика.\n",
    "\n",
    "2. В Москве пропущенных значений оказалось так много, что значение `'unknown'` заняло десятое место среди самых популярных жанров. Значит, пропущенные значения занимают существенную долю в данных и угрожают достоверности исследования.\n",
    "\n",
    "Вечер пятницы не меняет эту картину. Некоторые жанры поднимаются немного выше, другие спускаются, но в целом топ-10 остаётся тем же самым.\n",
    "\n",
    "Таким образом, вторая гипотеза подтвердилась лишь частично:\n",
    "* Пользователи слушают похожую музыку в начале недели и в конце.\n",
    "* Разница между Москвой и Петербургом не слишком выражена. В Москве чаще слушают русскую популярную музыку, в Петербурге — джаз.\n",
    "\n",
    "Однако пропуски в данных ставят под сомнение этот результат. В Москве их так много, что рейтинг топ-10 мог бы выглядеть иначе, если бы не утерянные  данные о жанрах."
   ]
  },
  {
   "cell_type": "markdown",
   "metadata": {
    "id": "JolODAqr_Zcu"
   },
   "source": [
    "### Жанровые предпочтения в Москве и Петербурге\n",
    "\n",
    "Гипотеза: Петербург — столица рэпа, музыку этого жанра там слушают чаще, чем в Москве.  А Москва — город контрастов, в котором, тем не менее, преобладает поп-музыка."
   ]
  },
  {
   "cell_type": "markdown",
   "metadata": {
    "id": "DlegSvaT_Zcu"
   },
   "source": [
    "Сгруппируйте таблицу `moscow_general` по жанру и посчитайте прослушивания треков каждого жанра методом `count()`. Затем отсортируйте результат в порядке убывания и сохраните его в таблице `moscow_genres`."
   ]
  },
  {
   "cell_type": "code",
   "execution_count": 36,
   "metadata": {
    "id": "r19lIPke_Zcu"
   },
   "outputs": [],
   "source": [
    "moscow_genres = moscow_general.groupby('genre')['genre'].count().sort_values(ascending=False)\n",
    "# одной строкой: группировка таблицы moscow_general по столбцу 'genre', \n",
    "# подсчёт числа значений 'genre' в этой группировке методом count(), \n",
    "# сортировка получившегося Series в порядке убывания и сохранение в moscow_genres"
   ]
  },
  {
   "cell_type": "markdown",
   "metadata": {
    "id": "6kMuomxTiIr8"
   },
   "source": [
    "Выведите на экран первые десять строк `moscow_genres`:"
   ]
  },
  {
   "cell_type": "code",
   "execution_count": 37,
   "metadata": {
    "id": "WhCSooF8_Zcv"
   },
   "outputs": [
    {
     "data": {
      "text/plain": [
       "genre\n",
       "pop            5892\n",
       "dance          4435\n",
       "rock           3965\n",
       "electronic     3786\n",
       "hiphop         2096\n",
       "classical      1616\n",
       "world          1432\n",
       "alternative    1379\n",
       "ruspop         1372\n",
       "rusrap         1161\n",
       "Name: genre, dtype: int64"
      ]
     },
     "execution_count": 37,
     "metadata": {},
     "output_type": "execute_result"
    }
   ],
   "source": [
    "moscow_genres.head(10)# просмотр первых 10 строк moscow_genres"
   ]
  },
  {
   "cell_type": "markdown",
   "metadata": {
    "id": "cnPG2vnN_Zcv"
   },
   "source": [
    "Теперь повторите то же и для Петербурга.\n",
    "\n",
    "Сгруппируйте таблицу `spb_general` по жанру. Посчитайте прослушивания треков каждого жанра. Результат отсортируйте в порядке убывания и сохраните в таблице `spb_genres`:\n"
   ]
  },
  {
   "cell_type": "code",
   "execution_count": 38,
   "metadata": {
    "id": "gluLIpE7_Zcv"
   },
   "outputs": [],
   "source": [
    "spb_genres = spb_general.groupby('genre')['genre'].count().sort_values(ascending=False)\n",
    "# одной строкой: группировка таблицы spb_general по столбцу 'genre', \n",
    "# подсчёт числа значений 'genre' в этой группировке методом count(), \n",
    "# сортировка получившегося Series в порядке убывания и сохранение в spb_genres"
   ]
  },
  {
   "cell_type": "markdown",
   "metadata": {
    "id": "5Doha_ODgyQ8"
   },
   "source": [
    "Выведите на экран первые десять строк `spb_genres`:"
   ]
  },
  {
   "cell_type": "code",
   "execution_count": 39,
   "metadata": {
    "id": "uaGJHjVU_Zcv"
   },
   "outputs": [
    {
     "data": {
      "text/plain": [
       "genre\n",
       "pop            2431\n",
       "dance          1932\n",
       "rock           1879\n",
       "electronic     1736\n",
       "hiphop          960\n",
       "alternative     649\n",
       "classical       646\n",
       "rusrap          564\n",
       "ruspop          538\n",
       "world           515\n",
       "Name: genre, dtype: int64"
      ]
     },
     "execution_count": 39,
     "metadata": {},
     "output_type": "execute_result"
    }
   ],
   "source": [
    "spb_genres.head(10)# просмотр первых 10 строк spb_genres"
   ]
  },
  {
   "cell_type": "markdown",
   "metadata": {
    "id": "RY51YJYu_Zcv"
   },
   "source": [
    "**Выводы**"
   ]
  },
  {
   "cell_type": "markdown",
   "metadata": {
    "id": "nVhnJEm__Zcv"
   },
   "source": [
    "Гипотеза частично подтвердилась:\n",
    "* Поп-музыка — самый популярный жанр в Москве, как и предполагала гипотеза. Более того, в топ-10 жанров встречается близкий жанр — русская популярная музыка.\n",
    "* Вопреки ожиданиям, рэп одинаково популярен в Москве и Петербурге. \n"
   ]
  },
  {
   "cell_type": "markdown",
   "metadata": {
    "id": "ykKQ0N65_Zcv"
   },
   "source": [
    "## Итоги исследования"
   ]
  },
  {
   "cell_type": "markdown",
   "metadata": {
    "id": "tjUwbHb3_Zcv"
   },
   "source": [
    "Вы проверили три гипотезы и установили:\n",
    "\n",
    "1. День недели по-разному влияет на активность пользователей в Москве и Петербурге. \n",
    "\n",
    "Первая гипотеза полностью подтвердилась.\n",
    "\n",
    "2. Музыкальные предпочтения не сильно меняются в течение недели — будь то Москва или Петербург. Небольшие различия заметны в начале недели, по понедельникам:\n",
    "* в Москве слушают музыку жанра “world”,\n",
    "* в Петербурге — джаз и классику.\n",
    "\n",
    "Таким образом, вторая гипотеза подтвердилась лишь отчасти. Этот результат мог оказаться иным, если бы не пропуски в данных.\n",
    "\n",
    "3. Во вкусах пользователей Москвы и Петербурга больше общего чем различий. Вопреки ожиданиям, предпочтения жанров в Петербурге напоминают московские.\n",
    "\n",
    "Третья гипотеза не подтвердилась. Если различия в предпочтениях и существуют, на основной массе пользователей они незаметны.\n",
    "\n"
   ]
  }
 ],
 "metadata": {
  "ExecuteTimeLog": [
   {
    "duration": 68,
    "start_time": "2022-03-28T04:39:48.036Z"
   },
   {
    "duration": 8,
    "start_time": "2022-03-28T04:40:06.225Z"
   },
   {
    "duration": 474,
    "start_time": "2022-03-28T04:40:31.761Z"
   },
   {
    "duration": 206,
    "start_time": "2022-03-28T04:40:32.238Z"
   },
   {
    "duration": 39,
    "start_time": "2022-03-28T04:40:32.447Z"
   },
   {
    "duration": 0,
    "start_time": "2022-03-28T04:40:32.490Z"
   },
   {
    "duration": 0,
    "start_time": "2022-03-28T04:40:32.492Z"
   },
   {
    "duration": 0,
    "start_time": "2022-03-28T04:40:32.493Z"
   },
   {
    "duration": 0,
    "start_time": "2022-03-28T04:40:32.494Z"
   },
   {
    "duration": 0,
    "start_time": "2022-03-28T04:40:32.495Z"
   },
   {
    "duration": 0,
    "start_time": "2022-03-28T04:40:32.497Z"
   },
   {
    "duration": 0,
    "start_time": "2022-03-28T04:40:32.499Z"
   },
   {
    "duration": 0,
    "start_time": "2022-03-28T04:40:32.501Z"
   },
   {
    "duration": 0,
    "start_time": "2022-03-28T04:40:32.502Z"
   },
   {
    "duration": 1,
    "start_time": "2022-03-28T04:40:32.503Z"
   },
   {
    "duration": 0,
    "start_time": "2022-03-28T04:40:32.505Z"
   },
   {
    "duration": 0,
    "start_time": "2022-03-28T04:40:32.506Z"
   },
   {
    "duration": 0,
    "start_time": "2022-03-28T04:40:32.542Z"
   },
   {
    "duration": 0,
    "start_time": "2022-03-28T04:40:32.544Z"
   },
   {
    "duration": 0,
    "start_time": "2022-03-28T04:40:32.545Z"
   },
   {
    "duration": 0,
    "start_time": "2022-03-28T04:40:32.546Z"
   },
   {
    "duration": 0,
    "start_time": "2022-03-28T04:40:32.548Z"
   },
   {
    "duration": 0,
    "start_time": "2022-03-28T04:40:32.549Z"
   },
   {
    "duration": 0,
    "start_time": "2022-03-28T04:40:32.550Z"
   },
   {
    "duration": 0,
    "start_time": "2022-03-28T04:40:32.551Z"
   },
   {
    "duration": 0,
    "start_time": "2022-03-28T04:40:32.553Z"
   },
   {
    "duration": 0,
    "start_time": "2022-03-28T04:40:32.554Z"
   },
   {
    "duration": 0,
    "start_time": "2022-03-28T04:40:32.556Z"
   },
   {
    "duration": 0,
    "start_time": "2022-03-28T04:40:32.557Z"
   },
   {
    "duration": 0,
    "start_time": "2022-03-28T04:40:32.559Z"
   },
   {
    "duration": 0,
    "start_time": "2022-03-28T04:40:32.561Z"
   },
   {
    "duration": 0,
    "start_time": "2022-03-28T04:40:32.562Z"
   },
   {
    "duration": 0,
    "start_time": "2022-03-28T04:40:32.564Z"
   },
   {
    "duration": 0,
    "start_time": "2022-03-28T04:40:32.565Z"
   },
   {
    "duration": 0,
    "start_time": "2022-03-28T04:40:32.567Z"
   },
   {
    "duration": 0,
    "start_time": "2022-03-28T04:40:32.569Z"
   },
   {
    "duration": 0,
    "start_time": "2022-03-28T04:40:32.570Z"
   },
   {
    "duration": 0,
    "start_time": "2022-03-28T04:40:32.572Z"
   },
   {
    "duration": 0,
    "start_time": "2022-03-28T04:40:32.573Z"
   },
   {
    "duration": 0,
    "start_time": "2022-03-28T04:40:32.575Z"
   },
   {
    "duration": 26,
    "start_time": "2022-03-28T04:41:18.034Z"
   },
   {
    "duration": 13,
    "start_time": "2022-03-28T04:41:51.134Z"
   },
   {
    "duration": 13,
    "start_time": "2022-03-28T04:42:01.491Z"
   },
   {
    "duration": 12,
    "start_time": "2022-03-28T04:43:25.941Z"
   },
   {
    "duration": 6,
    "start_time": "2022-03-28T04:46:12.812Z"
   },
   {
    "duration": 6,
    "start_time": "2022-03-28T04:48:30.080Z"
   },
   {
    "duration": 17,
    "start_time": "2022-03-28T04:54:14.509Z"
   },
   {
    "duration": 191,
    "start_time": "2022-03-28T05:04:29.769Z"
   },
   {
    "duration": 14,
    "start_time": "2022-03-28T05:04:48.335Z"
   },
   {
    "duration": 11,
    "start_time": "2022-03-28T05:05:13.351Z"
   },
   {
    "duration": 6,
    "start_time": "2022-03-28T05:05:21.917Z"
   },
   {
    "duration": 17,
    "start_time": "2022-03-28T05:05:38.211Z"
   },
   {
    "duration": 6,
    "start_time": "2022-03-28T05:05:41.068Z"
   },
   {
    "duration": 36,
    "start_time": "2022-03-28T05:11:16.855Z"
   },
   {
    "duration": 36,
    "start_time": "2022-03-28T05:12:27.870Z"
   },
   {
    "duration": 4,
    "start_time": "2022-03-28T05:13:39.492Z"
   },
   {
    "duration": 2860,
    "start_time": "2022-03-28T05:23:33.806Z"
   },
   {
    "duration": 173,
    "start_time": "2022-03-28T05:25:16.774Z"
   },
   {
    "duration": 4,
    "start_time": "2022-03-28T05:25:34.335Z"
   },
   {
    "duration": 34,
    "start_time": "2022-03-28T05:25:53.883Z"
   },
   {
    "duration": 3,
    "start_time": "2022-03-28T05:26:09.801Z"
   },
   {
    "duration": 240,
    "start_time": "2022-03-28T05:26:09.807Z"
   },
   {
    "duration": 17,
    "start_time": "2022-03-28T05:26:10.049Z"
   },
   {
    "duration": 7,
    "start_time": "2022-03-28T05:26:10.069Z"
   },
   {
    "duration": 0,
    "start_time": "2022-03-28T05:26:10.080Z"
   },
   {
    "duration": 0,
    "start_time": "2022-03-28T05:26:10.081Z"
   },
   {
    "duration": 0,
    "start_time": "2022-03-28T05:26:10.083Z"
   },
   {
    "duration": 0,
    "start_time": "2022-03-28T05:26:10.085Z"
   },
   {
    "duration": 0,
    "start_time": "2022-03-28T05:26:10.087Z"
   },
   {
    "duration": 0,
    "start_time": "2022-03-28T05:26:10.089Z"
   },
   {
    "duration": 0,
    "start_time": "2022-03-28T05:26:10.091Z"
   },
   {
    "duration": 0,
    "start_time": "2022-03-28T05:26:10.093Z"
   },
   {
    "duration": 0,
    "start_time": "2022-03-28T05:26:10.095Z"
   },
   {
    "duration": 0,
    "start_time": "2022-03-28T05:26:10.097Z"
   },
   {
    "duration": 0,
    "start_time": "2022-03-28T05:26:10.143Z"
   },
   {
    "duration": 0,
    "start_time": "2022-03-28T05:26:10.145Z"
   },
   {
    "duration": 0,
    "start_time": "2022-03-28T05:26:10.147Z"
   },
   {
    "duration": 0,
    "start_time": "2022-03-28T05:26:10.150Z"
   },
   {
    "duration": 0,
    "start_time": "2022-03-28T05:26:10.152Z"
   },
   {
    "duration": 0,
    "start_time": "2022-03-28T05:26:10.154Z"
   },
   {
    "duration": 0,
    "start_time": "2022-03-28T05:26:10.156Z"
   },
   {
    "duration": 0,
    "start_time": "2022-03-28T05:26:10.158Z"
   },
   {
    "duration": 0,
    "start_time": "2022-03-28T05:26:10.160Z"
   },
   {
    "duration": 1,
    "start_time": "2022-03-28T05:26:10.161Z"
   },
   {
    "duration": 0,
    "start_time": "2022-03-28T05:26:10.164Z"
   },
   {
    "duration": 0,
    "start_time": "2022-03-28T05:26:10.166Z"
   },
   {
    "duration": 0,
    "start_time": "2022-03-28T05:26:10.168Z"
   },
   {
    "duration": 0,
    "start_time": "2022-03-28T05:26:10.170Z"
   },
   {
    "duration": 0,
    "start_time": "2022-03-28T05:26:10.172Z"
   },
   {
    "duration": 0,
    "start_time": "2022-03-28T05:26:10.174Z"
   },
   {
    "duration": 0,
    "start_time": "2022-03-28T05:26:10.176Z"
   },
   {
    "duration": 0,
    "start_time": "2022-03-28T05:26:10.178Z"
   },
   {
    "duration": 0,
    "start_time": "2022-03-28T05:26:10.180Z"
   },
   {
    "duration": 0,
    "start_time": "2022-03-28T05:26:10.244Z"
   },
   {
    "duration": 0,
    "start_time": "2022-03-28T05:26:10.246Z"
   },
   {
    "duration": 0,
    "start_time": "2022-03-28T05:26:10.248Z"
   },
   {
    "duration": 0,
    "start_time": "2022-03-28T05:26:10.250Z"
   },
   {
    "duration": 0,
    "start_time": "2022-03-28T05:26:10.252Z"
   },
   {
    "duration": 0,
    "start_time": "2022-03-28T05:26:10.254Z"
   },
   {
    "duration": 37,
    "start_time": "2022-03-28T05:26:20.274Z"
   },
   {
    "duration": 3114,
    "start_time": "2022-03-28T05:30:26.123Z"
   },
   {
    "duration": 2723,
    "start_time": "2022-03-28T05:30:41.756Z"
   },
   {
    "duration": 3575,
    "start_time": "2022-03-28T05:31:00.166Z"
   },
   {
    "duration": 33,
    "start_time": "2022-03-28T05:31:14.534Z"
   },
   {
    "duration": 4,
    "start_time": "2022-03-28T05:31:39.723Z"
   },
   {
    "duration": 241,
    "start_time": "2022-03-28T05:31:39.729Z"
   },
   {
    "duration": 16,
    "start_time": "2022-03-28T05:31:39.972Z"
   },
   {
    "duration": 8,
    "start_time": "2022-03-28T05:31:39.991Z"
   },
   {
    "duration": 207,
    "start_time": "2022-03-28T05:31:40.001Z"
   },
   {
    "duration": 0,
    "start_time": "2022-03-28T05:31:40.212Z"
   },
   {
    "duration": 0,
    "start_time": "2022-03-28T05:31:40.213Z"
   },
   {
    "duration": 0,
    "start_time": "2022-03-28T05:31:40.215Z"
   },
   {
    "duration": 0,
    "start_time": "2022-03-28T05:31:40.216Z"
   },
   {
    "duration": 0,
    "start_time": "2022-03-28T05:31:40.218Z"
   },
   {
    "duration": 0,
    "start_time": "2022-03-28T05:31:40.219Z"
   },
   {
    "duration": 0,
    "start_time": "2022-03-28T05:31:40.221Z"
   },
   {
    "duration": 0,
    "start_time": "2022-03-28T05:31:40.222Z"
   },
   {
    "duration": 0,
    "start_time": "2022-03-28T05:31:40.224Z"
   },
   {
    "duration": 0,
    "start_time": "2022-03-28T05:31:40.225Z"
   },
   {
    "duration": 0,
    "start_time": "2022-03-28T05:31:40.227Z"
   },
   {
    "duration": 0,
    "start_time": "2022-03-28T05:31:40.228Z"
   },
   {
    "duration": 1,
    "start_time": "2022-03-28T05:31:40.229Z"
   },
   {
    "duration": 0,
    "start_time": "2022-03-28T05:31:40.231Z"
   },
   {
    "duration": 0,
    "start_time": "2022-03-28T05:31:40.232Z"
   },
   {
    "duration": 0,
    "start_time": "2022-03-28T05:31:40.234Z"
   },
   {
    "duration": 0,
    "start_time": "2022-03-28T05:31:40.235Z"
   },
   {
    "duration": 0,
    "start_time": "2022-03-28T05:31:40.237Z"
   },
   {
    "duration": 0,
    "start_time": "2022-03-28T05:31:40.238Z"
   },
   {
    "duration": 0,
    "start_time": "2022-03-28T05:31:40.239Z"
   },
   {
    "duration": 0,
    "start_time": "2022-03-28T05:31:40.240Z"
   },
   {
    "duration": 0,
    "start_time": "2022-03-28T05:31:40.242Z"
   },
   {
    "duration": 0,
    "start_time": "2022-03-28T05:31:40.243Z"
   },
   {
    "duration": 0,
    "start_time": "2022-03-28T05:31:40.244Z"
   },
   {
    "duration": 0,
    "start_time": "2022-03-28T05:31:40.246Z"
   },
   {
    "duration": 0,
    "start_time": "2022-03-28T05:31:40.247Z"
   },
   {
    "duration": 0,
    "start_time": "2022-03-28T05:31:40.249Z"
   },
   {
    "duration": 0,
    "start_time": "2022-03-28T05:31:40.250Z"
   },
   {
    "duration": 0,
    "start_time": "2022-03-28T05:31:40.252Z"
   },
   {
    "duration": 0,
    "start_time": "2022-03-28T05:31:40.253Z"
   },
   {
    "duration": 0,
    "start_time": "2022-03-28T05:31:40.254Z"
   },
   {
    "duration": 0,
    "start_time": "2022-03-28T05:31:40.256Z"
   },
   {
    "duration": 0,
    "start_time": "2022-03-28T05:31:40.257Z"
   },
   {
    "duration": 33,
    "start_time": "2022-03-28T05:33:26.793Z"
   },
   {
    "duration": 4,
    "start_time": "2022-03-28T05:33:41.713Z"
   },
   {
    "duration": 197,
    "start_time": "2022-03-28T05:33:41.720Z"
   },
   {
    "duration": 24,
    "start_time": "2022-03-28T05:33:41.919Z"
   },
   {
    "duration": 5,
    "start_time": "2022-03-28T05:33:41.946Z"
   },
   {
    "duration": 159,
    "start_time": "2022-03-28T05:33:41.954Z"
   },
   {
    "duration": 0,
    "start_time": "2022-03-28T05:33:42.116Z"
   },
   {
    "duration": 1,
    "start_time": "2022-03-28T05:33:42.117Z"
   },
   {
    "duration": 10,
    "start_time": "2022-03-28T05:34:22.723Z"
   },
   {
    "duration": 12,
    "start_time": "2022-03-28T05:34:24.591Z"
   },
   {
    "duration": 11,
    "start_time": "2022-03-28T05:34:25.298Z"
   },
   {
    "duration": 11,
    "start_time": "2022-03-28T05:34:37.943Z"
   },
   {
    "duration": 11,
    "start_time": "2022-03-28T05:34:38.528Z"
   },
   {
    "duration": 10,
    "start_time": "2022-03-28T05:34:38.883Z"
   },
   {
    "duration": 10,
    "start_time": "2022-03-28T05:34:39.322Z"
   },
   {
    "duration": 12,
    "start_time": "2022-03-28T05:34:39.488Z"
   },
   {
    "duration": 11,
    "start_time": "2022-03-28T05:34:39.632Z"
   },
   {
    "duration": 197,
    "start_time": "2022-03-28T05:34:51.756Z"
   },
   {
    "duration": 205,
    "start_time": "2022-03-28T05:34:52.447Z"
   },
   {
    "duration": 189,
    "start_time": "2022-03-28T05:35:06.937Z"
   },
   {
    "duration": 173,
    "start_time": "2022-03-28T05:35:07.792Z"
   },
   {
    "duration": 211,
    "start_time": "2022-03-28T05:35:08.121Z"
   },
   {
    "duration": 180,
    "start_time": "2022-03-28T05:35:08.628Z"
   },
   {
    "duration": 195,
    "start_time": "2022-03-28T05:35:09.442Z"
   },
   {
    "duration": 6,
    "start_time": "2022-03-28T05:35:45.603Z"
   },
   {
    "duration": 13,
    "start_time": "2022-03-28T05:35:50.653Z"
   },
   {
    "duration": 12,
    "start_time": "2022-03-28T05:35:54.170Z"
   },
   {
    "duration": 6,
    "start_time": "2022-03-28T05:35:57.158Z"
   },
   {
    "duration": 37,
    "start_time": "2022-03-28T05:36:00.864Z"
   },
   {
    "duration": 37,
    "start_time": "2022-03-28T05:36:05.495Z"
   },
   {
    "duration": 4156,
    "start_time": "2022-03-28T05:36:12.570Z"
   },
   {
    "duration": 0,
    "start_time": "2022-03-28T05:36:16.729Z"
   },
   {
    "duration": 37,
    "start_time": "2022-03-28T05:36:26.135Z"
   },
   {
    "duration": 26,
    "start_time": "2022-03-28T05:36:42.496Z"
   },
   {
    "duration": 37,
    "start_time": "2022-03-28T05:36:45.381Z"
   },
   {
    "duration": 4,
    "start_time": "2022-03-28T05:37:36.689Z"
   },
   {
    "duration": 36,
    "start_time": "2022-03-28T05:37:39.268Z"
   },
   {
    "duration": 5,
    "start_time": "2022-03-28T05:37:55.768Z"
   },
   {
    "duration": 4,
    "start_time": "2022-03-28T05:37:58.709Z"
   },
   {
    "duration": 4,
    "start_time": "2022-03-28T05:38:01.072Z"
   },
   {
    "duration": 36,
    "start_time": "2022-03-28T05:38:02.863Z"
   },
   {
    "duration": 4,
    "start_time": "2022-03-28T05:41:22.338Z"
   },
   {
    "duration": 33,
    "start_time": "2022-03-28T05:41:23.687Z"
   },
   {
    "duration": 5,
    "start_time": "2022-03-28T05:41:58.506Z"
   },
   {
    "duration": 6,
    "start_time": "2022-03-28T05:42:09.764Z"
   },
   {
    "duration": 94,
    "start_time": "2022-03-28T05:42:59.972Z"
   },
   {
    "duration": 115,
    "start_time": "2022-03-28T05:44:15.371Z"
   },
   {
    "duration": 11,
    "start_time": "2022-03-28T05:44:53.391Z"
   },
   {
    "duration": 91,
    "start_time": "2022-03-28T05:45:21.977Z"
   },
   {
    "duration": 113,
    "start_time": "2022-03-28T05:45:26.450Z"
   },
   {
    "duration": 96,
    "start_time": "2022-03-28T05:45:29.596Z"
   },
   {
    "duration": 92,
    "start_time": "2022-03-28T05:47:10.184Z"
   },
   {
    "duration": 115,
    "start_time": "2022-03-28T05:47:11.366Z"
   },
   {
    "duration": 92,
    "start_time": "2022-03-28T05:47:14.834Z"
   },
   {
    "duration": 4,
    "start_time": "2022-03-28T05:48:17.461Z"
   },
   {
    "duration": 200,
    "start_time": "2022-03-28T05:48:17.467Z"
   },
   {
    "duration": 15,
    "start_time": "2022-03-28T05:48:17.669Z"
   },
   {
    "duration": 15,
    "start_time": "2022-03-28T05:48:17.687Z"
   },
   {
    "duration": 5,
    "start_time": "2022-03-28T05:48:17.704Z"
   },
   {
    "duration": 39,
    "start_time": "2022-03-28T05:48:17.712Z"
   },
   {
    "duration": 6,
    "start_time": "2022-03-28T05:48:17.753Z"
   },
   {
    "duration": 39,
    "start_time": "2022-03-28T05:48:17.761Z"
   },
   {
    "duration": 4,
    "start_time": "2022-03-28T05:48:17.804Z"
   },
   {
    "duration": 62,
    "start_time": "2022-03-28T05:48:17.810Z"
   },
   {
    "duration": 103,
    "start_time": "2022-03-28T05:48:17.874Z"
   },
   {
    "duration": 125,
    "start_time": "2022-03-28T05:48:17.979Z"
   },
   {
    "duration": 36,
    "start_time": "2022-03-28T05:49:10.673Z"
   },
   {
    "duration": 5,
    "start_time": "2022-03-28T05:49:15.960Z"
   },
   {
    "duration": 35,
    "start_time": "2022-03-28T05:49:18.152Z"
   },
   {
    "duration": 5,
    "start_time": "2022-03-28T05:49:42.295Z"
   },
   {
    "duration": 5,
    "start_time": "2022-03-28T05:49:44.349Z"
   },
   {
    "duration": 5,
    "start_time": "2022-03-28T05:49:45.094Z"
   },
   {
    "duration": 5,
    "start_time": "2022-03-28T05:49:46.032Z"
   },
   {
    "duration": 4,
    "start_time": "2022-03-28T05:49:46.550Z"
   },
   {
    "duration": 5,
    "start_time": "2022-03-28T05:49:47.512Z"
   },
   {
    "duration": 4,
    "start_time": "2022-03-28T05:49:48.242Z"
   },
   {
    "duration": 6,
    "start_time": "2022-03-28T05:53:43.578Z"
   },
   {
    "duration": 5,
    "start_time": "2022-03-28T05:53:44.164Z"
   },
   {
    "duration": 5,
    "start_time": "2022-03-28T06:01:42.512Z"
   },
   {
    "duration": 67,
    "start_time": "2022-03-28T06:05:55.036Z"
   },
   {
    "duration": 494,
    "start_time": "2022-03-28T06:06:26.335Z"
   },
   {
    "duration": 199,
    "start_time": "2022-03-28T06:06:27.568Z"
   },
   {
    "duration": 29,
    "start_time": "2022-03-28T06:06:30.044Z"
   },
   {
    "duration": 12,
    "start_time": "2022-03-28T06:06:32.963Z"
   },
   {
    "duration": 6,
    "start_time": "2022-03-28T06:06:35.791Z"
   },
   {
    "duration": 17,
    "start_time": "2022-03-28T06:06:36.923Z"
   },
   {
    "duration": 6,
    "start_time": "2022-03-28T06:06:37.320Z"
   },
   {
    "duration": 35,
    "start_time": "2022-03-28T06:06:37.694Z"
   },
   {
    "duration": 4,
    "start_time": "2022-03-28T06:06:38.293Z"
   },
   {
    "duration": 32,
    "start_time": "2022-03-28T06:06:39.227Z"
   },
   {
    "duration": 88,
    "start_time": "2022-03-28T06:06:41.073Z"
   },
   {
    "duration": 116,
    "start_time": "2022-03-28T06:06:44.705Z"
   },
   {
    "duration": 84,
    "start_time": "2022-03-28T06:06:46.399Z"
   },
   {
    "duration": 3,
    "start_time": "2022-03-28T06:06:48.402Z"
   },
   {
    "duration": 2,
    "start_time": "2022-03-28T06:06:50.559Z"
   },
   {
    "duration": 4,
    "start_time": "2022-03-28T06:07:02.353Z"
   },
   {
    "duration": 32,
    "start_time": "2022-03-28T06:07:04.206Z"
   },
   {
    "duration": 557,
    "start_time": "2022-03-28T06:07:13.125Z"
   },
   {
    "duration": 197,
    "start_time": "2022-03-28T06:07:13.685Z"
   },
   {
    "duration": 26,
    "start_time": "2022-03-28T06:07:13.884Z"
   },
   {
    "duration": 33,
    "start_time": "2022-03-28T06:07:13.914Z"
   },
   {
    "duration": 17,
    "start_time": "2022-03-28T06:07:13.948Z"
   },
   {
    "duration": 26,
    "start_time": "2022-03-28T06:07:13.967Z"
   },
   {
    "duration": 29,
    "start_time": "2022-03-28T06:07:13.995Z"
   },
   {
    "duration": 46,
    "start_time": "2022-03-28T06:07:14.026Z"
   },
   {
    "duration": 4,
    "start_time": "2022-03-28T06:07:14.075Z"
   },
   {
    "duration": 36,
    "start_time": "2022-03-28T06:07:14.083Z"
   },
   {
    "duration": 110,
    "start_time": "2022-03-28T06:07:14.122Z"
   },
   {
    "duration": 133,
    "start_time": "2022-03-28T06:07:14.242Z"
   },
   {
    "duration": 98,
    "start_time": "2022-03-28T06:07:14.377Z"
   },
   {
    "duration": 4,
    "start_time": "2022-03-28T06:07:14.477Z"
   },
   {
    "duration": 9,
    "start_time": "2022-03-28T06:07:14.482Z"
   },
   {
    "duration": 5,
    "start_time": "2022-03-28T06:07:14.493Z"
   },
   {
    "duration": 6,
    "start_time": "2022-03-28T06:07:14.500Z"
   },
   {
    "duration": 6,
    "start_time": "2022-03-28T06:07:14.509Z"
   },
   {
    "duration": 29,
    "start_time": "2022-03-28T06:07:14.517Z"
   },
   {
    "duration": 6,
    "start_time": "2022-03-28T06:07:14.548Z"
   },
   {
    "duration": 8,
    "start_time": "2022-03-28T06:07:14.556Z"
   },
   {
    "duration": 7,
    "start_time": "2022-03-28T06:07:14.566Z"
   },
   {
    "duration": 6,
    "start_time": "2022-03-28T06:07:14.575Z"
   },
   {
    "duration": 6,
    "start_time": "2022-03-28T06:07:14.583Z"
   },
   {
    "duration": 7,
    "start_time": "2022-03-28T06:07:14.591Z"
   },
   {
    "duration": 7,
    "start_time": "2022-03-28T06:07:14.600Z"
   },
   {
    "duration": 5,
    "start_time": "2022-03-28T06:07:14.609Z"
   },
   {
    "duration": 9,
    "start_time": "2022-03-28T06:07:14.643Z"
   },
   {
    "duration": 5,
    "start_time": "2022-03-28T06:07:14.654Z"
   },
   {
    "duration": 8,
    "start_time": "2022-03-28T06:07:14.660Z"
   },
   {
    "duration": 7,
    "start_time": "2022-03-28T06:07:14.670Z"
   },
   {
    "duration": 6,
    "start_time": "2022-03-28T06:07:14.679Z"
   },
   {
    "duration": 7,
    "start_time": "2022-03-28T06:07:14.687Z"
   },
   {
    "duration": 5,
    "start_time": "2022-03-28T06:07:14.696Z"
   },
   {
    "duration": 5,
    "start_time": "2022-03-28T06:07:14.703Z"
   },
   {
    "duration": 3,
    "start_time": "2022-03-28T06:07:14.744Z"
   },
   {
    "duration": 6,
    "start_time": "2022-03-28T06:07:14.748Z"
   },
   {
    "duration": 5,
    "start_time": "2022-03-28T06:07:14.756Z"
   },
   {
    "duration": 3,
    "start_time": "2022-03-28T06:09:05.667Z"
   },
   {
    "duration": 33,
    "start_time": "2022-03-28T06:09:07.311Z"
   },
   {
    "duration": 83,
    "start_time": "2022-03-28T06:09:13.249Z"
   },
   {
    "duration": 112,
    "start_time": "2022-03-28T06:09:14.776Z"
   },
   {
    "duration": 82,
    "start_time": "2022-03-28T06:09:16.446Z"
   },
   {
    "duration": 83,
    "start_time": "2022-03-28T06:09:55.903Z"
   },
   {
    "duration": 22,
    "start_time": "2022-03-28T06:10:40.184Z"
   },
   {
    "duration": 34,
    "start_time": "2022-03-28T06:10:41.810Z"
   },
   {
    "duration": 100,
    "start_time": "2022-03-28T06:10:45.544Z"
   },
   {
    "duration": 90,
    "start_time": "2022-03-28T06:10:54.735Z"
   },
   {
    "duration": 109,
    "start_time": "2022-03-28T06:10:55.856Z"
   },
   {
    "duration": 93,
    "start_time": "2022-03-28T06:10:58.392Z"
   },
   {
    "duration": 117,
    "start_time": "2022-03-28T06:12:40.249Z"
   },
   {
    "duration": 92,
    "start_time": "2022-03-28T06:12:45.406Z"
   },
   {
    "duration": 118,
    "start_time": "2022-03-28T06:13:08.265Z"
   },
   {
    "duration": 95,
    "start_time": "2022-03-28T06:13:22.350Z"
   },
   {
    "duration": 89,
    "start_time": "2022-03-28T06:15:09.256Z"
   },
   {
    "duration": 111,
    "start_time": "2022-03-28T06:15:11.464Z"
   },
   {
    "duration": 94,
    "start_time": "2022-03-28T06:15:14.610Z"
   },
   {
    "duration": 3,
    "start_time": "2022-03-28T06:18:37.649Z"
   },
   {
    "duration": 4,
    "start_time": "2022-03-28T06:19:07.664Z"
   },
   {
    "duration": 36,
    "start_time": "2022-03-28T06:19:08.642Z"
   },
   {
    "duration": 500,
    "start_time": "2022-03-28T06:19:24.331Z"
   },
   {
    "duration": 206,
    "start_time": "2022-03-28T06:19:24.833Z"
   },
   {
    "duration": 26,
    "start_time": "2022-03-28T06:19:25.990Z"
   },
   {
    "duration": 13,
    "start_time": "2022-03-28T06:19:27.006Z"
   },
   {
    "duration": 6,
    "start_time": "2022-03-28T06:19:30.524Z"
   },
   {
    "duration": 15,
    "start_time": "2022-03-28T06:19:34.529Z"
   },
   {
    "duration": 6,
    "start_time": "2022-03-28T06:19:36.065Z"
   },
   {
    "duration": 39,
    "start_time": "2022-03-28T06:19:39.381Z"
   },
   {
    "duration": 5,
    "start_time": "2022-03-28T06:19:39.423Z"
   },
   {
    "duration": 34,
    "start_time": "2022-03-28T06:19:42.733Z"
   },
   {
    "duration": 95,
    "start_time": "2022-03-28T06:19:45.894Z"
   },
   {
    "duration": 112,
    "start_time": "2022-03-28T06:19:46.902Z"
   },
   {
    "duration": 83,
    "start_time": "2022-03-28T06:19:48.658Z"
   },
   {
    "duration": 102,
    "start_time": "2022-03-28T06:43:14.631Z"
   },
   {
    "duration": 88,
    "start_time": "2022-03-28T06:43:27.063Z"
   },
   {
    "duration": 93,
    "start_time": "2022-03-28T06:43:30.071Z"
   },
   {
    "duration": 5,
    "start_time": "2022-03-28T06:44:39.141Z"
   },
   {
    "duration": 33,
    "start_time": "2022-03-28T06:44:40.282Z"
   },
   {
    "duration": 6,
    "start_time": "2022-03-28T06:44:50.575Z"
   },
   {
    "duration": 504,
    "start_time": "2022-03-28T06:45:13.127Z"
   },
   {
    "duration": 298,
    "start_time": "2022-03-28T06:45:13.851Z"
   },
   {
    "duration": 27,
    "start_time": "2022-03-28T06:45:14.701Z"
   },
   {
    "duration": 12,
    "start_time": "2022-03-28T06:45:16.681Z"
   },
   {
    "duration": 6,
    "start_time": "2022-03-28T06:45:19.101Z"
   },
   {
    "duration": 16,
    "start_time": "2022-03-28T06:45:20.853Z"
   },
   {
    "duration": 5,
    "start_time": "2022-03-28T06:45:22.480Z"
   },
   {
    "duration": 32,
    "start_time": "2022-03-28T06:45:23.958Z"
   },
   {
    "duration": 4,
    "start_time": "2022-03-28T06:45:25.700Z"
   },
   {
    "duration": 33,
    "start_time": "2022-03-28T06:45:27.048Z"
   },
   {
    "duration": 100,
    "start_time": "2022-03-28T06:45:30.168Z"
   },
   {
    "duration": 104,
    "start_time": "2022-03-28T06:45:31.586Z"
   },
   {
    "duration": 79,
    "start_time": "2022-03-28T06:45:34.771Z"
   },
   {
    "duration": 89,
    "start_time": "2022-03-28T06:45:55.458Z"
   },
   {
    "duration": 90,
    "start_time": "2022-03-28T06:46:03.997Z"
   },
   {
    "duration": 103,
    "start_time": "2022-03-28T06:46:17.430Z"
   },
   {
    "duration": 94,
    "start_time": "2022-03-28T06:46:24.752Z"
   },
   {
    "duration": 88,
    "start_time": "2022-03-28T06:46:26.031Z"
   },
   {
    "duration": 24,
    "start_time": "2022-03-28T06:48:30.011Z"
   },
   {
    "duration": 32,
    "start_time": "2022-03-28T06:48:31.383Z"
   },
   {
    "duration": 52,
    "start_time": "2022-03-30T11:49:07.991Z"
   },
   {
    "duration": 6,
    "start_time": "2022-03-30T11:49:08.162Z"
   },
   {
    "duration": 6,
    "start_time": "2022-03-30T11:49:09.104Z"
   },
   {
    "duration": 7,
    "start_time": "2022-03-30T11:49:09.708Z"
   },
   {
    "duration": 6,
    "start_time": "2022-03-30T11:49:12.151Z"
   },
   {
    "duration": 6,
    "start_time": "2022-03-30T11:49:12.381Z"
   },
   {
    "duration": 6,
    "start_time": "2022-03-30T11:49:12.526Z"
   },
   {
    "duration": 7,
    "start_time": "2022-03-30T11:49:12.690Z"
   },
   {
    "duration": 400,
    "start_time": "2022-03-30T11:49:39.071Z"
   },
   {
    "duration": 2,
    "start_time": "2022-03-30T11:49:39.632Z"
   },
   {
    "duration": 440,
    "start_time": "2022-03-30T12:01:55.692Z"
   },
   {
    "duration": 833,
    "start_time": "2022-03-30T12:01:56.769Z"
   },
   {
    "duration": 18,
    "start_time": "2022-03-30T12:01:58.270Z"
   },
   {
    "duration": 11,
    "start_time": "2022-03-30T12:02:01.926Z"
   },
   {
    "duration": 5,
    "start_time": "2022-03-30T12:02:06.179Z"
   },
   {
    "duration": 14,
    "start_time": "2022-03-30T12:02:08.737Z"
   },
   {
    "duration": 5,
    "start_time": "2022-03-30T12:02:10.555Z"
   },
   {
    "duration": 41,
    "start_time": "2022-03-30T12:02:13.849Z"
   },
   {
    "duration": 22,
    "start_time": "2022-03-30T12:02:16.255Z"
   },
   {
    "duration": 30,
    "start_time": "2022-03-30T12:02:17.463Z"
   },
   {
    "duration": 68,
    "start_time": "2022-03-30T12:02:20.249Z"
   },
   {
    "duration": 69,
    "start_time": "2022-03-30T12:02:30.065Z"
   },
   {
    "duration": 84,
    "start_time": "2022-03-30T12:02:30.938Z"
   },
   {
    "duration": 66,
    "start_time": "2022-03-30T12:02:32.022Z"
   },
   {
    "duration": 8,
    "start_time": "2022-03-30T12:06:07.466Z"
   },
   {
    "duration": 36,
    "start_time": "2022-03-30T12:14:26.136Z"
   },
   {
    "duration": 3,
    "start_time": "2022-03-30T12:16:22.799Z"
   },
   {
    "duration": 34,
    "start_time": "2022-03-30T12:16:25.591Z"
   },
   {
    "duration": 8,
    "start_time": "2022-03-30T12:18:36.865Z"
   },
   {
    "duration": 35,
    "start_time": "2022-03-30T12:25:17.648Z"
   },
   {
    "duration": 34,
    "start_time": "2022-03-30T12:26:50.441Z"
   },
   {
    "duration": 72,
    "start_time": "2022-03-30T12:43:13.811Z"
   },
   {
    "duration": 5,
    "start_time": "2022-03-30T12:45:17.305Z"
   },
   {
    "duration": 3,
    "start_time": "2022-03-30T12:45:39.579Z"
   },
   {
    "duration": 7,
    "start_time": "2022-03-30T12:46:52.038Z"
   },
   {
    "duration": 551,
    "start_time": "2022-03-30T12:47:06.533Z"
   },
   {
    "duration": 539,
    "start_time": "2022-03-30T12:48:46.718Z"
   },
   {
    "duration": 4,
    "start_time": "2022-03-30T12:52:12.198Z"
   },
   {
    "duration": 4,
    "start_time": "2022-03-30T12:52:24.681Z"
   },
   {
    "duration": 13,
    "start_time": "2022-03-30T12:52:27.549Z"
   },
   {
    "duration": 4,
    "start_time": "2022-03-30T12:52:45.011Z"
   },
   {
    "duration": 11,
    "start_time": "2022-03-30T12:52:46.395Z"
   },
   {
    "duration": 51,
    "start_time": "2022-03-30T12:53:07.568Z"
   },
   {
    "duration": 427,
    "start_time": "2022-03-30T12:53:11.028Z"
   },
   {
    "duration": 166,
    "start_time": "2022-03-30T12:53:12.409Z"
   },
   {
    "duration": 18,
    "start_time": "2022-03-30T12:53:13.683Z"
   },
   {
    "duration": 12,
    "start_time": "2022-03-30T12:53:14.725Z"
   },
   {
    "duration": 4,
    "start_time": "2022-03-30T12:53:16.486Z"
   },
   {
    "duration": 13,
    "start_time": "2022-03-30T12:53:17.244Z"
   },
   {
    "duration": 4,
    "start_time": "2022-03-30T12:53:18.376Z"
   },
   {
    "duration": 27,
    "start_time": "2022-03-30T12:53:19.129Z"
   },
   {
    "duration": 20,
    "start_time": "2022-03-30T12:53:20.356Z"
   },
   {
    "duration": 29,
    "start_time": "2022-03-30T12:53:21.311Z"
   },
   {
    "duration": 72,
    "start_time": "2022-03-30T12:53:22.479Z"
   },
   {
    "duration": 89,
    "start_time": "2022-03-30T12:53:23.392Z"
   },
   {
    "duration": 65,
    "start_time": "2022-03-30T12:53:24.166Z"
   },
   {
    "duration": 9,
    "start_time": "2022-03-30T12:53:26.251Z"
   },
   {
    "duration": 4,
    "start_time": "2022-03-30T12:53:28.034Z"
   },
   {
    "duration": 36,
    "start_time": "2022-03-30T12:53:28.732Z"
   },
   {
    "duration": 8,
    "start_time": "2022-03-30T12:53:30.281Z"
   },
   {
    "duration": 36,
    "start_time": "2022-03-30T12:53:33.734Z"
   },
   {
    "duration": 35,
    "start_time": "2022-03-30T12:53:37.063Z"
   },
   {
    "duration": 4,
    "start_time": "2022-03-30T12:53:40.966Z"
   },
   {
    "duration": 12,
    "start_time": "2022-03-30T12:53:41.847Z"
   },
   {
    "duration": 35,
    "start_time": "2022-03-30T12:53:55.482Z"
   },
   {
    "duration": 36,
    "start_time": "2022-03-30T12:53:59.854Z"
   },
   {
    "duration": 4,
    "start_time": "2022-03-30T12:57:46.064Z"
   },
   {
    "duration": 12,
    "start_time": "2022-03-30T12:57:47.244Z"
   },
   {
    "duration": 5,
    "start_time": "2022-03-30T12:59:09.305Z"
   },
   {
    "duration": 17,
    "start_time": "2022-03-30T12:59:11.010Z"
   },
   {
    "duration": 15,
    "start_time": "2022-03-30T12:59:14.764Z"
   },
   {
    "duration": 142,
    "start_time": "2022-03-30T13:00:25.122Z"
   },
   {
    "duration": 130,
    "start_time": "2022-03-30T13:00:28.575Z"
   },
   {
    "duration": 139,
    "start_time": "2022-03-30T13:00:29.177Z"
   },
   {
    "duration": 16,
    "start_time": "2022-03-30T13:00:46.712Z"
   },
   {
    "duration": 15,
    "start_time": "2022-03-30T13:00:47.208Z"
   },
   {
    "duration": 17,
    "start_time": "2022-03-30T13:00:47.846Z"
   },
   {
    "duration": 15,
    "start_time": "2022-03-30T13:00:48.939Z"
   },
   {
    "duration": 5,
    "start_time": "2022-03-30T13:02:27.962Z"
   },
   {
    "duration": 5,
    "start_time": "2022-03-30T13:02:35.175Z"
   },
   {
    "duration": 9,
    "start_time": "2022-03-30T13:02:47.472Z"
   },
   {
    "duration": 9,
    "start_time": "2022-03-30T13:04:27.162Z"
   },
   {
    "duration": 11,
    "start_time": "2022-03-30T13:10:18.334Z"
   },
   {
    "duration": 9,
    "start_time": "2022-03-30T13:11:05.815Z"
   },
   {
    "duration": 6,
    "start_time": "2022-03-30T13:14:44.271Z"
   },
   {
    "duration": 21,
    "start_time": "2022-03-30T13:15:30.106Z"
   },
   {
    "duration": 3,
    "start_time": "2022-03-30T13:15:41.721Z"
   },
   {
    "duration": 15,
    "start_time": "2022-03-30T13:15:56.273Z"
   },
   {
    "duration": 16,
    "start_time": "2022-03-30T13:40:36.564Z"
   },
   {
    "duration": 17,
    "start_time": "2022-03-30T13:40:45.935Z"
   },
   {
    "duration": 14,
    "start_time": "2022-03-30T13:40:58.474Z"
   },
   {
    "duration": 54,
    "start_time": "2022-03-30T14:00:44.101Z"
   },
   {
    "duration": 6,
    "start_time": "2022-03-30T14:01:11.265Z"
   },
   {
    "duration": 439,
    "start_time": "2022-03-30T14:02:02.432Z"
   },
   {
    "duration": 169,
    "start_time": "2022-03-30T14:02:02.873Z"
   },
   {
    "duration": 20,
    "start_time": "2022-03-30T14:02:03.044Z"
   },
   {
    "duration": 18,
    "start_time": "2022-03-30T14:02:03.066Z"
   },
   {
    "duration": 12,
    "start_time": "2022-03-30T14:02:03.086Z"
   },
   {
    "duration": 20,
    "start_time": "2022-03-30T14:02:03.100Z"
   },
   {
    "duration": 18,
    "start_time": "2022-03-30T14:02:03.122Z"
   },
   {
    "duration": 34,
    "start_time": "2022-03-30T14:02:03.141Z"
   },
   {
    "duration": 25,
    "start_time": "2022-03-30T14:02:03.177Z"
   },
   {
    "duration": 34,
    "start_time": "2022-03-30T14:02:03.204Z"
   },
   {
    "duration": 94,
    "start_time": "2022-03-30T14:02:03.240Z"
   },
   {
    "duration": 82,
    "start_time": "2022-03-30T14:02:03.336Z"
   },
   {
    "duration": 75,
    "start_time": "2022-03-30T14:02:03.420Z"
   },
   {
    "duration": 10,
    "start_time": "2022-03-30T14:02:03.498Z"
   },
   {
    "duration": 22,
    "start_time": "2022-03-30T14:02:03.510Z"
   },
   {
    "duration": 34,
    "start_time": "2022-03-30T14:02:03.534Z"
   },
   {
    "duration": 8,
    "start_time": "2022-03-30T14:02:03.570Z"
   },
   {
    "duration": 59,
    "start_time": "2022-03-30T14:02:03.580Z"
   },
   {
    "duration": 35,
    "start_time": "2022-03-30T14:02:03.641Z"
   },
   {
    "duration": 3,
    "start_time": "2022-03-30T14:02:03.678Z"
   },
   {
    "duration": 26,
    "start_time": "2022-03-30T14:02:03.683Z"
   },
   {
    "duration": 32,
    "start_time": "2022-03-30T14:02:03.711Z"
   },
   {
    "duration": 16,
    "start_time": "2022-03-30T14:02:03.745Z"
   },
   {
    "duration": 15,
    "start_time": "2022-03-30T14:02:03.763Z"
   },
   {
    "duration": 18,
    "start_time": "2022-03-30T14:02:03.780Z"
   },
   {
    "duration": 45,
    "start_time": "2022-03-30T14:02:03.800Z"
   },
   {
    "duration": 18,
    "start_time": "2022-03-30T14:02:03.847Z"
   },
   {
    "duration": 16,
    "start_time": "2022-03-30T14:02:03.867Z"
   },
   {
    "duration": 11,
    "start_time": "2022-03-30T14:02:03.885Z"
   },
   {
    "duration": 6,
    "start_time": "2022-03-30T14:02:03.898Z"
   },
   {
    "duration": 41,
    "start_time": "2022-03-30T14:02:03.906Z"
   },
   {
    "duration": 14,
    "start_time": "2022-03-30T14:02:03.948Z"
   },
   {
    "duration": 23,
    "start_time": "2022-03-30T14:02:03.964Z"
   },
   {
    "duration": 13,
    "start_time": "2022-03-30T14:02:03.989Z"
   },
   {
    "duration": 48,
    "start_time": "2022-03-30T14:02:04.004Z"
   },
   {
    "duration": 2,
    "start_time": "2022-03-30T14:02:04.054Z"
   },
   {
    "duration": 11,
    "start_time": "2022-03-30T14:02:04.058Z"
   },
   {
    "duration": 20,
    "start_time": "2022-03-30T14:02:04.070Z"
   },
   {
    "duration": 27,
    "start_time": "2022-03-30T14:02:12.957Z"
   },
   {
    "duration": 9,
    "start_time": "2022-03-30T14:02:32.625Z"
   },
   {
    "duration": 70,
    "start_time": "2022-03-30T14:04:40.283Z"
   },
   {
    "duration": 11,
    "start_time": "2022-03-30T14:04:54.465Z"
   },
   {
    "duration": 16,
    "start_time": "2022-03-30T14:04:55.567Z"
   },
   {
    "duration": 9,
    "start_time": "2022-03-30T14:04:56.404Z"
   },
   {
    "duration": 135,
    "start_time": "2022-03-30T14:12:19.003Z"
   },
   {
    "duration": 24,
    "start_time": "2022-03-30T14:12:28.654Z"
   },
   {
    "duration": 10,
    "start_time": "2022-03-30T14:12:29.677Z"
   },
   {
    "duration": 15,
    "start_time": "2022-03-30T14:12:30.633Z"
   },
   {
    "duration": 7,
    "start_time": "2022-03-30T14:23:17.564Z"
   },
   {
    "duration": 8,
    "start_time": "2022-03-30T14:23:31.555Z"
   },
   {
    "duration": 15,
    "start_time": "2022-03-30T14:23:47.186Z"
   },
   {
    "duration": 8,
    "start_time": "2022-03-30T14:23:54.746Z"
   },
   {
    "duration": 5,
    "start_time": "2022-03-30T14:23:56.567Z"
   },
   {
    "duration": 17,
    "start_time": "2022-03-30T14:23:58.964Z"
   },
   {
    "duration": 7,
    "start_time": "2022-03-30T14:24:15.416Z"
   },
   {
    "duration": 5,
    "start_time": "2022-03-30T14:24:16.334Z"
   },
   {
    "duration": 5,
    "start_time": "2022-03-30T14:31:28.739Z"
   },
   {
    "duration": 473,
    "start_time": "2022-04-10T14:39:20.417Z"
   },
   {
    "duration": 177,
    "start_time": "2022-04-10T14:39:20.892Z"
   },
   {
    "duration": 26,
    "start_time": "2022-04-10T14:39:21.071Z"
   },
   {
    "duration": 11,
    "start_time": "2022-04-10T14:39:21.099Z"
   },
   {
    "duration": 5,
    "start_time": "2022-04-10T14:39:21.114Z"
   },
   {
    "duration": 52,
    "start_time": "2022-04-10T14:39:21.121Z"
   },
   {
    "duration": 8,
    "start_time": "2022-04-10T14:39:21.175Z"
   },
   {
    "duration": 34,
    "start_time": "2022-04-10T14:39:21.186Z"
   },
   {
    "duration": 46,
    "start_time": "2022-04-10T14:39:21.223Z"
   },
   {
    "duration": 30,
    "start_time": "2022-04-10T14:39:21.272Z"
   },
   {
    "duration": 102,
    "start_time": "2022-04-10T14:39:21.304Z"
   },
   {
    "duration": 117,
    "start_time": "2022-04-10T14:39:21.408Z"
   },
   {
    "duration": 89,
    "start_time": "2022-04-10T14:39:21.527Z"
   },
   {
    "duration": 10,
    "start_time": "2022-04-10T14:39:21.621Z"
   },
   {
    "duration": 5,
    "start_time": "2022-04-10T14:39:21.634Z"
   },
   {
    "duration": 62,
    "start_time": "2022-04-10T14:39:21.641Z"
   },
   {
    "duration": 11,
    "start_time": "2022-04-10T14:39:21.705Z"
   },
   {
    "duration": 77,
    "start_time": "2022-04-10T14:39:21.719Z"
   },
   {
    "duration": 43,
    "start_time": "2022-04-10T14:39:21.798Z"
   },
   {
    "duration": 24,
    "start_time": "2022-04-10T14:39:21.843Z"
   },
   {
    "duration": 20,
    "start_time": "2022-04-10T14:39:21.869Z"
   },
   {
    "duration": 18,
    "start_time": "2022-04-10T14:39:21.891Z"
   },
   {
    "duration": 18,
    "start_time": "2022-04-10T14:39:21.911Z"
   },
   {
    "duration": 50,
    "start_time": "2022-04-10T14:39:21.931Z"
   },
   {
    "duration": 19,
    "start_time": "2022-04-10T14:39:21.983Z"
   },
   {
    "duration": 19,
    "start_time": "2022-04-10T14:39:22.004Z"
   },
   {
    "duration": 46,
    "start_time": "2022-04-10T14:39:22.025Z"
   },
   {
    "duration": 16,
    "start_time": "2022-04-10T14:39:22.074Z"
   },
   {
    "duration": 14,
    "start_time": "2022-04-10T14:39:22.092Z"
   },
   {
    "duration": 6,
    "start_time": "2022-04-10T14:39:22.108Z"
   },
   {
    "duration": 64,
    "start_time": "2022-04-10T14:39:22.117Z"
   },
   {
    "duration": 18,
    "start_time": "2022-04-10T14:39:22.183Z"
   },
   {
    "duration": 19,
    "start_time": "2022-04-10T14:39:22.203Z"
   },
   {
    "duration": 53,
    "start_time": "2022-04-10T14:39:22.225Z"
   },
   {
    "duration": 10,
    "start_time": "2022-04-10T14:39:22.280Z"
   },
   {
    "duration": 7,
    "start_time": "2022-04-10T14:39:22.292Z"
   },
   {
    "duration": 12,
    "start_time": "2022-04-10T14:39:22.300Z"
   },
   {
    "duration": 6,
    "start_time": "2022-04-10T14:39:22.314Z"
   },
   {
    "duration": 14,
    "start_time": "2022-04-10T14:40:15.698Z"
   },
   {
    "duration": 43,
    "start_time": "2022-04-10T14:57:56.434Z"
   },
   {
    "duration": 332,
    "start_time": "2022-04-10T14:58:25.332Z"
   },
   {
    "duration": 3,
    "start_time": "2022-04-10T14:58:26.643Z"
   },
   {
    "duration": 455,
    "start_time": "2022-04-10T14:58:37.738Z"
   },
   {
    "duration": 147,
    "start_time": "2022-04-10T14:58:38.195Z"
   },
   {
    "duration": 14,
    "start_time": "2022-04-10T14:58:38.344Z"
   },
   {
    "duration": 11,
    "start_time": "2022-04-10T14:58:38.360Z"
   },
   {
    "duration": 21,
    "start_time": "2022-04-10T14:58:38.381Z"
   },
   {
    "duration": 23,
    "start_time": "2022-04-10T14:58:38.403Z"
   },
   {
    "duration": 23,
    "start_time": "2022-04-10T14:58:38.427Z"
   },
   {
    "duration": 19,
    "start_time": "2022-04-10T14:58:38.452Z"
   },
   {
    "duration": 30,
    "start_time": "2022-04-10T14:58:38.472Z"
   },
   {
    "duration": 32,
    "start_time": "2022-04-10T14:58:38.504Z"
   },
   {
    "duration": 22,
    "start_time": "2022-04-10T14:58:38.537Z"
   },
   {
    "duration": 62,
    "start_time": "2022-04-10T14:58:38.560Z"
   },
   {
    "duration": 69,
    "start_time": "2022-04-10T14:58:38.623Z"
   },
   {
    "duration": 51,
    "start_time": "2022-04-10T14:58:38.693Z"
   },
   {
    "duration": 7,
    "start_time": "2022-04-10T14:58:38.746Z"
   },
   {
    "duration": 7,
    "start_time": "2022-04-10T14:58:38.754Z"
   },
   {
    "duration": 43,
    "start_time": "2022-04-10T14:58:38.762Z"
   },
   {
    "duration": 7,
    "start_time": "2022-04-10T14:58:38.806Z"
   },
   {
    "duration": 40,
    "start_time": "2022-04-10T14:58:38.814Z"
   },
   {
    "duration": 37,
    "start_time": "2022-04-10T14:58:38.855Z"
   },
   {
    "duration": 3,
    "start_time": "2022-04-10T14:58:38.894Z"
   },
   {
    "duration": 19,
    "start_time": "2022-04-10T14:58:38.898Z"
   },
   {
    "duration": 14,
    "start_time": "2022-04-10T14:58:38.918Z"
   },
   {
    "duration": 12,
    "start_time": "2022-04-10T14:58:38.934Z"
   },
   {
    "duration": 24,
    "start_time": "2022-04-10T14:58:38.948Z"
   },
   {
    "duration": 16,
    "start_time": "2022-04-10T14:58:38.981Z"
   },
   {
    "duration": 13,
    "start_time": "2022-04-10T14:58:38.998Z"
   },
   {
    "duration": 9,
    "start_time": "2022-04-10T14:58:39.015Z"
   },
   {
    "duration": 14,
    "start_time": "2022-04-10T14:58:39.025Z"
   },
   {
    "duration": 15,
    "start_time": "2022-04-10T14:58:39.040Z"
   },
   {
    "duration": 12,
    "start_time": "2022-04-10T14:58:39.056Z"
   },
   {
    "duration": 28,
    "start_time": "2022-04-10T14:58:39.069Z"
   },
   {
    "duration": 18,
    "start_time": "2022-04-10T14:58:39.098Z"
   },
   {
    "duration": 20,
    "start_time": "2022-04-10T14:58:39.117Z"
   },
   {
    "duration": 10,
    "start_time": "2022-04-10T14:58:39.138Z"
   },
   {
    "duration": 9,
    "start_time": "2022-04-10T14:58:39.150Z"
   },
   {
    "duration": 7,
    "start_time": "2022-04-10T14:58:39.161Z"
   },
   {
    "duration": 6,
    "start_time": "2022-04-10T14:58:39.181Z"
   },
   {
    "duration": 5,
    "start_time": "2022-04-10T14:58:39.188Z"
   },
   {
    "duration": 395,
    "start_time": "2022-04-10T14:59:48.880Z"
   },
   {
    "duration": 143,
    "start_time": "2022-04-10T14:59:49.280Z"
   },
   {
    "duration": 16,
    "start_time": "2022-04-10T14:59:49.427Z"
   },
   {
    "duration": 9,
    "start_time": "2022-04-10T14:59:49.444Z"
   },
   {
    "duration": 9,
    "start_time": "2022-04-10T14:59:49.454Z"
   },
   {
    "duration": 3,
    "start_time": "2022-04-10T14:59:49.481Z"
   },
   {
    "duration": 11,
    "start_time": "2022-04-10T14:59:49.485Z"
   },
   {
    "duration": 5,
    "start_time": "2022-04-10T14:59:49.498Z"
   },
   {
    "duration": 26,
    "start_time": "2022-04-10T14:59:49.506Z"
   },
   {
    "duration": 17,
    "start_time": "2022-04-10T14:59:49.533Z"
   },
   {
    "duration": 48,
    "start_time": "2022-04-10T14:59:49.552Z"
   },
   {
    "duration": 59,
    "start_time": "2022-04-10T14:59:49.601Z"
   },
   {
    "duration": 83,
    "start_time": "2022-04-10T14:59:49.661Z"
   },
   {
    "duration": 59,
    "start_time": "2022-04-10T14:59:49.745Z"
   },
   {
    "duration": 7,
    "start_time": "2022-04-10T14:59:49.806Z"
   },
   {
    "duration": 3,
    "start_time": "2022-04-10T14:59:49.815Z"
   },
   {
    "duration": 39,
    "start_time": "2022-04-10T14:59:49.819Z"
   },
   {
    "duration": 23,
    "start_time": "2022-04-10T14:59:49.860Z"
   },
   {
    "duration": 29,
    "start_time": "2022-04-10T14:59:49.885Z"
   },
   {
    "duration": 30,
    "start_time": "2022-04-10T14:59:49.916Z"
   },
   {
    "duration": 4,
    "start_time": "2022-04-10T14:59:49.947Z"
   },
   {
    "duration": 40,
    "start_time": "2022-04-10T14:59:49.952Z"
   },
   {
    "duration": 13,
    "start_time": "2022-04-10T14:59:49.993Z"
   },
   {
    "duration": 12,
    "start_time": "2022-04-10T14:59:50.008Z"
   },
   {
    "duration": 20,
    "start_time": "2022-04-10T14:59:50.021Z"
   },
   {
    "duration": 15,
    "start_time": "2022-04-10T14:59:50.043Z"
   },
   {
    "duration": 13,
    "start_time": "2022-04-10T14:59:50.080Z"
   },
   {
    "duration": 8,
    "start_time": "2022-04-10T14:59:50.095Z"
   },
   {
    "duration": 14,
    "start_time": "2022-04-10T14:59:50.105Z"
   },
   {
    "duration": 9,
    "start_time": "2022-04-10T14:59:50.120Z"
   },
   {
    "duration": 4,
    "start_time": "2022-04-10T14:59:50.131Z"
   },
   {
    "duration": 21,
    "start_time": "2022-04-10T14:59:50.137Z"
   },
   {
    "duration": 11,
    "start_time": "2022-04-10T14:59:50.181Z"
   },
   {
    "duration": 14,
    "start_time": "2022-04-10T14:59:50.193Z"
   },
   {
    "duration": 11,
    "start_time": "2022-04-10T14:59:50.208Z"
   },
   {
    "duration": 9,
    "start_time": "2022-04-10T14:59:50.220Z"
   },
   {
    "duration": 5,
    "start_time": "2022-04-10T14:59:50.231Z"
   },
   {
    "duration": 8,
    "start_time": "2022-04-10T14:59:50.237Z"
   },
   {
    "duration": 38,
    "start_time": "2022-04-10T14:59:50.246Z"
   },
   {
    "duration": 405,
    "start_time": "2022-04-10T15:08:13.171Z"
   },
   {
    "duration": 867,
    "start_time": "2022-04-10T15:08:13.578Z"
   },
   {
    "duration": 16,
    "start_time": "2022-04-10T15:08:14.447Z"
   },
   {
    "duration": 268,
    "start_time": "2022-04-10T15:08:14.465Z"
   },
   {
    "duration": 11,
    "start_time": "2022-04-10T15:08:14.735Z"
   },
   {
    "duration": 6,
    "start_time": "2022-04-10T15:08:14.747Z"
   },
   {
    "duration": 11,
    "start_time": "2022-04-10T15:08:14.755Z"
   },
   {
    "duration": 6,
    "start_time": "2022-04-10T15:08:14.768Z"
   },
   {
    "duration": 31,
    "start_time": "2022-04-10T15:08:14.776Z"
   },
   {
    "duration": 19,
    "start_time": "2022-04-10T15:08:14.809Z"
   },
   {
    "duration": 25,
    "start_time": "2022-04-10T15:08:14.829Z"
   },
   {
    "duration": 77,
    "start_time": "2022-04-10T15:08:14.856Z"
   },
   {
    "duration": 392,
    "start_time": "2022-04-10T15:08:14.935Z"
   },
   {
    "duration": 63,
    "start_time": "2022-04-10T15:08:15.329Z"
   },
   {
    "duration": 7,
    "start_time": "2022-04-10T15:08:15.394Z"
   },
   {
    "duration": 6,
    "start_time": "2022-04-10T15:08:15.403Z"
   },
   {
    "duration": 54,
    "start_time": "2022-04-10T15:08:15.411Z"
   },
   {
    "duration": 7,
    "start_time": "2022-04-10T15:08:15.467Z"
   },
   {
    "duration": 32,
    "start_time": "2022-04-10T15:08:15.476Z"
   },
   {
    "duration": 32,
    "start_time": "2022-04-10T15:08:15.510Z"
   },
   {
    "duration": 3,
    "start_time": "2022-04-10T15:08:15.544Z"
   },
   {
    "duration": 41,
    "start_time": "2022-04-10T15:08:15.549Z"
   },
   {
    "duration": 14,
    "start_time": "2022-04-10T15:08:15.591Z"
   },
   {
    "duration": 14,
    "start_time": "2022-04-10T15:08:15.606Z"
   },
   {
    "duration": 14,
    "start_time": "2022-04-10T15:08:15.621Z"
   },
   {
    "duration": 18,
    "start_time": "2022-04-10T15:08:15.636Z"
   },
   {
    "duration": 35,
    "start_time": "2022-04-10T15:08:15.656Z"
   },
   {
    "duration": 8,
    "start_time": "2022-04-10T15:08:15.694Z"
   },
   {
    "duration": 16,
    "start_time": "2022-04-10T15:08:15.703Z"
   },
   {
    "duration": 8,
    "start_time": "2022-04-10T15:08:15.721Z"
   },
   {
    "duration": 6,
    "start_time": "2022-04-10T15:08:15.731Z"
   },
   {
    "duration": 44,
    "start_time": "2022-04-10T15:08:15.738Z"
   },
   {
    "duration": 13,
    "start_time": "2022-04-10T15:08:15.783Z"
   },
   {
    "duration": 16,
    "start_time": "2022-04-10T15:08:15.797Z"
   },
   {
    "duration": 11,
    "start_time": "2022-04-10T15:08:15.815Z"
   },
   {
    "duration": 10,
    "start_time": "2022-04-10T15:08:15.828Z"
   },
   {
    "duration": 9,
    "start_time": "2022-04-10T15:08:15.839Z"
   },
   {
    "duration": 8,
    "start_time": "2022-04-10T15:08:15.880Z"
   },
   {
    "duration": 5,
    "start_time": "2022-04-10T15:08:15.890Z"
   },
   {
    "duration": 155,
    "start_time": "2022-04-10T15:21:21.613Z"
   },
   {
    "duration": 76,
    "start_time": "2022-04-10T15:21:33.478Z"
   },
   {
    "duration": 416,
    "start_time": "2022-04-10T15:21:40.853Z"
   },
   {
    "duration": 137,
    "start_time": "2022-04-10T15:21:41.271Z"
   },
   {
    "duration": 17,
    "start_time": "2022-04-10T15:21:41.409Z"
   },
   {
    "duration": 9,
    "start_time": "2022-04-10T15:21:41.428Z"
   },
   {
    "duration": 7,
    "start_time": "2022-04-10T15:21:41.439Z"
   },
   {
    "duration": 5,
    "start_time": "2022-04-10T15:21:41.448Z"
   },
   {
    "duration": 34,
    "start_time": "2022-04-10T15:21:41.454Z"
   },
   {
    "duration": 6,
    "start_time": "2022-04-10T15:21:41.489Z"
   },
   {
    "duration": 29,
    "start_time": "2022-04-10T15:21:41.496Z"
   },
   {
    "duration": 16,
    "start_time": "2022-04-10T15:21:41.528Z"
   },
   {
    "duration": 37,
    "start_time": "2022-04-10T15:21:41.545Z"
   },
   {
    "duration": 67,
    "start_time": "2022-04-10T15:21:41.583Z"
   },
   {
    "duration": 111,
    "start_time": "2022-04-10T15:21:41.651Z"
   },
   {
    "duration": 87,
    "start_time": "2022-04-10T15:21:41.764Z"
   },
   {
    "duration": 90,
    "start_time": "2022-04-10T15:21:41.852Z"
   },
   {
    "duration": 0,
    "start_time": "2022-04-10T15:21:41.944Z"
   },
   {
    "duration": 0,
    "start_time": "2022-04-10T15:21:41.945Z"
   },
   {
    "duration": 0,
    "start_time": "2022-04-10T15:21:41.946Z"
   },
   {
    "duration": 0,
    "start_time": "2022-04-10T15:21:41.947Z"
   },
   {
    "duration": 0,
    "start_time": "2022-04-10T15:21:41.948Z"
   },
   {
    "duration": 0,
    "start_time": "2022-04-10T15:21:41.949Z"
   },
   {
    "duration": 0,
    "start_time": "2022-04-10T15:21:41.950Z"
   },
   {
    "duration": 0,
    "start_time": "2022-04-10T15:21:41.951Z"
   },
   {
    "duration": 0,
    "start_time": "2022-04-10T15:21:41.952Z"
   },
   {
    "duration": 0,
    "start_time": "2022-04-10T15:21:41.953Z"
   },
   {
    "duration": 0,
    "start_time": "2022-04-10T15:21:41.954Z"
   },
   {
    "duration": 1,
    "start_time": "2022-04-10T15:21:41.954Z"
   },
   {
    "duration": 0,
    "start_time": "2022-04-10T15:21:41.955Z"
   },
   {
    "duration": 0,
    "start_time": "2022-04-10T15:21:41.956Z"
   },
   {
    "duration": 0,
    "start_time": "2022-04-10T15:21:41.957Z"
   },
   {
    "duration": 0,
    "start_time": "2022-04-10T15:21:41.981Z"
   },
   {
    "duration": 0,
    "start_time": "2022-04-10T15:21:41.982Z"
   },
   {
    "duration": 0,
    "start_time": "2022-04-10T15:21:41.984Z"
   },
   {
    "duration": 0,
    "start_time": "2022-04-10T15:21:41.985Z"
   },
   {
    "duration": 0,
    "start_time": "2022-04-10T15:21:41.987Z"
   },
   {
    "duration": 0,
    "start_time": "2022-04-10T15:21:41.988Z"
   },
   {
    "duration": 0,
    "start_time": "2022-04-10T15:21:41.989Z"
   },
   {
    "duration": 0,
    "start_time": "2022-04-10T15:21:41.991Z"
   },
   {
    "duration": 0,
    "start_time": "2022-04-10T15:21:41.992Z"
   },
   {
    "duration": 385,
    "start_time": "2022-04-10T15:22:09.429Z"
   },
   {
    "duration": 157,
    "start_time": "2022-04-10T15:22:09.817Z"
   },
   {
    "duration": 17,
    "start_time": "2022-04-10T15:22:09.976Z"
   },
   {
    "duration": 9,
    "start_time": "2022-04-10T15:22:09.995Z"
   },
   {
    "duration": 12,
    "start_time": "2022-04-10T15:22:10.005Z"
   },
   {
    "duration": 7,
    "start_time": "2022-04-10T15:22:10.018Z"
   },
   {
    "duration": 13,
    "start_time": "2022-04-10T15:22:10.027Z"
   },
   {
    "duration": 9,
    "start_time": "2022-04-10T15:22:10.041Z"
   },
   {
    "duration": 47,
    "start_time": "2022-04-10T15:22:10.052Z"
   },
   {
    "duration": 20,
    "start_time": "2022-04-10T15:22:10.103Z"
   },
   {
    "duration": 25,
    "start_time": "2022-04-10T15:22:10.125Z"
   },
   {
    "duration": 83,
    "start_time": "2022-04-10T15:22:10.152Z"
   },
   {
    "duration": 81,
    "start_time": "2022-04-10T15:22:10.237Z"
   },
   {
    "duration": 65,
    "start_time": "2022-04-10T15:22:10.319Z"
   },
   {
    "duration": 61,
    "start_time": "2022-04-10T15:22:10.385Z"
   },
   {
    "duration": 0,
    "start_time": "2022-04-10T15:22:10.448Z"
   },
   {
    "duration": 0,
    "start_time": "2022-04-10T15:22:10.449Z"
   },
   {
    "duration": 0,
    "start_time": "2022-04-10T15:22:10.451Z"
   },
   {
    "duration": 0,
    "start_time": "2022-04-10T15:22:10.451Z"
   },
   {
    "duration": 0,
    "start_time": "2022-04-10T15:22:10.452Z"
   },
   {
    "duration": 0,
    "start_time": "2022-04-10T15:22:10.453Z"
   },
   {
    "duration": 0,
    "start_time": "2022-04-10T15:22:10.454Z"
   },
   {
    "duration": 0,
    "start_time": "2022-04-10T15:22:10.481Z"
   },
   {
    "duration": 0,
    "start_time": "2022-04-10T15:22:10.482Z"
   },
   {
    "duration": 0,
    "start_time": "2022-04-10T15:22:10.482Z"
   },
   {
    "duration": 0,
    "start_time": "2022-04-10T15:22:10.483Z"
   },
   {
    "duration": 0,
    "start_time": "2022-04-10T15:22:10.485Z"
   },
   {
    "duration": 0,
    "start_time": "2022-04-10T15:22:10.486Z"
   },
   {
    "duration": 0,
    "start_time": "2022-04-10T15:22:10.487Z"
   },
   {
    "duration": 0,
    "start_time": "2022-04-10T15:22:10.488Z"
   },
   {
    "duration": 0,
    "start_time": "2022-04-10T15:22:10.489Z"
   },
   {
    "duration": 0,
    "start_time": "2022-04-10T15:22:10.490Z"
   },
   {
    "duration": 0,
    "start_time": "2022-04-10T15:22:10.491Z"
   },
   {
    "duration": 0,
    "start_time": "2022-04-10T15:22:10.492Z"
   },
   {
    "duration": 0,
    "start_time": "2022-04-10T15:22:10.493Z"
   },
   {
    "duration": 0,
    "start_time": "2022-04-10T15:22:10.494Z"
   },
   {
    "duration": 0,
    "start_time": "2022-04-10T15:22:10.495Z"
   },
   {
    "duration": 0,
    "start_time": "2022-04-10T15:22:10.497Z"
   },
   {
    "duration": 0,
    "start_time": "2022-04-10T15:22:10.498Z"
   },
   {
    "duration": 363,
    "start_time": "2022-04-10T15:23:22.109Z"
   },
   {
    "duration": 144,
    "start_time": "2022-04-10T15:23:22.474Z"
   },
   {
    "duration": 17,
    "start_time": "2022-04-10T15:23:22.619Z"
   },
   {
    "duration": 8,
    "start_time": "2022-04-10T15:23:22.638Z"
   },
   {
    "duration": 8,
    "start_time": "2022-04-10T15:23:22.648Z"
   },
   {
    "duration": 25,
    "start_time": "2022-04-10T15:23:22.657Z"
   },
   {
    "duration": 12,
    "start_time": "2022-04-10T15:23:22.683Z"
   },
   {
    "duration": 5,
    "start_time": "2022-04-10T15:23:22.697Z"
   },
   {
    "duration": 26,
    "start_time": "2022-04-10T15:23:22.704Z"
   },
   {
    "duration": 18,
    "start_time": "2022-04-10T15:23:22.733Z"
   },
   {
    "duration": 48,
    "start_time": "2022-04-10T15:23:22.753Z"
   },
   {
    "duration": 63,
    "start_time": "2022-04-10T15:23:22.803Z"
   },
   {
    "duration": 72,
    "start_time": "2022-04-10T15:23:22.880Z"
   },
   {
    "duration": 69,
    "start_time": "2022-04-10T15:23:22.954Z"
   },
   {
    "duration": 65,
    "start_time": "2022-04-10T15:23:23.025Z"
   },
   {
    "duration": 0,
    "start_time": "2022-04-10T15:23:23.091Z"
   },
   {
    "duration": 0,
    "start_time": "2022-04-10T15:23:23.093Z"
   },
   {
    "duration": 0,
    "start_time": "2022-04-10T15:23:23.094Z"
   },
   {
    "duration": 0,
    "start_time": "2022-04-10T15:23:23.094Z"
   },
   {
    "duration": 0,
    "start_time": "2022-04-10T15:23:23.095Z"
   },
   {
    "duration": 0,
    "start_time": "2022-04-10T15:23:23.096Z"
   },
   {
    "duration": 0,
    "start_time": "2022-04-10T15:23:23.097Z"
   },
   {
    "duration": 0,
    "start_time": "2022-04-10T15:23:23.098Z"
   },
   {
    "duration": 0,
    "start_time": "2022-04-10T15:23:23.099Z"
   },
   {
    "duration": 0,
    "start_time": "2022-04-10T15:23:23.099Z"
   },
   {
    "duration": 0,
    "start_time": "2022-04-10T15:23:23.100Z"
   },
   {
    "duration": 0,
    "start_time": "2022-04-10T15:23:23.101Z"
   },
   {
    "duration": 0,
    "start_time": "2022-04-10T15:23:23.102Z"
   },
   {
    "duration": 0,
    "start_time": "2022-04-10T15:23:23.103Z"
   },
   {
    "duration": 0,
    "start_time": "2022-04-10T15:23:23.104Z"
   },
   {
    "duration": 0,
    "start_time": "2022-04-10T15:23:23.105Z"
   },
   {
    "duration": 0,
    "start_time": "2022-04-10T15:23:23.106Z"
   },
   {
    "duration": 0,
    "start_time": "2022-04-10T15:23:23.107Z"
   },
   {
    "duration": 0,
    "start_time": "2022-04-10T15:23:23.108Z"
   },
   {
    "duration": 0,
    "start_time": "2022-04-10T15:23:23.109Z"
   },
   {
    "duration": 0,
    "start_time": "2022-04-10T15:23:23.109Z"
   },
   {
    "duration": 0,
    "start_time": "2022-04-10T15:23:23.110Z"
   },
   {
    "duration": 0,
    "start_time": "2022-04-10T15:23:23.111Z"
   },
   {
    "duration": 0,
    "start_time": "2022-04-10T15:23:23.112Z"
   },
   {
    "duration": 442,
    "start_time": "2022-04-10T15:23:50.296Z"
   },
   {
    "duration": 144,
    "start_time": "2022-04-10T15:23:50.740Z"
   },
   {
    "duration": 16,
    "start_time": "2022-04-10T15:23:50.885Z"
   },
   {
    "duration": 8,
    "start_time": "2022-04-10T15:23:50.903Z"
   },
   {
    "duration": 10,
    "start_time": "2022-04-10T15:23:50.912Z"
   },
   {
    "duration": 7,
    "start_time": "2022-04-10T15:23:50.923Z"
   },
   {
    "duration": 12,
    "start_time": "2022-04-10T15:23:50.931Z"
   },
   {
    "duration": 7,
    "start_time": "2022-04-10T15:23:50.945Z"
   },
   {
    "duration": 63,
    "start_time": "2022-04-10T15:23:50.953Z"
   },
   {
    "duration": 32,
    "start_time": "2022-04-10T15:23:51.020Z"
   },
   {
    "duration": 49,
    "start_time": "2022-04-10T15:23:51.055Z"
   },
   {
    "duration": 107,
    "start_time": "2022-04-10T15:23:51.106Z"
   },
   {
    "duration": 118,
    "start_time": "2022-04-10T15:23:51.215Z"
   },
   {
    "duration": 95,
    "start_time": "2022-04-10T15:23:51.335Z"
   },
   {
    "duration": 101,
    "start_time": "2022-04-10T15:23:51.432Z"
   },
   {
    "duration": 0,
    "start_time": "2022-04-10T15:23:51.536Z"
   },
   {
    "duration": 0,
    "start_time": "2022-04-10T15:23:51.537Z"
   },
   {
    "duration": 0,
    "start_time": "2022-04-10T15:23:51.539Z"
   },
   {
    "duration": 0,
    "start_time": "2022-04-10T15:23:51.540Z"
   },
   {
    "duration": 0,
    "start_time": "2022-04-10T15:23:51.542Z"
   },
   {
    "duration": 1,
    "start_time": "2022-04-10T15:23:51.543Z"
   },
   {
    "duration": 0,
    "start_time": "2022-04-10T15:23:51.545Z"
   },
   {
    "duration": 0,
    "start_time": "2022-04-10T15:23:51.546Z"
   },
   {
    "duration": 0,
    "start_time": "2022-04-10T15:23:51.547Z"
   },
   {
    "duration": 0,
    "start_time": "2022-04-10T15:23:51.549Z"
   },
   {
    "duration": 0,
    "start_time": "2022-04-10T15:23:51.551Z"
   },
   {
    "duration": 0,
    "start_time": "2022-04-10T15:23:51.552Z"
   },
   {
    "duration": 0,
    "start_time": "2022-04-10T15:23:51.581Z"
   },
   {
    "duration": 0,
    "start_time": "2022-04-10T15:23:51.583Z"
   },
   {
    "duration": 0,
    "start_time": "2022-04-10T15:23:51.584Z"
   },
   {
    "duration": 0,
    "start_time": "2022-04-10T15:23:51.586Z"
   },
   {
    "duration": 0,
    "start_time": "2022-04-10T15:23:51.587Z"
   },
   {
    "duration": 0,
    "start_time": "2022-04-10T15:23:51.588Z"
   },
   {
    "duration": 0,
    "start_time": "2022-04-10T15:23:51.590Z"
   },
   {
    "duration": 0,
    "start_time": "2022-04-10T15:23:51.591Z"
   },
   {
    "duration": 0,
    "start_time": "2022-04-10T15:23:51.593Z"
   },
   {
    "duration": 0,
    "start_time": "2022-04-10T15:23:51.594Z"
   },
   {
    "duration": 0,
    "start_time": "2022-04-10T15:23:51.595Z"
   },
   {
    "duration": 0,
    "start_time": "2022-04-10T15:23:51.597Z"
   },
   {
    "duration": 425,
    "start_time": "2022-04-10T15:24:02.865Z"
   },
   {
    "duration": 140,
    "start_time": "2022-04-10T15:24:03.292Z"
   },
   {
    "duration": 16,
    "start_time": "2022-04-10T15:24:03.433Z"
   },
   {
    "duration": 10,
    "start_time": "2022-04-10T15:24:03.451Z"
   },
   {
    "duration": 22,
    "start_time": "2022-04-10T15:24:03.463Z"
   },
   {
    "duration": 5,
    "start_time": "2022-04-10T15:24:03.486Z"
   },
   {
    "duration": 11,
    "start_time": "2022-04-10T15:24:03.492Z"
   },
   {
    "duration": 5,
    "start_time": "2022-04-10T15:24:03.505Z"
   },
   {
    "duration": 24,
    "start_time": "2022-04-10T15:24:03.511Z"
   },
   {
    "duration": 49,
    "start_time": "2022-04-10T15:24:03.537Z"
   },
   {
    "duration": 22,
    "start_time": "2022-04-10T15:24:03.588Z"
   },
   {
    "duration": 75,
    "start_time": "2022-04-10T15:24:03.611Z"
   },
   {
    "duration": 69,
    "start_time": "2022-04-10T15:24:03.687Z"
   },
   {
    "duration": 70,
    "start_time": "2022-04-10T15:24:03.758Z"
   },
   {
    "duration": 171,
    "start_time": "2022-04-10T15:24:03.829Z"
   },
   {
    "duration": 0,
    "start_time": "2022-04-10T15:24:04.003Z"
   },
   {
    "duration": 0,
    "start_time": "2022-04-10T15:24:04.004Z"
   },
   {
    "duration": 0,
    "start_time": "2022-04-10T15:24:04.005Z"
   },
   {
    "duration": 0,
    "start_time": "2022-04-10T15:24:04.006Z"
   },
   {
    "duration": 0,
    "start_time": "2022-04-10T15:24:04.007Z"
   },
   {
    "duration": 0,
    "start_time": "2022-04-10T15:24:04.008Z"
   },
   {
    "duration": 0,
    "start_time": "2022-04-10T15:24:04.009Z"
   },
   {
    "duration": 0,
    "start_time": "2022-04-10T15:24:04.010Z"
   },
   {
    "duration": 0,
    "start_time": "2022-04-10T15:24:04.010Z"
   },
   {
    "duration": 0,
    "start_time": "2022-04-10T15:24:04.012Z"
   },
   {
    "duration": 0,
    "start_time": "2022-04-10T15:24:04.013Z"
   },
   {
    "duration": 0,
    "start_time": "2022-04-10T15:24:04.013Z"
   },
   {
    "duration": 0,
    "start_time": "2022-04-10T15:24:04.015Z"
   },
   {
    "duration": 0,
    "start_time": "2022-04-10T15:24:04.016Z"
   },
   {
    "duration": 0,
    "start_time": "2022-04-10T15:24:04.017Z"
   },
   {
    "duration": 0,
    "start_time": "2022-04-10T15:24:04.018Z"
   },
   {
    "duration": 0,
    "start_time": "2022-04-10T15:24:04.019Z"
   },
   {
    "duration": 0,
    "start_time": "2022-04-10T15:24:04.019Z"
   },
   {
    "duration": 0,
    "start_time": "2022-04-10T15:24:04.020Z"
   },
   {
    "duration": 0,
    "start_time": "2022-04-10T15:24:04.021Z"
   },
   {
    "duration": 0,
    "start_time": "2022-04-10T15:24:04.022Z"
   },
   {
    "duration": 0,
    "start_time": "2022-04-10T15:24:04.023Z"
   },
   {
    "duration": 0,
    "start_time": "2022-04-10T15:24:04.023Z"
   },
   {
    "duration": 0,
    "start_time": "2022-04-10T15:24:04.024Z"
   },
   {
    "duration": 371,
    "start_time": "2022-04-10T15:24:18.317Z"
   },
   {
    "duration": 134,
    "start_time": "2022-04-10T15:24:18.690Z"
   },
   {
    "duration": 16,
    "start_time": "2022-04-10T15:24:18.826Z"
   },
   {
    "duration": 8,
    "start_time": "2022-04-10T15:24:18.843Z"
   },
   {
    "duration": 7,
    "start_time": "2022-04-10T15:24:18.853Z"
   },
   {
    "duration": 3,
    "start_time": "2022-04-10T15:24:18.880Z"
   },
   {
    "duration": 12,
    "start_time": "2022-04-10T15:24:18.885Z"
   },
   {
    "duration": 5,
    "start_time": "2022-04-10T15:24:18.898Z"
   },
   {
    "duration": 27,
    "start_time": "2022-04-10T15:24:18.905Z"
   },
   {
    "duration": 47,
    "start_time": "2022-04-10T15:24:18.935Z"
   },
   {
    "duration": 42,
    "start_time": "2022-04-10T15:24:18.984Z"
   },
   {
    "duration": 106,
    "start_time": "2022-04-10T15:24:19.028Z"
   },
   {
    "duration": 123,
    "start_time": "2022-04-10T15:24:19.135Z"
   },
   {
    "duration": 99,
    "start_time": "2022-04-10T15:24:19.260Z"
   },
   {
    "duration": 8,
    "start_time": "2022-04-10T15:24:19.360Z"
   },
   {
    "duration": 13,
    "start_time": "2022-04-10T15:24:19.369Z"
   },
   {
    "duration": 33,
    "start_time": "2022-04-10T15:24:19.383Z"
   },
   {
    "duration": 7,
    "start_time": "2022-04-10T15:24:19.417Z"
   },
   {
    "duration": 55,
    "start_time": "2022-04-10T15:24:19.426Z"
   },
   {
    "duration": 33,
    "start_time": "2022-04-10T15:24:19.483Z"
   },
   {
    "duration": 4,
    "start_time": "2022-04-10T15:24:19.517Z"
   },
   {
    "duration": 20,
    "start_time": "2022-04-10T15:24:19.523Z"
   },
   {
    "duration": 40,
    "start_time": "2022-04-10T15:24:19.545Z"
   },
   {
    "duration": 13,
    "start_time": "2022-04-10T15:24:19.586Z"
   },
   {
    "duration": 12,
    "start_time": "2022-04-10T15:24:19.601Z"
   },
   {
    "duration": 15,
    "start_time": "2022-04-10T15:24:19.614Z"
   },
   {
    "duration": 14,
    "start_time": "2022-04-10T15:24:19.630Z"
   },
   {
    "duration": 38,
    "start_time": "2022-04-10T15:24:19.648Z"
   },
   {
    "duration": 11,
    "start_time": "2022-04-10T15:24:19.688Z"
   },
   {
    "duration": 9,
    "start_time": "2022-04-10T15:24:19.700Z"
   },
   {
    "duration": 4,
    "start_time": "2022-04-10T15:24:19.711Z"
   },
   {
    "duration": 20,
    "start_time": "2022-04-10T15:24:19.717Z"
   },
   {
    "duration": 43,
    "start_time": "2022-04-10T15:24:19.739Z"
   },
   {
    "duration": 15,
    "start_time": "2022-04-10T15:24:19.784Z"
   },
   {
    "duration": 10,
    "start_time": "2022-04-10T15:24:19.801Z"
   },
   {
    "duration": 8,
    "start_time": "2022-04-10T15:24:19.812Z"
   },
   {
    "duration": 5,
    "start_time": "2022-04-10T15:24:19.821Z"
   },
   {
    "duration": 10,
    "start_time": "2022-04-10T15:24:19.827Z"
   },
   {
    "duration": 5,
    "start_time": "2022-04-10T15:24:19.838Z"
   },
   {
    "duration": 365,
    "start_time": "2022-04-10T15:25:33.804Z"
   },
   {
    "duration": 144,
    "start_time": "2022-04-10T15:25:34.171Z"
   },
   {
    "duration": 15,
    "start_time": "2022-04-10T15:25:34.317Z"
   },
   {
    "duration": 30,
    "start_time": "2022-04-10T15:25:34.334Z"
   },
   {
    "duration": 16,
    "start_time": "2022-04-10T15:25:34.365Z"
   },
   {
    "duration": 7,
    "start_time": "2022-04-10T15:25:34.383Z"
   },
   {
    "duration": 20,
    "start_time": "2022-04-10T15:25:34.391Z"
   },
   {
    "duration": 22,
    "start_time": "2022-04-10T15:25:34.412Z"
   },
   {
    "duration": 36,
    "start_time": "2022-04-10T15:25:34.435Z"
   },
   {
    "duration": 24,
    "start_time": "2022-04-10T15:25:34.473Z"
   },
   {
    "duration": 24,
    "start_time": "2022-04-10T15:25:34.498Z"
   },
   {
    "duration": 72,
    "start_time": "2022-04-10T15:25:34.523Z"
   },
   {
    "duration": 67,
    "start_time": "2022-04-10T15:25:34.596Z"
   },
   {
    "duration": 63,
    "start_time": "2022-04-10T15:25:34.665Z"
   },
   {
    "duration": 58,
    "start_time": "2022-04-10T15:25:34.730Z"
   },
   {
    "duration": 2,
    "start_time": "2022-04-10T15:25:34.790Z"
   },
   {
    "duration": 32,
    "start_time": "2022-04-10T15:25:34.793Z"
   },
   {
    "duration": 7,
    "start_time": "2022-04-10T15:25:34.826Z"
   },
   {
    "duration": 29,
    "start_time": "2022-04-10T15:25:34.834Z"
   },
   {
    "duration": 29,
    "start_time": "2022-04-10T15:25:34.881Z"
   },
   {
    "duration": 3,
    "start_time": "2022-04-10T15:25:34.911Z"
   },
   {
    "duration": 18,
    "start_time": "2022-04-10T15:25:34.915Z"
   },
   {
    "duration": 12,
    "start_time": "2022-04-10T15:25:34.934Z"
   },
   {
    "duration": 34,
    "start_time": "2022-04-10T15:25:34.948Z"
   },
   {
    "duration": 12,
    "start_time": "2022-04-10T15:25:34.983Z"
   },
   {
    "duration": 14,
    "start_time": "2022-04-10T15:25:34.996Z"
   },
   {
    "duration": 12,
    "start_time": "2022-04-10T15:25:35.011Z"
   },
   {
    "duration": 12,
    "start_time": "2022-04-10T15:25:35.026Z"
   },
   {
    "duration": 12,
    "start_time": "2022-04-10T15:25:35.039Z"
   },
   {
    "duration": 32,
    "start_time": "2022-04-10T15:25:35.053Z"
   },
   {
    "duration": 4,
    "start_time": "2022-04-10T15:25:35.086Z"
   },
   {
    "duration": 19,
    "start_time": "2022-04-10T15:25:35.091Z"
   },
   {
    "duration": 10,
    "start_time": "2022-04-10T15:25:35.111Z"
   },
   {
    "duration": 13,
    "start_time": "2022-04-10T15:25:35.123Z"
   },
   {
    "duration": 10,
    "start_time": "2022-04-10T15:25:35.137Z"
   },
   {
    "duration": 33,
    "start_time": "2022-04-10T15:25:35.148Z"
   },
   {
    "duration": 4,
    "start_time": "2022-04-10T15:25:35.183Z"
   },
   {
    "duration": 7,
    "start_time": "2022-04-10T15:25:35.188Z"
   },
   {
    "duration": 7,
    "start_time": "2022-04-10T15:25:35.196Z"
   },
   {
    "duration": 360,
    "start_time": "2022-04-10T15:28:04.014Z"
   },
   {
    "duration": 140,
    "start_time": "2022-04-10T15:28:04.375Z"
   },
   {
    "duration": 16,
    "start_time": "2022-04-10T15:28:04.517Z"
   },
   {
    "duration": 8,
    "start_time": "2022-04-10T15:28:04.535Z"
   },
   {
    "duration": 8,
    "start_time": "2022-04-10T15:28:04.545Z"
   },
   {
    "duration": 6,
    "start_time": "2022-04-10T15:28:04.554Z"
   },
   {
    "duration": 25,
    "start_time": "2022-04-10T15:28:04.561Z"
   },
   {
    "duration": 6,
    "start_time": "2022-04-10T15:28:04.587Z"
   },
   {
    "duration": 28,
    "start_time": "2022-04-10T15:28:04.594Z"
   },
   {
    "duration": 17,
    "start_time": "2022-04-10T15:28:04.624Z"
   },
   {
    "duration": 40,
    "start_time": "2022-04-10T15:28:04.642Z"
   },
   {
    "duration": 59,
    "start_time": "2022-04-10T15:28:04.683Z"
   },
   {
    "duration": 85,
    "start_time": "2022-04-10T15:28:04.744Z"
   },
   {
    "duration": 57,
    "start_time": "2022-04-10T15:28:04.831Z"
   },
   {
    "duration": 60,
    "start_time": "2022-04-10T15:28:04.890Z"
   },
   {
    "duration": 0,
    "start_time": "2022-04-10T15:28:04.952Z"
   },
   {
    "duration": 0,
    "start_time": "2022-04-10T15:28:04.953Z"
   },
   {
    "duration": 0,
    "start_time": "2022-04-10T15:28:04.954Z"
   },
   {
    "duration": 0,
    "start_time": "2022-04-10T15:28:04.955Z"
   },
   {
    "duration": 0,
    "start_time": "2022-04-10T15:28:04.956Z"
   },
   {
    "duration": 0,
    "start_time": "2022-04-10T15:28:04.957Z"
   },
   {
    "duration": 0,
    "start_time": "2022-04-10T15:28:04.958Z"
   },
   {
    "duration": 0,
    "start_time": "2022-04-10T15:28:04.981Z"
   },
   {
    "duration": 0,
    "start_time": "2022-04-10T15:28:04.981Z"
   },
   {
    "duration": 0,
    "start_time": "2022-04-10T15:28:04.982Z"
   },
   {
    "duration": 0,
    "start_time": "2022-04-10T15:28:04.983Z"
   },
   {
    "duration": 0,
    "start_time": "2022-04-10T15:28:04.984Z"
   },
   {
    "duration": 0,
    "start_time": "2022-04-10T15:28:04.986Z"
   },
   {
    "duration": 0,
    "start_time": "2022-04-10T15:28:04.987Z"
   },
   {
    "duration": 0,
    "start_time": "2022-04-10T15:28:04.988Z"
   },
   {
    "duration": 0,
    "start_time": "2022-04-10T15:28:04.989Z"
   },
   {
    "duration": 0,
    "start_time": "2022-04-10T15:28:04.990Z"
   },
   {
    "duration": 0,
    "start_time": "2022-04-10T15:28:04.991Z"
   },
   {
    "duration": 0,
    "start_time": "2022-04-10T15:28:04.992Z"
   },
   {
    "duration": 0,
    "start_time": "2022-04-10T15:28:04.993Z"
   },
   {
    "duration": 0,
    "start_time": "2022-04-10T15:28:04.994Z"
   },
   {
    "duration": 0,
    "start_time": "2022-04-10T15:28:04.995Z"
   },
   {
    "duration": 0,
    "start_time": "2022-04-10T15:28:04.996Z"
   },
   {
    "duration": 0,
    "start_time": "2022-04-10T15:28:04.997Z"
   },
   {
    "duration": 370,
    "start_time": "2022-04-10T15:28:28.894Z"
   },
   {
    "duration": 139,
    "start_time": "2022-04-10T15:28:29.266Z"
   },
   {
    "duration": 15,
    "start_time": "2022-04-10T15:28:29.407Z"
   },
   {
    "duration": 8,
    "start_time": "2022-04-10T15:28:29.424Z"
   },
   {
    "duration": 8,
    "start_time": "2022-04-10T15:28:29.434Z"
   },
   {
    "duration": 9,
    "start_time": "2022-04-10T15:28:29.443Z"
   },
   {
    "duration": 28,
    "start_time": "2022-04-10T15:28:29.453Z"
   },
   {
    "duration": 4,
    "start_time": "2022-04-10T15:28:29.482Z"
   },
   {
    "duration": 26,
    "start_time": "2022-04-10T15:28:29.487Z"
   },
   {
    "duration": 29,
    "start_time": "2022-04-10T15:28:29.516Z"
   },
   {
    "duration": 35,
    "start_time": "2022-04-10T15:28:29.546Z"
   },
   {
    "duration": 61,
    "start_time": "2022-04-10T15:28:29.582Z"
   },
   {
    "duration": 95,
    "start_time": "2022-04-10T15:28:29.645Z"
   },
   {
    "duration": 61,
    "start_time": "2022-04-10T15:28:29.742Z"
   },
   {
    "duration": 63,
    "start_time": "2022-04-10T15:28:29.804Z"
   },
   {
    "duration": 0,
    "start_time": "2022-04-10T15:28:29.880Z"
   },
   {
    "duration": 0,
    "start_time": "2022-04-10T15:28:29.881Z"
   },
   {
    "duration": 0,
    "start_time": "2022-04-10T15:28:29.882Z"
   },
   {
    "duration": 0,
    "start_time": "2022-04-10T15:28:29.883Z"
   },
   {
    "duration": 0,
    "start_time": "2022-04-10T15:28:29.885Z"
   },
   {
    "duration": 0,
    "start_time": "2022-04-10T15:28:29.886Z"
   },
   {
    "duration": 0,
    "start_time": "2022-04-10T15:28:29.886Z"
   },
   {
    "duration": 0,
    "start_time": "2022-04-10T15:28:29.887Z"
   },
   {
    "duration": 0,
    "start_time": "2022-04-10T15:28:29.888Z"
   },
   {
    "duration": 0,
    "start_time": "2022-04-10T15:28:29.889Z"
   },
   {
    "duration": 0,
    "start_time": "2022-04-10T15:28:29.890Z"
   },
   {
    "duration": 0,
    "start_time": "2022-04-10T15:28:29.892Z"
   },
   {
    "duration": 0,
    "start_time": "2022-04-10T15:28:29.892Z"
   },
   {
    "duration": 0,
    "start_time": "2022-04-10T15:28:29.893Z"
   },
   {
    "duration": 0,
    "start_time": "2022-04-10T15:28:29.894Z"
   },
   {
    "duration": 0,
    "start_time": "2022-04-10T15:28:29.895Z"
   },
   {
    "duration": 0,
    "start_time": "2022-04-10T15:28:29.896Z"
   },
   {
    "duration": 0,
    "start_time": "2022-04-10T15:28:29.897Z"
   },
   {
    "duration": 0,
    "start_time": "2022-04-10T15:28:29.898Z"
   },
   {
    "duration": 0,
    "start_time": "2022-04-10T15:28:29.899Z"
   },
   {
    "duration": 0,
    "start_time": "2022-04-10T15:28:29.900Z"
   },
   {
    "duration": 0,
    "start_time": "2022-04-10T15:28:29.901Z"
   },
   {
    "duration": 0,
    "start_time": "2022-04-10T15:28:29.902Z"
   },
   {
    "duration": 0,
    "start_time": "2022-04-10T15:28:29.903Z"
   },
   {
    "duration": 345,
    "start_time": "2022-04-10T15:30:51.027Z"
   },
   {
    "duration": 135,
    "start_time": "2022-04-10T15:30:51.374Z"
   },
   {
    "duration": 16,
    "start_time": "2022-04-10T15:30:51.510Z"
   },
   {
    "duration": 8,
    "start_time": "2022-04-10T15:30:51.528Z"
   },
   {
    "duration": 7,
    "start_time": "2022-04-10T15:30:51.538Z"
   },
   {
    "duration": 4,
    "start_time": "2022-04-10T15:30:51.547Z"
   },
   {
    "duration": 35,
    "start_time": "2022-04-10T15:30:51.552Z"
   },
   {
    "duration": 5,
    "start_time": "2022-04-10T15:30:51.589Z"
   },
   {
    "duration": 26,
    "start_time": "2022-04-10T15:30:51.595Z"
   },
   {
    "duration": 19,
    "start_time": "2022-04-10T15:30:51.624Z"
   },
   {
    "duration": 22,
    "start_time": "2022-04-10T15:30:51.644Z"
   },
   {
    "duration": 71,
    "start_time": "2022-04-10T15:30:51.667Z"
   },
   {
    "duration": 81,
    "start_time": "2022-04-10T15:30:51.739Z"
   },
   {
    "duration": 63,
    "start_time": "2022-04-10T15:30:51.821Z"
   },
   {
    "duration": 63,
    "start_time": "2022-04-10T15:30:51.886Z"
   },
   {
    "duration": 0,
    "start_time": "2022-04-10T15:30:51.951Z"
   },
   {
    "duration": 0,
    "start_time": "2022-04-10T15:30:51.952Z"
   },
   {
    "duration": 0,
    "start_time": "2022-04-10T15:30:51.953Z"
   },
   {
    "duration": 0,
    "start_time": "2022-04-10T15:30:51.954Z"
   },
   {
    "duration": 0,
    "start_time": "2022-04-10T15:30:51.954Z"
   },
   {
    "duration": 0,
    "start_time": "2022-04-10T15:30:51.955Z"
   },
   {
    "duration": 0,
    "start_time": "2022-04-10T15:30:51.956Z"
   },
   {
    "duration": 0,
    "start_time": "2022-04-10T15:30:51.957Z"
   },
   {
    "duration": 0,
    "start_time": "2022-04-10T15:30:51.958Z"
   },
   {
    "duration": 0,
    "start_time": "2022-04-10T15:30:51.981Z"
   },
   {
    "duration": 0,
    "start_time": "2022-04-10T15:30:51.982Z"
   },
   {
    "duration": 0,
    "start_time": "2022-04-10T15:30:51.983Z"
   },
   {
    "duration": 0,
    "start_time": "2022-04-10T15:30:51.983Z"
   },
   {
    "duration": 0,
    "start_time": "2022-04-10T15:30:51.985Z"
   },
   {
    "duration": 0,
    "start_time": "2022-04-10T15:30:51.986Z"
   },
   {
    "duration": 0,
    "start_time": "2022-04-10T15:30:51.987Z"
   },
   {
    "duration": 0,
    "start_time": "2022-04-10T15:30:51.988Z"
   },
   {
    "duration": 0,
    "start_time": "2022-04-10T15:30:51.989Z"
   },
   {
    "duration": 0,
    "start_time": "2022-04-10T15:30:51.990Z"
   },
   {
    "duration": 0,
    "start_time": "2022-04-10T15:30:51.991Z"
   },
   {
    "duration": 0,
    "start_time": "2022-04-10T15:30:51.992Z"
   },
   {
    "duration": 0,
    "start_time": "2022-04-10T15:30:51.993Z"
   },
   {
    "duration": 0,
    "start_time": "2022-04-10T15:30:51.994Z"
   },
   {
    "duration": 0,
    "start_time": "2022-04-10T15:30:51.995Z"
   },
   {
    "duration": 348,
    "start_time": "2022-04-10T15:31:44.333Z"
   },
   {
    "duration": 134,
    "start_time": "2022-04-10T15:31:44.682Z"
   },
   {
    "duration": 16,
    "start_time": "2022-04-10T15:31:44.818Z"
   },
   {
    "duration": 8,
    "start_time": "2022-04-10T15:31:44.835Z"
   },
   {
    "duration": 8,
    "start_time": "2022-04-10T15:31:44.845Z"
   },
   {
    "duration": 4,
    "start_time": "2022-04-10T15:31:44.854Z"
   },
   {
    "duration": 23,
    "start_time": "2022-04-10T15:31:44.860Z"
   },
   {
    "duration": 6,
    "start_time": "2022-04-10T15:31:44.884Z"
   },
   {
    "duration": 25,
    "start_time": "2022-04-10T15:31:44.891Z"
   },
   {
    "duration": 15,
    "start_time": "2022-04-10T15:31:44.918Z"
   },
   {
    "duration": 23,
    "start_time": "2022-04-10T15:31:44.934Z"
   },
   {
    "duration": 72,
    "start_time": "2022-04-10T15:31:44.959Z"
   },
   {
    "duration": 73,
    "start_time": "2022-04-10T15:31:45.032Z"
   },
   {
    "duration": 52,
    "start_time": "2022-04-10T15:31:45.106Z"
   },
   {
    "duration": 75,
    "start_time": "2022-04-10T15:31:45.160Z"
   },
   {
    "duration": 0,
    "start_time": "2022-04-10T15:31:45.237Z"
   },
   {
    "duration": 0,
    "start_time": "2022-04-10T15:31:45.238Z"
   },
   {
    "duration": 0,
    "start_time": "2022-04-10T15:31:45.239Z"
   },
   {
    "duration": 0,
    "start_time": "2022-04-10T15:31:45.239Z"
   },
   {
    "duration": 0,
    "start_time": "2022-04-10T15:31:45.240Z"
   },
   {
    "duration": 0,
    "start_time": "2022-04-10T15:31:45.241Z"
   },
   {
    "duration": 0,
    "start_time": "2022-04-10T15:31:45.242Z"
   },
   {
    "duration": 0,
    "start_time": "2022-04-10T15:31:45.243Z"
   },
   {
    "duration": 0,
    "start_time": "2022-04-10T15:31:45.244Z"
   },
   {
    "duration": 0,
    "start_time": "2022-04-10T15:31:45.244Z"
   },
   {
    "duration": 0,
    "start_time": "2022-04-10T15:31:45.245Z"
   },
   {
    "duration": 0,
    "start_time": "2022-04-10T15:31:45.281Z"
   },
   {
    "duration": 0,
    "start_time": "2022-04-10T15:31:45.282Z"
   },
   {
    "duration": 0,
    "start_time": "2022-04-10T15:31:45.283Z"
   },
   {
    "duration": 0,
    "start_time": "2022-04-10T15:31:45.283Z"
   },
   {
    "duration": 0,
    "start_time": "2022-04-10T15:31:45.285Z"
   },
   {
    "duration": 0,
    "start_time": "2022-04-10T15:31:45.285Z"
   },
   {
    "duration": 0,
    "start_time": "2022-04-10T15:31:45.286Z"
   },
   {
    "duration": 0,
    "start_time": "2022-04-10T15:31:45.287Z"
   },
   {
    "duration": 0,
    "start_time": "2022-04-10T15:31:45.288Z"
   },
   {
    "duration": 0,
    "start_time": "2022-04-10T15:31:45.289Z"
   },
   {
    "duration": 0,
    "start_time": "2022-04-10T15:31:45.290Z"
   },
   {
    "duration": 0,
    "start_time": "2022-04-10T15:31:45.291Z"
   },
   {
    "duration": 0,
    "start_time": "2022-04-10T15:31:45.292Z"
   },
   {
    "duration": 393,
    "start_time": "2022-04-10T15:33:08.542Z"
   },
   {
    "duration": 144,
    "start_time": "2022-04-10T15:33:08.937Z"
   },
   {
    "duration": 16,
    "start_time": "2022-04-10T15:33:09.082Z"
   },
   {
    "duration": 8,
    "start_time": "2022-04-10T15:33:09.100Z"
   },
   {
    "duration": 8,
    "start_time": "2022-04-10T15:33:09.110Z"
   },
   {
    "duration": 5,
    "start_time": "2022-04-10T15:33:09.119Z"
   },
   {
    "duration": 11,
    "start_time": "2022-04-10T15:33:09.126Z"
   },
   {
    "duration": 4,
    "start_time": "2022-04-10T15:33:09.139Z"
   },
   {
    "duration": 53,
    "start_time": "2022-04-10T15:33:09.144Z"
   },
   {
    "duration": 17,
    "start_time": "2022-04-10T15:33:09.200Z"
   },
   {
    "duration": 25,
    "start_time": "2022-04-10T15:33:09.219Z"
   },
   {
    "duration": 84,
    "start_time": "2022-04-10T15:33:09.246Z"
   },
   {
    "duration": 79,
    "start_time": "2022-04-10T15:33:09.332Z"
   },
   {
    "duration": 54,
    "start_time": "2022-04-10T15:33:09.413Z"
   },
   {
    "duration": 50,
    "start_time": "2022-04-10T15:33:09.469Z"
   },
   {
    "duration": 3,
    "start_time": "2022-04-10T15:33:09.521Z"
   },
   {
    "duration": 35,
    "start_time": "2022-04-10T15:33:09.526Z"
   },
   {
    "duration": 7,
    "start_time": "2022-04-10T15:33:09.581Z"
   },
   {
    "duration": 31,
    "start_time": "2022-04-10T15:33:09.590Z"
   },
   {
    "duration": 29,
    "start_time": "2022-04-10T15:33:09.622Z"
   },
   {
    "duration": 28,
    "start_time": "2022-04-10T15:33:09.653Z"
   },
   {
    "duration": 19,
    "start_time": "2022-04-10T15:33:09.683Z"
   },
   {
    "duration": 13,
    "start_time": "2022-04-10T15:33:09.703Z"
   },
   {
    "duration": 14,
    "start_time": "2022-04-10T15:33:09.717Z"
   },
   {
    "duration": 11,
    "start_time": "2022-04-10T15:33:09.732Z"
   },
   {
    "duration": 37,
    "start_time": "2022-04-10T15:33:09.745Z"
   },
   {
    "duration": 12,
    "start_time": "2022-04-10T15:33:09.784Z"
   },
   {
    "duration": 16,
    "start_time": "2022-04-10T15:33:09.799Z"
   },
   {
    "duration": 10,
    "start_time": "2022-04-10T15:33:09.816Z"
   },
   {
    "duration": 7,
    "start_time": "2022-04-10T15:33:09.828Z"
   },
   {
    "duration": 4,
    "start_time": "2022-04-10T15:33:09.837Z"
   },
   {
    "duration": 20,
    "start_time": "2022-04-10T15:33:09.842Z"
   },
   {
    "duration": 28,
    "start_time": "2022-04-10T15:33:09.863Z"
   },
   {
    "duration": 15,
    "start_time": "2022-04-10T15:33:09.893Z"
   },
   {
    "duration": 11,
    "start_time": "2022-04-10T15:33:09.910Z"
   },
   {
    "duration": 8,
    "start_time": "2022-04-10T15:33:09.924Z"
   },
   {
    "duration": 4,
    "start_time": "2022-04-10T15:33:09.933Z"
   },
   {
    "duration": 43,
    "start_time": "2022-04-10T15:33:09.938Z"
   },
   {
    "duration": 7,
    "start_time": "2022-04-10T15:33:09.983Z"
   },
   {
    "duration": 461,
    "start_time": "2022-04-10T15:33:32.830Z"
   },
   {
    "duration": 299,
    "start_time": "2022-04-10T15:33:33.293Z"
   },
   {
    "duration": 16,
    "start_time": "2022-04-10T15:33:33.594Z"
   },
   {
    "duration": 9,
    "start_time": "2022-04-10T15:33:33.612Z"
   },
   {
    "duration": 63,
    "start_time": "2022-04-10T15:33:33.622Z"
   },
   {
    "duration": 6,
    "start_time": "2022-04-10T15:33:33.687Z"
   },
   {
    "duration": 9,
    "start_time": "2022-04-10T15:33:33.695Z"
   },
   {
    "duration": 7,
    "start_time": "2022-04-10T15:33:33.706Z"
   },
   {
    "duration": 78,
    "start_time": "2022-04-10T15:33:33.715Z"
   },
   {
    "duration": 18,
    "start_time": "2022-04-10T15:33:33.796Z"
   },
   {
    "duration": 74,
    "start_time": "2022-04-10T15:33:33.816Z"
   },
   {
    "duration": 118,
    "start_time": "2022-04-10T15:33:33.892Z"
   },
   {
    "duration": 171,
    "start_time": "2022-04-10T15:33:34.012Z"
   },
   {
    "duration": 119,
    "start_time": "2022-04-10T15:33:34.185Z"
   },
   {
    "duration": 2798,
    "start_time": "2022-04-10T15:33:34.305Z"
   },
   {
    "duration": 0,
    "start_time": "2022-04-10T15:33:37.105Z"
   },
   {
    "duration": 0,
    "start_time": "2022-04-10T15:33:37.107Z"
   },
   {
    "duration": 0,
    "start_time": "2022-04-10T15:33:37.107Z"
   },
   {
    "duration": 0,
    "start_time": "2022-04-10T15:33:37.109Z"
   },
   {
    "duration": 0,
    "start_time": "2022-04-10T15:33:37.110Z"
   },
   {
    "duration": 0,
    "start_time": "2022-04-10T15:33:37.111Z"
   },
   {
    "duration": 0,
    "start_time": "2022-04-10T15:33:37.112Z"
   },
   {
    "duration": 0,
    "start_time": "2022-04-10T15:33:37.113Z"
   },
   {
    "duration": 0,
    "start_time": "2022-04-10T15:33:37.114Z"
   },
   {
    "duration": 0,
    "start_time": "2022-04-10T15:33:37.114Z"
   },
   {
    "duration": 0,
    "start_time": "2022-04-10T15:33:37.115Z"
   },
   {
    "duration": 0,
    "start_time": "2022-04-10T15:33:37.117Z"
   },
   {
    "duration": 0,
    "start_time": "2022-04-10T15:33:37.118Z"
   },
   {
    "duration": 0,
    "start_time": "2022-04-10T15:33:37.119Z"
   },
   {
    "duration": 0,
    "start_time": "2022-04-10T15:33:37.120Z"
   },
   {
    "duration": 0,
    "start_time": "2022-04-10T15:33:37.121Z"
   },
   {
    "duration": 0,
    "start_time": "2022-04-10T15:33:37.122Z"
   },
   {
    "duration": 0,
    "start_time": "2022-04-10T15:33:37.123Z"
   },
   {
    "duration": 0,
    "start_time": "2022-04-10T15:33:37.123Z"
   },
   {
    "duration": 0,
    "start_time": "2022-04-10T15:33:37.124Z"
   },
   {
    "duration": 0,
    "start_time": "2022-04-10T15:33:37.125Z"
   },
   {
    "duration": 0,
    "start_time": "2022-04-10T15:33:37.126Z"
   },
   {
    "duration": 0,
    "start_time": "2022-04-10T15:33:37.127Z"
   },
   {
    "duration": 0,
    "start_time": "2022-04-10T15:33:37.128Z"
   },
   {
    "duration": 356,
    "start_time": "2022-04-10T15:34:00.433Z"
   },
   {
    "duration": 144,
    "start_time": "2022-04-10T15:34:00.791Z"
   },
   {
    "duration": 16,
    "start_time": "2022-04-10T15:34:00.937Z"
   },
   {
    "duration": 9,
    "start_time": "2022-04-10T15:34:00.955Z"
   },
   {
    "duration": 8,
    "start_time": "2022-04-10T15:34:00.981Z"
   },
   {
    "duration": 17,
    "start_time": "2022-04-10T15:34:00.991Z"
   },
   {
    "duration": 34,
    "start_time": "2022-04-10T15:34:01.010Z"
   },
   {
    "duration": 29,
    "start_time": "2022-04-10T15:34:01.045Z"
   },
   {
    "duration": 45,
    "start_time": "2022-04-10T15:34:01.075Z"
   },
   {
    "duration": 27,
    "start_time": "2022-04-10T15:34:01.123Z"
   },
   {
    "duration": 28,
    "start_time": "2022-04-10T15:34:01.151Z"
   },
   {
    "duration": 78,
    "start_time": "2022-04-10T15:34:01.181Z"
   },
   {
    "duration": 71,
    "start_time": "2022-04-10T15:34:01.261Z"
   },
   {
    "duration": 61,
    "start_time": "2022-04-10T15:34:01.334Z"
   },
   {
    "duration": 39,
    "start_time": "2022-04-10T15:34:01.396Z"
   },
   {
    "duration": 9,
    "start_time": "2022-04-10T15:34:01.437Z"
   },
   {
    "duration": 50,
    "start_time": "2022-04-10T15:34:01.447Z"
   },
   {
    "duration": 8,
    "start_time": "2022-04-10T15:34:01.498Z"
   },
   {
    "duration": 31,
    "start_time": "2022-04-10T15:34:01.507Z"
   },
   {
    "duration": 52,
    "start_time": "2022-04-10T15:34:01.540Z"
   },
   {
    "duration": 4,
    "start_time": "2022-04-10T15:34:01.593Z"
   },
   {
    "duration": 17,
    "start_time": "2022-04-10T15:34:01.599Z"
   },
   {
    "duration": 14,
    "start_time": "2022-04-10T15:34:01.618Z"
   },
   {
    "duration": 15,
    "start_time": "2022-04-10T15:34:01.634Z"
   },
   {
    "duration": 39,
    "start_time": "2022-04-10T15:34:01.651Z"
   },
   {
    "duration": 17,
    "start_time": "2022-04-10T15:34:01.692Z"
   },
   {
    "duration": 14,
    "start_time": "2022-04-10T15:34:01.711Z"
   },
   {
    "duration": 12,
    "start_time": "2022-04-10T15:34:01.728Z"
   },
   {
    "duration": 39,
    "start_time": "2022-04-10T15:34:01.742Z"
   },
   {
    "duration": 9,
    "start_time": "2022-04-10T15:34:01.783Z"
   },
   {
    "duration": 9,
    "start_time": "2022-04-10T15:34:01.793Z"
   },
   {
    "duration": 28,
    "start_time": "2022-04-10T15:34:01.803Z"
   },
   {
    "duration": 16,
    "start_time": "2022-04-10T15:34:01.832Z"
   },
   {
    "duration": 15,
    "start_time": "2022-04-10T15:34:01.850Z"
   },
   {
    "duration": 23,
    "start_time": "2022-04-10T15:34:01.867Z"
   },
   {
    "duration": 8,
    "start_time": "2022-04-10T15:34:01.892Z"
   },
   {
    "duration": 5,
    "start_time": "2022-04-10T15:34:01.902Z"
   },
   {
    "duration": 17,
    "start_time": "2022-04-10T15:34:01.908Z"
   },
   {
    "duration": 7,
    "start_time": "2022-04-10T15:34:01.926Z"
   },
   {
    "duration": 388,
    "start_time": "2022-04-10T15:34:25.493Z"
   },
   {
    "duration": 155,
    "start_time": "2022-04-10T15:34:25.883Z"
   },
   {
    "duration": 16,
    "start_time": "2022-04-10T15:34:26.039Z"
   },
   {
    "duration": 10,
    "start_time": "2022-04-10T15:34:26.057Z"
   },
   {
    "duration": 7,
    "start_time": "2022-04-10T15:34:26.080Z"
   },
   {
    "duration": 11,
    "start_time": "2022-04-10T15:34:26.089Z"
   },
   {
    "duration": 16,
    "start_time": "2022-04-10T15:34:26.101Z"
   },
   {
    "duration": 6,
    "start_time": "2022-04-10T15:34:26.118Z"
   },
   {
    "duration": 60,
    "start_time": "2022-04-10T15:34:26.126Z"
   },
   {
    "duration": 30,
    "start_time": "2022-04-10T15:34:26.190Z"
   },
   {
    "duration": 41,
    "start_time": "2022-04-10T15:34:26.222Z"
   },
   {
    "duration": 116,
    "start_time": "2022-04-10T15:34:26.265Z"
   },
   {
    "duration": 120,
    "start_time": "2022-04-10T15:34:26.383Z"
   },
   {
    "duration": 94,
    "start_time": "2022-04-10T15:34:26.505Z"
   },
   {
    "duration": 109,
    "start_time": "2022-04-10T15:34:26.601Z"
   },
   {
    "duration": 0,
    "start_time": "2022-04-10T15:34:26.713Z"
   },
   {
    "duration": 0,
    "start_time": "2022-04-10T15:34:26.714Z"
   },
   {
    "duration": 0,
    "start_time": "2022-04-10T15:34:26.716Z"
   },
   {
    "duration": 0,
    "start_time": "2022-04-10T15:34:26.717Z"
   },
   {
    "duration": 1,
    "start_time": "2022-04-10T15:34:26.718Z"
   },
   {
    "duration": 0,
    "start_time": "2022-04-10T15:34:26.720Z"
   },
   {
    "duration": 0,
    "start_time": "2022-04-10T15:34:26.721Z"
   },
   {
    "duration": 0,
    "start_time": "2022-04-10T15:34:26.723Z"
   },
   {
    "duration": 0,
    "start_time": "2022-04-10T15:34:26.724Z"
   },
   {
    "duration": 0,
    "start_time": "2022-04-10T15:34:26.725Z"
   },
   {
    "duration": 0,
    "start_time": "2022-04-10T15:34:26.726Z"
   },
   {
    "duration": 0,
    "start_time": "2022-04-10T15:34:26.728Z"
   },
   {
    "duration": 0,
    "start_time": "2022-04-10T15:34:26.729Z"
   },
   {
    "duration": 0,
    "start_time": "2022-04-10T15:34:26.730Z"
   },
   {
    "duration": 0,
    "start_time": "2022-04-10T15:34:26.731Z"
   },
   {
    "duration": 0,
    "start_time": "2022-04-10T15:34:26.733Z"
   },
   {
    "duration": 0,
    "start_time": "2022-04-10T15:34:26.734Z"
   },
   {
    "duration": 0,
    "start_time": "2022-04-10T15:34:26.735Z"
   },
   {
    "duration": 0,
    "start_time": "2022-04-10T15:34:26.736Z"
   },
   {
    "duration": 0,
    "start_time": "2022-04-10T15:34:26.738Z"
   },
   {
    "duration": 0,
    "start_time": "2022-04-10T15:34:26.739Z"
   },
   {
    "duration": 0,
    "start_time": "2022-04-10T15:34:26.740Z"
   },
   {
    "duration": 0,
    "start_time": "2022-04-10T15:34:26.781Z"
   },
   {
    "duration": 0,
    "start_time": "2022-04-10T15:34:26.782Z"
   },
   {
    "duration": 412,
    "start_time": "2022-04-10T15:37:48.452Z"
   },
   {
    "duration": 152,
    "start_time": "2022-04-10T15:37:48.867Z"
   },
   {
    "duration": 17,
    "start_time": "2022-04-10T15:37:49.021Z"
   },
   {
    "duration": 10,
    "start_time": "2022-04-10T15:37:49.040Z"
   },
   {
    "duration": 9,
    "start_time": "2022-04-10T15:37:49.051Z"
   },
   {
    "duration": 4,
    "start_time": "2022-04-10T15:37:49.081Z"
   },
   {
    "duration": 13,
    "start_time": "2022-04-10T15:37:49.087Z"
   },
   {
    "duration": 5,
    "start_time": "2022-04-10T15:37:49.102Z"
   },
   {
    "duration": 26,
    "start_time": "2022-04-10T15:37:49.109Z"
   },
   {
    "duration": 43,
    "start_time": "2022-04-10T15:37:49.138Z"
   },
   {
    "duration": 24,
    "start_time": "2022-04-10T15:37:49.182Z"
   },
   {
    "duration": 74,
    "start_time": "2022-04-10T15:37:49.208Z"
   },
   {
    "duration": 71,
    "start_time": "2022-04-10T15:37:49.283Z"
   },
   {
    "duration": 67,
    "start_time": "2022-04-10T15:37:49.355Z"
   },
   {
    "duration": 72,
    "start_time": "2022-04-10T15:37:49.423Z"
   },
   {
    "duration": 0,
    "start_time": "2022-04-10T15:37:49.497Z"
   },
   {
    "duration": 0,
    "start_time": "2022-04-10T15:37:49.498Z"
   },
   {
    "duration": 0,
    "start_time": "2022-04-10T15:37:49.499Z"
   },
   {
    "duration": 0,
    "start_time": "2022-04-10T15:37:49.500Z"
   },
   {
    "duration": 0,
    "start_time": "2022-04-10T15:37:49.501Z"
   },
   {
    "duration": 0,
    "start_time": "2022-04-10T15:37:49.502Z"
   },
   {
    "duration": 0,
    "start_time": "2022-04-10T15:37:49.503Z"
   },
   {
    "duration": 0,
    "start_time": "2022-04-10T15:37:49.504Z"
   },
   {
    "duration": 0,
    "start_time": "2022-04-10T15:37:49.505Z"
   },
   {
    "duration": 0,
    "start_time": "2022-04-10T15:37:49.507Z"
   },
   {
    "duration": 0,
    "start_time": "2022-04-10T15:37:49.507Z"
   },
   {
    "duration": 0,
    "start_time": "2022-04-10T15:37:49.508Z"
   },
   {
    "duration": 0,
    "start_time": "2022-04-10T15:37:49.509Z"
   },
   {
    "duration": 0,
    "start_time": "2022-04-10T15:37:49.510Z"
   },
   {
    "duration": 0,
    "start_time": "2022-04-10T15:37:49.511Z"
   },
   {
    "duration": 0,
    "start_time": "2022-04-10T15:37:49.512Z"
   },
   {
    "duration": 0,
    "start_time": "2022-04-10T15:37:49.513Z"
   },
   {
    "duration": 0,
    "start_time": "2022-04-10T15:37:49.514Z"
   },
   {
    "duration": 0,
    "start_time": "2022-04-10T15:37:49.515Z"
   },
   {
    "duration": 0,
    "start_time": "2022-04-10T15:37:49.516Z"
   },
   {
    "duration": 0,
    "start_time": "2022-04-10T15:37:49.517Z"
   },
   {
    "duration": 0,
    "start_time": "2022-04-10T15:37:49.518Z"
   },
   {
    "duration": 0,
    "start_time": "2022-04-10T15:37:49.519Z"
   },
   {
    "duration": 0,
    "start_time": "2022-04-10T15:37:49.520Z"
   },
   {
    "duration": 387,
    "start_time": "2022-04-10T15:38:09.394Z"
   },
   {
    "duration": 138,
    "start_time": "2022-04-10T15:38:09.782Z"
   },
   {
    "duration": 16,
    "start_time": "2022-04-10T15:38:09.921Z"
   },
   {
    "duration": 9,
    "start_time": "2022-04-10T15:38:09.939Z"
   },
   {
    "duration": 8,
    "start_time": "2022-04-10T15:38:09.949Z"
   },
   {
    "duration": 22,
    "start_time": "2022-04-10T15:38:09.959Z"
   },
   {
    "duration": 9,
    "start_time": "2022-04-10T15:38:09.983Z"
   },
   {
    "duration": 6,
    "start_time": "2022-04-10T15:38:09.993Z"
   },
   {
    "duration": 26,
    "start_time": "2022-04-10T15:38:10.000Z"
   },
   {
    "duration": 17,
    "start_time": "2022-04-10T15:38:10.028Z"
   },
   {
    "duration": 38,
    "start_time": "2022-04-10T15:38:10.047Z"
   },
   {
    "duration": 59,
    "start_time": "2022-04-10T15:38:10.086Z"
   },
   {
    "duration": 87,
    "start_time": "2022-04-10T15:38:10.146Z"
   },
   {
    "duration": 66,
    "start_time": "2022-04-10T15:38:10.234Z"
   },
   {
    "duration": 61,
    "start_time": "2022-04-10T15:38:10.301Z"
   },
   {
    "duration": 0,
    "start_time": "2022-04-10T15:38:10.364Z"
   },
   {
    "duration": 0,
    "start_time": "2022-04-10T15:38:10.365Z"
   },
   {
    "duration": 0,
    "start_time": "2022-04-10T15:38:10.367Z"
   },
   {
    "duration": 0,
    "start_time": "2022-04-10T15:38:10.368Z"
   },
   {
    "duration": 0,
    "start_time": "2022-04-10T15:38:10.381Z"
   },
   {
    "duration": 0,
    "start_time": "2022-04-10T15:38:10.382Z"
   },
   {
    "duration": 0,
    "start_time": "2022-04-10T15:38:10.383Z"
   },
   {
    "duration": 0,
    "start_time": "2022-04-10T15:38:10.384Z"
   },
   {
    "duration": 0,
    "start_time": "2022-04-10T15:38:10.385Z"
   },
   {
    "duration": 0,
    "start_time": "2022-04-10T15:38:10.387Z"
   },
   {
    "duration": 0,
    "start_time": "2022-04-10T15:38:10.388Z"
   },
   {
    "duration": 0,
    "start_time": "2022-04-10T15:38:10.389Z"
   },
   {
    "duration": 0,
    "start_time": "2022-04-10T15:38:10.390Z"
   },
   {
    "duration": 0,
    "start_time": "2022-04-10T15:38:10.391Z"
   },
   {
    "duration": 0,
    "start_time": "2022-04-10T15:38:10.392Z"
   },
   {
    "duration": 0,
    "start_time": "2022-04-10T15:38:10.393Z"
   },
   {
    "duration": 0,
    "start_time": "2022-04-10T15:38:10.395Z"
   },
   {
    "duration": 0,
    "start_time": "2022-04-10T15:38:10.396Z"
   },
   {
    "duration": 0,
    "start_time": "2022-04-10T15:38:10.396Z"
   },
   {
    "duration": 0,
    "start_time": "2022-04-10T15:38:10.398Z"
   },
   {
    "duration": 0,
    "start_time": "2022-04-10T15:38:10.399Z"
   },
   {
    "duration": 0,
    "start_time": "2022-04-10T15:38:10.400Z"
   },
   {
    "duration": 0,
    "start_time": "2022-04-10T15:38:10.401Z"
   },
   {
    "duration": 0,
    "start_time": "2022-04-10T15:38:10.401Z"
   },
   {
    "duration": 364,
    "start_time": "2022-04-10T15:41:51.805Z"
   },
   {
    "duration": 134,
    "start_time": "2022-04-10T15:41:52.171Z"
   },
   {
    "duration": 16,
    "start_time": "2022-04-10T15:41:52.308Z"
   },
   {
    "duration": 8,
    "start_time": "2022-04-10T15:41:52.325Z"
   },
   {
    "duration": 8,
    "start_time": "2022-04-10T15:41:52.335Z"
   },
   {
    "duration": 6,
    "start_time": "2022-04-10T15:41:52.344Z"
   },
   {
    "duration": 31,
    "start_time": "2022-04-10T15:41:52.351Z"
   },
   {
    "duration": 6,
    "start_time": "2022-04-10T15:41:52.383Z"
   },
   {
    "duration": 25,
    "start_time": "2022-04-10T15:41:52.390Z"
   },
   {
    "duration": 18,
    "start_time": "2022-04-10T15:41:52.418Z"
   },
   {
    "duration": 22,
    "start_time": "2022-04-10T15:41:52.437Z"
   },
   {
    "duration": 77,
    "start_time": "2022-04-10T15:41:52.460Z"
   },
   {
    "duration": 76,
    "start_time": "2022-04-10T15:41:52.538Z"
   },
   {
    "duration": 54,
    "start_time": "2022-04-10T15:41:52.615Z"
   },
   {
    "duration": 112,
    "start_time": "2022-04-10T15:41:52.670Z"
   },
   {
    "duration": 0,
    "start_time": "2022-04-10T15:41:52.784Z"
   },
   {
    "duration": 0,
    "start_time": "2022-04-10T15:41:52.786Z"
   },
   {
    "duration": 0,
    "start_time": "2022-04-10T15:41:52.787Z"
   },
   {
    "duration": 0,
    "start_time": "2022-04-10T15:41:52.789Z"
   },
   {
    "duration": 0,
    "start_time": "2022-04-10T15:41:52.790Z"
   },
   {
    "duration": 0,
    "start_time": "2022-04-10T15:41:52.791Z"
   },
   {
    "duration": 0,
    "start_time": "2022-04-10T15:41:52.792Z"
   },
   {
    "duration": 0,
    "start_time": "2022-04-10T15:41:52.794Z"
   },
   {
    "duration": 0,
    "start_time": "2022-04-10T15:41:52.795Z"
   },
   {
    "duration": 0,
    "start_time": "2022-04-10T15:41:52.796Z"
   },
   {
    "duration": 0,
    "start_time": "2022-04-10T15:41:52.798Z"
   },
   {
    "duration": 0,
    "start_time": "2022-04-10T15:41:52.799Z"
   },
   {
    "duration": 1,
    "start_time": "2022-04-10T15:41:52.800Z"
   },
   {
    "duration": 0,
    "start_time": "2022-04-10T15:41:52.802Z"
   },
   {
    "duration": 0,
    "start_time": "2022-04-10T15:41:52.803Z"
   },
   {
    "duration": 0,
    "start_time": "2022-04-10T15:41:52.805Z"
   },
   {
    "duration": 0,
    "start_time": "2022-04-10T15:41:52.806Z"
   },
   {
    "duration": 0,
    "start_time": "2022-04-10T15:41:52.807Z"
   },
   {
    "duration": 0,
    "start_time": "2022-04-10T15:41:52.808Z"
   },
   {
    "duration": 0,
    "start_time": "2022-04-10T15:41:52.809Z"
   },
   {
    "duration": 0,
    "start_time": "2022-04-10T15:41:52.811Z"
   },
   {
    "duration": 0,
    "start_time": "2022-04-10T15:41:52.812Z"
   },
   {
    "duration": 0,
    "start_time": "2022-04-10T15:41:52.813Z"
   },
   {
    "duration": 0,
    "start_time": "2022-04-10T15:41:52.814Z"
   },
   {
    "duration": 386,
    "start_time": "2022-04-10T15:52:41.987Z"
   },
   {
    "duration": 142,
    "start_time": "2022-04-10T15:52:42.375Z"
   },
   {
    "duration": 16,
    "start_time": "2022-04-10T15:52:42.519Z"
   },
   {
    "duration": 8,
    "start_time": "2022-04-10T15:52:42.538Z"
   },
   {
    "duration": 9,
    "start_time": "2022-04-10T15:52:42.548Z"
   },
   {
    "duration": 5,
    "start_time": "2022-04-10T15:52:42.558Z"
   },
   {
    "duration": 10,
    "start_time": "2022-04-10T15:52:42.580Z"
   },
   {
    "duration": 5,
    "start_time": "2022-04-10T15:52:42.592Z"
   },
   {
    "duration": 25,
    "start_time": "2022-04-10T15:52:42.598Z"
   },
   {
    "duration": 21,
    "start_time": "2022-04-10T15:52:42.625Z"
   },
   {
    "duration": 44,
    "start_time": "2022-04-10T15:52:42.647Z"
   },
   {
    "duration": 69,
    "start_time": "2022-04-10T15:52:42.692Z"
   },
   {
    "duration": 81,
    "start_time": "2022-04-10T15:52:42.763Z"
   },
   {
    "duration": 65,
    "start_time": "2022-04-10T15:52:42.846Z"
   },
   {
    "duration": 59,
    "start_time": "2022-04-10T15:52:42.912Z"
   },
   {
    "duration": 0,
    "start_time": "2022-04-10T15:52:42.981Z"
   },
   {
    "duration": 0,
    "start_time": "2022-04-10T15:52:42.982Z"
   },
   {
    "duration": 0,
    "start_time": "2022-04-10T15:52:42.983Z"
   },
   {
    "duration": 0,
    "start_time": "2022-04-10T15:52:42.984Z"
   },
   {
    "duration": 0,
    "start_time": "2022-04-10T15:52:42.985Z"
   },
   {
    "duration": 0,
    "start_time": "2022-04-10T15:52:42.986Z"
   },
   {
    "duration": 0,
    "start_time": "2022-04-10T15:52:42.987Z"
   },
   {
    "duration": 0,
    "start_time": "2022-04-10T15:52:42.988Z"
   },
   {
    "duration": 0,
    "start_time": "2022-04-10T15:52:42.989Z"
   },
   {
    "duration": 0,
    "start_time": "2022-04-10T15:52:42.990Z"
   },
   {
    "duration": 0,
    "start_time": "2022-04-10T15:52:42.991Z"
   },
   {
    "duration": 0,
    "start_time": "2022-04-10T15:52:42.992Z"
   },
   {
    "duration": 0,
    "start_time": "2022-04-10T15:52:42.993Z"
   },
   {
    "duration": 0,
    "start_time": "2022-04-10T15:52:42.994Z"
   },
   {
    "duration": 0,
    "start_time": "2022-04-10T15:52:42.995Z"
   },
   {
    "duration": 0,
    "start_time": "2022-04-10T15:52:42.996Z"
   },
   {
    "duration": 0,
    "start_time": "2022-04-10T15:52:42.997Z"
   },
   {
    "duration": 0,
    "start_time": "2022-04-10T15:52:42.998Z"
   },
   {
    "duration": 1,
    "start_time": "2022-04-10T15:52:42.999Z"
   },
   {
    "duration": 0,
    "start_time": "2022-04-10T15:52:43.000Z"
   },
   {
    "duration": 0,
    "start_time": "2022-04-10T15:52:43.002Z"
   },
   {
    "duration": 0,
    "start_time": "2022-04-10T15:52:43.002Z"
   },
   {
    "duration": 0,
    "start_time": "2022-04-10T15:52:43.003Z"
   },
   {
    "duration": 0,
    "start_time": "2022-04-10T15:52:43.004Z"
   },
   {
    "duration": 405,
    "start_time": "2022-04-10T15:59:37.955Z"
   },
   {
    "duration": 136,
    "start_time": "2022-04-10T15:59:38.362Z"
   },
   {
    "duration": 16,
    "start_time": "2022-04-10T15:59:38.500Z"
   },
   {
    "duration": 9,
    "start_time": "2022-04-10T15:59:38.519Z"
   },
   {
    "duration": 8,
    "start_time": "2022-04-10T15:59:38.530Z"
   },
   {
    "duration": 6,
    "start_time": "2022-04-10T15:59:38.539Z"
   },
   {
    "duration": 40,
    "start_time": "2022-04-10T15:59:38.546Z"
   },
   {
    "duration": 5,
    "start_time": "2022-04-10T15:59:38.587Z"
   },
   {
    "duration": 25,
    "start_time": "2022-04-10T15:59:38.594Z"
   },
   {
    "duration": 17,
    "start_time": "2022-04-10T15:59:38.623Z"
   },
   {
    "duration": 48,
    "start_time": "2022-04-10T15:59:38.642Z"
   },
   {
    "duration": 62,
    "start_time": "2022-04-10T15:59:38.691Z"
   },
   {
    "duration": 92,
    "start_time": "2022-04-10T15:59:38.755Z"
   },
   {
    "duration": 65,
    "start_time": "2022-04-10T15:59:38.849Z"
   },
   {
    "duration": 69,
    "start_time": "2022-04-10T15:59:38.916Z"
   },
   {
    "duration": 0,
    "start_time": "2022-04-10T15:59:38.987Z"
   },
   {
    "duration": 0,
    "start_time": "2022-04-10T15:59:38.989Z"
   },
   {
    "duration": 0,
    "start_time": "2022-04-10T15:59:38.990Z"
   },
   {
    "duration": 0,
    "start_time": "2022-04-10T15:59:38.992Z"
   },
   {
    "duration": 0,
    "start_time": "2022-04-10T15:59:38.993Z"
   },
   {
    "duration": 0,
    "start_time": "2022-04-10T15:59:38.995Z"
   },
   {
    "duration": 0,
    "start_time": "2022-04-10T15:59:38.996Z"
   },
   {
    "duration": 0,
    "start_time": "2022-04-10T15:59:38.997Z"
   },
   {
    "duration": 0,
    "start_time": "2022-04-10T15:59:38.999Z"
   },
   {
    "duration": 0,
    "start_time": "2022-04-10T15:59:39.000Z"
   },
   {
    "duration": 0,
    "start_time": "2022-04-10T15:59:39.001Z"
   },
   {
    "duration": 0,
    "start_time": "2022-04-10T15:59:39.002Z"
   },
   {
    "duration": 0,
    "start_time": "2022-04-10T15:59:39.003Z"
   },
   {
    "duration": 0,
    "start_time": "2022-04-10T15:59:39.004Z"
   },
   {
    "duration": 0,
    "start_time": "2022-04-10T15:59:39.005Z"
   },
   {
    "duration": 0,
    "start_time": "2022-04-10T15:59:39.006Z"
   },
   {
    "duration": 0,
    "start_time": "2022-04-10T15:59:39.007Z"
   },
   {
    "duration": 0,
    "start_time": "2022-04-10T15:59:39.008Z"
   },
   {
    "duration": 0,
    "start_time": "2022-04-10T15:59:39.009Z"
   },
   {
    "duration": 0,
    "start_time": "2022-04-10T15:59:39.010Z"
   },
   {
    "duration": 0,
    "start_time": "2022-04-10T15:59:39.011Z"
   },
   {
    "duration": 0,
    "start_time": "2022-04-10T15:59:39.012Z"
   },
   {
    "duration": 0,
    "start_time": "2022-04-10T15:59:39.013Z"
   },
   {
    "duration": 0,
    "start_time": "2022-04-10T15:59:39.014Z"
   },
   {
    "duration": 345,
    "start_time": "2022-04-10T16:00:52.528Z"
   },
   {
    "duration": 147,
    "start_time": "2022-04-10T16:00:52.875Z"
   },
   {
    "duration": 15,
    "start_time": "2022-04-10T16:00:53.024Z"
   },
   {
    "duration": 8,
    "start_time": "2022-04-10T16:00:53.041Z"
   },
   {
    "duration": 8,
    "start_time": "2022-04-10T16:00:53.051Z"
   },
   {
    "duration": 20,
    "start_time": "2022-04-10T16:00:53.061Z"
   },
   {
    "duration": 11,
    "start_time": "2022-04-10T16:00:53.083Z"
   },
   {
    "duration": 7,
    "start_time": "2022-04-10T16:00:53.095Z"
   },
   {
    "duration": 26,
    "start_time": "2022-04-10T16:00:53.103Z"
   },
   {
    "duration": 20,
    "start_time": "2022-04-10T16:00:53.131Z"
   },
   {
    "duration": 39,
    "start_time": "2022-04-10T16:00:53.152Z"
   },
   {
    "duration": 69,
    "start_time": "2022-04-10T16:00:53.193Z"
   },
   {
    "duration": 78,
    "start_time": "2022-04-10T16:00:53.263Z"
   },
   {
    "duration": 66,
    "start_time": "2022-04-10T16:00:53.343Z"
   },
   {
    "duration": 57,
    "start_time": "2022-04-10T16:00:53.410Z"
   },
   {
    "duration": 0,
    "start_time": "2022-04-10T16:00:53.468Z"
   },
   {
    "duration": 0,
    "start_time": "2022-04-10T16:00:53.469Z"
   },
   {
    "duration": 0,
    "start_time": "2022-04-10T16:00:53.471Z"
   },
   {
    "duration": 0,
    "start_time": "2022-04-10T16:00:53.481Z"
   },
   {
    "duration": 0,
    "start_time": "2022-04-10T16:00:53.482Z"
   },
   {
    "duration": 0,
    "start_time": "2022-04-10T16:00:53.483Z"
   },
   {
    "duration": 0,
    "start_time": "2022-04-10T16:00:53.485Z"
   },
   {
    "duration": 0,
    "start_time": "2022-04-10T16:00:53.486Z"
   },
   {
    "duration": 0,
    "start_time": "2022-04-10T16:00:53.487Z"
   },
   {
    "duration": 0,
    "start_time": "2022-04-10T16:00:53.488Z"
   },
   {
    "duration": 0,
    "start_time": "2022-04-10T16:00:53.490Z"
   },
   {
    "duration": 0,
    "start_time": "2022-04-10T16:00:53.491Z"
   },
   {
    "duration": 0,
    "start_time": "2022-04-10T16:00:53.492Z"
   },
   {
    "duration": 0,
    "start_time": "2022-04-10T16:00:53.493Z"
   },
   {
    "duration": 0,
    "start_time": "2022-04-10T16:00:53.494Z"
   },
   {
    "duration": 0,
    "start_time": "2022-04-10T16:00:53.495Z"
   },
   {
    "duration": 0,
    "start_time": "2022-04-10T16:00:53.496Z"
   },
   {
    "duration": 0,
    "start_time": "2022-04-10T16:00:53.497Z"
   },
   {
    "duration": 0,
    "start_time": "2022-04-10T16:00:53.498Z"
   },
   {
    "duration": 0,
    "start_time": "2022-04-10T16:00:53.499Z"
   },
   {
    "duration": 0,
    "start_time": "2022-04-10T16:00:53.500Z"
   },
   {
    "duration": 0,
    "start_time": "2022-04-10T16:00:53.501Z"
   },
   {
    "duration": 0,
    "start_time": "2022-04-10T16:00:53.501Z"
   },
   {
    "duration": 0,
    "start_time": "2022-04-10T16:00:53.502Z"
   },
   {
    "duration": 388,
    "start_time": "2022-04-10T16:01:14.192Z"
   },
   {
    "duration": 145,
    "start_time": "2022-04-10T16:01:14.582Z"
   },
   {
    "duration": 21,
    "start_time": "2022-04-10T16:01:14.728Z"
   },
   {
    "duration": 8,
    "start_time": "2022-04-10T16:01:14.751Z"
   },
   {
    "duration": 21,
    "start_time": "2022-04-10T16:01:14.761Z"
   },
   {
    "duration": 7,
    "start_time": "2022-04-10T16:01:14.783Z"
   },
   {
    "duration": 16,
    "start_time": "2022-04-10T16:01:14.792Z"
   },
   {
    "duration": 6,
    "start_time": "2022-04-10T16:01:14.809Z"
   },
   {
    "duration": 27,
    "start_time": "2022-04-10T16:01:14.816Z"
   },
   {
    "duration": 16,
    "start_time": "2022-04-10T16:01:14.846Z"
   },
   {
    "duration": 23,
    "start_time": "2022-04-10T16:01:14.880Z"
   },
   {
    "duration": 61,
    "start_time": "2022-04-10T16:01:14.905Z"
   },
   {
    "duration": 80,
    "start_time": "2022-04-10T16:01:14.968Z"
   },
   {
    "duration": 64,
    "start_time": "2022-04-10T16:01:15.050Z"
   },
   {
    "duration": 65,
    "start_time": "2022-04-10T16:01:15.116Z"
   },
   {
    "duration": 0,
    "start_time": "2022-04-10T16:01:15.183Z"
   },
   {
    "duration": 0,
    "start_time": "2022-04-10T16:01:15.184Z"
   },
   {
    "duration": 0,
    "start_time": "2022-04-10T16:01:15.185Z"
   },
   {
    "duration": 0,
    "start_time": "2022-04-10T16:01:15.186Z"
   },
   {
    "duration": 0,
    "start_time": "2022-04-10T16:01:15.187Z"
   },
   {
    "duration": 0,
    "start_time": "2022-04-10T16:01:15.188Z"
   },
   {
    "duration": 0,
    "start_time": "2022-04-10T16:01:15.189Z"
   },
   {
    "duration": 0,
    "start_time": "2022-04-10T16:01:15.190Z"
   },
   {
    "duration": 0,
    "start_time": "2022-04-10T16:01:15.191Z"
   },
   {
    "duration": 0,
    "start_time": "2022-04-10T16:01:15.192Z"
   },
   {
    "duration": 0,
    "start_time": "2022-04-10T16:01:15.193Z"
   },
   {
    "duration": 0,
    "start_time": "2022-04-10T16:01:15.194Z"
   },
   {
    "duration": 0,
    "start_time": "2022-04-10T16:01:15.195Z"
   },
   {
    "duration": 0,
    "start_time": "2022-04-10T16:01:15.196Z"
   },
   {
    "duration": 0,
    "start_time": "2022-04-10T16:01:15.197Z"
   },
   {
    "duration": 0,
    "start_time": "2022-04-10T16:01:15.198Z"
   },
   {
    "duration": 0,
    "start_time": "2022-04-10T16:01:15.199Z"
   },
   {
    "duration": 0,
    "start_time": "2022-04-10T16:01:15.200Z"
   },
   {
    "duration": 0,
    "start_time": "2022-04-10T16:01:15.201Z"
   },
   {
    "duration": 0,
    "start_time": "2022-04-10T16:01:15.202Z"
   },
   {
    "duration": 1,
    "start_time": "2022-04-10T16:01:15.203Z"
   },
   {
    "duration": 0,
    "start_time": "2022-04-10T16:01:15.204Z"
   },
   {
    "duration": 0,
    "start_time": "2022-04-10T16:01:15.205Z"
   },
   {
    "duration": 0,
    "start_time": "2022-04-10T16:01:15.207Z"
   },
   {
    "duration": 396,
    "start_time": "2022-04-10T16:01:31.378Z"
   },
   {
    "duration": 142,
    "start_time": "2022-04-10T16:01:31.776Z"
   },
   {
    "duration": 17,
    "start_time": "2022-04-10T16:01:31.920Z"
   },
   {
    "duration": 9,
    "start_time": "2022-04-10T16:01:31.939Z"
   },
   {
    "duration": 12,
    "start_time": "2022-04-10T16:01:31.949Z"
   },
   {
    "duration": 19,
    "start_time": "2022-04-10T16:01:31.962Z"
   },
   {
    "duration": 9,
    "start_time": "2022-04-10T16:01:31.982Z"
   },
   {
    "duration": 6,
    "start_time": "2022-04-10T16:01:31.993Z"
   },
   {
    "duration": 24,
    "start_time": "2022-04-10T16:01:32.000Z"
   },
   {
    "duration": 16,
    "start_time": "2022-04-10T16:01:32.027Z"
   },
   {
    "duration": 42,
    "start_time": "2022-04-10T16:01:32.045Z"
   },
   {
    "duration": 60,
    "start_time": "2022-04-10T16:01:32.088Z"
   },
   {
    "duration": 84,
    "start_time": "2022-04-10T16:01:32.149Z"
   },
   {
    "duration": 59,
    "start_time": "2022-04-10T16:01:32.234Z"
   },
   {
    "duration": 49,
    "start_time": "2022-04-10T16:01:32.295Z"
   },
   {
    "duration": 4,
    "start_time": "2022-04-10T16:01:32.345Z"
   },
   {
    "duration": 52,
    "start_time": "2022-04-10T16:01:32.350Z"
   },
   {
    "duration": 7,
    "start_time": "2022-04-10T16:01:32.403Z"
   },
   {
    "duration": 31,
    "start_time": "2022-04-10T16:01:32.412Z"
   },
   {
    "duration": 49,
    "start_time": "2022-04-10T16:01:32.445Z"
   },
   {
    "duration": 3,
    "start_time": "2022-04-10T16:01:32.495Z"
   },
   {
    "duration": 21,
    "start_time": "2022-04-10T16:01:32.500Z"
   },
   {
    "duration": 18,
    "start_time": "2022-04-10T16:01:32.522Z"
   },
   {
    "duration": 18,
    "start_time": "2022-04-10T16:01:32.542Z"
   },
   {
    "duration": 21,
    "start_time": "2022-04-10T16:01:32.561Z"
   },
   {
    "duration": 15,
    "start_time": "2022-04-10T16:01:32.584Z"
   },
   {
    "duration": 14,
    "start_time": "2022-04-10T16:01:32.600Z"
   },
   {
    "duration": 8,
    "start_time": "2022-04-10T16:01:32.617Z"
   },
   {
    "duration": 13,
    "start_time": "2022-04-10T16:01:32.627Z"
   },
   {
    "duration": 9,
    "start_time": "2022-04-10T16:01:32.642Z"
   },
   {
    "duration": 30,
    "start_time": "2022-04-10T16:01:32.652Z"
   },
   {
    "duration": 22,
    "start_time": "2022-04-10T16:01:32.684Z"
   },
   {
    "duration": 11,
    "start_time": "2022-04-10T16:01:32.708Z"
   },
   {
    "duration": 15,
    "start_time": "2022-04-10T16:01:32.721Z"
   },
   {
    "duration": 10,
    "start_time": "2022-04-10T16:01:32.738Z"
   },
   {
    "duration": 32,
    "start_time": "2022-04-10T16:01:32.750Z"
   },
   {
    "duration": 4,
    "start_time": "2022-04-10T16:01:32.784Z"
   },
   {
    "duration": 8,
    "start_time": "2022-04-10T16:01:32.790Z"
   },
   {
    "duration": 4,
    "start_time": "2022-04-10T16:01:32.800Z"
   },
   {
    "duration": 399,
    "start_time": "2022-04-10T16:10:44.329Z"
   },
   {
    "duration": 136,
    "start_time": "2022-04-10T16:10:44.731Z"
   },
   {
    "duration": 16,
    "start_time": "2022-04-10T16:10:44.868Z"
   },
   {
    "duration": 11,
    "start_time": "2022-04-10T16:10:44.886Z"
   },
   {
    "duration": 11,
    "start_time": "2022-04-10T16:10:44.898Z"
   },
   {
    "duration": 4,
    "start_time": "2022-04-10T16:10:44.911Z"
   },
   {
    "duration": 10,
    "start_time": "2022-04-10T16:10:44.917Z"
   },
   {
    "duration": 6,
    "start_time": "2022-04-10T16:10:44.928Z"
   },
   {
    "duration": 54,
    "start_time": "2022-04-10T16:10:44.936Z"
   },
   {
    "duration": 19,
    "start_time": "2022-04-10T16:10:44.993Z"
   },
   {
    "duration": 36,
    "start_time": "2022-04-10T16:10:45.013Z"
   },
   {
    "duration": 69,
    "start_time": "2022-04-10T16:10:45.050Z"
   },
   {
    "duration": 76,
    "start_time": "2022-04-10T16:10:45.121Z"
   },
   {
    "duration": 60,
    "start_time": "2022-04-10T16:10:45.198Z"
   },
   {
    "duration": 52,
    "start_time": "2022-04-10T16:10:45.260Z"
   },
   {
    "duration": 4,
    "start_time": "2022-04-10T16:10:45.314Z"
   },
   {
    "duration": 34,
    "start_time": "2022-04-10T16:10:45.320Z"
   },
   {
    "duration": 26,
    "start_time": "2022-04-10T16:10:45.356Z"
   },
   {
    "duration": 31,
    "start_time": "2022-04-10T16:10:45.383Z"
   },
   {
    "duration": 29,
    "start_time": "2022-04-10T16:10:45.416Z"
   },
   {
    "duration": 3,
    "start_time": "2022-04-10T16:10:45.447Z"
   },
   {
    "duration": 38,
    "start_time": "2022-04-10T16:10:45.452Z"
   },
   {
    "duration": 13,
    "start_time": "2022-04-10T16:10:45.492Z"
   },
   {
    "duration": 16,
    "start_time": "2022-04-10T16:10:45.506Z"
   },
   {
    "duration": 13,
    "start_time": "2022-04-10T16:10:45.524Z"
   },
   {
    "duration": 44,
    "start_time": "2022-04-10T16:10:45.539Z"
   },
   {
    "duration": 13,
    "start_time": "2022-04-10T16:10:45.584Z"
   },
   {
    "duration": 7,
    "start_time": "2022-04-10T16:10:45.601Z"
   },
   {
    "duration": 11,
    "start_time": "2022-04-10T16:10:45.609Z"
   },
   {
    "duration": 8,
    "start_time": "2022-04-10T16:10:45.621Z"
   },
   {
    "duration": 4,
    "start_time": "2022-04-10T16:10:45.631Z"
   },
   {
    "duration": 50,
    "start_time": "2022-04-10T16:10:45.636Z"
   },
   {
    "duration": 10,
    "start_time": "2022-04-10T16:10:45.688Z"
   },
   {
    "duration": 13,
    "start_time": "2022-04-10T16:10:45.700Z"
   },
   {
    "duration": 10,
    "start_time": "2022-04-10T16:10:45.715Z"
   },
   {
    "duration": 8,
    "start_time": "2022-04-10T16:10:45.726Z"
   },
   {
    "duration": 5,
    "start_time": "2022-04-10T16:10:45.735Z"
   },
   {
    "duration": 40,
    "start_time": "2022-04-10T16:10:45.741Z"
   },
   {
    "duration": 4,
    "start_time": "2022-04-10T16:10:45.782Z"
   },
   {
    "duration": 362,
    "start_time": "2022-04-10T16:15:20.517Z"
   },
   {
    "duration": 138,
    "start_time": "2022-04-10T16:15:20.881Z"
   },
   {
    "duration": 17,
    "start_time": "2022-04-10T16:15:21.021Z"
   },
   {
    "duration": 12,
    "start_time": "2022-04-10T16:15:21.040Z"
   },
   {
    "duration": 23,
    "start_time": "2022-04-10T16:15:21.053Z"
   },
   {
    "duration": 12,
    "start_time": "2022-04-10T16:15:21.077Z"
   },
   {
    "duration": 21,
    "start_time": "2022-04-10T16:15:21.090Z"
   },
   {
    "duration": 6,
    "start_time": "2022-04-10T16:15:21.112Z"
   },
   {
    "duration": 37,
    "start_time": "2022-04-10T16:15:21.120Z"
   },
   {
    "duration": 30,
    "start_time": "2022-04-10T16:15:21.159Z"
   },
   {
    "duration": 23,
    "start_time": "2022-04-10T16:15:21.191Z"
   },
   {
    "duration": 70,
    "start_time": "2022-04-10T16:15:21.215Z"
   },
   {
    "duration": 68,
    "start_time": "2022-04-10T16:15:21.286Z"
   },
   {
    "duration": 68,
    "start_time": "2022-04-10T16:15:21.356Z"
   },
   {
    "duration": 36,
    "start_time": "2022-04-10T16:15:21.426Z"
   },
   {
    "duration": 3,
    "start_time": "2022-04-10T16:15:21.463Z"
   },
   {
    "duration": 34,
    "start_time": "2022-04-10T16:15:21.467Z"
   },
   {
    "duration": 39,
    "start_time": "2022-04-10T16:15:21.502Z"
   },
   {
    "duration": 38,
    "start_time": "2022-04-10T16:15:21.543Z"
   },
   {
    "duration": 26,
    "start_time": "2022-04-10T16:15:21.583Z"
   },
   {
    "duration": 3,
    "start_time": "2022-04-10T16:15:21.611Z"
   },
   {
    "duration": 28,
    "start_time": "2022-04-10T16:15:21.615Z"
   },
   {
    "duration": 12,
    "start_time": "2022-04-10T16:15:21.645Z"
   },
   {
    "duration": 23,
    "start_time": "2022-04-10T16:15:21.659Z"
   },
   {
    "duration": 19,
    "start_time": "2022-04-10T16:15:21.683Z"
   },
   {
    "duration": 21,
    "start_time": "2022-04-10T16:15:21.704Z"
   },
   {
    "duration": 22,
    "start_time": "2022-04-10T16:15:21.727Z"
   },
   {
    "duration": 18,
    "start_time": "2022-04-10T16:15:21.751Z"
   },
   {
    "duration": 21,
    "start_time": "2022-04-10T16:15:21.770Z"
   },
   {
    "duration": 11,
    "start_time": "2022-04-10T16:15:21.793Z"
   },
   {
    "duration": 14,
    "start_time": "2022-04-10T16:15:21.806Z"
   },
   {
    "duration": 31,
    "start_time": "2022-04-10T16:15:21.821Z"
   },
   {
    "duration": 18,
    "start_time": "2022-04-10T16:15:21.854Z"
   },
   {
    "duration": 20,
    "start_time": "2022-04-10T16:15:21.873Z"
   },
   {
    "duration": 23,
    "start_time": "2022-04-10T16:15:21.895Z"
   },
   {
    "duration": 9,
    "start_time": "2022-04-10T16:15:21.919Z"
   },
   {
    "duration": 11,
    "start_time": "2022-04-10T16:15:21.930Z"
   },
   {
    "duration": 14,
    "start_time": "2022-04-10T16:15:21.943Z"
   },
   {
    "duration": 12,
    "start_time": "2022-04-10T16:15:21.958Z"
   },
   {
    "duration": 402,
    "start_time": "2022-04-10T16:22:22.885Z"
   },
   {
    "duration": 144,
    "start_time": "2022-04-10T16:22:23.289Z"
   },
   {
    "duration": 16,
    "start_time": "2022-04-10T16:22:23.434Z"
   },
   {
    "duration": 9,
    "start_time": "2022-04-10T16:22:23.452Z"
   },
   {
    "duration": 21,
    "start_time": "2022-04-10T16:22:23.462Z"
   },
   {
    "duration": 7,
    "start_time": "2022-04-10T16:22:23.484Z"
   },
   {
    "duration": 14,
    "start_time": "2022-04-10T16:22:23.492Z"
   },
   {
    "duration": 8,
    "start_time": "2022-04-10T16:22:23.507Z"
   },
   {
    "duration": 29,
    "start_time": "2022-04-10T16:22:23.517Z"
   },
   {
    "duration": 16,
    "start_time": "2022-04-10T16:22:23.549Z"
   },
   {
    "duration": 35,
    "start_time": "2022-04-10T16:22:23.566Z"
   },
   {
    "duration": 64,
    "start_time": "2022-04-10T16:22:23.602Z"
   },
   {
    "duration": 75,
    "start_time": "2022-04-10T16:22:23.668Z"
   },
   {
    "duration": 71,
    "start_time": "2022-04-10T16:22:23.744Z"
   },
   {
    "duration": 38,
    "start_time": "2022-04-10T16:22:23.816Z"
   },
   {
    "duration": 2,
    "start_time": "2022-04-10T16:22:23.856Z"
   },
   {
    "duration": 33,
    "start_time": "2022-04-10T16:22:23.860Z"
   },
   {
    "duration": 76,
    "start_time": "2022-04-10T16:22:23.895Z"
   },
   {
    "duration": 0,
    "start_time": "2022-04-10T16:22:23.981Z"
   },
   {
    "duration": 0,
    "start_time": "2022-04-10T16:22:23.982Z"
   },
   {
    "duration": 0,
    "start_time": "2022-04-10T16:22:23.983Z"
   },
   {
    "duration": 0,
    "start_time": "2022-04-10T16:22:23.984Z"
   },
   {
    "duration": 0,
    "start_time": "2022-04-10T16:22:23.985Z"
   },
   {
    "duration": 0,
    "start_time": "2022-04-10T16:22:23.986Z"
   },
   {
    "duration": 0,
    "start_time": "2022-04-10T16:22:23.987Z"
   },
   {
    "duration": 0,
    "start_time": "2022-04-10T16:22:23.989Z"
   },
   {
    "duration": 0,
    "start_time": "2022-04-10T16:22:23.990Z"
   },
   {
    "duration": 0,
    "start_time": "2022-04-10T16:22:23.991Z"
   },
   {
    "duration": 0,
    "start_time": "2022-04-10T16:22:23.992Z"
   },
   {
    "duration": 0,
    "start_time": "2022-04-10T16:22:23.993Z"
   },
   {
    "duration": 0,
    "start_time": "2022-04-10T16:22:23.994Z"
   },
   {
    "duration": 0,
    "start_time": "2022-04-10T16:22:23.995Z"
   },
   {
    "duration": 0,
    "start_time": "2022-04-10T16:22:23.996Z"
   },
   {
    "duration": 0,
    "start_time": "2022-04-10T16:22:23.997Z"
   },
   {
    "duration": 0,
    "start_time": "2022-04-10T16:22:23.998Z"
   },
   {
    "duration": 0,
    "start_time": "2022-04-10T16:22:23.999Z"
   },
   {
    "duration": 0,
    "start_time": "2022-04-10T16:22:24.000Z"
   },
   {
    "duration": 0,
    "start_time": "2022-04-10T16:22:24.001Z"
   },
   {
    "duration": 0,
    "start_time": "2022-04-10T16:22:24.002Z"
   },
   {
    "duration": 21,
    "start_time": "2022-04-10T16:26:26.645Z"
   },
   {
    "duration": 2,
    "start_time": "2022-04-10T16:26:33.844Z"
   },
   {
    "duration": 146,
    "start_time": "2022-04-10T16:26:34.496Z"
   },
   {
    "duration": 10,
    "start_time": "2022-04-10T16:26:35.765Z"
   },
   {
    "duration": 8,
    "start_time": "2022-04-10T16:26:36.521Z"
   },
   {
    "duration": 8,
    "start_time": "2022-04-10T16:26:36.939Z"
   },
   {
    "duration": 4,
    "start_time": "2022-04-10T16:26:38.809Z"
   },
   {
    "duration": 9,
    "start_time": "2022-04-10T16:26:40.240Z"
   },
   {
    "duration": 4,
    "start_time": "2022-04-10T16:26:41.070Z"
   },
   {
    "duration": 24,
    "start_time": "2022-04-10T16:26:42.011Z"
   },
   {
    "duration": 19,
    "start_time": "2022-04-10T16:26:43.346Z"
   },
   {
    "duration": 24,
    "start_time": "2022-04-10T16:26:44.183Z"
   },
   {
    "duration": 62,
    "start_time": "2022-04-10T16:26:45.515Z"
   },
   {
    "duration": 62,
    "start_time": "2022-04-10T16:26:46.642Z"
   },
   {
    "duration": 54,
    "start_time": "2022-04-10T16:26:47.775Z"
   },
   {
    "duration": 38,
    "start_time": "2022-04-10T16:26:48.895Z"
   },
   {
    "duration": 3,
    "start_time": "2022-04-10T16:26:52.181Z"
   },
   {
    "duration": 18,
    "start_time": "2022-04-10T16:26:54.305Z"
   },
   {
    "duration": 21,
    "start_time": "2022-04-10T16:26:57.215Z"
   },
   {
    "duration": 7,
    "start_time": "2022-04-10T16:29:22.637Z"
   },
   {
    "duration": 20,
    "start_time": "2022-04-10T16:29:36.072Z"
   },
   {
    "duration": 22,
    "start_time": "2022-04-10T16:29:39.475Z"
   },
   {
    "duration": 170,
    "start_time": "2022-04-10T16:30:51.891Z"
   },
   {
    "duration": 37,
    "start_time": "2022-04-10T16:30:57.445Z"
   },
   {
    "duration": 381,
    "start_time": "2022-04-10T16:31:26.084Z"
   },
   {
    "duration": 134,
    "start_time": "2022-04-10T16:31:26.467Z"
   },
   {
    "duration": 15,
    "start_time": "2022-04-10T16:31:26.603Z"
   },
   {
    "duration": 8,
    "start_time": "2022-04-10T16:31:26.620Z"
   },
   {
    "duration": 8,
    "start_time": "2022-04-10T16:31:26.629Z"
   },
   {
    "duration": 5,
    "start_time": "2022-04-10T16:31:26.638Z"
   },
   {
    "duration": 11,
    "start_time": "2022-04-10T16:31:26.644Z"
   },
   {
    "duration": 26,
    "start_time": "2022-04-10T16:31:26.657Z"
   },
   {
    "duration": 25,
    "start_time": "2022-04-10T16:31:26.684Z"
   },
   {
    "duration": 16,
    "start_time": "2022-04-10T16:31:26.711Z"
   },
   {
    "duration": 21,
    "start_time": "2022-04-10T16:31:26.729Z"
   },
   {
    "duration": 77,
    "start_time": "2022-04-10T16:31:26.751Z"
   },
   {
    "duration": 79,
    "start_time": "2022-04-10T16:31:26.829Z"
   },
   {
    "duration": 58,
    "start_time": "2022-04-10T16:31:26.910Z"
   },
   {
    "duration": 45,
    "start_time": "2022-04-10T16:31:26.970Z"
   },
   {
    "duration": 3,
    "start_time": "2022-04-10T16:31:27.016Z"
   },
   {
    "duration": 20,
    "start_time": "2022-04-10T16:31:27.021Z"
   },
   {
    "duration": 59,
    "start_time": "2022-04-10T16:31:27.043Z"
   },
   {
    "duration": 34,
    "start_time": "2022-04-10T16:31:27.104Z"
   },
   {
    "duration": 48,
    "start_time": "2022-04-10T16:31:27.139Z"
   },
   {
    "duration": 4,
    "start_time": "2022-04-10T16:31:27.189Z"
   },
   {
    "duration": 18,
    "start_time": "2022-04-10T16:31:27.195Z"
   },
   {
    "duration": 14,
    "start_time": "2022-04-10T16:31:27.215Z"
   },
   {
    "duration": 14,
    "start_time": "2022-04-10T16:31:27.231Z"
   },
   {
    "duration": 42,
    "start_time": "2022-04-10T16:31:27.246Z"
   },
   {
    "duration": 16,
    "start_time": "2022-04-10T16:31:27.289Z"
   },
   {
    "duration": 13,
    "start_time": "2022-04-10T16:31:27.307Z"
   },
   {
    "duration": 7,
    "start_time": "2022-04-10T16:31:27.324Z"
   },
   {
    "duration": 11,
    "start_time": "2022-04-10T16:31:27.333Z"
   },
   {
    "duration": 40,
    "start_time": "2022-04-10T16:31:27.345Z"
   },
   {
    "duration": 4,
    "start_time": "2022-04-10T16:31:27.387Z"
   },
   {
    "duration": 20,
    "start_time": "2022-04-10T16:31:27.393Z"
   },
   {
    "duration": 11,
    "start_time": "2022-04-10T16:31:27.414Z"
   },
   {
    "duration": 14,
    "start_time": "2022-04-10T16:31:27.427Z"
   },
   {
    "duration": 38,
    "start_time": "2022-04-10T16:31:27.443Z"
   },
   {
    "duration": 9,
    "start_time": "2022-04-10T16:31:27.482Z"
   },
   {
    "duration": 5,
    "start_time": "2022-04-10T16:31:27.492Z"
   },
   {
    "duration": 6,
    "start_time": "2022-04-10T16:31:27.499Z"
   },
   {
    "duration": 5,
    "start_time": "2022-04-10T16:31:27.507Z"
   },
   {
    "duration": 11,
    "start_time": "2022-04-10T16:46:43.798Z"
   },
   {
    "duration": 11,
    "start_time": "2022-04-10T16:47:05.543Z"
   },
   {
    "duration": 60,
    "start_time": "2022-04-10T16:50:11.640Z"
   },
   {
    "duration": 7,
    "start_time": "2022-04-10T16:50:26.232Z"
   },
   {
    "duration": 8,
    "start_time": "2022-04-10T16:50:48.436Z"
   },
   {
    "duration": 4,
    "start_time": "2022-04-10T16:52:16.223Z"
   },
   {
    "duration": 28,
    "start_time": "2022-04-10T16:52:19.635Z"
   },
   {
    "duration": 15,
    "start_time": "2022-04-10T16:52:20.597Z"
   },
   {
    "duration": 19,
    "start_time": "2022-04-10T16:52:21.034Z"
   },
   {
    "duration": 17,
    "start_time": "2022-04-10T16:52:21.557Z"
   },
   {
    "duration": 10,
    "start_time": "2022-04-10T16:52:55.885Z"
   },
   {
    "duration": 3,
    "start_time": "2022-04-10T16:53:08.851Z"
   },
   {
    "duration": 18,
    "start_time": "2022-04-10T16:53:12.487Z"
   },
   {
    "duration": 13,
    "start_time": "2022-04-10T16:53:13.888Z"
   },
   {
    "duration": 17,
    "start_time": "2022-04-10T16:53:14.350Z"
   },
   {
    "duration": 13,
    "start_time": "2022-04-10T16:53:15.014Z"
   },
   {
    "duration": 17,
    "start_time": "2022-04-10T17:16:08.977Z"
   },
   {
    "duration": 16,
    "start_time": "2022-04-10T17:16:24.855Z"
   },
   {
    "duration": 4,
    "start_time": "2022-04-10T17:20:03.949Z"
   },
   {
    "duration": 25,
    "start_time": "2022-04-10T17:20:09.643Z"
   },
   {
    "duration": 18,
    "start_time": "2022-04-10T17:20:16.611Z"
   },
   {
    "duration": 5,
    "start_time": "2022-04-10T17:20:22.166Z"
   },
   {
    "duration": 23,
    "start_time": "2022-04-10T17:20:23.376Z"
   },
   {
    "duration": 17,
    "start_time": "2022-04-10T17:20:23.794Z"
   },
   {
    "duration": 22,
    "start_time": "2022-04-10T17:20:24.272Z"
   },
   {
    "duration": 4,
    "start_time": "2022-04-10T17:20:32.268Z"
   },
   {
    "duration": 23,
    "start_time": "2022-04-10T17:20:32.991Z"
   },
   {
    "duration": 17,
    "start_time": "2022-04-10T17:20:33.414Z"
   },
   {
    "duration": 23,
    "start_time": "2022-04-10T17:20:33.829Z"
   },
   {
    "duration": 3,
    "start_time": "2022-04-10T17:21:26.754Z"
   },
   {
    "duration": 17,
    "start_time": "2022-04-10T17:21:27.981Z"
   },
   {
    "duration": 12,
    "start_time": "2022-04-10T17:21:28.399Z"
   },
   {
    "duration": 17,
    "start_time": "2022-04-10T17:21:29.086Z"
   },
   {
    "duration": 11,
    "start_time": "2022-04-10T17:21:29.773Z"
   },
   {
    "duration": 423,
    "start_time": "2022-04-10T17:21:40.090Z"
   },
   {
    "duration": 145,
    "start_time": "2022-04-10T17:21:40.515Z"
   },
   {
    "duration": 28,
    "start_time": "2022-04-10T17:21:40.661Z"
   },
   {
    "duration": 8,
    "start_time": "2022-04-10T17:21:40.691Z"
   },
   {
    "duration": 13,
    "start_time": "2022-04-10T17:21:40.700Z"
   },
   {
    "duration": 7,
    "start_time": "2022-04-10T17:21:40.714Z"
   },
   {
    "duration": 12,
    "start_time": "2022-04-10T17:21:40.723Z"
   },
   {
    "duration": 5,
    "start_time": "2022-04-10T17:21:40.736Z"
   },
   {
    "duration": 49,
    "start_time": "2022-04-10T17:21:40.743Z"
   },
   {
    "duration": 19,
    "start_time": "2022-04-10T17:21:40.795Z"
   },
   {
    "duration": 25,
    "start_time": "2022-04-10T17:21:40.816Z"
   },
   {
    "duration": 87,
    "start_time": "2022-04-10T17:21:40.844Z"
   },
   {
    "duration": 81,
    "start_time": "2022-04-10T17:21:40.933Z"
   },
   {
    "duration": 65,
    "start_time": "2022-04-10T17:21:41.016Z"
   },
   {
    "duration": 39,
    "start_time": "2022-04-10T17:21:41.083Z"
   },
   {
    "duration": 5,
    "start_time": "2022-04-10T17:21:41.124Z"
   },
   {
    "duration": 20,
    "start_time": "2022-04-10T17:21:41.130Z"
   },
   {
    "duration": 58,
    "start_time": "2022-04-10T17:21:41.152Z"
   },
   {
    "duration": 11,
    "start_time": "2022-04-10T17:21:41.212Z"
   },
   {
    "duration": 15,
    "start_time": "2022-04-10T17:21:41.225Z"
   },
   {
    "duration": 4,
    "start_time": "2022-04-10T17:21:41.243Z"
   },
   {
    "duration": 47,
    "start_time": "2022-04-10T17:21:41.249Z"
   },
   {
    "duration": 19,
    "start_time": "2022-04-10T17:21:41.298Z"
   },
   {
    "duration": 20,
    "start_time": "2022-04-10T17:21:41.319Z"
   },
   {
    "duration": 19,
    "start_time": "2022-04-10T17:21:41.341Z"
   },
   {
    "duration": 23,
    "start_time": "2022-04-10T17:21:41.381Z"
   },
   {
    "duration": 19,
    "start_time": "2022-04-10T17:21:41.406Z"
   },
   {
    "duration": 12,
    "start_time": "2022-04-10T17:21:41.429Z"
   },
   {
    "duration": 12,
    "start_time": "2022-04-10T17:21:41.442Z"
   },
   {
    "duration": 28,
    "start_time": "2022-04-10T17:21:41.456Z"
   },
   {
    "duration": 3,
    "start_time": "2022-04-10T17:21:41.486Z"
   },
   {
    "duration": 24,
    "start_time": "2022-04-10T17:21:41.491Z"
   },
   {
    "duration": 11,
    "start_time": "2022-04-10T17:21:41.517Z"
   },
   {
    "duration": 15,
    "start_time": "2022-04-10T17:21:41.530Z"
   },
   {
    "duration": 40,
    "start_time": "2022-04-10T17:21:41.546Z"
   },
   {
    "duration": 9,
    "start_time": "2022-04-10T17:21:41.587Z"
   },
   {
    "duration": 5,
    "start_time": "2022-04-10T17:21:41.598Z"
   },
   {
    "duration": 6,
    "start_time": "2022-04-10T17:21:41.605Z"
   },
   {
    "duration": 7,
    "start_time": "2022-04-10T17:21:41.612Z"
   },
   {
    "duration": 46,
    "start_time": "2022-04-10T17:22:06.052Z"
   },
   {
    "duration": 10,
    "start_time": "2022-04-10T17:22:13.909Z"
   },
   {
    "duration": 46,
    "start_time": "2022-04-10T17:22:19.142Z"
   },
   {
    "duration": 57,
    "start_time": "2022-04-10T17:22:34.863Z"
   },
   {
    "duration": 7,
    "start_time": "2022-04-10T17:22:39.682Z"
   },
   {
    "duration": 369,
    "start_time": "2022-04-10T17:22:50.106Z"
   },
   {
    "duration": 144,
    "start_time": "2022-04-10T17:22:50.477Z"
   },
   {
    "duration": 16,
    "start_time": "2022-04-10T17:22:50.626Z"
   },
   {
    "duration": 9,
    "start_time": "2022-04-10T17:22:50.644Z"
   },
   {
    "duration": 46,
    "start_time": "2022-04-10T17:22:50.654Z"
   },
   {
    "duration": 57,
    "start_time": "2022-04-10T17:22:50.702Z"
   },
   {
    "duration": 0,
    "start_time": "2022-04-10T17:22:50.762Z"
   },
   {
    "duration": 0,
    "start_time": "2022-04-10T17:22:50.764Z"
   },
   {
    "duration": 0,
    "start_time": "2022-04-10T17:22:50.781Z"
   },
   {
    "duration": 0,
    "start_time": "2022-04-10T17:22:50.782Z"
   },
   {
    "duration": 0,
    "start_time": "2022-04-10T17:22:50.784Z"
   },
   {
    "duration": 0,
    "start_time": "2022-04-10T17:22:50.785Z"
   },
   {
    "duration": 0,
    "start_time": "2022-04-10T17:22:50.786Z"
   },
   {
    "duration": 0,
    "start_time": "2022-04-10T17:22:50.788Z"
   },
   {
    "duration": 0,
    "start_time": "2022-04-10T17:22:50.789Z"
   },
   {
    "duration": 0,
    "start_time": "2022-04-10T17:22:50.790Z"
   },
   {
    "duration": 0,
    "start_time": "2022-04-10T17:22:50.791Z"
   },
   {
    "duration": 0,
    "start_time": "2022-04-10T17:22:50.792Z"
   },
   {
    "duration": 0,
    "start_time": "2022-04-10T17:22:50.794Z"
   },
   {
    "duration": 0,
    "start_time": "2022-04-10T17:22:50.795Z"
   },
   {
    "duration": 0,
    "start_time": "2022-04-10T17:22:50.796Z"
   },
   {
    "duration": 1,
    "start_time": "2022-04-10T17:22:50.797Z"
   },
   {
    "duration": 0,
    "start_time": "2022-04-10T17:22:50.799Z"
   },
   {
    "duration": 0,
    "start_time": "2022-04-10T17:22:50.801Z"
   },
   {
    "duration": 0,
    "start_time": "2022-04-10T17:22:50.802Z"
   },
   {
    "duration": 0,
    "start_time": "2022-04-10T17:22:50.804Z"
   },
   {
    "duration": 0,
    "start_time": "2022-04-10T17:22:50.805Z"
   },
   {
    "duration": 0,
    "start_time": "2022-04-10T17:22:50.806Z"
   },
   {
    "duration": 0,
    "start_time": "2022-04-10T17:22:50.807Z"
   },
   {
    "duration": 0,
    "start_time": "2022-04-10T17:22:50.809Z"
   },
   {
    "duration": 0,
    "start_time": "2022-04-10T17:22:50.810Z"
   },
   {
    "duration": 0,
    "start_time": "2022-04-10T17:22:50.811Z"
   },
   {
    "duration": 0,
    "start_time": "2022-04-10T17:22:50.812Z"
   },
   {
    "duration": 0,
    "start_time": "2022-04-10T17:22:50.814Z"
   },
   {
    "duration": 0,
    "start_time": "2022-04-10T17:22:50.815Z"
   },
   {
    "duration": 0,
    "start_time": "2022-04-10T17:22:50.817Z"
   },
   {
    "duration": 0,
    "start_time": "2022-04-10T17:22:50.818Z"
   },
   {
    "duration": 0,
    "start_time": "2022-04-10T17:22:50.819Z"
   },
   {
    "duration": 0,
    "start_time": "2022-04-10T17:22:50.820Z"
   },
   {
    "duration": 4,
    "start_time": "2022-04-10T17:23:01.477Z"
   },
   {
    "duration": 8,
    "start_time": "2022-04-10T17:23:25.459Z"
   },
   {
    "duration": 27,
    "start_time": "2022-04-10T17:23:33.338Z"
   },
   {
    "duration": 385,
    "start_time": "2022-04-10T17:23:52.896Z"
   },
   {
    "duration": 143,
    "start_time": "2022-04-10T17:23:53.283Z"
   },
   {
    "duration": 15,
    "start_time": "2022-04-10T17:23:53.428Z"
   },
   {
    "duration": 14,
    "start_time": "2022-04-10T17:23:53.445Z"
   },
   {
    "duration": 37,
    "start_time": "2022-04-10T17:23:53.460Z"
   },
   {
    "duration": 21,
    "start_time": "2022-04-10T17:23:53.498Z"
   },
   {
    "duration": 13,
    "start_time": "2022-04-10T17:23:53.521Z"
   },
   {
    "duration": 18,
    "start_time": "2022-04-10T17:23:53.535Z"
   },
   {
    "duration": 40,
    "start_time": "2022-04-10T17:23:53.554Z"
   },
   {
    "duration": 28,
    "start_time": "2022-04-10T17:23:53.597Z"
   },
   {
    "duration": 38,
    "start_time": "2022-04-10T17:23:53.627Z"
   },
   {
    "duration": 72,
    "start_time": "2022-04-10T17:23:53.667Z"
   },
   {
    "duration": 77,
    "start_time": "2022-04-10T17:23:53.741Z"
   },
   {
    "duration": 65,
    "start_time": "2022-04-10T17:23:53.819Z"
   },
   {
    "duration": 38,
    "start_time": "2022-04-10T17:23:53.886Z"
   },
   {
    "duration": 3,
    "start_time": "2022-04-10T17:23:53.925Z"
   },
   {
    "duration": 31,
    "start_time": "2022-04-10T17:23:53.929Z"
   },
   {
    "duration": 46,
    "start_time": "2022-04-10T17:23:53.961Z"
   },
   {
    "duration": 12,
    "start_time": "2022-04-10T17:23:54.009Z"
   },
   {
    "duration": 14,
    "start_time": "2022-04-10T17:23:54.022Z"
   },
   {
    "duration": 7,
    "start_time": "2022-04-10T17:23:54.037Z"
   },
   {
    "duration": 41,
    "start_time": "2022-04-10T17:23:54.045Z"
   },
   {
    "duration": 17,
    "start_time": "2022-04-10T17:23:54.087Z"
   },
   {
    "duration": 28,
    "start_time": "2022-04-10T17:23:54.105Z"
   },
   {
    "duration": 30,
    "start_time": "2022-04-10T17:23:54.135Z"
   },
   {
    "duration": 31,
    "start_time": "2022-04-10T17:23:54.166Z"
   },
   {
    "duration": 22,
    "start_time": "2022-04-10T17:23:54.198Z"
   },
   {
    "duration": 19,
    "start_time": "2022-04-10T17:23:54.223Z"
   },
   {
    "duration": 31,
    "start_time": "2022-04-10T17:23:54.244Z"
   },
   {
    "duration": 24,
    "start_time": "2022-04-10T17:23:54.276Z"
   },
   {
    "duration": 15,
    "start_time": "2022-04-10T17:23:54.302Z"
   },
   {
    "duration": 47,
    "start_time": "2022-04-10T17:23:54.318Z"
   },
   {
    "duration": 31,
    "start_time": "2022-04-10T17:23:54.366Z"
   },
   {
    "duration": 31,
    "start_time": "2022-04-10T17:23:54.399Z"
   },
   {
    "duration": 51,
    "start_time": "2022-04-10T17:23:54.432Z"
   },
   {
    "duration": 7,
    "start_time": "2022-04-10T17:23:54.485Z"
   },
   {
    "duration": 20,
    "start_time": "2022-04-10T17:23:54.494Z"
   },
   {
    "duration": 22,
    "start_time": "2022-04-10T17:23:54.515Z"
   },
   {
    "duration": 43,
    "start_time": "2022-04-10T17:23:54.539Z"
   },
   {
    "duration": 58,
    "start_time": "2022-04-10T17:30:46.683Z"
   },
   {
    "duration": 8,
    "start_time": "2022-04-10T17:30:54.073Z"
   },
   {
    "duration": 29,
    "start_time": "2022-04-10T17:31:09.057Z"
   },
   {
    "duration": 10,
    "start_time": "2022-04-10T17:31:32.641Z"
   },
   {
    "duration": 9,
    "start_time": "2022-04-10T17:31:36.830Z"
   },
   {
    "duration": 21,
    "start_time": "2022-04-10T17:31:47.484Z"
   },
   {
    "duration": 33,
    "start_time": "2022-04-10T17:32:43.759Z"
   },
   {
    "duration": 28,
    "start_time": "2022-04-10T17:32:49.190Z"
   },
   {
    "duration": 20,
    "start_time": "2022-04-10T17:34:42.697Z"
   },
   {
    "duration": 21,
    "start_time": "2022-04-10T17:34:52.599Z"
   },
   {
    "duration": 16,
    "start_time": "2022-04-10T17:36:24.075Z"
   },
   {
    "duration": 20,
    "start_time": "2022-04-10T17:36:27.703Z"
   },
   {
    "duration": 4,
    "start_time": "2022-04-10T17:40:01.489Z"
   },
   {
    "duration": 19,
    "start_time": "2022-04-10T17:40:03.504Z"
   },
   {
    "duration": 13,
    "start_time": "2022-04-10T17:40:04.203Z"
   },
   {
    "duration": 16,
    "start_time": "2022-04-10T17:40:04.825Z"
   },
   {
    "duration": 12,
    "start_time": "2022-04-10T17:40:05.077Z"
   },
   {
    "duration": 3,
    "start_time": "2022-04-10T17:42:38.551Z"
   },
   {
    "duration": 21,
    "start_time": "2022-04-10T17:42:40.055Z"
   },
   {
    "duration": 12,
    "start_time": "2022-04-10T17:42:40.739Z"
   },
   {
    "duration": 22,
    "start_time": "2022-04-10T17:42:40.948Z"
   },
   {
    "duration": 12,
    "start_time": "2022-04-10T17:42:41.196Z"
   },
   {
    "duration": 4,
    "start_time": "2022-04-10T17:42:53.715Z"
   },
   {
    "duration": 17,
    "start_time": "2022-04-10T17:42:54.757Z"
   },
   {
    "duration": 12,
    "start_time": "2022-04-10T17:42:55.214Z"
   },
   {
    "duration": 16,
    "start_time": "2022-04-10T17:42:55.570Z"
   },
   {
    "duration": 11,
    "start_time": "2022-04-10T17:42:55.760Z"
   },
   {
    "duration": 460,
    "start_time": "2022-04-10T17:44:09.057Z"
   },
   {
    "duration": 181,
    "start_time": "2022-04-10T17:44:09.519Z"
   },
   {
    "duration": 18,
    "start_time": "2022-04-10T17:44:09.701Z"
   },
   {
    "duration": 17,
    "start_time": "2022-04-10T17:44:09.721Z"
   },
   {
    "duration": 46,
    "start_time": "2022-04-10T17:44:09.739Z"
   },
   {
    "duration": 4,
    "start_time": "2022-04-10T17:44:09.786Z"
   },
   {
    "duration": 12,
    "start_time": "2022-04-10T17:44:09.792Z"
   },
   {
    "duration": 8,
    "start_time": "2022-04-10T17:44:09.805Z"
   },
   {
    "duration": 26,
    "start_time": "2022-04-10T17:44:09.815Z"
   },
   {
    "duration": 37,
    "start_time": "2022-04-10T17:44:09.844Z"
   },
   {
    "duration": 24,
    "start_time": "2022-04-10T17:44:09.883Z"
   },
   {
    "duration": 72,
    "start_time": "2022-04-10T17:44:09.909Z"
   },
   {
    "duration": 69,
    "start_time": "2022-04-10T17:44:09.983Z"
   },
   {
    "duration": 69,
    "start_time": "2022-04-10T17:44:10.054Z"
   },
   {
    "duration": 40,
    "start_time": "2022-04-10T17:44:10.125Z"
   },
   {
    "duration": 16,
    "start_time": "2022-04-10T17:44:10.166Z"
   },
   {
    "duration": 484,
    "start_time": "2022-04-10T17:44:10.183Z"
   },
   {
    "duration": 43,
    "start_time": "2022-04-10T17:44:10.669Z"
   },
   {
    "duration": 12,
    "start_time": "2022-04-10T17:44:10.713Z"
   },
   {
    "duration": 11,
    "start_time": "2022-04-10T17:44:10.727Z"
   },
   {
    "duration": 3,
    "start_time": "2022-04-10T17:44:10.739Z"
   },
   {
    "duration": 38,
    "start_time": "2022-04-10T17:44:10.744Z"
   },
   {
    "duration": 15,
    "start_time": "2022-04-10T17:44:10.784Z"
   },
   {
    "duration": 22,
    "start_time": "2022-04-10T17:44:10.800Z"
   },
   {
    "duration": 15,
    "start_time": "2022-04-10T17:44:10.824Z"
   },
   {
    "duration": 42,
    "start_time": "2022-04-10T17:44:10.841Z"
   },
   {
    "duration": 15,
    "start_time": "2022-04-10T17:44:10.884Z"
   },
   {
    "duration": 12,
    "start_time": "2022-04-10T17:44:10.902Z"
   },
   {
    "duration": 23,
    "start_time": "2022-04-10T17:44:10.916Z"
   },
   {
    "duration": 48,
    "start_time": "2022-04-10T17:44:10.941Z"
   },
   {
    "duration": 6,
    "start_time": "2022-04-10T17:44:10.991Z"
   },
   {
    "duration": 30,
    "start_time": "2022-04-10T17:44:10.999Z"
   },
   {
    "duration": 14,
    "start_time": "2022-04-10T17:44:11.031Z"
   },
   {
    "duration": 41,
    "start_time": "2022-04-10T17:44:11.047Z"
   },
   {
    "duration": 11,
    "start_time": "2022-04-10T17:44:11.089Z"
   },
   {
    "duration": 9,
    "start_time": "2022-04-10T17:44:11.102Z"
   },
   {
    "duration": 10,
    "start_time": "2022-04-10T17:44:11.112Z"
   },
   {
    "duration": 12,
    "start_time": "2022-04-10T17:44:11.123Z"
   },
   {
    "duration": 5,
    "start_time": "2022-04-10T17:44:11.136Z"
   },
   {
    "duration": 59,
    "start_time": "2022-04-10T18:18:06.959Z"
   },
   {
    "duration": 63,
    "start_time": "2022-04-10T18:19:12.147Z"
   },
   {
    "duration": 404,
    "start_time": "2022-04-10T18:22:08.844Z"
   },
   {
    "duration": 136,
    "start_time": "2022-04-10T18:22:09.250Z"
   },
   {
    "duration": 15,
    "start_time": "2022-04-10T18:22:09.388Z"
   },
   {
    "duration": 7,
    "start_time": "2022-04-10T18:22:09.405Z"
   },
   {
    "duration": 26,
    "start_time": "2022-04-10T18:22:09.414Z"
   },
   {
    "duration": 3,
    "start_time": "2022-04-10T18:22:09.442Z"
   },
   {
    "duration": 36,
    "start_time": "2022-04-10T18:22:09.446Z"
   },
   {
    "duration": 5,
    "start_time": "2022-04-10T18:22:09.483Z"
   },
   {
    "duration": 26,
    "start_time": "2022-04-10T18:22:09.489Z"
   },
   {
    "duration": 18,
    "start_time": "2022-04-10T18:22:09.519Z"
   },
   {
    "duration": 24,
    "start_time": "2022-04-10T18:22:09.539Z"
   },
   {
    "duration": 60,
    "start_time": "2022-04-10T18:22:09.581Z"
   },
   {
    "duration": 90,
    "start_time": "2022-04-10T18:22:09.642Z"
   },
   {
    "duration": 58,
    "start_time": "2022-04-10T18:22:09.734Z"
   },
   {
    "duration": 36,
    "start_time": "2022-04-10T18:22:09.794Z"
   },
   {
    "duration": 3,
    "start_time": "2022-04-10T18:22:09.832Z"
   },
   {
    "duration": 19,
    "start_time": "2022-04-10T18:22:09.837Z"
   },
   {
    "duration": 57,
    "start_time": "2022-04-10T18:22:09.858Z"
   },
   {
    "duration": 11,
    "start_time": "2022-04-10T18:22:09.917Z"
   },
   {
    "duration": 11,
    "start_time": "2022-04-10T18:22:09.929Z"
   },
   {
    "duration": 4,
    "start_time": "2022-04-10T18:22:09.942Z"
   },
   {
    "duration": 43,
    "start_time": "2022-04-10T18:22:09.947Z"
   },
   {
    "duration": 14,
    "start_time": "2022-04-10T18:22:09.992Z"
   },
   {
    "duration": 14,
    "start_time": "2022-04-10T18:22:10.008Z"
   },
   {
    "duration": 14,
    "start_time": "2022-04-10T18:22:10.023Z"
   },
   {
    "duration": 43,
    "start_time": "2022-04-10T18:22:10.039Z"
   },
   {
    "duration": 14,
    "start_time": "2022-04-10T18:22:10.083Z"
   },
   {
    "duration": 63,
    "start_time": "2022-04-10T18:22:10.100Z"
   },
   {
    "duration": 30,
    "start_time": "2022-04-10T18:22:10.165Z"
   },
   {
    "duration": 17,
    "start_time": "2022-04-10T18:22:10.197Z"
   },
   {
    "duration": 4,
    "start_time": "2022-04-10T18:22:10.216Z"
   },
   {
    "duration": 20,
    "start_time": "2022-04-10T18:22:10.222Z"
   },
   {
    "duration": 40,
    "start_time": "2022-04-10T18:22:10.243Z"
   },
   {
    "duration": 15,
    "start_time": "2022-04-10T18:22:10.285Z"
   },
   {
    "duration": 10,
    "start_time": "2022-04-10T18:22:10.301Z"
   },
   {
    "duration": 8,
    "start_time": "2022-04-10T18:22:10.313Z"
   },
   {
    "duration": 4,
    "start_time": "2022-04-10T18:22:10.323Z"
   },
   {
    "duration": 6,
    "start_time": "2022-04-10T18:22:10.329Z"
   },
   {
    "duration": 5,
    "start_time": "2022-04-10T18:22:10.337Z"
   },
   {
    "duration": 4,
    "start_time": "2022-04-10T18:39:33.158Z"
   },
   {
    "duration": 68,
    "start_time": "2022-04-10T18:39:35.487Z"
   },
   {
    "duration": 13,
    "start_time": "2022-04-10T18:39:38.738Z"
   },
   {
    "duration": 4,
    "start_time": "2022-04-10T18:40:45.966Z"
   },
   {
    "duration": 19,
    "start_time": "2022-04-10T18:40:47.195Z"
   },
   {
    "duration": 12,
    "start_time": "2022-04-10T18:40:48.734Z"
   },
   {
    "duration": 15,
    "start_time": "2022-04-10T18:40:49.147Z"
   },
   {
    "duration": 12,
    "start_time": "2022-04-10T18:40:50.047Z"
   },
   {
    "duration": 398,
    "start_time": "2022-04-10T18:41:07.068Z"
   },
   {
    "duration": 137,
    "start_time": "2022-04-10T18:41:07.468Z"
   },
   {
    "duration": 15,
    "start_time": "2022-04-10T18:41:07.607Z"
   },
   {
    "duration": 8,
    "start_time": "2022-04-10T18:41:07.624Z"
   },
   {
    "duration": 27,
    "start_time": "2022-04-10T18:41:07.633Z"
   },
   {
    "duration": 20,
    "start_time": "2022-04-10T18:41:07.662Z"
   },
   {
    "duration": 10,
    "start_time": "2022-04-10T18:41:07.684Z"
   },
   {
    "duration": 6,
    "start_time": "2022-04-10T18:41:07.695Z"
   },
   {
    "duration": 26,
    "start_time": "2022-04-10T18:41:07.702Z"
   },
   {
    "duration": 17,
    "start_time": "2022-04-10T18:41:07.730Z"
   },
   {
    "duration": 46,
    "start_time": "2022-04-10T18:41:07.748Z"
   },
   {
    "duration": 59,
    "start_time": "2022-04-10T18:41:07.795Z"
   },
   {
    "duration": 83,
    "start_time": "2022-04-10T18:41:07.855Z"
   },
   {
    "duration": 57,
    "start_time": "2022-04-10T18:41:07.940Z"
   },
   {
    "duration": 37,
    "start_time": "2022-04-10T18:41:07.998Z"
   },
   {
    "duration": 2,
    "start_time": "2022-04-10T18:41:08.036Z"
   },
   {
    "duration": 19,
    "start_time": "2022-04-10T18:41:08.039Z"
   },
   {
    "duration": 55,
    "start_time": "2022-04-10T18:41:08.059Z"
   },
   {
    "duration": 10,
    "start_time": "2022-04-10T18:41:08.116Z"
   },
   {
    "duration": 11,
    "start_time": "2022-04-10T18:41:08.128Z"
   },
   {
    "duration": 3,
    "start_time": "2022-04-10T18:41:08.141Z"
   },
   {
    "duration": 40,
    "start_time": "2022-04-10T18:41:08.145Z"
   },
   {
    "duration": 12,
    "start_time": "2022-04-10T18:41:08.187Z"
   },
   {
    "duration": 14,
    "start_time": "2022-04-10T18:41:08.200Z"
   },
   {
    "duration": 12,
    "start_time": "2022-04-10T18:41:08.216Z"
   },
   {
    "duration": 15,
    "start_time": "2022-04-10T18:41:08.230Z"
   },
   {
    "duration": 37,
    "start_time": "2022-04-10T18:41:08.247Z"
   },
   {
    "duration": 59,
    "start_time": "2022-04-10T18:41:08.287Z"
   },
   {
    "duration": 16,
    "start_time": "2022-04-10T18:41:08.347Z"
   },
   {
    "duration": 14,
    "start_time": "2022-04-10T18:41:08.380Z"
   },
   {
    "duration": 3,
    "start_time": "2022-04-10T18:41:08.396Z"
   },
   {
    "duration": 25,
    "start_time": "2022-04-10T18:41:08.401Z"
   },
   {
    "duration": 10,
    "start_time": "2022-04-10T18:41:08.427Z"
   },
   {
    "duration": 13,
    "start_time": "2022-04-10T18:41:08.439Z"
   },
   {
    "duration": 32,
    "start_time": "2022-04-10T18:41:08.454Z"
   },
   {
    "duration": 8,
    "start_time": "2022-04-10T18:41:08.487Z"
   },
   {
    "duration": 6,
    "start_time": "2022-04-10T18:41:08.496Z"
   },
   {
    "duration": 9,
    "start_time": "2022-04-10T18:41:08.503Z"
   },
   {
    "duration": 4,
    "start_time": "2022-04-10T18:41:08.514Z"
   },
   {
    "duration": 9,
    "start_time": "2022-04-10T21:02:02.509Z"
   },
   {
    "duration": 41,
    "start_time": "2022-04-10T21:02:04.877Z"
   },
   {
    "duration": 8,
    "start_time": "2022-04-10T21:02:05.957Z"
   },
   {
    "duration": 408,
    "start_time": "2022-04-10T21:02:11.667Z"
   },
   {
    "duration": 170,
    "start_time": "2022-04-10T21:02:12.077Z"
   },
   {
    "duration": 20,
    "start_time": "2022-04-10T21:02:12.248Z"
   },
   {
    "duration": 11,
    "start_time": "2022-04-10T21:02:12.270Z"
   },
   {
    "duration": 35,
    "start_time": "2022-04-10T21:02:12.282Z"
   },
   {
    "duration": 3,
    "start_time": "2022-04-10T21:02:12.320Z"
   },
   {
    "duration": 34,
    "start_time": "2022-04-10T21:02:12.326Z"
   },
   {
    "duration": 6,
    "start_time": "2022-04-10T21:02:12.362Z"
   },
   {
    "duration": 27,
    "start_time": "2022-04-10T21:02:12.369Z"
   },
   {
    "duration": 19,
    "start_time": "2022-04-10T21:02:12.399Z"
   },
   {
    "duration": 42,
    "start_time": "2022-04-10T21:02:12.420Z"
   },
   {
    "duration": 63,
    "start_time": "2022-04-10T21:02:12.464Z"
   },
   {
    "duration": 103,
    "start_time": "2022-04-10T21:02:12.529Z"
   },
   {
    "duration": 78,
    "start_time": "2022-04-10T21:02:12.634Z"
   },
   {
    "duration": 45,
    "start_time": "2022-04-10T21:02:12.714Z"
   },
   {
    "duration": 3,
    "start_time": "2022-04-10T21:02:12.760Z"
   },
   {
    "duration": 24,
    "start_time": "2022-04-10T21:02:12.765Z"
   },
   {
    "duration": 39,
    "start_time": "2022-04-10T21:02:12.790Z"
   },
   {
    "duration": 32,
    "start_time": "2022-04-10T21:02:12.831Z"
   },
   {
    "duration": 11,
    "start_time": "2022-04-10T21:02:12.865Z"
   },
   {
    "duration": 4,
    "start_time": "2022-04-10T21:02:12.877Z"
   },
   {
    "duration": 22,
    "start_time": "2022-04-10T21:02:12.882Z"
   },
   {
    "duration": 16,
    "start_time": "2022-04-10T21:02:12.905Z"
   },
   {
    "duration": 43,
    "start_time": "2022-04-10T21:02:12.923Z"
   },
   {
    "duration": 16,
    "start_time": "2022-04-10T21:02:12.968Z"
   },
   {
    "duration": 16,
    "start_time": "2022-04-10T21:02:12.986Z"
   },
   {
    "duration": 14,
    "start_time": "2022-04-10T21:02:13.003Z"
   },
   {
    "duration": 97,
    "start_time": "2022-04-10T21:02:13.020Z"
   },
   {
    "duration": 18,
    "start_time": "2022-04-10T21:02:13.119Z"
   },
   {
    "duration": 35,
    "start_time": "2022-04-10T21:02:13.138Z"
   },
   {
    "duration": 6,
    "start_time": "2022-04-10T21:02:13.175Z"
   },
   {
    "duration": 32,
    "start_time": "2022-04-10T21:02:13.183Z"
   },
   {
    "duration": 14,
    "start_time": "2022-04-10T21:02:13.217Z"
   },
   {
    "duration": 33,
    "start_time": "2022-04-10T21:02:13.232Z"
   },
   {
    "duration": 12,
    "start_time": "2022-04-10T21:02:13.267Z"
   },
   {
    "duration": 7,
    "start_time": "2022-04-10T21:02:13.281Z"
   },
   {
    "duration": 5,
    "start_time": "2022-04-10T21:02:13.290Z"
   },
   {
    "duration": 8,
    "start_time": "2022-04-10T21:02:13.297Z"
   },
   {
    "duration": 5,
    "start_time": "2022-04-10T21:02:13.307Z"
   },
   {
    "duration": 433,
    "start_time": "2022-04-15T10:08:23.174Z"
   },
   {
    "duration": 162,
    "start_time": "2022-04-15T10:08:23.609Z"
   },
   {
    "duration": 18,
    "start_time": "2022-04-15T10:08:23.773Z"
   },
   {
    "duration": 19,
    "start_time": "2022-04-15T10:08:23.793Z"
   },
   {
    "duration": 33,
    "start_time": "2022-04-15T10:08:23.813Z"
   },
   {
    "duration": 4,
    "start_time": "2022-04-15T10:08:23.847Z"
   },
   {
    "duration": 15,
    "start_time": "2022-04-15T10:08:23.853Z"
   },
   {
    "duration": 7,
    "start_time": "2022-04-15T10:08:23.870Z"
   },
   {
    "duration": 48,
    "start_time": "2022-04-15T10:08:23.879Z"
   },
   {
    "duration": 19,
    "start_time": "2022-04-15T10:08:23.930Z"
   },
   {
    "duration": 27,
    "start_time": "2022-04-15T10:08:23.950Z"
   },
   {
    "duration": 94,
    "start_time": "2022-04-15T10:08:23.979Z"
   },
   {
    "duration": 104,
    "start_time": "2022-04-15T10:08:24.074Z"
   },
   {
    "duration": 67,
    "start_time": "2022-04-15T10:08:24.180Z"
   },
   {
    "duration": 42,
    "start_time": "2022-04-15T10:08:24.249Z"
   },
   {
    "duration": 16,
    "start_time": "2022-04-15T10:08:24.293Z"
   },
   {
    "duration": 26,
    "start_time": "2022-04-15T10:08:24.310Z"
   },
   {
    "duration": 40,
    "start_time": "2022-04-15T10:08:24.338Z"
   },
   {
    "duration": 33,
    "start_time": "2022-04-15T10:08:24.380Z"
   },
   {
    "duration": 13,
    "start_time": "2022-04-15T10:08:24.414Z"
   },
   {
    "duration": 4,
    "start_time": "2022-04-15T10:08:24.428Z"
   },
   {
    "duration": 22,
    "start_time": "2022-04-15T10:08:24.433Z"
   },
   {
    "duration": 15,
    "start_time": "2022-04-15T10:08:24.456Z"
   },
   {
    "duration": 48,
    "start_time": "2022-04-15T10:08:24.472Z"
   },
   {
    "duration": 15,
    "start_time": "2022-04-15T10:08:24.521Z"
   },
   {
    "duration": 39,
    "start_time": "2022-04-15T10:08:24.538Z"
   },
   {
    "duration": 16,
    "start_time": "2022-04-15T10:08:24.578Z"
   },
   {
    "duration": 72,
    "start_time": "2022-04-15T10:08:24.597Z"
   },
   {
    "duration": 20,
    "start_time": "2022-04-15T10:08:24.670Z"
   },
   {
    "duration": 17,
    "start_time": "2022-04-15T10:08:24.707Z"
   },
   {
    "duration": 4,
    "start_time": "2022-04-15T10:08:24.726Z"
   },
   {
    "duration": 22,
    "start_time": "2022-04-15T10:08:24.731Z"
   },
   {
    "duration": 12,
    "start_time": "2022-04-15T10:08:24.755Z"
   },
   {
    "duration": 51,
    "start_time": "2022-04-15T10:08:24.768Z"
   },
   {
    "duration": 13,
    "start_time": "2022-04-15T10:08:24.820Z"
   },
   {
    "duration": 9,
    "start_time": "2022-04-15T10:08:24.834Z"
   },
   {
    "duration": 4,
    "start_time": "2022-04-15T10:08:24.845Z"
   },
   {
    "duration": 7,
    "start_time": "2022-04-15T10:08:24.851Z"
   },
   {
    "duration": 5,
    "start_time": "2022-04-15T10:08:24.859Z"
   },
   {
    "duration": 417,
    "start_time": "2022-04-15T10:09:36.399Z"
   },
   {
    "duration": 158,
    "start_time": "2022-04-15T10:09:36.818Z"
   },
   {
    "duration": 17,
    "start_time": "2022-04-15T10:09:36.977Z"
   },
   {
    "duration": 14,
    "start_time": "2022-04-15T10:09:36.996Z"
   },
   {
    "duration": 29,
    "start_time": "2022-04-15T10:09:37.011Z"
   },
   {
    "duration": 4,
    "start_time": "2022-04-15T10:09:37.042Z"
   },
   {
    "duration": 12,
    "start_time": "2022-04-15T10:09:37.048Z"
   },
   {
    "duration": 7,
    "start_time": "2022-04-15T10:09:37.062Z"
   },
   {
    "duration": 55,
    "start_time": "2022-04-15T10:09:37.071Z"
   },
   {
    "duration": 20,
    "start_time": "2022-04-15T10:09:37.129Z"
   },
   {
    "duration": 65,
    "start_time": "2022-04-15T10:09:37.151Z"
   },
   {
    "duration": 119,
    "start_time": "2022-04-15T10:09:37.218Z"
   },
   {
    "duration": 189,
    "start_time": "2022-04-15T10:09:37.339Z"
   },
   {
    "duration": 109,
    "start_time": "2022-04-15T10:09:37.530Z"
   },
   {
    "duration": 94,
    "start_time": "2022-04-15T10:09:37.640Z"
   },
   {
    "duration": 3,
    "start_time": "2022-04-15T10:09:37.735Z"
   },
   {
    "duration": 72,
    "start_time": "2022-04-15T10:09:37.740Z"
   },
   {
    "duration": 96,
    "start_time": "2022-04-15T10:09:37.813Z"
   },
   {
    "duration": 12,
    "start_time": "2022-04-15T10:09:37.910Z"
   },
   {
    "duration": 12,
    "start_time": "2022-04-15T10:09:37.923Z"
   },
   {
    "duration": 4,
    "start_time": "2022-04-15T10:09:37.936Z"
   },
   {
    "duration": 71,
    "start_time": "2022-04-15T10:09:37.941Z"
   },
   {
    "duration": 15,
    "start_time": "2022-04-15T10:09:38.013Z"
   },
   {
    "duration": 15,
    "start_time": "2022-04-15T10:09:38.030Z"
   },
   {
    "duration": 68,
    "start_time": "2022-04-15T10:09:38.046Z"
   },
   {
    "duration": 18,
    "start_time": "2022-04-15T10:09:38.115Z"
   },
   {
    "duration": 15,
    "start_time": "2022-04-15T10:09:38.135Z"
   },
   {
    "duration": 125,
    "start_time": "2022-04-15T10:09:38.210Z"
   },
   {
    "duration": 72,
    "start_time": "2022-04-15T10:09:38.337Z"
   },
   {
    "duration": 17,
    "start_time": "2022-04-15T10:09:38.411Z"
   },
   {
    "duration": 4,
    "start_time": "2022-04-15T10:09:38.429Z"
   },
   {
    "duration": 73,
    "start_time": "2022-04-15T10:09:38.435Z"
   },
   {
    "duration": 12,
    "start_time": "2022-04-15T10:09:38.510Z"
   },
   {
    "duration": 15,
    "start_time": "2022-04-15T10:09:38.524Z"
   },
   {
    "duration": 10,
    "start_time": "2022-04-15T10:09:38.540Z"
   },
   {
    "duration": 9,
    "start_time": "2022-04-15T10:09:38.607Z"
   },
   {
    "duration": 4,
    "start_time": "2022-04-15T10:09:38.618Z"
   },
   {
    "duration": 9,
    "start_time": "2022-04-15T10:09:38.623Z"
   },
   {
    "duration": 4,
    "start_time": "2022-04-15T10:09:38.634Z"
   },
   {
    "duration": 407,
    "start_time": "2022-04-15T10:36:29.742Z"
   },
   {
    "duration": 162,
    "start_time": "2022-04-15T10:36:30.151Z"
   },
   {
    "duration": 18,
    "start_time": "2022-04-15T10:36:30.316Z"
   },
   {
    "duration": 8,
    "start_time": "2022-04-15T10:36:30.336Z"
   },
   {
    "duration": 43,
    "start_time": "2022-04-15T10:36:30.345Z"
   },
   {
    "duration": 4,
    "start_time": "2022-04-15T10:36:30.390Z"
   },
   {
    "duration": 12,
    "start_time": "2022-04-15T10:36:30.416Z"
   },
   {
    "duration": 6,
    "start_time": "2022-04-15T10:36:30.429Z"
   },
   {
    "duration": 39,
    "start_time": "2022-04-15T10:36:30.437Z"
   },
   {
    "duration": 39,
    "start_time": "2022-04-15T10:36:30.478Z"
   },
   {
    "duration": 34,
    "start_time": "2022-04-15T10:36:30.520Z"
   },
   {
    "duration": 89,
    "start_time": "2022-04-15T10:36:30.556Z"
   },
   {
    "duration": 92,
    "start_time": "2022-04-15T10:36:30.646Z"
   },
   {
    "duration": 70,
    "start_time": "2022-04-15T10:36:30.740Z"
   },
   {
    "duration": 44,
    "start_time": "2022-04-15T10:36:30.812Z"
   },
   {
    "duration": 3,
    "start_time": "2022-04-15T10:36:30.857Z"
   },
   {
    "duration": 29,
    "start_time": "2022-04-15T10:36:30.862Z"
   },
   {
    "duration": 60,
    "start_time": "2022-04-15T10:36:30.893Z"
   },
   {
    "duration": 13,
    "start_time": "2022-04-15T10:36:30.955Z"
   },
   {
    "duration": 28,
    "start_time": "2022-04-15T10:36:30.970Z"
   },
   {
    "duration": 40,
    "start_time": "2022-04-15T10:36:31.000Z"
   },
   {
    "duration": 29,
    "start_time": "2022-04-15T10:36:31.042Z"
   },
   {
    "duration": 33,
    "start_time": "2022-04-15T10:36:31.072Z"
   },
   {
    "duration": 26,
    "start_time": "2022-04-15T10:36:31.107Z"
   },
   {
    "duration": 24,
    "start_time": "2022-04-15T10:36:31.135Z"
   },
   {
    "duration": 23,
    "start_time": "2022-04-15T10:36:31.160Z"
   },
   {
    "duration": 36,
    "start_time": "2022-04-15T10:36:31.184Z"
   },
   {
    "duration": 67,
    "start_time": "2022-04-15T10:36:31.224Z"
   },
   {
    "duration": 28,
    "start_time": "2022-04-15T10:36:31.293Z"
   },
   {
    "duration": 17,
    "start_time": "2022-04-15T10:36:31.323Z"
   },
   {
    "duration": 15,
    "start_time": "2022-04-15T10:36:31.342Z"
   },
   {
    "duration": 45,
    "start_time": "2022-04-15T10:36:31.358Z"
   },
   {
    "duration": 23,
    "start_time": "2022-04-15T10:36:31.405Z"
   },
   {
    "duration": 16,
    "start_time": "2022-04-15T10:36:31.430Z"
   },
   {
    "duration": 10,
    "start_time": "2022-04-15T10:36:31.448Z"
   },
   {
    "duration": 16,
    "start_time": "2022-04-15T10:36:31.459Z"
   },
   {
    "duration": 34,
    "start_time": "2022-04-15T10:36:31.476Z"
   },
   {
    "duration": 15,
    "start_time": "2022-04-15T10:36:31.514Z"
   },
   {
    "duration": 5,
    "start_time": "2022-04-15T10:36:31.531Z"
   },
   {
    "duration": 401,
    "start_time": "2022-04-15T10:40:53.522Z"
   },
   {
    "duration": 153,
    "start_time": "2022-04-15T10:40:53.925Z"
   },
   {
    "duration": 18,
    "start_time": "2022-04-15T10:40:54.080Z"
   },
   {
    "duration": 9,
    "start_time": "2022-04-15T10:40:54.107Z"
   },
   {
    "duration": 54,
    "start_time": "2022-04-15T10:40:54.118Z"
   },
   {
    "duration": 5,
    "start_time": "2022-04-15T10:40:54.174Z"
   },
   {
    "duration": 36,
    "start_time": "2022-04-15T10:40:54.181Z"
   },
   {
    "duration": 22,
    "start_time": "2022-04-15T10:40:54.218Z"
   },
   {
    "duration": 35,
    "start_time": "2022-04-15T10:40:54.241Z"
   },
   {
    "duration": 37,
    "start_time": "2022-04-15T10:40:54.279Z"
   },
   {
    "duration": 46,
    "start_time": "2022-04-15T10:40:54.317Z"
   },
   {
    "duration": 75,
    "start_time": "2022-04-15T10:40:54.365Z"
   },
   {
    "duration": 87,
    "start_time": "2022-04-15T10:40:54.442Z"
   },
   {
    "duration": 61,
    "start_time": "2022-04-15T10:40:54.530Z"
   },
   {
    "duration": 52,
    "start_time": "2022-04-15T10:40:54.593Z"
   },
   {
    "duration": 19,
    "start_time": "2022-04-15T10:40:54.646Z"
   },
   {
    "duration": 41,
    "start_time": "2022-04-15T10:40:54.667Z"
   },
   {
    "duration": 50,
    "start_time": "2022-04-15T10:40:54.710Z"
   },
   {
    "duration": 11,
    "start_time": "2022-04-15T10:40:54.762Z"
   },
   {
    "duration": 22,
    "start_time": "2022-04-15T10:40:54.774Z"
   },
   {
    "duration": 9,
    "start_time": "2022-04-15T10:40:54.797Z"
   },
   {
    "duration": 42,
    "start_time": "2022-04-15T10:40:54.807Z"
   },
   {
    "duration": 28,
    "start_time": "2022-04-15T10:40:54.851Z"
   },
   {
    "duration": 23,
    "start_time": "2022-04-15T10:40:54.880Z"
   },
   {
    "duration": 14,
    "start_time": "2022-04-15T10:40:54.904Z"
   },
   {
    "duration": 26,
    "start_time": "2022-04-15T10:40:54.920Z"
   },
   {
    "duration": 61,
    "start_time": "2022-04-15T10:40:54.947Z"
   },
   {
    "duration": 125,
    "start_time": "2022-04-15T10:40:55.011Z"
   },
   {
    "duration": 72,
    "start_time": "2022-04-15T10:40:55.137Z"
   },
   {
    "duration": 18,
    "start_time": "2022-04-15T10:40:55.210Z"
   },
   {
    "duration": 4,
    "start_time": "2022-04-15T10:40:55.230Z"
   },
   {
    "duration": 85,
    "start_time": "2022-04-15T10:40:55.235Z"
   },
   {
    "duration": 12,
    "start_time": "2022-04-15T10:40:55.321Z"
   },
   {
    "duration": 73,
    "start_time": "2022-04-15T10:40:55.335Z"
   },
   {
    "duration": 12,
    "start_time": "2022-04-15T10:40:55.410Z"
   },
   {
    "duration": 26,
    "start_time": "2022-04-15T10:40:55.423Z"
   },
   {
    "duration": 13,
    "start_time": "2022-04-15T10:40:55.450Z"
   },
   {
    "duration": 6,
    "start_time": "2022-04-15T10:40:55.508Z"
   },
   {
    "duration": 34,
    "start_time": "2022-04-15T10:40:55.515Z"
   }
  ],
  "colab": {
   "collapsed_sections": [
    "E0vqbgi9ay0H",
    "VUC88oWjTJw2"
   ],
   "name": "yandex_music_project.ipynb",
   "provenance": []
  },
  "kernelspec": {
   "display_name": "Python 3 (ipykernel)",
   "language": "python",
   "name": "python3"
  },
  "language_info": {
   "codemirror_mode": {
    "name": "ipython",
    "version": 3
   },
   "file_extension": ".py",
   "mimetype": "text/x-python",
   "name": "python",
   "nbconvert_exporter": "python",
   "pygments_lexer": "ipython3",
   "version": "3.9.7"
  },
  "toc": {
   "base_numbering": 1,
   "nav_menu": {},
   "number_sections": true,
   "sideBar": true,
   "skip_h1_title": true,
   "title_cell": "Table of Contents",
   "title_sidebar": "Contents",
   "toc_cell": false,
   "toc_position": {
    "height": "calc(100% - 180px)",
    "left": "10px",
    "top": "150px",
    "width": "214.675px"
   },
   "toc_section_display": true,
   "toc_window_display": true
  }
 },
 "nbformat": 4,
 "nbformat_minor": 1
}
